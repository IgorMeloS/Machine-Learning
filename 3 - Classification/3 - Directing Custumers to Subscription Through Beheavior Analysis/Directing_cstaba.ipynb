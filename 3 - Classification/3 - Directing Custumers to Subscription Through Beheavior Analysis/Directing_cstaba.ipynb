{
 "cells": [
  {
   "cell_type": "markdown",
   "metadata": {
    "id": "wE9kVS1VnXab"
   },
   "source": [
    "**Directing Customers to Subscription Through App Behavior Analysis**\n",
    "\n",
    "This notebook wants to build a model to predict if a certain client will subscribe or not a premium version of a mobile application.\n",
    "\n",
    "\n",
    "**Problem Description**\n",
    "\n",
    "Nowadays, many e-companies have application services, some companies offer completely free application and others have a premium version, it means, a paid version. For this case, we have a company who wants to know which clients will enroll to the premium version (in the trial version the services are limited). To build this model, we consider the customer behavior based on the utilization of a free version. It’s important to know that to each customer, the company offers 24 hours to try the premium version. The goal to build this model is to improve the marketing analysis. Once the company knows which clients will probably to enroll, it can direct your efforts to capture these customers. In this manner, the company can reduce the marketing spend and optimize the number of enrolled users.\n",
    "\n",
    "**Dataset Description**\n",
    "\n",
    "The dataset is built based on the app usage. The company stores the historical activities of each customer. The features for this dataset are\n",
    "\n",
    "+ User (identifier number)\n",
    "+ First Open (day and hour, M/D and AM/PM)\n",
    "+ Day of Week (0 to 6, Sunday to Saturday)\n",
    "+ Hour (0 to 23)\n",
    "+ Age\n",
    "+ Screen List (the list of application services accessed by a client in 24 hours)\n",
    "+ Number of screens (total number of services accessed by a client in 24 hours)\n",
    "+ Mini game (0 or 1, this is a game offered by the application)\n",
    "+ Liked (0 or 1, if a customer liked any service of the application in 24 hours)\n",
    "+ Used Premium Features (0 or 1, if a client used the trial premium version)\n",
    "+ Enrolled (target variable, 0 or 1)\n",
    "+ Enrolled date (date and hour, M/D and AM/PM).\n",
    "\n",
    "So, we have 12 features (columns) and 50000 instances (that represent each customer). Beyond this preliminaries information, we also have a dataset that contains the most accessed screens in 24 hours, this will be important in the feature engineering process."
   ]
  },
  {
   "cell_type": "markdown",
   "metadata": {
    "id": "ILieoQwZuC2J"
   },
   "source": [
    "# Importing Libraries"
   ]
  },
  {
   "cell_type": "code",
   "execution_count": 1,
   "metadata": {
    "id": "KsQmKblZnvLR"
   },
   "outputs": [],
   "source": [
    "import pandas as pd\n",
    "from dateutil import parser # to take care about time and date\n",
    "import numpy as np\n",
    "import matplotlib.pyplot as plt\n",
    "import seaborn as sns\n",
    "import time"
   ]
  },
  {
   "cell_type": "markdown",
   "metadata": {
    "id": "83AOHCUZuc-2"
   },
   "source": [
    "# Importing Dataset"
   ]
  },
  {
   "cell_type": "code",
   "execution_count": 2,
   "metadata": {
    "colab": {
     "base_uri": "https://localhost:8080/"
    },
    "id": "_7uK9NKwuheP",
    "outputId": "5bf8590f-baa9-4e49-afc4-d47ee977a7bc"
   },
   "outputs": [],
   "source": [
    "dataset = pd.read_csv('appdata10.csv')"
   ]
  },
  {
   "cell_type": "markdown",
   "metadata": {},
   "source": [
    "# Data Preprocessing"
   ]
  },
  {
   "cell_type": "markdown",
   "metadata": {},
   "source": [
    "## Visualizing some informations from the dataset"
   ]
  },
  {
   "cell_type": "code",
   "execution_count": 7,
   "metadata": {},
   "outputs": [
    {
     "data": {
      "text/plain": [
       "(50000, 12)"
      ]
     },
     "execution_count": 7,
     "metadata": {},
     "output_type": "execute_result"
    }
   ],
   "source": [
    "dataset.shape"
   ]
  },
  {
   "cell_type": "code",
   "execution_count": 8,
   "metadata": {},
   "outputs": [
    {
     "data": {
      "text/plain": [
       "user                     int64\n",
       "first_open              object\n",
       "dayofweek                int64\n",
       "hour                    object\n",
       "age                      int64\n",
       "screen_list             object\n",
       "numscreens               int64\n",
       "minigame                 int64\n",
       "used_premium_feature     int64\n",
       "enrolled                 int64\n",
       "enrolled_date           object\n",
       "liked                    int64\n",
       "dtype: object"
      ]
     },
     "execution_count": 8,
     "metadata": {},
     "output_type": "execute_result"
    }
   ],
   "source": [
    "dataset.dtypes"
   ]
  },
  {
   "cell_type": "code",
   "execution_count": 9,
   "metadata": {},
   "outputs": [
    {
     "data": {
      "text/html": [
       "<div>\n",
       "<style scoped>\n",
       "    .dataframe tbody tr th:only-of-type {\n",
       "        vertical-align: middle;\n",
       "    }\n",
       "\n",
       "    .dataframe tbody tr th {\n",
       "        vertical-align: top;\n",
       "    }\n",
       "\n",
       "    .dataframe thead th {\n",
       "        text-align: right;\n",
       "    }\n",
       "</style>\n",
       "<table border=\"1\" class=\"dataframe\">\n",
       "  <thead>\n",
       "    <tr style=\"text-align: right;\">\n",
       "      <th></th>\n",
       "      <th>user</th>\n",
       "      <th>first_open</th>\n",
       "      <th>dayofweek</th>\n",
       "      <th>hour</th>\n",
       "      <th>age</th>\n",
       "      <th>screen_list</th>\n",
       "      <th>numscreens</th>\n",
       "      <th>minigame</th>\n",
       "      <th>used_premium_feature</th>\n",
       "      <th>enrolled</th>\n",
       "      <th>enrolled_date</th>\n",
       "      <th>liked</th>\n",
       "    </tr>\n",
       "  </thead>\n",
       "  <tbody>\n",
       "    <tr>\n",
       "      <th>0</th>\n",
       "      <td>235136</td>\n",
       "      <td>2012-12-27 02:14:51.273</td>\n",
       "      <td>3</td>\n",
       "      <td>02:00:00</td>\n",
       "      <td>23</td>\n",
       "      <td>idscreen,joinscreen,Cycle,product_review,ScanP...</td>\n",
       "      <td>15</td>\n",
       "      <td>0</td>\n",
       "      <td>0</td>\n",
       "      <td>0</td>\n",
       "      <td>NaN</td>\n",
       "      <td>0</td>\n",
       "    </tr>\n",
       "    <tr>\n",
       "      <th>1</th>\n",
       "      <td>333588</td>\n",
       "      <td>2012-12-02 01:16:00.905</td>\n",
       "      <td>6</td>\n",
       "      <td>01:00:00</td>\n",
       "      <td>24</td>\n",
       "      <td>joinscreen,product_review,product_review2,Scan...</td>\n",
       "      <td>13</td>\n",
       "      <td>0</td>\n",
       "      <td>0</td>\n",
       "      <td>0</td>\n",
       "      <td>NaN</td>\n",
       "      <td>0</td>\n",
       "    </tr>\n",
       "    <tr>\n",
       "      <th>2</th>\n",
       "      <td>254414</td>\n",
       "      <td>2013-03-19 19:19:09.157</td>\n",
       "      <td>1</td>\n",
       "      <td>19:00:00</td>\n",
       "      <td>23</td>\n",
       "      <td>Splash,Cycle,Loan</td>\n",
       "      <td>3</td>\n",
       "      <td>0</td>\n",
       "      <td>1</td>\n",
       "      <td>0</td>\n",
       "      <td>NaN</td>\n",
       "      <td>1</td>\n",
       "    </tr>\n",
       "    <tr>\n",
       "      <th>3</th>\n",
       "      <td>234192</td>\n",
       "      <td>2013-07-05 16:08:46.354</td>\n",
       "      <td>4</td>\n",
       "      <td>16:00:00</td>\n",
       "      <td>28</td>\n",
       "      <td>product_review,Home,product_review,Loan3,Finan...</td>\n",
       "      <td>40</td>\n",
       "      <td>0</td>\n",
       "      <td>0</td>\n",
       "      <td>1</td>\n",
       "      <td>2013-07-05 16:11:49.513</td>\n",
       "      <td>0</td>\n",
       "    </tr>\n",
       "    <tr>\n",
       "      <th>4</th>\n",
       "      <td>51549</td>\n",
       "      <td>2013-02-26 18:50:48.661</td>\n",
       "      <td>1</td>\n",
       "      <td>18:00:00</td>\n",
       "      <td>31</td>\n",
       "      <td>idscreen,joinscreen,Cycle,Credit3Container,Sca...</td>\n",
       "      <td>32</td>\n",
       "      <td>0</td>\n",
       "      <td>0</td>\n",
       "      <td>1</td>\n",
       "      <td>2013-02-26 18:56:37.841</td>\n",
       "      <td>1</td>\n",
       "    </tr>\n",
       "  </tbody>\n",
       "</table>\n",
       "</div>"
      ],
      "text/plain": [
       "     user               first_open  dayofweek       hour  age  \\\n",
       "0  235136  2012-12-27 02:14:51.273          3   02:00:00   23   \n",
       "1  333588  2012-12-02 01:16:00.905          6   01:00:00   24   \n",
       "2  254414  2013-03-19 19:19:09.157          1   19:00:00   23   \n",
       "3  234192  2013-07-05 16:08:46.354          4   16:00:00   28   \n",
       "4   51549  2013-02-26 18:50:48.661          1   18:00:00   31   \n",
       "\n",
       "                                         screen_list  numscreens  minigame  \\\n",
       "0  idscreen,joinscreen,Cycle,product_review,ScanP...          15         0   \n",
       "1  joinscreen,product_review,product_review2,Scan...          13         0   \n",
       "2                                  Splash,Cycle,Loan           3         0   \n",
       "3  product_review,Home,product_review,Loan3,Finan...          40         0   \n",
       "4  idscreen,joinscreen,Cycle,Credit3Container,Sca...          32         0   \n",
       "\n",
       "   used_premium_feature  enrolled            enrolled_date  liked  \n",
       "0                     0         0                      NaN      0  \n",
       "1                     0         0                      NaN      0  \n",
       "2                     1         0                      NaN      1  \n",
       "3                     0         1  2013-07-05 16:11:49.513      0  \n",
       "4                     0         1  2013-02-26 18:56:37.841      1  "
      ]
     },
     "execution_count": 9,
     "metadata": {},
     "output_type": "execute_result"
    }
   ],
   "source": [
    "dataset.head()"
   ]
  },
  {
   "cell_type": "code",
   "execution_count": 10,
   "metadata": {},
   "outputs": [
    {
     "data": {
      "text/html": [
       "<div>\n",
       "<style scoped>\n",
       "    .dataframe tbody tr th:only-of-type {\n",
       "        vertical-align: middle;\n",
       "    }\n",
       "\n",
       "    .dataframe tbody tr th {\n",
       "        vertical-align: top;\n",
       "    }\n",
       "\n",
       "    .dataframe thead th {\n",
       "        text-align: right;\n",
       "    }\n",
       "</style>\n",
       "<table border=\"1\" class=\"dataframe\">\n",
       "  <thead>\n",
       "    <tr style=\"text-align: right;\">\n",
       "      <th></th>\n",
       "      <th>user</th>\n",
       "      <th>dayofweek</th>\n",
       "      <th>age</th>\n",
       "      <th>numscreens</th>\n",
       "      <th>minigame</th>\n",
       "      <th>used_premium_feature</th>\n",
       "      <th>enrolled</th>\n",
       "      <th>liked</th>\n",
       "    </tr>\n",
       "  </thead>\n",
       "  <tbody>\n",
       "    <tr>\n",
       "      <th>count</th>\n",
       "      <td>50000.000000</td>\n",
       "      <td>50000.000000</td>\n",
       "      <td>50000.00000</td>\n",
       "      <td>50000.000000</td>\n",
       "      <td>50000.000000</td>\n",
       "      <td>50000.000000</td>\n",
       "      <td>50000.000000</td>\n",
       "      <td>50000.000000</td>\n",
       "    </tr>\n",
       "    <tr>\n",
       "      <th>mean</th>\n",
       "      <td>186889.729900</td>\n",
       "      <td>3.029860</td>\n",
       "      <td>31.72436</td>\n",
       "      <td>21.095900</td>\n",
       "      <td>0.107820</td>\n",
       "      <td>0.172020</td>\n",
       "      <td>0.621480</td>\n",
       "      <td>0.165000</td>\n",
       "    </tr>\n",
       "    <tr>\n",
       "      <th>std</th>\n",
       "      <td>107768.520361</td>\n",
       "      <td>2.031997</td>\n",
       "      <td>10.80331</td>\n",
       "      <td>15.728812</td>\n",
       "      <td>0.310156</td>\n",
       "      <td>0.377402</td>\n",
       "      <td>0.485023</td>\n",
       "      <td>0.371184</td>\n",
       "    </tr>\n",
       "    <tr>\n",
       "      <th>min</th>\n",
       "      <td>13.000000</td>\n",
       "      <td>0.000000</td>\n",
       "      <td>16.00000</td>\n",
       "      <td>1.000000</td>\n",
       "      <td>0.000000</td>\n",
       "      <td>0.000000</td>\n",
       "      <td>0.000000</td>\n",
       "      <td>0.000000</td>\n",
       "    </tr>\n",
       "    <tr>\n",
       "      <th>25%</th>\n",
       "      <td>93526.750000</td>\n",
       "      <td>1.000000</td>\n",
       "      <td>24.00000</td>\n",
       "      <td>10.000000</td>\n",
       "      <td>0.000000</td>\n",
       "      <td>0.000000</td>\n",
       "      <td>0.000000</td>\n",
       "      <td>0.000000</td>\n",
       "    </tr>\n",
       "    <tr>\n",
       "      <th>50%</th>\n",
       "      <td>187193.500000</td>\n",
       "      <td>3.000000</td>\n",
       "      <td>29.00000</td>\n",
       "      <td>18.000000</td>\n",
       "      <td>0.000000</td>\n",
       "      <td>0.000000</td>\n",
       "      <td>1.000000</td>\n",
       "      <td>0.000000</td>\n",
       "    </tr>\n",
       "    <tr>\n",
       "      <th>75%</th>\n",
       "      <td>279984.250000</td>\n",
       "      <td>5.000000</td>\n",
       "      <td>37.00000</td>\n",
       "      <td>28.000000</td>\n",
       "      <td>0.000000</td>\n",
       "      <td>0.000000</td>\n",
       "      <td>1.000000</td>\n",
       "      <td>0.000000</td>\n",
       "    </tr>\n",
       "    <tr>\n",
       "      <th>max</th>\n",
       "      <td>373662.000000</td>\n",
       "      <td>6.000000</td>\n",
       "      <td>101.00000</td>\n",
       "      <td>325.000000</td>\n",
       "      <td>1.000000</td>\n",
       "      <td>1.000000</td>\n",
       "      <td>1.000000</td>\n",
       "      <td>1.000000</td>\n",
       "    </tr>\n",
       "  </tbody>\n",
       "</table>\n",
       "</div>"
      ],
      "text/plain": [
       "                user     dayofweek          age    numscreens      minigame  \\\n",
       "count   50000.000000  50000.000000  50000.00000  50000.000000  50000.000000   \n",
       "mean   186889.729900      3.029860     31.72436     21.095900      0.107820   \n",
       "std    107768.520361      2.031997     10.80331     15.728812      0.310156   \n",
       "min        13.000000      0.000000     16.00000      1.000000      0.000000   \n",
       "25%     93526.750000      1.000000     24.00000     10.000000      0.000000   \n",
       "50%    187193.500000      3.000000     29.00000     18.000000      0.000000   \n",
       "75%    279984.250000      5.000000     37.00000     28.000000      0.000000   \n",
       "max    373662.000000      6.000000    101.00000    325.000000      1.000000   \n",
       "\n",
       "       used_premium_feature      enrolled         liked  \n",
       "count          50000.000000  50000.000000  50000.000000  \n",
       "mean               0.172020      0.621480      0.165000  \n",
       "std                0.377402      0.485023      0.371184  \n",
       "min                0.000000      0.000000      0.000000  \n",
       "25%                0.000000      0.000000      0.000000  \n",
       "50%                0.000000      1.000000      0.000000  \n",
       "75%                0.000000      1.000000      0.000000  \n",
       "max                1.000000      1.000000      1.000000  "
      ]
     },
     "execution_count": 10,
     "metadata": {},
     "output_type": "execute_result"
    }
   ],
   "source": [
    "dataset.describe()"
   ]
  },
  {
   "cell_type": "markdown",
   "metadata": {},
   "source": [
    "### Taking cara about the hour variable\n",
    "\n",
    "As we can see the values in the Hour column is an object type, we must to change into a numerical integer variable."
   ]
  },
  {
   "cell_type": "code",
   "execution_count": 11,
   "metadata": {},
   "outputs": [],
   "source": [
    "dataset['hour'] = dataset.hour.str.slice(1,3).astype(int)"
   ]
  },
  {
   "cell_type": "code",
   "execution_count": 12,
   "metadata": {},
   "outputs": [
    {
     "data": {
      "text/html": [
       "<div>\n",
       "<style scoped>\n",
       "    .dataframe tbody tr th:only-of-type {\n",
       "        vertical-align: middle;\n",
       "    }\n",
       "\n",
       "    .dataframe tbody tr th {\n",
       "        vertical-align: top;\n",
       "    }\n",
       "\n",
       "    .dataframe thead th {\n",
       "        text-align: right;\n",
       "    }\n",
       "</style>\n",
       "<table border=\"1\" class=\"dataframe\">\n",
       "  <thead>\n",
       "    <tr style=\"text-align: right;\">\n",
       "      <th></th>\n",
       "      <th>user</th>\n",
       "      <th>dayofweek</th>\n",
       "      <th>hour</th>\n",
       "      <th>age</th>\n",
       "      <th>numscreens</th>\n",
       "      <th>minigame</th>\n",
       "      <th>used_premium_feature</th>\n",
       "      <th>enrolled</th>\n",
       "      <th>liked</th>\n",
       "    </tr>\n",
       "  </thead>\n",
       "  <tbody>\n",
       "    <tr>\n",
       "      <th>count</th>\n",
       "      <td>50000.000000</td>\n",
       "      <td>50000.000000</td>\n",
       "      <td>50000.000000</td>\n",
       "      <td>50000.00000</td>\n",
       "      <td>50000.000000</td>\n",
       "      <td>50000.000000</td>\n",
       "      <td>50000.000000</td>\n",
       "      <td>50000.000000</td>\n",
       "      <td>50000.000000</td>\n",
       "    </tr>\n",
       "    <tr>\n",
       "      <th>mean</th>\n",
       "      <td>186889.729900</td>\n",
       "      <td>3.029860</td>\n",
       "      <td>12.557220</td>\n",
       "      <td>31.72436</td>\n",
       "      <td>21.095900</td>\n",
       "      <td>0.107820</td>\n",
       "      <td>0.172020</td>\n",
       "      <td>0.621480</td>\n",
       "      <td>0.165000</td>\n",
       "    </tr>\n",
       "    <tr>\n",
       "      <th>std</th>\n",
       "      <td>107768.520361</td>\n",
       "      <td>2.031997</td>\n",
       "      <td>7.438072</td>\n",
       "      <td>10.80331</td>\n",
       "      <td>15.728812</td>\n",
       "      <td>0.310156</td>\n",
       "      <td>0.377402</td>\n",
       "      <td>0.485023</td>\n",
       "      <td>0.371184</td>\n",
       "    </tr>\n",
       "    <tr>\n",
       "      <th>min</th>\n",
       "      <td>13.000000</td>\n",
       "      <td>0.000000</td>\n",
       "      <td>0.000000</td>\n",
       "      <td>16.00000</td>\n",
       "      <td>1.000000</td>\n",
       "      <td>0.000000</td>\n",
       "      <td>0.000000</td>\n",
       "      <td>0.000000</td>\n",
       "      <td>0.000000</td>\n",
       "    </tr>\n",
       "    <tr>\n",
       "      <th>25%</th>\n",
       "      <td>93526.750000</td>\n",
       "      <td>1.000000</td>\n",
       "      <td>5.000000</td>\n",
       "      <td>24.00000</td>\n",
       "      <td>10.000000</td>\n",
       "      <td>0.000000</td>\n",
       "      <td>0.000000</td>\n",
       "      <td>0.000000</td>\n",
       "      <td>0.000000</td>\n",
       "    </tr>\n",
       "    <tr>\n",
       "      <th>50%</th>\n",
       "      <td>187193.500000</td>\n",
       "      <td>3.000000</td>\n",
       "      <td>14.000000</td>\n",
       "      <td>29.00000</td>\n",
       "      <td>18.000000</td>\n",
       "      <td>0.000000</td>\n",
       "      <td>0.000000</td>\n",
       "      <td>1.000000</td>\n",
       "      <td>0.000000</td>\n",
       "    </tr>\n",
       "    <tr>\n",
       "      <th>75%</th>\n",
       "      <td>279984.250000</td>\n",
       "      <td>5.000000</td>\n",
       "      <td>19.000000</td>\n",
       "      <td>37.00000</td>\n",
       "      <td>28.000000</td>\n",
       "      <td>0.000000</td>\n",
       "      <td>0.000000</td>\n",
       "      <td>1.000000</td>\n",
       "      <td>0.000000</td>\n",
       "    </tr>\n",
       "    <tr>\n",
       "      <th>max</th>\n",
       "      <td>373662.000000</td>\n",
       "      <td>6.000000</td>\n",
       "      <td>23.000000</td>\n",
       "      <td>101.00000</td>\n",
       "      <td>325.000000</td>\n",
       "      <td>1.000000</td>\n",
       "      <td>1.000000</td>\n",
       "      <td>1.000000</td>\n",
       "      <td>1.000000</td>\n",
       "    </tr>\n",
       "  </tbody>\n",
       "</table>\n",
       "</div>"
      ],
      "text/plain": [
       "                user     dayofweek          hour          age    numscreens  \\\n",
       "count   50000.000000  50000.000000  50000.000000  50000.00000  50000.000000   \n",
       "mean   186889.729900      3.029860     12.557220     31.72436     21.095900   \n",
       "std    107768.520361      2.031997      7.438072     10.80331     15.728812   \n",
       "min        13.000000      0.000000      0.000000     16.00000      1.000000   \n",
       "25%     93526.750000      1.000000      5.000000     24.00000     10.000000   \n",
       "50%    187193.500000      3.000000     14.000000     29.00000     18.000000   \n",
       "75%    279984.250000      5.000000     19.000000     37.00000     28.000000   \n",
       "max    373662.000000      6.000000     23.000000    101.00000    325.000000   \n",
       "\n",
       "           minigame  used_premium_feature      enrolled         liked  \n",
       "count  50000.000000          50000.000000  50000.000000  50000.000000  \n",
       "mean       0.107820              0.172020      0.621480      0.165000  \n",
       "std        0.310156              0.377402      0.485023      0.371184  \n",
       "min        0.000000              0.000000      0.000000      0.000000  \n",
       "25%        0.000000              0.000000      0.000000      0.000000  \n",
       "50%        0.000000              0.000000      1.000000      0.000000  \n",
       "75%        0.000000              0.000000      1.000000      0.000000  \n",
       "max        1.000000              1.000000      1.000000      1.000000  "
      ]
     },
     "execution_count": 12,
     "metadata": {},
     "output_type": "execute_result"
    }
   ],
   "source": [
    "dataset.describe()"
   ]
  },
  {
   "cell_type": "markdown",
   "metadata": {
    "id": "CeUKWSpmNU3D"
   },
   "source": [
    "# Exploratory Data Analysis (EDA)"
   ]
  },
  {
   "cell_type": "markdown",
   "metadata": {},
   "source": [
    "## Analyzing categorical variables"
   ]
  },
  {
   "cell_type": "markdown",
   "metadata": {},
   "source": [
    "### Target Variable"
   ]
  },
  {
   "cell_type": "code",
   "execution_count": 13,
   "metadata": {},
   "outputs": [
    {
     "data": {
      "text/plain": [
       "1    31074\n",
       "0    18926\n",
       "Name: enrolled, dtype: int64"
      ]
     },
     "execution_count": 13,
     "metadata": {},
     "output_type": "execute_result"
    }
   ],
   "source": [
    "dataset['enrolled'].value_counts()"
   ]
  },
  {
   "cell_type": "code",
   "execution_count": 15,
   "metadata": {},
   "outputs": [
    {
     "data": {
      "image/png": "[encoded data removed]",
      "text/plain": [
       "<Figure size 1080x360 with 2 Axes>"
      ]
     },
     "metadata": {},
     "output_type": "display_data"
    }
   ],
   "source": [
    "plt.figure(figsize=(15, 5))\n",
    "plt.subplot(1, 2, 1)\n",
    "sns.countplot(x=dataset['enrolled'])\n",
    "plt.subplot(1, 2, 2)\n",
    "values = dataset.iloc[:, - 3].value_counts(normalize = True).values # to show the binirie values in parcentage\n",
    "index = dataset.iloc[:, -3].value_counts(normalize = True).index\n",
    "plt.pie(values, labels= index, autopct='%1.1f%%', colors=['b', 'tab:orange'])\n",
    "plt.show()"
   ]
  },
  {
   "cell_type": "markdown",
   "metadata": {},
   "source": [
    "### Categorical Features\n",
    "\n",
    "The categorical features are mini game, used premium feature and liked. We are going to see the pier plot distribution and the count plot according with the target variable."
   ]
  },
  {
   "cell_type": "code",
   "execution_count": 17,
   "metadata": {},
   "outputs": [],
   "source": [
    "categorical_list = ['minigame','used_premium_feature', 'liked', 'enrolled']"
   ]
  },
  {
   "cell_type": "code",
   "execution_count": 18,
   "metadata": {},
   "outputs": [],
   "source": [
    "data_cat = dataset[categorical_list]"
   ]
  },
  {
   "cell_type": "code",
   "execution_count": 38,
   "metadata": {},
   "outputs": [
    {
     "data": {
      "image/png": "[encoded data removed]",
      "text/plain": [
       "<Figure size 1080x1080 with 3 Axes>"
      ]
     },
     "metadata": {},
     "output_type": "display_data"
    }
   ],
   "source": [
    "fig = plt.figure(figsize=(15, 15))\n",
    "plt.suptitle('Pie Chart Distribution', fontsize = 20)\n",
    "for i in range(1, data_cat.shape[1]):\n",
    "    plt.subplot(2, 2, i)\n",
    "    f = plt.gca()\n",
    "    f.axes.get_yaxis().set_visible(False)\n",
    "    f.set_title(data_cat.columns.values[i - 1])\n",
    "  # Setting the biniries values\n",
    "    values = data_cat.iloc[:, i - 1].value_counts(normalize = True).values # to show the binirie values in parcentage\n",
    "    index = data_cat.iloc[:, i -1].value_counts(normalize = True).index\n",
    "    plt.pie(values, labels= index, autopct='%1.1f%%')\n",
    "    plt.axis('equal')\n",
    "#fig.tight_layout(rect=[0, 0.03, 1, 0.95])\n",
    "plt.show()"
   ]
  },
  {
   "cell_type": "code",
   "execution_count": 42,
   "metadata": {},
   "outputs": [
    {
     "data": {
      "image/png": "[encoded data removed]",
      "text/plain": [
       "<Figure size 1080x720 with 3 Axes>"
      ]
     },
     "metadata": {},
     "output_type": "display_data"
    }
   ],
   "source": [
    "plt.figure(figsize=(15, 10))\n",
    "for i in range(1, data_cat.shape[1]):\n",
    "    plt.subplot(2, 2, i)\n",
    "    sns.countplot(x=data_cat.iloc[: , i-1], hue=data_cat['enrolled'])\n",
    "plt.show()"
   ]
  },
  {
   "cell_type": "code",
   "execution_count": null,
   "metadata": {},
   "outputs": [],
   "source": []
  },
  {
   "cell_type": "code",
   "execution_count": null,
   "metadata": {},
   "outputs": [],
   "source": []
  },
  {
   "cell_type": "code",
   "execution_count": null,
   "metadata": {},
   "outputs": [],
   "source": []
  },
  {
   "cell_type": "code",
   "execution_count": null,
   "metadata": {},
   "outputs": [],
   "source": []
  },
  {
   "cell_type": "code",
   "execution_count": null,
   "metadata": {},
   "outputs": [],
   "source": []
  },
  {
   "cell_type": "markdown",
   "metadata": {
    "id": "w57Aaz6LwnNM"
   },
   "source": [
    "## Analyzing numerical variables"
   ]
  },
  {
   "cell_type": "code",
   "execution_count": 8,
   "metadata": {
    "id": "oSPTmMNuTbog"
   },
   "outputs": [],
   "source": [
    "dataset2 = dataset.copy().drop(columns = ['user', 'screen_list', 'first_open', 'enrolled', 'enrolled_date'])"
   ]
  },
  {
   "cell_type": "code",
   "execution_count": 9,
   "metadata": {
    "colab": {
     "base_uri": "https://localhost:8080/",
     "height": 206
    },
    "id": "TwqwDEBXT6Wk",
    "outputId": "8576dfb7-0ab2-42cb-ddd2-f662068a520b"
   },
   "outputs": [
    {
     "data": {
      "text/html": [
       "<div>\n",
       "<style scoped>\n",
       "    .dataframe tbody tr th:only-of-type {\n",
       "        vertical-align: middle;\n",
       "    }\n",
       "\n",
       "    .dataframe tbody tr th {\n",
       "        vertical-align: top;\n",
       "    }\n",
       "\n",
       "    .dataframe thead th {\n",
       "        text-align: right;\n",
       "    }\n",
       "</style>\n",
       "<table border=\"1\" class=\"dataframe\">\n",
       "  <thead>\n",
       "    <tr style=\"text-align: right;\">\n",
       "      <th></th>\n",
       "      <th>dayofweek</th>\n",
       "      <th>hour</th>\n",
       "      <th>age</th>\n",
       "      <th>numscreens</th>\n",
       "      <th>minigame</th>\n",
       "      <th>used_premium_feature</th>\n",
       "      <th>liked</th>\n",
       "    </tr>\n",
       "  </thead>\n",
       "  <tbody>\n",
       "    <tr>\n",
       "      <th>0</th>\n",
       "      <td>3</td>\n",
       "      <td>2</td>\n",
       "      <td>23</td>\n",
       "      <td>15</td>\n",
       "      <td>0</td>\n",
       "      <td>0</td>\n",
       "      <td>0</td>\n",
       "    </tr>\n",
       "    <tr>\n",
       "      <th>1</th>\n",
       "      <td>6</td>\n",
       "      <td>1</td>\n",
       "      <td>24</td>\n",
       "      <td>13</td>\n",
       "      <td>0</td>\n",
       "      <td>0</td>\n",
       "      <td>0</td>\n",
       "    </tr>\n",
       "    <tr>\n",
       "      <th>2</th>\n",
       "      <td>1</td>\n",
       "      <td>19</td>\n",
       "      <td>23</td>\n",
       "      <td>3</td>\n",
       "      <td>0</td>\n",
       "      <td>1</td>\n",
       "      <td>1</td>\n",
       "    </tr>\n",
       "    <tr>\n",
       "      <th>3</th>\n",
       "      <td>4</td>\n",
       "      <td>16</td>\n",
       "      <td>28</td>\n",
       "      <td>40</td>\n",
       "      <td>0</td>\n",
       "      <td>0</td>\n",
       "      <td>0</td>\n",
       "    </tr>\n",
       "    <tr>\n",
       "      <th>4</th>\n",
       "      <td>1</td>\n",
       "      <td>18</td>\n",
       "      <td>31</td>\n",
       "      <td>32</td>\n",
       "      <td>0</td>\n",
       "      <td>0</td>\n",
       "      <td>1</td>\n",
       "    </tr>\n",
       "  </tbody>\n",
       "</table>\n",
       "</div>"
      ],
      "text/plain": [
       "   dayofweek  hour  age  numscreens  minigame  used_premium_feature  liked\n",
       "0          3     2   23          15         0                     0      0\n",
       "1          6     1   24          13         0                     0      0\n",
       "2          1    19   23           3         0                     1      1\n",
       "3          4    16   28          40         0                     0      0\n",
       "4          1    18   31          32         0                     0      1"
      ]
     },
     "execution_count": 9,
     "metadata": {},
     "output_type": "execute_result"
    }
   ],
   "source": [
    "dataset2.head()"
   ]
  },
  {
   "cell_type": "markdown",
   "metadata": {
    "id": "UmJjHPOzw59t"
   },
   "source": [
    "### Histogram"
   ]
  },
  {
   "cell_type": "code",
   "execution_count": 10,
   "metadata": {
    "colab": {
     "base_uri": "https://localhost:8080/",
     "height": 663
    },
    "id": "svIT3XBgUfs1",
    "outputId": "39de962e-7a8c-4606-cbf1-fd15f4cdf0a0"
   },
   "outputs": [
    {
     "data": {
      "image/png": "[encoded data removed]",
      "text/plain": [
       "<Figure size 1440x720 with 7 Axes>"
      ]
     },
     "metadata": {},
     "output_type": "display_data"
    }
   ],
   "source": [
    "plt.figure(figsize=(20,10))\n",
    "plt.suptitle('Histograms of numerical variables', fontsize = 20,)\n",
    "for i in range(1, dataset2.shape[1] + 1):\n",
    "\n",
    "  plt.subplot(3, 3, i)\n",
    "  f = plt.gca()\n",
    "  f.set_title(dataset2.columns.values[i-1])\n",
    "  vals = np.size(dataset2.iloc[:, i-1].unique())\n",
    "  plt.hist(dataset2.iloc[:, i-1], bins= vals, color = '#3F5D7D' )\n"
   ]
  },
  {
   "cell_type": "markdown",
   "metadata": {
    "id": "2H1evQ5AnjW_"
   },
   "source": [
    "### Correlation Plot"
   ]
  },
  {
   "cell_type": "code",
   "execution_count": 11,
   "metadata": {
    "colab": {
     "base_uri": "https://localhost:8080/",
     "height": 749
    },
    "id": "nO3DQZ3PnloA",
    "outputId": "da49af72-9bd1-4599-bc8d-e9835e3e73c4"
   },
   "outputs": [
    {
     "data": {
      "text/plain": [
       "<AxesSubplot:title={'center':'Correlation with reponse variable'}>"
      ]
     },
     "execution_count": 11,
     "metadata": {},
     "output_type": "execute_result"
    },
    {
     "data": {
      "image/png": "[encoded data removed]",
      "text/plain": [
       "<Figure size 1440x720 with 1 Axes>"
      ]
     },
     "metadata": {},
     "output_type": "display_data"
    }
   ],
   "source": [
    "dataset.corrwith(dataset.enrolled).plot.bar(figsize = (20,10),\n",
    "                                            title = 'Correlation with reponse variable',\n",
    "                                            fontsize = 15, rot = 45, grid = True, color = '#5F5D7D')"
   ]
  },
  {
   "cell_type": "markdown",
   "metadata": {
    "id": "Z_kekx7nU8i0"
   },
   "source": [
    "### Correlation Matrix"
   ]
  },
  {
   "cell_type": "code",
   "execution_count": 12,
   "metadata": {
    "colab": {
     "base_uri": "https://localhost:8080/",
     "height": 800
    },
    "id": "q6BzCYMwWP6E",
    "outputId": "0aba298b-884d-4fe3-8d5f-9940f9cceff0"
   },
   "outputs": [
    {
     "data": {
      "text/plain": [
       "<AxesSubplot:>"
      ]
     },
     "execution_count": 12,
     "metadata": {},
     "output_type": "execute_result"
    },
    {
     "data": {
      "image/png": "[encoded data removed]",
      "text/plain": [
       "<Figure size 1440x720 with 2 Axes>"
      ]
     },
     "metadata": {},
     "output_type": "display_data"
    }
   ],
   "source": [
    "sns.set(style='white', font_scale= 1)\n",
    "corr = dataset2.corr() # here we compute the correlation between numericals variables\n",
    "# Generate a mask for the upper triangle\n",
    "mask = np.zeros_like(corr, dtype= np.bool) # To generate a numpy array from correlation with true or false\n",
    "mask[np.triu_indices_from(mask)] = True # To have the index of the upper triangle\n",
    "# Setup the matplotlib figures\n",
    "f, ax = plt.subplots(figsize = (20,10))\n",
    "f.suptitle('Correlation Matrix', fontsize=40)\n",
    "# Generate a custum diverging color map\n",
    "cmap = sns.diverging_palette(10, 0, as_cmap=True)\n",
    "# Draw the heatmap with the mask and the correct aspect ratio\n",
    "sns.heatmap(corr, mask=mask, annot=True, cmap=cmap, vmax=1, center=0,\n",
    "            square=True, linewidth=5, cbar_kws={'shrink': .5})"
   ]
  },
  {
   "cell_type": "markdown",
   "metadata": {
    "id": "PgeknRR4ihgx"
   },
   "source": [
    "## Feature engineering - Response\n",
    "Explain Here"
   ]
  },
  {
   "cell_type": "code",
   "execution_count": 13,
   "metadata": {
    "colab": {
     "base_uri": "https://localhost:8080/"
    },
    "id": "caZNhIpCit4y",
    "outputId": "521d8000-87ab-4565-e3e5-dbb94679fec7"
   },
   "outputs": [
    {
     "data": {
      "text/plain": [
       "user                     int64\n",
       "first_open              object\n",
       "dayofweek                int64\n",
       "hour                     int64\n",
       "age                      int64\n",
       "screen_list             object\n",
       "numscreens               int64\n",
       "minigame                 int64\n",
       "used_premium_feature     int64\n",
       "enrolled                 int64\n",
       "enrolled_date           object\n",
       "liked                    int64\n",
       "dtype: object"
      ]
     },
     "execution_count": 13,
     "metadata": {},
     "output_type": "execute_result"
    }
   ],
   "source": [
    "dataset.dtypes\n",
    "# The dates are objects, we need to change it. One reason is, we can calculate the difference between the first open and the enrolled date.\n",
    "# This differece can be visualised in a distribution."
   ]
  },
  {
   "cell_type": "markdown",
   "metadata": {
    "id": "wmE1A0XBmUbo"
   },
   "source": [
    "### Transforming the dates into numerical dates"
   ]
  },
  {
   "cell_type": "code",
   "execution_count": 14,
   "metadata": {
    "id": "qs0gcZtUmZ9b"
   },
   "outputs": [],
   "source": [
    "dataset[\"first_open\"] = [parser.parse(row_date) for row_date in dataset[\"first_open\"]]\n",
    "dataset[\"enrolled_date\"] = [parser.parse(row_date) if isinstance(row_date, str) else row_date for row_date in dataset[\"enrolled_date\"]]\n",
    "dataset.dtypes\n",
    "\n",
    "# Selecting Time For Response\n",
    "dataset[\"difference\"] = (dataset.enrolled_date-dataset.first_open).astype('timedelta64[h]')"
   ]
  },
  {
   "cell_type": "code",
   "execution_count": 15,
   "metadata": {
    "colab": {
     "base_uri": "https://localhost:8080/",
     "height": 301
    },
    "id": "ez-vQ3AxmIYA",
    "outputId": "bd340098-7d83-4538-ac21-b3f6a1faa005"
   },
   "outputs": [
    {
     "data": {
      "text/plain": [
       "Text(0.5, 1.0, 'Distribution of Time-Since-Screan-Reached')"
      ]
     },
     "execution_count": 15,
     "metadata": {},
     "output_type": "execute_result"
    },
    {
     "data": {
      "image/png": "[encoded data removed]",
      "text/plain": [
       "<Figure size 432x288 with 1 Axes>"
      ]
     },
     "metadata": {},
     "output_type": "display_data"
    }
   ],
   "source": [
    "response_hist = plt.hist(dataset['difference'].dropna(), color= '#3F5D7D')\n",
    "plt.title('Distribution of Time-Since-Screan-Reached')"
   ]
  },
  {
   "cell_type": "code",
   "execution_count": 16,
   "metadata": {
    "colab": {
     "base_uri": "https://localhost:8080/",
     "height": 301
    },
    "id": "gflSviyKboYr",
    "outputId": "65a4af28-0f44-4402-c52f-c8065ec3d4c9"
   },
   "outputs": [
    {
     "data": {
      "text/plain": [
       "Text(0.5, 1.0, 'Distribution of Time-Since-Screem-Reached')"
      ]
     },
     "execution_count": 16,
     "metadata": {},
     "output_type": "execute_result"
    },
    {
     "data": {
      "image/png": "[encoded data removed]",
      "text/plain": [
       "<Figure size 432x288 with 1 Axes>"
      ]
     },
     "metadata": {},
     "output_type": "display_data"
    }
   ],
   "source": [
    "plt.hist(dataset['difference'].dropna(), color= '#3F5D7D', range = [0,100])\n",
    "plt.title('Distribution of Time-Since-Screem-Reached')"
   ]
  },
  {
   "cell_type": "markdown",
   "metadata": {
    "id": "qedZLiLibxZI"
   },
   "source": [
    "As we can see in the above figure, we do not have a great number of inscription after 100 hours of application usage. In this case, to make the model more clear, we are going to change the response, all custumer that toke more then 48 hour to subscription will be turned into 0, it means, we do not consider them as a possible custumer."
   ]
  },
  {
   "cell_type": "markdown",
   "metadata": {
    "id": "_Osr7S8dczjc"
   },
   "source": [
    "### Changing the response based on Distribution of Time-Since-Screem-Reached"
   ]
  },
  {
   "cell_type": "code",
   "execution_count": 17,
   "metadata": {
    "id": "YYt7Xp3bdJTL"
   },
   "outputs": [],
   "source": [
    "dataset.loc[dataset.difference > 24, 'enrolled'] = 0"
   ]
  },
  {
   "cell_type": "code",
   "execution_count": 18,
   "metadata": {
    "id": "QHRtxxDKd1An"
   },
   "outputs": [],
   "source": [
    "# Now, one importante thing is to eliminate certains columns in our dataset. Due to the change on the response variable, the features first_open, date_enrolled and difference there are no more sense, for this reason we drop theese columns\n",
    "dataset = dataset.drop(columns = ['difference', 'first_open', 'enrolled_date'])"
   ]
  },
  {
   "cell_type": "markdown",
   "metadata": {
    "id": "oE4IL0YHe2OJ"
   },
   "source": [
    "## Feature engineering on the screem variables"
   ]
  },
  {
   "cell_type": "markdown",
   "metadata": {
    "id": "hwOp7xQSxfL7"
   },
   "source": [
    "### Creating top_screens columns\n",
    "Explains here"
   ]
  },
  {
   "cell_type": "code",
   "execution_count": 19,
   "metadata": {
    "id": "aLWPWiQ3jNiU"
   },
   "outputs": [],
   "source": [
    "# Loading the second csv file\n",
    "top_screens = pd.read_csv('top_screens.csv').top_screens.values"
   ]
  },
  {
   "cell_type": "code",
   "execution_count": 20,
   "metadata": {
    "id": "zZSFGAjakaBn"
   },
   "outputs": [],
   "source": [
    "# We need to change the separator of screen_list column\n",
    "dataset['screen_list'] = dataset.screen_list.astype(str) +','"
   ]
  },
  {
   "cell_type": "code",
   "execution_count": 21,
   "metadata": {
    "id": "-kMIPAqAmGkR"
   },
   "outputs": [],
   "source": [
    "# Putting the top_screens as columns\n",
    "\n",
    "for sc in top_screens:\n",
    "  dataset[sc] = dataset.screen_list.str.contains(sc).astype(int)\n",
    "  dataset['screen_list'] = dataset.screen_list.str.replace(sc+',','')\n"
   ]
  },
  {
   "cell_type": "markdown",
   "metadata": {
    "id": "mVKLGXk3xoGy"
   },
   "source": [
    "### Creating Other Column\n",
    "Explain here"
   ]
  },
  {
   "cell_type": "code",
   "execution_count": 22,
   "metadata": {
    "id": "qwZBnhgFplAb"
   },
   "outputs": [],
   "source": [
    "# We have more than 15 screens, so we need to count the others screens are not in the top_screens list\n",
    "\n",
    "dataset['Other'] = dataset.screen_list.str.count(',')"
   ]
  },
  {
   "cell_type": "code",
   "execution_count": 23,
   "metadata": {
    "id": "aM7z8QsaqpE3"
   },
   "outputs": [],
   "source": [
    "# Now, we do not more need the screen_list\n",
    "\n",
    "dataset = dataset.drop(columns=['screen_list'])"
   ]
  },
  {
   "cell_type": "markdown",
   "metadata": {
    "id": "AC-hzwgNq5rC"
   },
   "source": [
    "## Funnels (Correleted Screens)\n",
    "Explain what is this funnels and try to find a good explanation."
   ]
  },
  {
   "cell_type": "code",
   "execution_count": 24,
   "metadata": {
    "id": "1M887Bpbq7se"
   },
   "outputs": [],
   "source": [
    "saving_screens = ['Saving1',\n",
    "                  'Saving2',\n",
    "                  'Saving2Amount',\n",
    "                  'Saving4',\n",
    "                  'Saving5',\n",
    "                  'Saving6',\n",
    "                  'Saving7',\n",
    "                  'Saving8',\n",
    "                  'Saving9',\n",
    "                  'Saving10',]"
   ]
  },
  {
   "cell_type": "code",
   "execution_count": 25,
   "metadata": {
    "id": "Jf1ryskIsfEQ"
   },
   "outputs": [],
   "source": [
    "dataset['TotalSaving'] = dataset[saving_screens].sum(axis = 1) # creating a new column"
   ]
  },
  {
   "cell_type": "code",
   "execution_count": 26,
   "metadata": {
    "id": "GJfoWHH-tTE0"
   },
   "outputs": [],
   "source": [
    "# Eliminating the saving_screens columns\n",
    "dataset = dataset.drop(columns=saving_screens)"
   ]
  },
  {
   "cell_type": "code",
   "execution_count": 27,
   "metadata": {
    "id": "Nws54UqluM4i"
   },
   "outputs": [],
   "source": [
    "cm_screens = [\"Credit1\",\n",
    "               \"Credit2\",\n",
    "               \"Credit3\",\n",
    "               \"Credit3Container\",\n",
    "               \"Credit3Dashboard\"]\n",
    "dataset[\"CMCount\"] = dataset[cm_screens].sum(axis=1)\n",
    "dataset = dataset.drop(columns=cm_screens)"
   ]
  },
  {
   "cell_type": "code",
   "execution_count": 28,
   "metadata": {
    "id": "FbdEURfiuPfe"
   },
   "outputs": [],
   "source": [
    "cc_screens = [\"CC1\",\n",
    "                \"CC1Category\",\n",
    "                \"CC3\"]\n",
    "dataset[\"CCCount\"] = dataset[cc_screens].sum(axis=1)\n",
    "dataset = dataset.drop(columns=cc_screens)"
   ]
  },
  {
   "cell_type": "code",
   "execution_count": 29,
   "metadata": {
    "id": "3fRBErRzuRme"
   },
   "outputs": [],
   "source": [
    "loan_screens = [\"Loan\",\n",
    "               \"Loan2\",\n",
    "               \"Loan3\",\n",
    "               \"Loan4\"]\n",
    "dataset[\"LoansCount\"] = dataset[loan_screens].sum(axis=1)\n",
    "dataset = dataset.drop(columns=loan_screens)"
   ]
  },
  {
   "cell_type": "code",
   "execution_count": 30,
   "metadata": {
    "colab": {
     "base_uri": "https://localhost:8080/",
     "height": 226
    },
    "id": "rR41bPGMuYd8",
    "outputId": "d169bb32-96d7-40e4-f86c-be792261071c"
   },
   "outputs": [
    {
     "data": {
      "text/html": [
       "<div>\n",
       "<style scoped>\n",
       "    .dataframe tbody tr th:only-of-type {\n",
       "        vertical-align: middle;\n",
       "    }\n",
       "\n",
       "    .dataframe tbody tr th {\n",
       "        vertical-align: top;\n",
       "    }\n",
       "\n",
       "    .dataframe thead th {\n",
       "        text-align: right;\n",
       "    }\n",
       "</style>\n",
       "<table border=\"1\" class=\"dataframe\">\n",
       "  <thead>\n",
       "    <tr style=\"text-align: right;\">\n",
       "      <th></th>\n",
       "      <th>user</th>\n",
       "      <th>dayofweek</th>\n",
       "      <th>hour</th>\n",
       "      <th>age</th>\n",
       "      <th>numscreens</th>\n",
       "      <th>minigame</th>\n",
       "      <th>used_premium_feature</th>\n",
       "      <th>enrolled</th>\n",
       "      <th>liked</th>\n",
       "      <th>location</th>\n",
       "      <th>...</th>\n",
       "      <th>SecurityModal</th>\n",
       "      <th>ResendToken</th>\n",
       "      <th>TransactionList</th>\n",
       "      <th>NetworkFailure</th>\n",
       "      <th>ListPicker</th>\n",
       "      <th>Other</th>\n",
       "      <th>TotalSaving</th>\n",
       "      <th>CMCount</th>\n",
       "      <th>CCCount</th>\n",
       "      <th>LoansCount</th>\n",
       "    </tr>\n",
       "  </thead>\n",
       "  <tbody>\n",
       "    <tr>\n",
       "      <th>0</th>\n",
       "      <td>235136</td>\n",
       "      <td>3</td>\n",
       "      <td>2</td>\n",
       "      <td>23</td>\n",
       "      <td>15</td>\n",
       "      <td>0</td>\n",
       "      <td>0</td>\n",
       "      <td>0</td>\n",
       "      <td>0</td>\n",
       "      <td>0</td>\n",
       "      <td>...</td>\n",
       "      <td>0</td>\n",
       "      <td>0</td>\n",
       "      <td>0</td>\n",
       "      <td>0</td>\n",
       "      <td>0</td>\n",
       "      <td>7</td>\n",
       "      <td>0</td>\n",
       "      <td>0</td>\n",
       "      <td>0</td>\n",
       "      <td>1</td>\n",
       "    </tr>\n",
       "    <tr>\n",
       "      <th>1</th>\n",
       "      <td>333588</td>\n",
       "      <td>6</td>\n",
       "      <td>1</td>\n",
       "      <td>24</td>\n",
       "      <td>13</td>\n",
       "      <td>0</td>\n",
       "      <td>0</td>\n",
       "      <td>0</td>\n",
       "      <td>0</td>\n",
       "      <td>1</td>\n",
       "      <td>...</td>\n",
       "      <td>0</td>\n",
       "      <td>0</td>\n",
       "      <td>0</td>\n",
       "      <td>0</td>\n",
       "      <td>0</td>\n",
       "      <td>5</td>\n",
       "      <td>0</td>\n",
       "      <td>0</td>\n",
       "      <td>0</td>\n",
       "      <td>1</td>\n",
       "    </tr>\n",
       "    <tr>\n",
       "      <th>2</th>\n",
       "      <td>254414</td>\n",
       "      <td>1</td>\n",
       "      <td>19</td>\n",
       "      <td>23</td>\n",
       "      <td>3</td>\n",
       "      <td>0</td>\n",
       "      <td>1</td>\n",
       "      <td>0</td>\n",
       "      <td>1</td>\n",
       "      <td>0</td>\n",
       "      <td>...</td>\n",
       "      <td>0</td>\n",
       "      <td>0</td>\n",
       "      <td>0</td>\n",
       "      <td>0</td>\n",
       "      <td>0</td>\n",
       "      <td>0</td>\n",
       "      <td>0</td>\n",
       "      <td>0</td>\n",
       "      <td>0</td>\n",
       "      <td>1</td>\n",
       "    </tr>\n",
       "    <tr>\n",
       "      <th>3</th>\n",
       "      <td>234192</td>\n",
       "      <td>4</td>\n",
       "      <td>16</td>\n",
       "      <td>28</td>\n",
       "      <td>40</td>\n",
       "      <td>0</td>\n",
       "      <td>0</td>\n",
       "      <td>1</td>\n",
       "      <td>0</td>\n",
       "      <td>1</td>\n",
       "      <td>...</td>\n",
       "      <td>0</td>\n",
       "      <td>0</td>\n",
       "      <td>0</td>\n",
       "      <td>0</td>\n",
       "      <td>0</td>\n",
       "      <td>6</td>\n",
       "      <td>0</td>\n",
       "      <td>3</td>\n",
       "      <td>0</td>\n",
       "      <td>1</td>\n",
       "    </tr>\n",
       "    <tr>\n",
       "      <th>4</th>\n",
       "      <td>51549</td>\n",
       "      <td>1</td>\n",
       "      <td>18</td>\n",
       "      <td>31</td>\n",
       "      <td>32</td>\n",
       "      <td>0</td>\n",
       "      <td>0</td>\n",
       "      <td>1</td>\n",
       "      <td>1</td>\n",
       "      <td>0</td>\n",
       "      <td>...</td>\n",
       "      <td>0</td>\n",
       "      <td>0</td>\n",
       "      <td>0</td>\n",
       "      <td>0</td>\n",
       "      <td>0</td>\n",
       "      <td>10</td>\n",
       "      <td>0</td>\n",
       "      <td>2</td>\n",
       "      <td>0</td>\n",
       "      <td>1</td>\n",
       "    </tr>\n",
       "  </tbody>\n",
       "</table>\n",
       "<p>5 rows × 50 columns</p>\n",
       "</div>"
      ],
      "text/plain": [
       "     user  dayofweek  hour  age  numscreens  minigame  used_premium_feature  \\\n",
       "0  235136          3     2   23          15         0                     0   \n",
       "1  333588          6     1   24          13         0                     0   \n",
       "2  254414          1    19   23           3         0                     1   \n",
       "3  234192          4    16   28          40         0                     0   \n",
       "4   51549          1    18   31          32         0                     0   \n",
       "\n",
       "   enrolled  liked  location  ...  SecurityModal  ResendToken  \\\n",
       "0         0      0         0  ...              0            0   \n",
       "1         0      0         1  ...              0            0   \n",
       "2         0      1         0  ...              0            0   \n",
       "3         1      0         1  ...              0            0   \n",
       "4         1      1         0  ...              0            0   \n",
       "\n",
       "   TransactionList  NetworkFailure  ListPicker  Other  TotalSaving  CMCount  \\\n",
       "0                0               0           0      7            0        0   \n",
       "1                0               0           0      5            0        0   \n",
       "2                0               0           0      0            0        0   \n",
       "3                0               0           0      6            0        3   \n",
       "4                0               0           0     10            0        2   \n",
       "\n",
       "   CCCount  LoansCount  \n",
       "0        0           1  \n",
       "1        0           1  \n",
       "2        0           1  \n",
       "3        0           1  \n",
       "4        0           1  \n",
       "\n",
       "[5 rows x 50 columns]"
      ]
     },
     "execution_count": 30,
     "metadata": {},
     "output_type": "execute_result"
    }
   ],
   "source": [
    "dataset.head()"
   ]
  },
  {
   "cell_type": "code",
   "execution_count": 31,
   "metadata": {
    "colab": {
     "base_uri": "https://localhost:8080/",
     "height": 320
    },
    "id": "i_hHxQfSu6t7",
    "outputId": "90c06d37-f508-4fb6-9314-682835c28364"
   },
   "outputs": [
    {
     "data": {
      "text/html": [
       "<div>\n",
       "<style scoped>\n",
       "    .dataframe tbody tr th:only-of-type {\n",
       "        vertical-align: middle;\n",
       "    }\n",
       "\n",
       "    .dataframe tbody tr th {\n",
       "        vertical-align: top;\n",
       "    }\n",
       "\n",
       "    .dataframe thead th {\n",
       "        text-align: right;\n",
       "    }\n",
       "</style>\n",
       "<table border=\"1\" class=\"dataframe\">\n",
       "  <thead>\n",
       "    <tr style=\"text-align: right;\">\n",
       "      <th></th>\n",
       "      <th>user</th>\n",
       "      <th>dayofweek</th>\n",
       "      <th>hour</th>\n",
       "      <th>age</th>\n",
       "      <th>numscreens</th>\n",
       "      <th>minigame</th>\n",
       "      <th>used_premium_feature</th>\n",
       "      <th>enrolled</th>\n",
       "      <th>liked</th>\n",
       "      <th>location</th>\n",
       "      <th>...</th>\n",
       "      <th>SecurityModal</th>\n",
       "      <th>ResendToken</th>\n",
       "      <th>TransactionList</th>\n",
       "      <th>NetworkFailure</th>\n",
       "      <th>ListPicker</th>\n",
       "      <th>Other</th>\n",
       "      <th>TotalSaving</th>\n",
       "      <th>CMCount</th>\n",
       "      <th>CCCount</th>\n",
       "      <th>LoansCount</th>\n",
       "    </tr>\n",
       "  </thead>\n",
       "  <tbody>\n",
       "    <tr>\n",
       "      <th>count</th>\n",
       "      <td>50000.000000</td>\n",
       "      <td>50000.000000</td>\n",
       "      <td>50000.000000</td>\n",
       "      <td>50000.00000</td>\n",
       "      <td>50000.000000</td>\n",
       "      <td>50000.000000</td>\n",
       "      <td>50000.000000</td>\n",
       "      <td>50000.000000</td>\n",
       "      <td>50000.000000</td>\n",
       "      <td>50000.000000</td>\n",
       "      <td>...</td>\n",
       "      <td>50000.000000</td>\n",
       "      <td>50000.000000</td>\n",
       "      <td>50000.000000</td>\n",
       "      <td>50000.000000</td>\n",
       "      <td>50000.000000</td>\n",
       "      <td>50000.000000</td>\n",
       "      <td>50000.000000</td>\n",
       "      <td>50000.00000</td>\n",
       "      <td>50000.000000</td>\n",
       "      <td>50000.000000</td>\n",
       "    </tr>\n",
       "    <tr>\n",
       "      <th>mean</th>\n",
       "      <td>186889.729900</td>\n",
       "      <td>3.029860</td>\n",
       "      <td>12.557220</td>\n",
       "      <td>31.72436</td>\n",
       "      <td>21.095900</td>\n",
       "      <td>0.107820</td>\n",
       "      <td>0.172020</td>\n",
       "      <td>0.479840</td>\n",
       "      <td>0.165000</td>\n",
       "      <td>0.517760</td>\n",
       "      <td>...</td>\n",
       "      <td>0.014220</td>\n",
       "      <td>0.013340</td>\n",
       "      <td>0.013400</td>\n",
       "      <td>0.008200</td>\n",
       "      <td>0.007580</td>\n",
       "      <td>6.214260</td>\n",
       "      <td>0.365020</td>\n",
       "      <td>0.92776</td>\n",
       "      <td>0.176860</td>\n",
       "      <td>0.788400</td>\n",
       "    </tr>\n",
       "    <tr>\n",
       "      <th>std</th>\n",
       "      <td>107768.520361</td>\n",
       "      <td>2.031997</td>\n",
       "      <td>7.438072</td>\n",
       "      <td>10.80331</td>\n",
       "      <td>15.728812</td>\n",
       "      <td>0.310156</td>\n",
       "      <td>0.377402</td>\n",
       "      <td>0.499598</td>\n",
       "      <td>0.371184</td>\n",
       "      <td>0.499689</td>\n",
       "      <td>...</td>\n",
       "      <td>0.118398</td>\n",
       "      <td>0.114727</td>\n",
       "      <td>0.114981</td>\n",
       "      <td>0.090183</td>\n",
       "      <td>0.086733</td>\n",
       "      <td>3.672561</td>\n",
       "      <td>1.405511</td>\n",
       "      <td>1.21751</td>\n",
       "      <td>0.612787</td>\n",
       "      <td>0.677462</td>\n",
       "    </tr>\n",
       "    <tr>\n",
       "      <th>min</th>\n",
       "      <td>13.000000</td>\n",
       "      <td>0.000000</td>\n",
       "      <td>0.000000</td>\n",
       "      <td>16.00000</td>\n",
       "      <td>1.000000</td>\n",
       "      <td>0.000000</td>\n",
       "      <td>0.000000</td>\n",
       "      <td>0.000000</td>\n",
       "      <td>0.000000</td>\n",
       "      <td>0.000000</td>\n",
       "      <td>...</td>\n",
       "      <td>0.000000</td>\n",
       "      <td>0.000000</td>\n",
       "      <td>0.000000</td>\n",
       "      <td>0.000000</td>\n",
       "      <td>0.000000</td>\n",
       "      <td>0.000000</td>\n",
       "      <td>0.000000</td>\n",
       "      <td>0.00000</td>\n",
       "      <td>0.000000</td>\n",
       "      <td>0.000000</td>\n",
       "    </tr>\n",
       "    <tr>\n",
       "      <th>25%</th>\n",
       "      <td>93526.750000</td>\n",
       "      <td>1.000000</td>\n",
       "      <td>5.000000</td>\n",
       "      <td>24.00000</td>\n",
       "      <td>10.000000</td>\n",
       "      <td>0.000000</td>\n",
       "      <td>0.000000</td>\n",
       "      <td>0.000000</td>\n",
       "      <td>0.000000</td>\n",
       "      <td>0.000000</td>\n",
       "      <td>...</td>\n",
       "      <td>0.000000</td>\n",
       "      <td>0.000000</td>\n",
       "      <td>0.000000</td>\n",
       "      <td>0.000000</td>\n",
       "      <td>0.000000</td>\n",
       "      <td>3.000000</td>\n",
       "      <td>0.000000</td>\n",
       "      <td>0.00000</td>\n",
       "      <td>0.000000</td>\n",
       "      <td>0.000000</td>\n",
       "    </tr>\n",
       "    <tr>\n",
       "      <th>50%</th>\n",
       "      <td>187193.500000</td>\n",
       "      <td>3.000000</td>\n",
       "      <td>14.000000</td>\n",
       "      <td>29.00000</td>\n",
       "      <td>18.000000</td>\n",
       "      <td>0.000000</td>\n",
       "      <td>0.000000</td>\n",
       "      <td>0.000000</td>\n",
       "      <td>0.000000</td>\n",
       "      <td>1.000000</td>\n",
       "      <td>...</td>\n",
       "      <td>0.000000</td>\n",
       "      <td>0.000000</td>\n",
       "      <td>0.000000</td>\n",
       "      <td>0.000000</td>\n",
       "      <td>0.000000</td>\n",
       "      <td>6.000000</td>\n",
       "      <td>0.000000</td>\n",
       "      <td>0.00000</td>\n",
       "      <td>0.000000</td>\n",
       "      <td>1.000000</td>\n",
       "    </tr>\n",
       "    <tr>\n",
       "      <th>75%</th>\n",
       "      <td>279984.250000</td>\n",
       "      <td>5.000000</td>\n",
       "      <td>19.000000</td>\n",
       "      <td>37.00000</td>\n",
       "      <td>28.000000</td>\n",
       "      <td>0.000000</td>\n",
       "      <td>0.000000</td>\n",
       "      <td>1.000000</td>\n",
       "      <td>0.000000</td>\n",
       "      <td>1.000000</td>\n",
       "      <td>...</td>\n",
       "      <td>0.000000</td>\n",
       "      <td>0.000000</td>\n",
       "      <td>0.000000</td>\n",
       "      <td>0.000000</td>\n",
       "      <td>0.000000</td>\n",
       "      <td>8.000000</td>\n",
       "      <td>0.000000</td>\n",
       "      <td>1.00000</td>\n",
       "      <td>0.000000</td>\n",
       "      <td>1.000000</td>\n",
       "    </tr>\n",
       "    <tr>\n",
       "      <th>max</th>\n",
       "      <td>373662.000000</td>\n",
       "      <td>6.000000</td>\n",
       "      <td>23.000000</td>\n",
       "      <td>101.00000</td>\n",
       "      <td>325.000000</td>\n",
       "      <td>1.000000</td>\n",
       "      <td>1.000000</td>\n",
       "      <td>1.000000</td>\n",
       "      <td>1.000000</td>\n",
       "      <td>1.000000</td>\n",
       "      <td>...</td>\n",
       "      <td>1.000000</td>\n",
       "      <td>1.000000</td>\n",
       "      <td>1.000000</td>\n",
       "      <td>1.000000</td>\n",
       "      <td>1.000000</td>\n",
       "      <td>35.000000</td>\n",
       "      <td>10.000000</td>\n",
       "      <td>5.00000</td>\n",
       "      <td>3.000000</td>\n",
       "      <td>3.000000</td>\n",
       "    </tr>\n",
       "  </tbody>\n",
       "</table>\n",
       "<p>8 rows × 50 columns</p>\n",
       "</div>"
      ],
      "text/plain": [
       "                user     dayofweek          hour          age    numscreens  \\\n",
       "count   50000.000000  50000.000000  50000.000000  50000.00000  50000.000000   \n",
       "mean   186889.729900      3.029860     12.557220     31.72436     21.095900   \n",
       "std    107768.520361      2.031997      7.438072     10.80331     15.728812   \n",
       "min        13.000000      0.000000      0.000000     16.00000      1.000000   \n",
       "25%     93526.750000      1.000000      5.000000     24.00000     10.000000   \n",
       "50%    187193.500000      3.000000     14.000000     29.00000     18.000000   \n",
       "75%    279984.250000      5.000000     19.000000     37.00000     28.000000   \n",
       "max    373662.000000      6.000000     23.000000    101.00000    325.000000   \n",
       "\n",
       "           minigame  used_premium_feature      enrolled         liked  \\\n",
       "count  50000.000000          50000.000000  50000.000000  50000.000000   \n",
       "mean       0.107820              0.172020      0.479840      0.165000   \n",
       "std        0.310156              0.377402      0.499598      0.371184   \n",
       "min        0.000000              0.000000      0.000000      0.000000   \n",
       "25%        0.000000              0.000000      0.000000      0.000000   \n",
       "50%        0.000000              0.000000      0.000000      0.000000   \n",
       "75%        0.000000              0.000000      1.000000      0.000000   \n",
       "max        1.000000              1.000000      1.000000      1.000000   \n",
       "\n",
       "           location  ...  SecurityModal   ResendToken  TransactionList  \\\n",
       "count  50000.000000  ...   50000.000000  50000.000000     50000.000000   \n",
       "mean       0.517760  ...       0.014220      0.013340         0.013400   \n",
       "std        0.499689  ...       0.118398      0.114727         0.114981   \n",
       "min        0.000000  ...       0.000000      0.000000         0.000000   \n",
       "25%        0.000000  ...       0.000000      0.000000         0.000000   \n",
       "50%        1.000000  ...       0.000000      0.000000         0.000000   \n",
       "75%        1.000000  ...       0.000000      0.000000         0.000000   \n",
       "max        1.000000  ...       1.000000      1.000000         1.000000   \n",
       "\n",
       "       NetworkFailure    ListPicker         Other   TotalSaving      CMCount  \\\n",
       "count    50000.000000  50000.000000  50000.000000  50000.000000  50000.00000   \n",
       "mean         0.008200      0.007580      6.214260      0.365020      0.92776   \n",
       "std          0.090183      0.086733      3.672561      1.405511      1.21751   \n",
       "min          0.000000      0.000000      0.000000      0.000000      0.00000   \n",
       "25%          0.000000      0.000000      3.000000      0.000000      0.00000   \n",
       "50%          0.000000      0.000000      6.000000      0.000000      0.00000   \n",
       "75%          0.000000      0.000000      8.000000      0.000000      1.00000   \n",
       "max          1.000000      1.000000     35.000000     10.000000      5.00000   \n",
       "\n",
       "            CCCount    LoansCount  \n",
       "count  50000.000000  50000.000000  \n",
       "mean       0.176860      0.788400  \n",
       "std        0.612787      0.677462  \n",
       "min        0.000000      0.000000  \n",
       "25%        0.000000      0.000000  \n",
       "50%        0.000000      1.000000  \n",
       "75%        0.000000      1.000000  \n",
       "max        3.000000      3.000000  \n",
       "\n",
       "[8 rows x 50 columns]"
      ]
     },
     "execution_count": 31,
     "metadata": {},
     "output_type": "execute_result"
    }
   ],
   "source": [
    "dataset.describe()"
   ]
  },
  {
   "cell_type": "code",
   "execution_count": 32,
   "metadata": {
    "colab": {
     "base_uri": "https://localhost:8080/"
    },
    "id": "KMm8gt3pvHUl",
    "outputId": "088ab8ae-24f3-44ec-d412-e5f32cbb07c2"
   },
   "outputs": [
    {
     "data": {
      "text/plain": [
       "Index(['user', 'dayofweek', 'hour', 'age', 'numscreens', 'minigame',\n",
       "       'used_premium_feature', 'enrolled', 'liked', 'location', 'Institutions',\n",
       "       'VerifyPhone', 'BankVerification', 'VerifyDateOfBirth', 'ProfilePage',\n",
       "       'VerifyCountry', 'Cycle', 'idscreen', 'Splash', 'RewardsContainer',\n",
       "       'EditProfile', 'Finances', 'Alerts', 'Leaderboard', 'VerifyMobile',\n",
       "       'VerifyHousing', 'RewardDetail', 'VerifyHousingAmount',\n",
       "       'ProfileMaritalStatus', 'ProfileChildren ', 'ProfileEducation',\n",
       "       'ProfileEducationMajor', 'Rewards', 'AccountView', 'VerifyAnnualIncome',\n",
       "       'VerifyIncomeType', 'ProfileJobTitle', 'Login',\n",
       "       'ProfileEmploymentLength', 'WebView', 'SecurityModal', 'ResendToken',\n",
       "       'TransactionList', 'NetworkFailure', 'ListPicker', 'Other',\n",
       "       'TotalSaving', 'CMCount', 'CCCount', 'LoansCount'],\n",
       "      dtype='object')"
      ]
     },
     "execution_count": 32,
     "metadata": {},
     "output_type": "execute_result"
    }
   ],
   "source": [
    "dataset.columns"
   ]
  },
  {
   "cell_type": "markdown",
   "metadata": {
    "id": "zkLxlMitvOIj"
   },
   "source": [
    "## Saving the dataset"
   ]
  },
  {
   "cell_type": "code",
   "execution_count": 33,
   "metadata": {
    "id": "utPxDI6nvSJD"
   },
   "outputs": [],
   "source": [
    "dataset.to_csv('new_appdata10.csv', index = False)"
   ]
  },
  {
   "cell_type": "markdown",
   "metadata": {
    "id": "Mld8vfOKx7YB"
   },
   "source": [
    "# Model Processing"
   ]
  },
  {
   "cell_type": "markdown",
   "metadata": {
    "id": "0EX6aZc5zz4L"
   },
   "source": [
    "## Data prepocessing"
   ]
  },
  {
   "cell_type": "markdown",
   "metadata": {
    "id": "SHjcE843Ztqr"
   },
   "source": [
    "### Importing the new dataset"
   ]
  },
  {
   "cell_type": "code",
   "execution_count": 34,
   "metadata": {
    "id": "9lUBvdM2x-qc"
   },
   "outputs": [],
   "source": [
    "dataset_model = pd.read_csv('new_appdata10.csv')"
   ]
  },
  {
   "cell_type": "code",
   "execution_count": 35,
   "metadata": {
    "id": "4uf_q2P-2b2l"
   },
   "outputs": [],
   "source": [
    "# We need to separete the response column of the rest dataframe\n",
    "response = dataset_model['enrolled']\n",
    "# Eliminating the enrolled column from dataset_model\n",
    "dataset_model = dataset_model.drop(columns='enrolled')"
   ]
  },
  {
   "cell_type": "markdown",
   "metadata": {
    "id": "Hjfm8pUWZ3tU"
   },
   "source": [
    "### Splitting the Dataset into Testing and Training variables"
   ]
  },
  {
   "cell_type": "code",
   "execution_count": 36,
   "metadata": {
    "id": "IJiTX-VI240N"
   },
   "outputs": [],
   "source": [
    "from sklearn.model_selection import train_test_split\n",
    "X_train, X_test, y_train, y_test = train_test_split(dataset_model, response, test_size = 0.2, random_state = 0)"
   ]
  },
  {
   "cell_type": "code",
   "execution_count": 37,
   "metadata": {
    "id": "JUzKyLmF3W7d"
   },
   "outputs": [],
   "source": [
    "# We had preserved the user column, but this does not have signification to model. We are going to save this column into other variable. In the future we can associate the user with the prediction\n",
    "train_id = X_train['user']\n",
    "X_train = X_train.drop(columns='user')\n",
    "test_id = X_test['user']\n",
    "X_test = X_test.drop(columns='user')"
   ]
  },
  {
   "cell_type": "markdown",
   "metadata": {
    "id": "TGd62BsKZ8TX"
   },
   "source": [
    "### Feature scaling"
   ]
  },
  {
   "cell_type": "code",
   "execution_count": 38,
   "metadata": {
    "colab": {
     "base_uri": "https://localhost:8080/"
    },
    "id": "jAW5XWx64QtP",
    "outputId": "b777c0ad-3b93-49c6-cc13-823b71d20b0f"
   },
   "outputs": [
    {
     "name": "stderr",
     "output_type": "stream",
     "text": [
      "/usr/lib/python3/dist-packages/ipykernel_launcher.py:7: UserWarning: Pandas doesn't allow columns to be created via a new attribute name - see https://pandas.pydata.org/pandas-docs/stable/indexing.html#attribute-access\n",
      "  import sys\n",
      "/usr/lib/python3/dist-packages/ipykernel_launcher.py:8: UserWarning: Pandas doesn't allow columns to be created via a new attribute name - see https://pandas.pydata.org/pandas-docs/stable/indexing.html#attribute-access\n",
      "  \n"
     ]
    }
   ],
   "source": [
    "from sklearn.preprocessing import StandardScaler\n",
    "sc = StandardScaler()\n",
    "X_train_bckp = pd.DataFrame(sc.fit_transform(X_train))\n",
    "X_test_bckp = pd.DataFrame(sc.transform(X_test))\n",
    "X_train_bckp.columns = X_train.columns.values\n",
    "X_test_bckp.columns = X_test.columns.values\n",
    "X_train_bckp.idex = X_train.index.values\n",
    "X_test_bckp.idex = X_test.index.values\n",
    "X_train = X_train_bckp\n",
    "X_test = X_test_bckp"
   ]
  },
  {
   "cell_type": "markdown",
   "metadata": {
    "id": "hXpPXzy0aGyJ"
   },
   "source": [
    "## Models building"
   ]
  },
  {
   "cell_type": "code",
   "execution_count": 39,
   "metadata": {
    "colab": {
     "base_uri": "https://localhost:8080/"
    },
    "id": "8BkNljpv54Jv",
    "outputId": "e5fa42cb-f9d2-4c0a-9be1-9039b920bb36"
   },
   "outputs": [
    {
     "name": "stdout",
     "output_type": "stream",
     "text": [
      "Took 0.32 seconds\n",
      "Took 0.94 seconds\n",
      "Took 0.03 seconds\n",
      "Took 0.30 seconds\n",
      "Took 4.57 seconds\n"
     ]
    }
   ],
   "source": [
    "# Logistic Regression\n",
    "\n",
    "t0 = time.time()\n",
    "from sklearn.linear_model import LogisticRegression\n",
    "classifier1 = LogisticRegression(random_state = 0, penalty='l2')\n",
    "classifier1.fit(X_train, y_train)\n",
    "t1 = time.time()\n",
    "print(\"Took %0.2f seconds\" % (t1 - t0))\n",
    "# K Nearest Nieghbors\n",
    "\n",
    "t0 = time.time()\n",
    "from sklearn.neighbors import KNeighborsClassifier\n",
    "classifier2 = KNeighborsClassifier(n_neighbors= 5, metric='minkowski', p = 2)\n",
    "classifier2.fit(X_train, y_train)\n",
    "t1 = time.time()\n",
    "print(\"Took %0.2f seconds\" % (t1 - t0))\n",
    "\n",
    "# Support Vector Machine - Linear Classifier\n",
    "\n",
    "#t0 = time.time()\n",
    "#from sklearn.svm import SVC\n",
    "#classifier3 = SVC(kernel= 'linear', random_state=0)\n",
    "#classifier3.fit(X_train, y_train)\n",
    "#t1 = time.time()\n",
    "#print(\"Took %0.2f seconds\" % (t1 - t0))\n",
    "\n",
    "# Kernel Support Vector Machine\n",
    "\n",
    "#t0 = time.time()\n",
    "#from sklearn.svm import SVC\n",
    "#classifier4 = SVC(kernel='rbf', random_state=0)\n",
    "#classifier4.fit(X_train, y_train)\n",
    "#t1 = time.time()\n",
    "#print(\"Took %0.2f seconds\" % (t1 - t0))\n",
    "\n",
    "# Naïves Bayes Classification\n",
    "t0 = time.time()\n",
    "from sklearn.naive_bayes import GaussianNB\n",
    "classifier5 = GaussianNB()\n",
    "classifier5.fit(X_train, y_train)\n",
    "t1 = time.time()\n",
    "print(\"Took %0.2f seconds\" % (t1 - t0))\n",
    "\n",
    "# Decision Tree Classification\n",
    "t0 = time.time()\n",
    "from sklearn.tree import DecisionTreeClassifier\n",
    "classifier6 = DecisionTreeClassifier(criterion='entropy', random_state=0)\n",
    "classifier6.fit(X_train, y_train)\n",
    "t1 = time.time()\n",
    "print(\"Took %0.2f seconds\" % (t1 - t0))\n",
    "\n",
    "# Random Forest Classification\n",
    "t0 = time.time()\n",
    "from sklearn.ensemble import RandomForestClassifier\n",
    "classifier7 = RandomForestClassifier(n_estimators=100, criterion='entropy', random_state = 0)\n",
    "classifier7.fit(X_train, y_train)\n",
    "t1 = time.time()\n",
    "print(\"Took %0.2f seconds\" % (t1 - t0))"
   ]
  },
  {
   "cell_type": "code",
   "execution_count": 40,
   "metadata": {
    "colab": {
     "base_uri": "https://localhost:8080/"
    },
    "id": "XmqcSdxK68o4",
    "outputId": "f80e38dd-6645-4e17-ce98-cf7ffdffdcfe"
   },
   "outputs": [
    {
     "name": "stdout",
     "output_type": "stream",
     "text": [
      "Took 0.01 seconds\n",
      "Took 44.26 seconds\n",
      "Took 0.01 seconds\n",
      "Took 0.00 seconds\n",
      "Took 0.23 seconds\n"
     ]
    }
   ],
   "source": [
    "## Predicting the test result\n",
    "t0 = time.time()\n",
    "y_pred1 = classifier1.predict(X_test)\n",
    "t1 = time.time()\n",
    "print(\"Took %0.2f seconds\" % (t1 - t0))\n",
    "\n",
    "t0 = time.time()\n",
    "y_pred2 = classifier2.predict(X_test)\n",
    "t1 = time.time()\n",
    "print(\"Took %0.2f seconds\" % (t1 - t0))\n",
    "\n",
    "#y_pred3 = classifier3.predict(X_test)\n",
    "#y_pred4 = classifier4.predict(X_test)\n",
    "t0 = time.time()\n",
    "y_pred5 = classifier5.predict(X_test)\n",
    "t1 = time.time()\n",
    "print(\"Took %0.2f seconds\" % (t1 - t0))\n",
    "\n",
    "t0 = time.time()\n",
    "y_pred6 = classifier6.predict(X_test)\n",
    "t1 = time.time()\n",
    "print(\"Took %0.2f seconds\" % (t1 - t0))\n",
    "\n",
    "t0 = time.time()\n",
    "y_pred7 = classifier7.predict(X_test)\n",
    "t1 = time.time()\n",
    "print(\"Took %0.2f seconds\" % (t1 - t0))"
   ]
  },
  {
   "cell_type": "markdown",
   "metadata": {
    "id": "sWN4nMqKaQ7x"
   },
   "source": [
    "## Selection Model"
   ]
  },
  {
   "cell_type": "code",
   "execution_count": 41,
   "metadata": {
    "colab": {
     "base_uri": "https://localhost:8080/"
    },
    "id": "vxpeaAGt7PzV",
    "outputId": "f983835f-a6c2-4020-a69d-97fbeefa2fc4"
   },
   "outputs": [
    {
     "name": "stdout",
     "output_type": "stream",
     "text": [
      "Checking Confusion Matrix to a single observation\n",
      "Logistic Regression Classification\n",
      "[[4135 1124]\n",
      " [1055 3686]]\n",
      "              precision    recall  f1-score   support\n",
      "\n",
      "           0       0.80      0.79      0.79      5259\n",
      "           1       0.77      0.78      0.77      4741\n",
      "\n",
      "    accuracy                           0.78     10000\n",
      "   macro avg       0.78      0.78      0.78     10000\n",
      "weighted avg       0.78      0.78      0.78     10000\n",
      "\n",
      "\n",
      "\n",
      "K Nearest Neighbors\n",
      "[[3957 1302]\n",
      " [1270 3471]]\n",
      "              precision    recall  f1-score   support\n",
      "\n",
      "           0       0.76      0.75      0.75      5259\n",
      "           1       0.73      0.73      0.73      4741\n",
      "\n",
      "    accuracy                           0.74     10000\n",
      "   macro avg       0.74      0.74      0.74     10000\n",
      "weighted avg       0.74      0.74      0.74     10000\n",
      "\n",
      "\n",
      "\n",
      "Support Vector Machine - Not selected\n",
      "\n",
      "\n",
      "Kernel Support Vector Machine - Not selected\n",
      "\n",
      "\n",
      "Naive Bayes Classification\n",
      "[[3931 1328]\n",
      " [1465 3276]]\n",
      "              precision    recall  f1-score   support\n",
      "\n",
      "           0       0.73      0.75      0.74      5259\n",
      "           1       0.71      0.69      0.70      4741\n",
      "\n",
      "    accuracy                           0.72     10000\n",
      "   macro avg       0.72      0.72      0.72     10000\n",
      "weighted avg       0.72      0.72      0.72     10000\n",
      "\n",
      "\n",
      "\n",
      "Decision Tree Classification\n",
      "[[3761 1498]\n",
      " [1384 3357]]\n",
      "              precision    recall  f1-score   support\n",
      "\n",
      "           0       0.73      0.72      0.72      5259\n",
      "           1       0.69      0.71      0.70      4741\n",
      "\n",
      "    accuracy                           0.71     10000\n",
      "   macro avg       0.71      0.71      0.71     10000\n",
      "weighted avg       0.71      0.71      0.71     10000\n",
      "\n",
      "\n",
      "\n",
      "Random Forest Classification\n",
      "[[4278  981]\n",
      " [1125 3616]]\n",
      "              precision    recall  f1-score   support\n",
      "\n",
      "           0       0.79      0.81      0.80      5259\n",
      "           1       0.79      0.76      0.77      4741\n",
      "\n",
      "    accuracy                           0.79     10000\n",
      "   macro avg       0.79      0.79      0.79     10000\n",
      "weighted avg       0.79      0.79      0.79     10000\n",
      "\n",
      "\n",
      "\n"
     ]
    }
   ],
   "source": [
    "from sklearn.metrics import classification_report, confusion_matrix\n",
    "cm1 = confusion_matrix(y_test, y_pred1)\n",
    "cm2 = confusion_matrix(y_test, y_pred2)\n",
    "#cm3 = confusion_matrix(y_test, y_pred3)\n",
    "#cm4 = confusion_matrix(y_test, y_pred4)\n",
    "cm5 = confusion_matrix(y_test, y_pred5)\n",
    "cm6 = confusion_matrix(y_test, y_pred6)\n",
    "cm7 = confusion_matrix(y_test, y_pred7)\n",
    "\n",
    "print('Checking Confusion Matrix to a single observation')\n",
    "print('Logistic Regression Classification')\n",
    "print(cm1)\n",
    "print(classification_report(y_test,y_pred1))\n",
    "print('\\n')\n",
    "print('K Nearest Neighbors')\n",
    "print(cm2)\n",
    "print(classification_report(y_test,y_pred2))\n",
    "print('\\n')\n",
    "print('Support Vector Machine - Not selected')\n",
    "#print(cm3)\n",
    "#print(classification_report(y_test,y_pred3))\n",
    "print('\\n')\n",
    "print('Kernel Support Vector Machine - Not selected')\n",
    "#print(cm4)\n",
    "#print(classification_report(y_test,y_pred4))\n",
    "print('\\n')\n",
    "print('Naive Bayes Classification')\n",
    "print(cm5)\n",
    "print(classification_report(y_test,y_pred5))\n",
    "print('\\n')\n",
    "print('Decision Tree Classification')\n",
    "print(cm6)\n",
    "print(classification_report(y_test,y_pred6))\n",
    "print('\\n')\n",
    "print('Random Forest Classification')\n",
    "print(cm7)\n",
    "print(classification_report(y_test,y_pred7))\n",
    "print('\\n')"
   ]
  },
  {
   "cell_type": "code",
   "execution_count": 42,
   "metadata": {
    "colab": {
     "base_uri": "https://localhost:8080/"
    },
    "id": "9JJy6AYnEL1G",
    "outputId": "cfb4510f-f850-418c-dfae-87085ac3caea"
   },
   "outputs": [
    {
     "name": "stdout",
     "output_type": "stream",
     "text": [
      "Checking K-Fold Cross Validation\n",
      "\n",
      "\n",
      "Logistic Regression Classification\n",
      "Accuracy: 77.53 %\n",
      "Standard Deviation: 0.67 %\n",
      "\n",
      "\n",
      "Naive Bayes Classification\n",
      "Accuracy: 71.95 %\n",
      "Standard Deviation: 0.58 %\n",
      "\n",
      "\n",
      "Decision Tree Classification\n",
      "Accuracy: 70.53 %\n",
      "Standard Deviation: 0.67 %\n",
      "\n",
      "\n",
      "Random Forest Classification\n",
      "Accuracy1: 78.95 %\n",
      "Standard1 Deviation: 0.50 %\n"
     ]
    }
   ],
   "source": [
    "from sklearn.model_selection import cross_val_score\n",
    "accuracies1 = cross_val_score(estimator = classifier1, X = X_train, y = y_train, cv = 10)\n",
    "#accuracies2 = cross_val_score(estimator = classifier2, X = X_train, y = y_train, cv = 10)\n",
    "#accuracies3 = cross_val_score(estimator = classifier3, X = X_train, y = y_train, cv = 10)\n",
    "#accuracies4 = cross_val_score(estimator = classifier4, X = X_train, y = y_train, cv = 10)\n",
    "accuracies5 = cross_val_score(estimator = classifier5, X = X_train, y = y_train, cv = 10)\n",
    "accuracies6 = cross_val_score(estimator = classifier6, X = X_train, y = y_train, cv = 10)\n",
    "accuracies7 = cross_val_score(estimator = classifier7, X = X_train, y = y_train, cv = 10)\n",
    "\n",
    "print('Checking K-Fold Cross Validation')\n",
    "print('\\n')\n",
    "print('Logistic Regression Classification')\n",
    "print(\"Accuracy: {:.2f} %\".format(accuracies1.mean()*100))\n",
    "print(\"Standard Deviation: {:.2f} %\".format(accuracies1.std()*100))\n",
    "print('\\n')\n",
    "#print('K Nearest Neighbors')\n",
    "#print(\"Accuracy: {:.2f} %\".format(accuracies2.mean()*100))\n",
    "#print(\"Standard Deviation: {:.2f} %\".format(accuracies2.std()*100))\n",
    "#print('\\n')\n",
    "#print('Support Vector Machine')\n",
    "#print(\"Accuracy: {:.2f} %\".format(accuracies3.mean()*100))\n",
    "#print(\"Standard Deviation: {:.2f} %\".format(accuracies3.std()*100))\n",
    "#print('\\n')\n",
    "#print('Kernel Support Vector Machine')\n",
    "#print(\"Accuracy: {:.2f} %\".format(accuracies4.mean()*100))\n",
    "#print(\"Standard Deviation: {:.2f} %\".format(accuracies4.std()*100))\n",
    "#print('\\n')\n",
    "print('Naive Bayes Classification')\n",
    "print(\"Accuracy: {:.2f} %\".format(accuracies5.mean()*100))\n",
    "print(\"Standard Deviation: {:.2f} %\".format(accuracies5.std()*100))\n",
    "print('\\n')\n",
    "print('Decision Tree Classification')\n",
    "print(\"Accuracy: {:.2f} %\".format(accuracies6.mean()*100))\n",
    "print(\"Standard Deviation: {:.2f} %\".format(accuracies6.std()*100))\n",
    "print('\\n')\n",
    "print('Random Forest Classification')\n",
    "print(\"Accuracy1: {:.2f} %\".format(accuracies7.mean()*100))\n",
    "print(\"Standard1 Deviation: {:.2f} %\".format(accuracies7.std()*100))\n"
   ]
  },
  {
   "cell_type": "markdown",
   "metadata": {
    "id": "CGprnOTKLNyV"
   },
   "source": [
    "## Boosting the model\n"
   ]
  },
  {
   "cell_type": "code",
   "execution_count": 43,
   "metadata": {
    "id": "AFteNZngLSyl"
   },
   "outputs": [],
   "source": [
    "param_grid1 = {'C' : [0.001, 0.01, 0.1, 1 , 10, 100], 'solver' : ['newton-cg', 'sag', 'saga','lbfgs', 'liblinear' ], 'penalty' : ['l1', 'l2']}\n",
    "param_grid2 = {'criterion': ['gini', 'entropy'], 'n_estimators': [10, 50, 100, 500, 1000]}"
   ]
  },
  {
   "cell_type": "code",
   "execution_count": 44,
   "metadata": {
    "id": "SPgJFIMONwUW"
   },
   "outputs": [],
   "source": [
    "from sklearn.model_selection import GridSearchCV\n",
    "\n",
    "grid1 = GridSearchCV(classifier1, param_grid1, cv = 10, verbose = 4)\n",
    "grid2 = GridSearchCV(classifier7, param_grid2, cv = 10, verbose = 4)"
   ]
  },
  {
   "cell_type": "code",
   "execution_count": null,
   "metadata": {
    "colab": {
     "base_uri": "https://localhost:8080/"
    },
    "id": "-XjPltx3N4ht",
    "outputId": "341363c0-f098-478e-ff4a-da0bbc86440e"
   },
   "outputs": [
    {
     "name": "stdout",
     "output_type": "stream",
     "text": [
      "Fitting 10 folds for each of 60 candidates, totalling 600 fits\n",
      "[CV] C=0.001, penalty=l1, solver=newton-cg ...........................\n",
      "[CV] . C=0.001, penalty=l1, solver=newton-cg, score=nan, total=   0.0s\n",
      "[CV] C=0.001, penalty=l1, solver=newton-cg ...........................\n",
      "[CV] . C=0.001, penalty=l1, solver=newton-cg, score=nan, total=   0.0s\n",
      "[CV] C=0.001, penalty=l1, solver=newton-cg ...........................\n",
      "[CV] . C=0.001, penalty=l1, solver=newton-cg, score=nan, total=   0.0s\n",
      "[CV] C=0.001, penalty=l1, solver=newton-cg ...........................\n",
      "[CV] . C=0.001, penalty=l1, solver=newton-cg, score=nan, total=   0.0s\n",
      "[CV] C=0.001, penalty=l1, solver=newton-cg ...........................\n",
      "[CV] . C=0.001, penalty=l1, solver=newton-cg, score=nan, total=   0.0s\n",
      "[CV] C=0.001, penalty=l1, solver=newton-cg ...........................\n",
      "[CV] . C=0.001, penalty=l1, solver=newton-cg, score=nan, total=   0.0s\n",
      "[CV] C=0.001, penalty=l1, solver=newton-cg ...........................\n",
      "[CV] . C=0.001, penalty=l1, solver=newton-cg, score=nan, total=   0.0s\n",
      "[CV] C=0.001, penalty=l1, solver=newton-cg ...........................\n",
      "[CV] . C=0.001, penalty=l1, solver=newton-cg, score=nan, total=   0.0s\n",
      "[CV] C=0.001, penalty=l1, solver=newton-cg ...........................\n",
      "[CV] . C=0.001, penalty=l1, solver=newton-cg, score=nan, total=   0.0s\n",
      "[CV] C=0.001, penalty=l1, solver=newton-cg ...........................\n",
      "[CV] . C=0.001, penalty=l1, solver=newton-cg, score=nan, total=   0.0s\n",
      "[CV] C=0.001, penalty=l1, solver=sag .................................\n",
      "[CV] ....... C=0.001, penalty=l1, solver=sag, score=nan, total=   0.0s\n",
      "[CV] C=0.001, penalty=l1, solver=sag .................................\n",
      "[CV] ....... C=0.001, penalty=l1, solver=sag, score=nan, total=   0.0s\n",
      "[CV] C=0.001, penalty=l1, solver=sag .................................\n",
      "[CV] ....... C=0.001, penalty=l1, solver=sag, score=nan, total=   0.0s\n",
      "[CV] C=0.001, penalty=l1, solver=sag .................................\n",
      "[CV] ....... C=0.001, penalty=l1, solver=sag, score=nan, total=   0.0s\n",
      "[CV] C=0.001, penalty=l1, solver=sag .................................\n",
      "[CV] ....... C=0.001, penalty=l1, solver=sag, score=nan, total=   0.0s\n",
      "[CV] C=0.001, penalty=l1, solver=sag .................................\n",
      "[CV] ....... C=0.001, penalty=l1, solver=sag, score=nan, total=   0.0s\n",
      "[CV] C=0.001, penalty=l1, solver=sag .................................\n",
      "[CV] ....... C=0.001, penalty=l1, solver=sag, score=nan, total=   0.0s\n",
      "[CV] C=0.001, penalty=l1, solver=sag .................................\n",
      "[CV] ....... C=0.001, penalty=l1, solver=sag, score=nan, total=   0.0s\n",
      "[CV] C=0.001, penalty=l1, solver=sag .................................\n",
      "[CV] ....... C=0.001, penalty=l1, solver=sag, score=nan, total=   0.0s\n",
      "[CV] C=0.001, penalty=l1, solver=sag .................................\n",
      "[CV] ....... C=0.001, penalty=l1, solver=sag, score=nan, total=   0.0s\n",
      "[CV] C=0.001, penalty=l1, solver=saga ................................\n"
     ]
    },
    {
     "name": "stderr",
     "output_type": "stream",
     "text": [
      "[Parallel(n_jobs=1)]: Using backend SequentialBackend with 1 concurrent workers.\n",
      "/home/igor/.local/lib/python3.6/site-packages/sklearn/model_selection/_validation.py:552: FitFailedWarning: Estimator fit failed. The score on this train-test partition for these parameters will be set to nan. Details: \n",
      "Traceback (most recent call last):\n",
      "  File \"/home/igor/.local/lib/python3.6/site-packages/sklearn/model_selection/_validation.py\", line 531, in _fit_and_score\n",
      "    estimator.fit(X_train, y_train, **fit_params)\n",
      "  File \"/home/igor/.local/lib/python3.6/site-packages/sklearn/linear_model/_logistic.py\", line 1304, in fit\n",
      "    solver = _check_solver(self.solver, self.penalty, self.dual)\n",
      "  File \"/home/igor/.local/lib/python3.6/site-packages/sklearn/linear_model/_logistic.py\", line 443, in _check_solver\n",
      "    \"got %s penalty.\" % (solver, penalty))\n",
      "ValueError: Solver newton-cg supports only 'l2' or 'none' penalties, got l1 penalty.\n",
      "\n",
      "  FitFailedWarning)\n",
      "[Parallel(n_jobs=1)]: Done   1 out of   1 | elapsed:    0.0s remaining:    0.0s\n",
      "[Parallel(n_jobs=1)]: Done   2 out of   2 | elapsed:    0.0s remaining:    0.0s\n",
      "[Parallel(n_jobs=1)]: Done   3 out of   3 | elapsed:    0.0s remaining:    0.0s\n",
      "/home/igor/.local/lib/python3.6/site-packages/sklearn/model_selection/_validation.py:552: FitFailedWarning: Estimator fit failed. The score on this train-test partition for these parameters will be set to nan. Details: \n",
      "Traceback (most recent call last):\n",
      "  File \"/home/igor/.local/lib/python3.6/site-packages/sklearn/model_selection/_validation.py\", line 531, in _fit_and_score\n",
      "    estimator.fit(X_train, y_train, **fit_params)\n",
      "  File \"/home/igor/.local/lib/python3.6/site-packages/sklearn/linear_model/_logistic.py\", line 1304, in fit\n",
      "    solver = _check_solver(self.solver, self.penalty, self.dual)\n",
      "  File \"/home/igor/.local/lib/python3.6/site-packages/sklearn/linear_model/_logistic.py\", line 443, in _check_solver\n",
      "    \"got %s penalty.\" % (solver, penalty))\n",
      "ValueError: Solver sag supports only 'l2' or 'none' penalties, got l1 penalty.\n",
      "\n",
      "  FitFailedWarning)\n"
     ]
    },
    {
     "name": "stdout",
     "output_type": "stream",
     "text": [
      "[CV] .... C=0.001, penalty=l1, solver=saga, score=0.769, total=   0.5s\n",
      "[CV] C=0.001, penalty=l1, solver=saga ................................\n",
      "[CV] .... C=0.001, penalty=l1, solver=saga, score=0.760, total=   0.5s\n",
      "[CV] C=0.001, penalty=l1, solver=saga ................................\n",
      "[CV] .... C=0.001, penalty=l1, solver=saga, score=0.774, total=   0.5s\n",
      "[CV] C=0.001, penalty=l1, solver=saga ................................\n",
      "[CV] .... C=0.001, penalty=l1, solver=saga, score=0.768, total=   0.5s\n",
      "[CV] C=0.001, penalty=l1, solver=saga ................................\n",
      "[CV] .... C=0.001, penalty=l1, solver=saga, score=0.756, total=   0.5s\n",
      "[CV] C=0.001, penalty=l1, solver=saga ................................\n",
      "[CV] .... C=0.001, penalty=l1, solver=saga, score=0.763, total=   0.5s\n",
      "[CV] C=0.001, penalty=l1, solver=saga ................................\n",
      "[CV] .... C=0.001, penalty=l1, solver=saga, score=0.764, total=   0.5s\n",
      "[CV] C=0.001, penalty=l1, solver=saga ................................\n",
      "[CV] .... C=0.001, penalty=l1, solver=saga, score=0.765, total=   0.4s\n",
      "[CV] C=0.001, penalty=l1, solver=saga ................................\n",
      "[CV] .... C=0.001, penalty=l1, solver=saga, score=0.768, total=   0.5s\n",
      "[CV] C=0.001, penalty=l1, solver=saga ................................\n",
      "[CV] .... C=0.001, penalty=l1, solver=saga, score=0.755, total=   0.7s\n",
      "[CV] C=0.001, penalty=l1, solver=lbfgs ...............................\n",
      "[CV] ..... C=0.001, penalty=l1, solver=lbfgs, score=nan, total=   0.0s\n",
      "[CV] C=0.001, penalty=l1, solver=lbfgs ...............................\n",
      "[CV] ..... C=0.001, penalty=l1, solver=lbfgs, score=nan, total=   0.0s\n",
      "[CV] C=0.001, penalty=l1, solver=lbfgs ...............................\n",
      "[CV] ..... C=0.001, penalty=l1, solver=lbfgs, score=nan, total=   0.0s\n",
      "[CV] C=0.001, penalty=l1, solver=lbfgs ...............................\n",
      "[CV] ..... C=0.001, penalty=l1, solver=lbfgs, score=nan, total=   0.0s\n",
      "[CV] C=0.001, penalty=l1, solver=lbfgs ...............................\n",
      "[CV] ..... C=0.001, penalty=l1, solver=lbfgs, score=nan, total=   0.0s\n",
      "[CV] C=0.001, penalty=l1, solver=lbfgs ...............................\n",
      "[CV] ..... C=0.001, penalty=l1, solver=lbfgs, score=nan, total=   0.0s\n",
      "[CV] C=0.001, penalty=l1, solver=lbfgs ...............................\n",
      "[CV] ..... C=0.001, penalty=l1, solver=lbfgs, score=nan, total=   0.0s\n",
      "[CV] C=0.001, penalty=l1, solver=lbfgs ...............................\n",
      "[CV] ..... C=0.001, penalty=l1, solver=lbfgs, score=nan, total=   0.0s\n",
      "[CV] C=0.001, penalty=l1, solver=lbfgs ...............................\n",
      "[CV] ..... C=0.001, penalty=l1, solver=lbfgs, score=nan, total=   0.0s\n",
      "[CV] C=0.001, penalty=l1, solver=lbfgs ...............................\n",
      "[CV] ..... C=0.001, penalty=l1, solver=lbfgs, score=nan, total=   0.0s\n",
      "[CV] C=0.001, penalty=l1, solver=liblinear ...........................\n"
     ]
    },
    {
     "name": "stderr",
     "output_type": "stream",
     "text": [
      "/home/igor/.local/lib/python3.6/site-packages/sklearn/model_selection/_validation.py:552: FitFailedWarning: Estimator fit failed. The score on this train-test partition for these parameters will be set to nan. Details: \n",
      "Traceback (most recent call last):\n",
      "  File \"/home/igor/.local/lib/python3.6/site-packages/sklearn/model_selection/_validation.py\", line 531, in _fit_and_score\n",
      "    estimator.fit(X_train, y_train, **fit_params)\n",
      "  File \"/home/igor/.local/lib/python3.6/site-packages/sklearn/linear_model/_logistic.py\", line 1304, in fit\n",
      "    solver = _check_solver(self.solver, self.penalty, self.dual)\n",
      "  File \"/home/igor/.local/lib/python3.6/site-packages/sklearn/linear_model/_logistic.py\", line 443, in _check_solver\n",
      "    \"got %s penalty.\" % (solver, penalty))\n",
      "ValueError: Solver lbfgs supports only 'l2' or 'none' penalties, got l1 penalty.\n",
      "\n",
      "  FitFailedWarning)\n"
     ]
    },
    {
     "name": "stdout",
     "output_type": "stream",
     "text": [
      "[CV]  C=0.001, penalty=l1, solver=liblinear, score=0.764, total=   0.1s\n",
      "[CV] C=0.001, penalty=l1, solver=liblinear ...........................\n",
      "[CV]  C=0.001, penalty=l1, solver=liblinear, score=0.758, total=   0.2s\n",
      "[CV] C=0.001, penalty=l1, solver=liblinear ...........................\n",
      "[CV]  C=0.001, penalty=l1, solver=liblinear, score=0.770, total=   0.2s\n",
      "[CV] C=0.001, penalty=l1, solver=liblinear ...........................\n",
      "[CV]  C=0.001, penalty=l1, solver=liblinear, score=0.762, total=   0.2s\n",
      "[CV] C=0.001, penalty=l1, solver=liblinear ...........................\n",
      "[CV]  C=0.001, penalty=l1, solver=liblinear, score=0.755, total=   0.2s\n",
      "[CV] C=0.001, penalty=l1, solver=liblinear ...........................\n",
      "[CV]  C=0.001, penalty=l1, solver=liblinear, score=0.760, total=   0.2s\n",
      "[CV] C=0.001, penalty=l1, solver=liblinear ...........................\n",
      "[CV]  C=0.001, penalty=l1, solver=liblinear, score=0.762, total=   0.2s\n",
      "[CV] C=0.001, penalty=l1, solver=liblinear ...........................\n",
      "[CV]  C=0.001, penalty=l1, solver=liblinear, score=0.761, total=   0.2s\n",
      "[CV] C=0.001, penalty=l1, solver=liblinear ...........................\n",
      "[CV]  C=0.001, penalty=l1, solver=liblinear, score=0.763, total=   0.2s\n",
      "[CV] C=0.001, penalty=l1, solver=liblinear ...........................\n",
      "[CV]  C=0.001, penalty=l1, solver=liblinear, score=0.752, total=   0.2s\n",
      "[CV] C=0.001, penalty=l2, solver=newton-cg ...........................\n",
      "[CV]  C=0.001, penalty=l2, solver=newton-cg, score=0.775, total=   0.8s\n",
      "[CV] C=0.001, penalty=l2, solver=newton-cg ...........................\n",
      "[CV]  C=0.001, penalty=l2, solver=newton-cg, score=0.772, total=   0.6s\n",
      "[CV] C=0.001, penalty=l2, solver=newton-cg ...........................\n",
      "[CV]  C=0.001, penalty=l2, solver=newton-cg, score=0.782, total=   0.6s\n",
      "[CV] C=0.001, penalty=l2, solver=newton-cg ...........................\n",
      "[CV]  C=0.001, penalty=l2, solver=newton-cg, score=0.774, total=   0.6s\n",
      "[CV] C=0.001, penalty=l2, solver=newton-cg ...........................\n",
      "[CV]  C=0.001, penalty=l2, solver=newton-cg, score=0.769, total=   1.0s\n",
      "[CV] C=0.001, penalty=l2, solver=newton-cg ...........................\n",
      "[CV]  C=0.001, penalty=l2, solver=newton-cg, score=0.775, total=   0.8s\n",
      "[CV] C=0.001, penalty=l2, solver=newton-cg ...........................\n",
      "[CV]  C=0.001, penalty=l2, solver=newton-cg, score=0.769, total=   0.6s\n",
      "[CV] C=0.001, penalty=l2, solver=newton-cg ...........................\n",
      "[CV]  C=0.001, penalty=l2, solver=newton-cg, score=0.773, total=   0.6s\n",
      "[CV] C=0.001, penalty=l2, solver=newton-cg ...........................\n",
      "[CV]  C=0.001, penalty=l2, solver=newton-cg, score=0.776, total=   0.7s\n",
      "[CV] C=0.001, penalty=l2, solver=newton-cg ...........................\n",
      "[CV]  C=0.001, penalty=l2, solver=newton-cg, score=0.763, total=   0.6s\n",
      "[CV] C=0.001, penalty=l2, solver=sag .................................\n",
      "[CV] ..... C=0.001, penalty=l2, solver=sag, score=0.775, total=   0.3s\n",
      "[CV] C=0.001, penalty=l2, solver=sag .................................\n",
      "[CV] ..... C=0.001, penalty=l2, solver=sag, score=0.772, total=   0.3s\n",
      "[CV] C=0.001, penalty=l2, solver=sag .................................\n",
      "[CV] ..... C=0.001, penalty=l2, solver=sag, score=0.782, total=   0.3s\n",
      "[CV] C=0.001, penalty=l2, solver=sag .................................\n",
      "[CV] ..... C=0.001, penalty=l2, solver=sag, score=0.774, total=   0.3s\n",
      "[CV] C=0.001, penalty=l2, solver=sag .................................\n",
      "[CV] ..... C=0.001, penalty=l2, solver=sag, score=0.769, total=   0.3s\n",
      "[CV] C=0.001, penalty=l2, solver=sag .................................\n",
      "[CV] ..... C=0.001, penalty=l2, solver=sag, score=0.775, total=   0.3s\n",
      "[CV] C=0.001, penalty=l2, solver=sag .................................\n",
      "[CV] ..... C=0.001, penalty=l2, solver=sag, score=0.769, total=   0.3s\n",
      "[CV] C=0.001, penalty=l2, solver=sag .................................\n",
      "[CV] ..... C=0.001, penalty=l2, solver=sag, score=0.773, total=   0.3s\n",
      "[CV] C=0.001, penalty=l2, solver=sag .................................\n",
      "[CV] ..... C=0.001, penalty=l2, solver=sag, score=0.776, total=   0.4s\n",
      "[CV] C=0.001, penalty=l2, solver=sag .................................\n",
      "[CV] ..... C=0.001, penalty=l2, solver=sag, score=0.763, total=   0.3s\n",
      "[CV] C=0.001, penalty=l2, solver=saga ................................\n",
      "[CV] .... C=0.001, penalty=l2, solver=saga, score=0.775, total=   0.5s\n",
      "[CV] C=0.001, penalty=l2, solver=saga ................................\n",
      "[CV] .... C=0.001, penalty=l2, solver=saga, score=0.772, total=   0.4s\n",
      "[CV] C=0.001, penalty=l2, solver=saga ................................\n",
      "[CV] .... C=0.001, penalty=l2, solver=saga, score=0.782, total=   0.5s\n",
      "[CV] C=0.001, penalty=l2, solver=saga ................................\n",
      "[CV] .... C=0.001, penalty=l2, solver=saga, score=0.774, total=   0.5s\n",
      "[CV] C=0.001, penalty=l2, solver=saga ................................\n",
      "[CV] .... C=0.001, penalty=l2, solver=saga, score=0.769, total=   0.5s\n",
      "[CV] C=0.001, penalty=l2, solver=saga ................................\n",
      "[CV] .... C=0.001, penalty=l2, solver=saga, score=0.775, total=   0.4s\n",
      "[CV] C=0.001, penalty=l2, solver=saga ................................\n",
      "[CV] .... C=0.001, penalty=l2, solver=saga, score=0.769, total=   0.4s\n",
      "[CV] C=0.001, penalty=l2, solver=saga ................................\n",
      "[CV] .... C=0.001, penalty=l2, solver=saga, score=0.773, total=   0.4s\n",
      "[CV] C=0.001, penalty=l2, solver=saga ................................\n",
      "[CV] .... C=0.001, penalty=l2, solver=saga, score=0.776, total=   0.4s\n",
      "[CV] C=0.001, penalty=l2, solver=saga ................................\n",
      "[CV] .... C=0.001, penalty=l2, solver=saga, score=0.763, total=   0.5s\n",
      "[CV] C=0.001, penalty=l2, solver=lbfgs ...............................\n",
      "[CV] ... C=0.001, penalty=l2, solver=lbfgs, score=0.775, total=   0.3s\n",
      "[CV] C=0.001, penalty=l2, solver=lbfgs ...............................\n",
      "[CV] ... C=0.001, penalty=l2, solver=lbfgs, score=0.772, total=   0.3s\n",
      "[CV] C=0.001, penalty=l2, solver=lbfgs ...............................\n",
      "[CV] ... C=0.001, penalty=l2, solver=lbfgs, score=0.782, total=   0.3s\n",
      "[CV] C=0.001, penalty=l2, solver=lbfgs ...............................\n",
      "[CV] ... C=0.001, penalty=l2, solver=lbfgs, score=0.774, total=   0.3s\n",
      "[CV] C=0.001, penalty=l2, solver=lbfgs ...............................\n",
      "[CV] ... C=0.001, penalty=l2, solver=lbfgs, score=0.769, total=   0.3s\n",
      "[CV] C=0.001, penalty=l2, solver=lbfgs ...............................\n",
      "[CV] ... C=0.001, penalty=l2, solver=lbfgs, score=0.775, total=   0.3s\n",
      "[CV] C=0.001, penalty=l2, solver=lbfgs ...............................\n",
      "[CV] ... C=0.001, penalty=l2, solver=lbfgs, score=0.769, total=   0.3s\n",
      "[CV] C=0.001, penalty=l2, solver=lbfgs ...............................\n",
      "[CV] ... C=0.001, penalty=l2, solver=lbfgs, score=0.773, total=   0.2s\n",
      "[CV] C=0.001, penalty=l2, solver=lbfgs ...............................\n",
      "[CV] ... C=0.001, penalty=l2, solver=lbfgs, score=0.776, total=   0.2s\n",
      "[CV] C=0.001, penalty=l2, solver=lbfgs ...............................\n",
      "[CV] ... C=0.001, penalty=l2, solver=lbfgs, score=0.763, total=   0.2s\n",
      "[CV] C=0.001, penalty=l2, solver=liblinear ...........................\n",
      "[CV]  C=0.001, penalty=l2, solver=liblinear, score=0.775, total=   0.4s\n",
      "[CV] C=0.001, penalty=l2, solver=liblinear ...........................\n",
      "[CV]  C=0.001, penalty=l2, solver=liblinear, score=0.771, total=   0.4s\n",
      "[CV] C=0.001, penalty=l2, solver=liblinear ...........................\n",
      "[CV]  C=0.001, penalty=l2, solver=liblinear, score=0.782, total=   0.3s\n",
      "[CV] C=0.001, penalty=l2, solver=liblinear ...........................\n",
      "[CV]  C=0.001, penalty=l2, solver=liblinear, score=0.775, total=   0.3s\n",
      "[CV] C=0.001, penalty=l2, solver=liblinear ...........................\n",
      "[CV]  C=0.001, penalty=l2, solver=liblinear, score=0.769, total=   0.3s\n",
      "[CV] C=0.001, penalty=l2, solver=liblinear ...........................\n",
      "[CV]  C=0.001, penalty=l2, solver=liblinear, score=0.775, total=   0.3s\n",
      "[CV] C=0.001, penalty=l2, solver=liblinear ...........................\n",
      "[CV]  C=0.001, penalty=l2, solver=liblinear, score=0.769, total=   0.3s\n",
      "[CV] C=0.001, penalty=l2, solver=liblinear ...........................\n",
      "[CV]  C=0.001, penalty=l2, solver=liblinear, score=0.771, total=   0.3s\n",
      "[CV] C=0.001, penalty=l2, solver=liblinear ...........................\n"
     ]
    },
    {
     "name": "stdout",
     "output_type": "stream",
     "text": [
      "[CV]  C=0.001, penalty=l2, solver=liblinear, score=0.775, total=   0.3s\n",
      "[CV] C=0.001, penalty=l2, solver=liblinear ...........................\n",
      "[CV]  C=0.001, penalty=l2, solver=liblinear, score=0.763, total=   0.3s\n",
      "[CV] C=0.01, penalty=l1, solver=newton-cg ............................\n",
      "[CV] .. C=0.01, penalty=l1, solver=newton-cg, score=nan, total=   0.0s\n",
      "[CV] C=0.01, penalty=l1, solver=newton-cg ............................\n",
      "[CV] .. C=0.01, penalty=l1, solver=newton-cg, score=nan, total=   0.0s\n",
      "[CV] C=0.01, penalty=l1, solver=newton-cg ............................\n",
      "[CV] .. C=0.01, penalty=l1, solver=newton-cg, score=nan, total=   0.0s\n",
      "[CV] C=0.01, penalty=l1, solver=newton-cg ............................\n",
      "[CV] .. C=0.01, penalty=l1, solver=newton-cg, score=nan, total=   0.0s\n",
      "[CV] C=0.01, penalty=l1, solver=newton-cg ............................\n",
      "[CV] .. C=0.01, penalty=l1, solver=newton-cg, score=nan, total=   0.0s\n",
      "[CV] C=0.01, penalty=l1, solver=newton-cg ............................\n",
      "[CV] .. C=0.01, penalty=l1, solver=newton-cg, score=nan, total=   0.0s\n",
      "[CV] C=0.01, penalty=l1, solver=newton-cg ............................\n",
      "[CV] .. C=0.01, penalty=l1, solver=newton-cg, score=nan, total=   0.0s\n",
      "[CV] C=0.01, penalty=l1, solver=newton-cg ............................\n",
      "[CV] .. C=0.01, penalty=l1, solver=newton-cg, score=nan, total=   0.0s\n",
      "[CV] C=0.01, penalty=l1, solver=newton-cg ............................\n",
      "[CV] .. C=0.01, penalty=l1, solver=newton-cg, score=nan, total=   0.0s\n",
      "[CV] C=0.01, penalty=l1, solver=newton-cg ............................\n",
      "[CV] .. C=0.01, penalty=l1, solver=newton-cg, score=nan, total=   0.0s\n",
      "[CV] C=0.01, penalty=l1, solver=sag ..................................\n",
      "[CV] ........ C=0.01, penalty=l1, solver=sag, score=nan, total=   0.0s\n",
      "[CV] C=0.01, penalty=l1, solver=sag ..................................\n",
      "[CV] ........ C=0.01, penalty=l1, solver=sag, score=nan, total=   0.0s\n",
      "[CV] C=0.01, penalty=l1, solver=sag ..................................\n",
      "[CV] ........ C=0.01, penalty=l1, solver=sag, score=nan, total=   0.0s\n",
      "[CV] C=0.01, penalty=l1, solver=sag ..................................\n",
      "[CV] ........ C=0.01, penalty=l1, solver=sag, score=nan, total=   0.0s\n",
      "[CV] C=0.01, penalty=l1, solver=sag ..................................\n",
      "[CV] ........ C=0.01, penalty=l1, solver=sag, score=nan, total=   0.0s\n",
      "[CV] C=0.01, penalty=l1, solver=sag ..................................\n",
      "[CV] ........ C=0.01, penalty=l1, solver=sag, score=nan, total=   0.0s\n",
      "[CV] C=0.01, penalty=l1, solver=sag ..................................\n",
      "[CV] ........ C=0.01, penalty=l1, solver=sag, score=nan, total=   0.0s\n",
      "[CV] C=0.01, penalty=l1, solver=sag ..................................\n",
      "[CV] ........ C=0.01, penalty=l1, solver=sag, score=nan, total=   0.0s\n",
      "[CV] C=0.01, penalty=l1, solver=sag ..................................\n",
      "[CV] ........ C=0.01, penalty=l1, solver=sag, score=nan, total=   0.0s\n",
      "[CV] C=0.01, penalty=l1, solver=sag ..................................\n",
      "[CV] ........ C=0.01, penalty=l1, solver=sag, score=nan, total=   0.0s\n",
      "[CV] C=0.01, penalty=l1, solver=saga .................................\n"
     ]
    },
    {
     "name": "stderr",
     "output_type": "stream",
     "text": [
      "/home/igor/.local/lib/python3.6/site-packages/sklearn/model_selection/_validation.py:552: FitFailedWarning: Estimator fit failed. The score on this train-test partition for these parameters will be set to nan. Details: \n",
      "Traceback (most recent call last):\n",
      "  File \"/home/igor/.local/lib/python3.6/site-packages/sklearn/model_selection/_validation.py\", line 531, in _fit_and_score\n",
      "    estimator.fit(X_train, y_train, **fit_params)\n",
      "  File \"/home/igor/.local/lib/python3.6/site-packages/sklearn/linear_model/_logistic.py\", line 1304, in fit\n",
      "    solver = _check_solver(self.solver, self.penalty, self.dual)\n",
      "  File \"/home/igor/.local/lib/python3.6/site-packages/sklearn/linear_model/_logistic.py\", line 443, in _check_solver\n",
      "    \"got %s penalty.\" % (solver, penalty))\n",
      "ValueError: Solver newton-cg supports only 'l2' or 'none' penalties, got l1 penalty.\n",
      "\n",
      "  FitFailedWarning)\n",
      "/home/igor/.local/lib/python3.6/site-packages/sklearn/model_selection/_validation.py:552: FitFailedWarning: Estimator fit failed. The score on this train-test partition for these parameters will be set to nan. Details: \n",
      "Traceback (most recent call last):\n",
      "  File \"/home/igor/.local/lib/python3.6/site-packages/sklearn/model_selection/_validation.py\", line 531, in _fit_and_score\n",
      "    estimator.fit(X_train, y_train, **fit_params)\n",
      "  File \"/home/igor/.local/lib/python3.6/site-packages/sklearn/linear_model/_logistic.py\", line 1304, in fit\n",
      "    solver = _check_solver(self.solver, self.penalty, self.dual)\n",
      "  File \"/home/igor/.local/lib/python3.6/site-packages/sklearn/linear_model/_logistic.py\", line 443, in _check_solver\n",
      "    \"got %s penalty.\" % (solver, penalty))\n",
      "ValueError: Solver sag supports only 'l2' or 'none' penalties, got l1 penalty.\n",
      "\n",
      "  FitFailedWarning)\n"
     ]
    },
    {
     "name": "stdout",
     "output_type": "stream",
     "text": [
      "[CV] ..... C=0.01, penalty=l1, solver=saga, score=0.779, total=   0.5s\n",
      "[CV] C=0.01, penalty=l1, solver=saga .................................\n",
      "[CV] ..... C=0.01, penalty=l1, solver=saga, score=0.775, total=   0.5s\n",
      "[CV] C=0.01, penalty=l1, solver=saga .................................\n",
      "[CV] ..... C=0.01, penalty=l1, solver=saga, score=0.784, total=   0.5s\n",
      "[CV] C=0.01, penalty=l1, solver=saga .................................\n",
      "[CV] ..... C=0.01, penalty=l1, solver=saga, score=0.776, total=   0.5s\n",
      "[CV] C=0.01, penalty=l1, solver=saga .................................\n",
      "[CV] ..... C=0.01, penalty=l1, solver=saga, score=0.772, total=   0.5s\n",
      "[CV] C=0.01, penalty=l1, solver=saga .................................\n",
      "[CV] ..... C=0.01, penalty=l1, solver=saga, score=0.774, total=   0.5s\n",
      "[CV] C=0.01, penalty=l1, solver=saga .................................\n",
      "[CV] ..... C=0.01, penalty=l1, solver=saga, score=0.770, total=   0.5s\n",
      "[CV] C=0.01, penalty=l1, solver=saga .................................\n",
      "[CV] ..... C=0.01, penalty=l1, solver=saga, score=0.779, total=   0.5s\n",
      "[CV] C=0.01, penalty=l1, solver=saga .................................\n",
      "[CV] ..... C=0.01, penalty=l1, solver=saga, score=0.778, total=   0.5s\n",
      "[CV] C=0.01, penalty=l1, solver=saga .................................\n",
      "[CV] ..... C=0.01, penalty=l1, solver=saga, score=0.763, total=   0.5s\n",
      "[CV] C=0.01, penalty=l1, solver=lbfgs ................................\n",
      "[CV] ...... C=0.01, penalty=l1, solver=lbfgs, score=nan, total=   0.0s\n",
      "[CV] C=0.01, penalty=l1, solver=lbfgs ................................\n",
      "[CV] ...... C=0.01, penalty=l1, solver=lbfgs, score=nan, total=   0.0s\n",
      "[CV] C=0.01, penalty=l1, solver=lbfgs ................................\n",
      "[CV] ...... C=0.01, penalty=l1, solver=lbfgs, score=nan, total=   0.0s\n",
      "[CV] C=0.01, penalty=l1, solver=lbfgs ................................\n",
      "[CV] ...... C=0.01, penalty=l1, solver=lbfgs, score=nan, total=   0.0s\n",
      "[CV] C=0.01, penalty=l1, solver=lbfgs ................................\n",
      "[CV] ...... C=0.01, penalty=l1, solver=lbfgs, score=nan, total=   0.0s\n",
      "[CV] C=0.01, penalty=l1, solver=lbfgs ................................\n",
      "[CV] ...... C=0.01, penalty=l1, solver=lbfgs, score=nan, total=   0.0s\n",
      "[CV] C=0.01, penalty=l1, solver=lbfgs ................................\n",
      "[CV] ...... C=0.01, penalty=l1, solver=lbfgs, score=nan, total=   0.0s\n",
      "[CV] C=0.01, penalty=l1, solver=lbfgs ................................\n",
      "[CV] ...... C=0.01, penalty=l1, solver=lbfgs, score=nan, total=   0.0s\n",
      "[CV] C=0.01, penalty=l1, solver=lbfgs ................................\n",
      "[CV] ...... C=0.01, penalty=l1, solver=lbfgs, score=nan, total=   0.0s\n",
      "[CV] C=0.01, penalty=l1, solver=lbfgs ................................\n",
      "[CV] ...... C=0.01, penalty=l1, solver=lbfgs, score=nan, total=   0.0s\n",
      "[CV] C=0.01, penalty=l1, solver=liblinear ............................\n"
     ]
    },
    {
     "name": "stderr",
     "output_type": "stream",
     "text": [
      "/home/igor/.local/lib/python3.6/site-packages/sklearn/model_selection/_validation.py:552: FitFailedWarning: Estimator fit failed. The score on this train-test partition for these parameters will be set to nan. Details: \n",
      "Traceback (most recent call last):\n",
      "  File \"/home/igor/.local/lib/python3.6/site-packages/sklearn/model_selection/_validation.py\", line 531, in _fit_and_score\n",
      "    estimator.fit(X_train, y_train, **fit_params)\n",
      "  File \"/home/igor/.local/lib/python3.6/site-packages/sklearn/linear_model/_logistic.py\", line 1304, in fit\n",
      "    solver = _check_solver(self.solver, self.penalty, self.dual)\n",
      "  File \"/home/igor/.local/lib/python3.6/site-packages/sklearn/linear_model/_logistic.py\", line 443, in _check_solver\n",
      "    \"got %s penalty.\" % (solver, penalty))\n",
      "ValueError: Solver lbfgs supports only 'l2' or 'none' penalties, got l1 penalty.\n",
      "\n",
      "  FitFailedWarning)\n"
     ]
    },
    {
     "name": "stdout",
     "output_type": "stream",
     "text": [
      "[CV]  C=0.01, penalty=l1, solver=liblinear, score=0.779, total=   0.3s\n",
      "[CV] C=0.01, penalty=l1, solver=liblinear ............................\n",
      "[CV]  C=0.01, penalty=l1, solver=liblinear, score=0.776, total=   0.2s\n",
      "[CV] C=0.01, penalty=l1, solver=liblinear ............................\n",
      "[CV]  C=0.01, penalty=l1, solver=liblinear, score=0.783, total=   0.3s\n",
      "[CV] C=0.01, penalty=l1, solver=liblinear ............................\n",
      "[CV]  C=0.01, penalty=l1, solver=liblinear, score=0.776, total=   0.3s\n",
      "[CV] C=0.01, penalty=l1, solver=liblinear ............................\n",
      "[CV]  C=0.01, penalty=l1, solver=liblinear, score=0.773, total=   0.3s\n",
      "[CV] C=0.01, penalty=l1, solver=liblinear ............................\n",
      "[CV]  C=0.01, penalty=l1, solver=liblinear, score=0.774, total=   0.2s\n",
      "[CV] C=0.01, penalty=l1, solver=liblinear ............................\n",
      "[CV]  C=0.01, penalty=l1, solver=liblinear, score=0.768, total=   0.3s\n",
      "[CV] C=0.01, penalty=l1, solver=liblinear ............................\n",
      "[CV]  C=0.01, penalty=l1, solver=liblinear, score=0.779, total=   0.3s\n",
      "[CV] C=0.01, penalty=l1, solver=liblinear ............................\n",
      "[CV]  C=0.01, penalty=l1, solver=liblinear, score=0.778, total=   0.4s\n",
      "[CV] C=0.01, penalty=l1, solver=liblinear ............................\n",
      "[CV]  C=0.01, penalty=l1, solver=liblinear, score=0.764, total=   0.3s\n",
      "[CV] C=0.01, penalty=l2, solver=newton-cg ............................\n",
      "[CV]  C=0.01, penalty=l2, solver=newton-cg, score=0.780, total=   0.7s\n",
      "[CV] C=0.01, penalty=l2, solver=newton-cg ............................\n",
      "[CV]  C=0.01, penalty=l2, solver=newton-cg, score=0.778, total=   1.1s\n",
      "[CV] C=0.01, penalty=l2, solver=newton-cg ............................\n",
      "[CV]  C=0.01, penalty=l2, solver=newton-cg, score=0.785, total=   0.6s\n",
      "[CV] C=0.01, penalty=l2, solver=newton-cg ............................\n",
      "[CV]  C=0.01, penalty=l2, solver=newton-cg, score=0.774, total=   0.6s\n",
      "[CV] C=0.01, penalty=l2, solver=newton-cg ............................\n",
      "[CV]  C=0.01, penalty=l2, solver=newton-cg, score=0.771, total=   0.7s\n",
      "[CV] C=0.01, penalty=l2, solver=newton-cg ............................\n",
      "[CV]  C=0.01, penalty=l2, solver=newton-cg, score=0.777, total=   0.6s\n",
      "[CV] C=0.01, penalty=l2, solver=newton-cg ............................\n",
      "[CV]  C=0.01, penalty=l2, solver=newton-cg, score=0.770, total=   0.7s\n",
      "[CV] C=0.01, penalty=l2, solver=newton-cg ............................\n",
      "[CV]  C=0.01, penalty=l2, solver=newton-cg, score=0.777, total=   0.6s\n",
      "[CV] C=0.01, penalty=l2, solver=newton-cg ............................\n",
      "[CV]  C=0.01, penalty=l2, solver=newton-cg, score=0.778, total=   0.7s\n",
      "[CV] C=0.01, penalty=l2, solver=newton-cg ............................\n",
      "[CV]  C=0.01, penalty=l2, solver=newton-cg, score=0.763, total=   0.7s\n",
      "[CV] C=0.01, penalty=l2, solver=sag ..................................\n",
      "[CV] ...... C=0.01, penalty=l2, solver=sag, score=0.780, total=   0.4s\n",
      "[CV] C=0.01, penalty=l2, solver=sag ..................................\n",
      "[CV] ...... C=0.01, penalty=l2, solver=sag, score=0.778, total=   0.4s\n",
      "[CV] C=0.01, penalty=l2, solver=sag ..................................\n",
      "[CV] ...... C=0.01, penalty=l2, solver=sag, score=0.785, total=   0.4s\n",
      "[CV] C=0.01, penalty=l2, solver=sag ..................................\n",
      "[CV] ...... C=0.01, penalty=l2, solver=sag, score=0.774, total=   0.4s\n",
      "[CV] C=0.01, penalty=l2, solver=sag ..................................\n",
      "[CV] ...... C=0.01, penalty=l2, solver=sag, score=0.771, total=   0.4s\n",
      "[CV] C=0.01, penalty=l2, solver=sag ..................................\n",
      "[CV] ...... C=0.01, penalty=l2, solver=sag, score=0.777, total=   0.4s\n",
      "[CV] C=0.01, penalty=l2, solver=sag ..................................\n",
      "[CV] ...... C=0.01, penalty=l2, solver=sag, score=0.770, total=   0.4s\n",
      "[CV] C=0.01, penalty=l2, solver=sag ..................................\n",
      "[CV] ...... C=0.01, penalty=l2, solver=sag, score=0.777, total=   0.4s\n",
      "[CV] C=0.01, penalty=l2, solver=sag ..................................\n",
      "[CV] ...... C=0.01, penalty=l2, solver=sag, score=0.778, total=   0.4s\n",
      "[CV] C=0.01, penalty=l2, solver=sag ..................................\n",
      "[CV] ...... C=0.01, penalty=l2, solver=sag, score=0.763, total=   0.4s\n",
      "[CV] C=0.01, penalty=l2, solver=saga .................................\n",
      "[CV] ..... C=0.01, penalty=l2, solver=saga, score=0.780, total=   0.5s\n",
      "[CV] C=0.01, penalty=l2, solver=saga .................................\n",
      "[CV] ..... C=0.01, penalty=l2, solver=saga, score=0.778, total=   0.4s\n",
      "[CV] C=0.01, penalty=l2, solver=saga .................................\n",
      "[CV] ..... C=0.01, penalty=l2, solver=saga, score=0.785, total=   0.4s\n",
      "[CV] C=0.01, penalty=l2, solver=saga .................................\n",
      "[CV] ..... C=0.01, penalty=l2, solver=saga, score=0.774, total=   0.4s\n",
      "[CV] C=0.01, penalty=l2, solver=saga .................................\n",
      "[CV] ..... C=0.01, penalty=l2, solver=saga, score=0.771, total=   0.4s\n",
      "[CV] C=0.01, penalty=l2, solver=saga .................................\n",
      "[CV] ..... C=0.01, penalty=l2, solver=saga, score=0.777, total=   0.4s\n",
      "[CV] C=0.01, penalty=l2, solver=saga .................................\n",
      "[CV] ..... C=0.01, penalty=l2, solver=saga, score=0.770, total=   0.4s\n",
      "[CV] C=0.01, penalty=l2, solver=saga .................................\n",
      "[CV] ..... C=0.01, penalty=l2, solver=saga, score=0.777, total=   0.5s\n",
      "[CV] C=0.01, penalty=l2, solver=saga .................................\n",
      "[CV] ..... C=0.01, penalty=l2, solver=saga, score=0.778, total=   0.4s\n",
      "[CV] C=0.01, penalty=l2, solver=saga .................................\n",
      "[CV] ..... C=0.01, penalty=l2, solver=saga, score=0.763, total=   0.4s\n",
      "[CV] C=0.01, penalty=l2, solver=lbfgs ................................\n",
      "[CV] .... C=0.01, penalty=l2, solver=lbfgs, score=0.780, total=   0.3s\n",
      "[CV] C=0.01, penalty=l2, solver=lbfgs ................................\n",
      "[CV] .... C=0.01, penalty=l2, solver=lbfgs, score=0.778, total=   0.3s\n",
      "[CV] C=0.01, penalty=l2, solver=lbfgs ................................\n",
      "[CV] .... C=0.01, penalty=l2, solver=lbfgs, score=0.785, total=   0.3s\n",
      "[CV] C=0.01, penalty=l2, solver=lbfgs ................................\n",
      "[CV] .... C=0.01, penalty=l2, solver=lbfgs, score=0.774, total=   0.3s\n",
      "[CV] C=0.01, penalty=l2, solver=lbfgs ................................\n",
      "[CV] .... C=0.01, penalty=l2, solver=lbfgs, score=0.771, total=   0.3s\n",
      "[CV] C=0.01, penalty=l2, solver=lbfgs ................................\n",
      "[CV] .... C=0.01, penalty=l2, solver=lbfgs, score=0.777, total=   0.3s\n",
      "[CV] C=0.01, penalty=l2, solver=lbfgs ................................\n",
      "[CV] .... C=0.01, penalty=l2, solver=lbfgs, score=0.770, total=   0.3s\n",
      "[CV] C=0.01, penalty=l2, solver=lbfgs ................................\n",
      "[CV] .... C=0.01, penalty=l2, solver=lbfgs, score=0.777, total=   0.3s\n",
      "[CV] C=0.01, penalty=l2, solver=lbfgs ................................\n",
      "[CV] .... C=0.01, penalty=l2, solver=lbfgs, score=0.778, total=   0.3s\n",
      "[CV] C=0.01, penalty=l2, solver=lbfgs ................................\n",
      "[CV] .... C=0.01, penalty=l2, solver=lbfgs, score=0.763, total=   0.3s\n",
      "[CV] C=0.01, penalty=l2, solver=liblinear ............................\n",
      "[CV]  C=0.01, penalty=l2, solver=liblinear, score=0.780, total=   0.4s\n",
      "[CV] C=0.01, penalty=l2, solver=liblinear ............................\n",
      "[CV]  C=0.01, penalty=l2, solver=liblinear, score=0.778, total=   0.4s\n",
      "[CV] C=0.01, penalty=l2, solver=liblinear ............................\n",
      "[CV]  C=0.01, penalty=l2, solver=liblinear, score=0.786, total=   0.4s\n",
      "[CV] C=0.01, penalty=l2, solver=liblinear ............................\n",
      "[CV]  C=0.01, penalty=l2, solver=liblinear, score=0.774, total=   0.4s\n",
      "[CV] C=0.01, penalty=l2, solver=liblinear ............................\n",
      "[CV]  C=0.01, penalty=l2, solver=liblinear, score=0.771, total=   0.4s\n",
      "[CV] C=0.01, penalty=l2, solver=liblinear ............................\n",
      "[CV]  C=0.01, penalty=l2, solver=liblinear, score=0.777, total=   0.4s\n",
      "[CV] C=0.01, penalty=l2, solver=liblinear ............................\n",
      "[CV]  C=0.01, penalty=l2, solver=liblinear, score=0.770, total=   0.4s\n",
      "[CV] C=0.01, penalty=l2, solver=liblinear ............................\n",
      "[CV]  C=0.01, penalty=l2, solver=liblinear, score=0.777, total=   0.4s\n",
      "[CV] C=0.01, penalty=l2, solver=liblinear ............................\n"
     ]
    },
    {
     "name": "stdout",
     "output_type": "stream",
     "text": [
      "[CV]  C=0.01, penalty=l2, solver=liblinear, score=0.778, total=   0.4s\n",
      "[CV] C=0.01, penalty=l2, solver=liblinear ............................\n",
      "[CV]  C=0.01, penalty=l2, solver=liblinear, score=0.763, total=   0.4s\n",
      "[CV] C=0.1, penalty=l1, solver=newton-cg .............................\n",
      "[CV] ... C=0.1, penalty=l1, solver=newton-cg, score=nan, total=   0.0s\n",
      "[CV] C=0.1, penalty=l1, solver=newton-cg .............................\n",
      "[CV] ... C=0.1, penalty=l1, solver=newton-cg, score=nan, total=   0.0s\n",
      "[CV] C=0.1, penalty=l1, solver=newton-cg .............................\n",
      "[CV] ... C=0.1, penalty=l1, solver=newton-cg, score=nan, total=   0.0s\n",
      "[CV] C=0.1, penalty=l1, solver=newton-cg .............................\n",
      "[CV] ... C=0.1, penalty=l1, solver=newton-cg, score=nan, total=   0.0s\n",
      "[CV] C=0.1, penalty=l1, solver=newton-cg .............................\n",
      "[CV] ... C=0.1, penalty=l1, solver=newton-cg, score=nan, total=   0.0s\n",
      "[CV] C=0.1, penalty=l1, solver=newton-cg .............................\n",
      "[CV] ... C=0.1, penalty=l1, solver=newton-cg, score=nan, total=   0.0s\n",
      "[CV] C=0.1, penalty=l1, solver=newton-cg .............................\n",
      "[CV] ... C=0.1, penalty=l1, solver=newton-cg, score=nan, total=   0.0s\n",
      "[CV] C=0.1, penalty=l1, solver=newton-cg .............................\n",
      "[CV] ... C=0.1, penalty=l1, solver=newton-cg, score=nan, total=   0.0s\n",
      "[CV] C=0.1, penalty=l1, solver=newton-cg .............................\n",
      "[CV] ... C=0.1, penalty=l1, solver=newton-cg, score=nan, total=   0.0s\n",
      "[CV] C=0.1, penalty=l1, solver=newton-cg .............................\n",
      "[CV] ... C=0.1, penalty=l1, solver=newton-cg, score=nan, total=   0.0s\n",
      "[CV] C=0.1, penalty=l1, solver=sag ...................................\n",
      "[CV] ......... C=0.1, penalty=l1, solver=sag, score=nan, total=   0.0s\n",
      "[CV] C=0.1, penalty=l1, solver=sag ...................................\n",
      "[CV] ......... C=0.1, penalty=l1, solver=sag, score=nan, total=   0.0s\n",
      "[CV] C=0.1, penalty=l1, solver=sag ...................................\n",
      "[CV] ......... C=0.1, penalty=l1, solver=sag, score=nan, total=   0.0s\n",
      "[CV] C=0.1, penalty=l1, solver=sag ...................................\n",
      "[CV] ......... C=0.1, penalty=l1, solver=sag, score=nan, total=   0.0s\n",
      "[CV] C=0.1, penalty=l1, solver=sag ...................................\n",
      "[CV] ......... C=0.1, penalty=l1, solver=sag, score=nan, total=   0.0s\n",
      "[CV] C=0.1, penalty=l1, solver=sag ...................................\n",
      "[CV] ......... C=0.1, penalty=l1, solver=sag, score=nan, total=   0.0s\n",
      "[CV] C=0.1, penalty=l1, solver=sag ...................................\n",
      "[CV] ......... C=0.1, penalty=l1, solver=sag, score=nan, total=   0.0s\n",
      "[CV] C=0.1, penalty=l1, solver=sag ...................................\n",
      "[CV] ......... C=0.1, penalty=l1, solver=sag, score=nan, total=   0.0s\n",
      "[CV] C=0.1, penalty=l1, solver=sag ...................................\n",
      "[CV] ......... C=0.1, penalty=l1, solver=sag, score=nan, total=   0.0s\n",
      "[CV] C=0.1, penalty=l1, solver=sag ...................................\n",
      "[CV] ......... C=0.1, penalty=l1, solver=sag, score=nan, total=   0.0s\n",
      "[CV] C=0.1, penalty=l1, solver=saga ..................................\n"
     ]
    },
    {
     "name": "stderr",
     "output_type": "stream",
     "text": [
      "/home/igor/.local/lib/python3.6/site-packages/sklearn/model_selection/_validation.py:552: FitFailedWarning: Estimator fit failed. The score on this train-test partition for these parameters will be set to nan. Details: \n",
      "Traceback (most recent call last):\n",
      "  File \"/home/igor/.local/lib/python3.6/site-packages/sklearn/model_selection/_validation.py\", line 531, in _fit_and_score\n",
      "    estimator.fit(X_train, y_train, **fit_params)\n",
      "  File \"/home/igor/.local/lib/python3.6/site-packages/sklearn/linear_model/_logistic.py\", line 1304, in fit\n",
      "    solver = _check_solver(self.solver, self.penalty, self.dual)\n",
      "  File \"/home/igor/.local/lib/python3.6/site-packages/sklearn/linear_model/_logistic.py\", line 443, in _check_solver\n",
      "    \"got %s penalty.\" % (solver, penalty))\n",
      "ValueError: Solver newton-cg supports only 'l2' or 'none' penalties, got l1 penalty.\n",
      "\n",
      "  FitFailedWarning)\n",
      "/home/igor/.local/lib/python3.6/site-packages/sklearn/model_selection/_validation.py:552: FitFailedWarning: Estimator fit failed. The score on this train-test partition for these parameters will be set to nan. Details: \n",
      "Traceback (most recent call last):\n",
      "  File \"/home/igor/.local/lib/python3.6/site-packages/sklearn/model_selection/_validation.py\", line 531, in _fit_and_score\n",
      "    estimator.fit(X_train, y_train, **fit_params)\n",
      "  File \"/home/igor/.local/lib/python3.6/site-packages/sklearn/linear_model/_logistic.py\", line 1304, in fit\n",
      "    solver = _check_solver(self.solver, self.penalty, self.dual)\n",
      "  File \"/home/igor/.local/lib/python3.6/site-packages/sklearn/linear_model/_logistic.py\", line 443, in _check_solver\n",
      "    \"got %s penalty.\" % (solver, penalty))\n",
      "ValueError: Solver sag supports only 'l2' or 'none' penalties, got l1 penalty.\n",
      "\n",
      "  FitFailedWarning)\n"
     ]
    },
    {
     "name": "stdout",
     "output_type": "stream",
     "text": [
      "[CV] ...... C=0.1, penalty=l1, solver=saga, score=0.780, total=   0.5s\n",
      "[CV] C=0.1, penalty=l1, solver=saga ..................................\n",
      "[CV] ...... C=0.1, penalty=l1, solver=saga, score=0.778, total=   0.5s\n",
      "[CV] C=0.1, penalty=l1, solver=saga ..................................\n",
      "[CV] ...... C=0.1, penalty=l1, solver=saga, score=0.786, total=   0.5s\n",
      "[CV] C=0.1, penalty=l1, solver=saga ..................................\n",
      "[CV] ...... C=0.1, penalty=l1, solver=saga, score=0.776, total=   0.5s\n",
      "[CV] C=0.1, penalty=l1, solver=saga ..................................\n",
      "[CV] ...... C=0.1, penalty=l1, solver=saga, score=0.770, total=   0.5s\n",
      "[CV] C=0.1, penalty=l1, solver=saga ..................................\n",
      "[CV] ...... C=0.1, penalty=l1, solver=saga, score=0.775, total=   0.5s\n",
      "[CV] C=0.1, penalty=l1, solver=saga ..................................\n",
      "[CV] ...... C=0.1, penalty=l1, solver=saga, score=0.768, total=   0.5s\n",
      "[CV] C=0.1, penalty=l1, solver=saga ..................................\n",
      "[CV] ...... C=0.1, penalty=l1, solver=saga, score=0.777, total=   0.5s\n",
      "[CV] C=0.1, penalty=l1, solver=saga ..................................\n",
      "[CV] ...... C=0.1, penalty=l1, solver=saga, score=0.780, total=   0.5s\n",
      "[CV] C=0.1, penalty=l1, solver=saga ..................................\n",
      "[CV] ...... C=0.1, penalty=l1, solver=saga, score=0.762, total=   0.5s\n",
      "[CV] C=0.1, penalty=l1, solver=lbfgs .................................\n",
      "[CV] ....... C=0.1, penalty=l1, solver=lbfgs, score=nan, total=   0.0s\n",
      "[CV] C=0.1, penalty=l1, solver=lbfgs .................................\n",
      "[CV] ....... C=0.1, penalty=l1, solver=lbfgs, score=nan, total=   0.0s\n",
      "[CV] C=0.1, penalty=l1, solver=lbfgs .................................\n",
      "[CV] ....... C=0.1, penalty=l1, solver=lbfgs, score=nan, total=   0.0s\n",
      "[CV] C=0.1, penalty=l1, solver=lbfgs .................................\n",
      "[CV] ....... C=0.1, penalty=l1, solver=lbfgs, score=nan, total=   0.0s\n",
      "[CV] C=0.1, penalty=l1, solver=lbfgs .................................\n",
      "[CV] ....... C=0.1, penalty=l1, solver=lbfgs, score=nan, total=   0.0s\n",
      "[CV] C=0.1, penalty=l1, solver=lbfgs .................................\n",
      "[CV] ....... C=0.1, penalty=l1, solver=lbfgs, score=nan, total=   0.0s\n",
      "[CV] C=0.1, penalty=l1, solver=lbfgs .................................\n",
      "[CV] ....... C=0.1, penalty=l1, solver=lbfgs, score=nan, total=   0.0s\n",
      "[CV] C=0.1, penalty=l1, solver=lbfgs .................................\n",
      "[CV] ....... C=0.1, penalty=l1, solver=lbfgs, score=nan, total=   0.0s\n",
      "[CV] C=0.1, penalty=l1, solver=lbfgs .................................\n",
      "[CV] ....... C=0.1, penalty=l1, solver=lbfgs, score=nan, total=   0.0s\n",
      "[CV] C=0.1, penalty=l1, solver=lbfgs .................................\n",
      "[CV] ....... C=0.1, penalty=l1, solver=lbfgs, score=nan, total=   0.0s\n",
      "[CV] C=0.1, penalty=l1, solver=liblinear .............................\n"
     ]
    },
    {
     "name": "stderr",
     "output_type": "stream",
     "text": [
      "/home/igor/.local/lib/python3.6/site-packages/sklearn/model_selection/_validation.py:552: FitFailedWarning: Estimator fit failed. The score on this train-test partition for these parameters will be set to nan. Details: \n",
      "Traceback (most recent call last):\n",
      "  File \"/home/igor/.local/lib/python3.6/site-packages/sklearn/model_selection/_validation.py\", line 531, in _fit_and_score\n",
      "    estimator.fit(X_train, y_train, **fit_params)\n",
      "  File \"/home/igor/.local/lib/python3.6/site-packages/sklearn/linear_model/_logistic.py\", line 1304, in fit\n",
      "    solver = _check_solver(self.solver, self.penalty, self.dual)\n",
      "  File \"/home/igor/.local/lib/python3.6/site-packages/sklearn/linear_model/_logistic.py\", line 443, in _check_solver\n",
      "    \"got %s penalty.\" % (solver, penalty))\n",
      "ValueError: Solver lbfgs supports only 'l2' or 'none' penalties, got l1 penalty.\n",
      "\n",
      "  FitFailedWarning)\n"
     ]
    },
    {
     "name": "stdout",
     "output_type": "stream",
     "text": [
      "[CV] . C=0.1, penalty=l1, solver=liblinear, score=0.780, total=   0.4s\n",
      "[CV] C=0.1, penalty=l1, solver=liblinear .............................\n",
      "[CV] . C=0.1, penalty=l1, solver=liblinear, score=0.778, total=   0.4s\n",
      "[CV] C=0.1, penalty=l1, solver=liblinear .............................\n",
      "[CV] . C=0.1, penalty=l1, solver=liblinear, score=0.787, total=   0.4s\n",
      "[CV] C=0.1, penalty=l1, solver=liblinear .............................\n",
      "[CV] . C=0.1, penalty=l1, solver=liblinear, score=0.776, total=   0.5s\n",
      "[CV] C=0.1, penalty=l1, solver=liblinear .............................\n",
      "[CV] . C=0.1, penalty=l1, solver=liblinear, score=0.770, total=   0.4s\n",
      "[CV] C=0.1, penalty=l1, solver=liblinear .............................\n",
      "[CV] . C=0.1, penalty=l1, solver=liblinear, score=0.775, total=   0.3s\n",
      "[CV] C=0.1, penalty=l1, solver=liblinear .............................\n",
      "[CV] . C=0.1, penalty=l1, solver=liblinear, score=0.768, total=   0.5s\n",
      "[CV] C=0.1, penalty=l1, solver=liblinear .............................\n",
      "[CV] . C=0.1, penalty=l1, solver=liblinear, score=0.777, total=   0.4s\n",
      "[CV] C=0.1, penalty=l1, solver=liblinear .............................\n",
      "[CV] . C=0.1, penalty=l1, solver=liblinear, score=0.779, total=   0.4s\n",
      "[CV] C=0.1, penalty=l1, solver=liblinear .............................\n",
      "[CV] . C=0.1, penalty=l1, solver=liblinear, score=0.762, total=   0.4s\n",
      "[CV] C=0.1, penalty=l2, solver=newton-cg .............................\n",
      "[CV] . C=0.1, penalty=l2, solver=newton-cg, score=0.780, total=   0.7s\n",
      "[CV] C=0.1, penalty=l2, solver=newton-cg .............................\n",
      "[CV] . C=0.1, penalty=l2, solver=newton-cg, score=0.778, total=   0.9s\n",
      "[CV] C=0.1, penalty=l2, solver=newton-cg .............................\n",
      "[CV] . C=0.1, penalty=l2, solver=newton-cg, score=0.787, total=   0.7s\n",
      "[CV] C=0.1, penalty=l2, solver=newton-cg .............................\n",
      "[CV] . C=0.1, penalty=l2, solver=newton-cg, score=0.775, total=   1.1s\n",
      "[CV] C=0.1, penalty=l2, solver=newton-cg .............................\n",
      "[CV] . C=0.1, penalty=l2, solver=newton-cg, score=0.770, total=   0.9s\n",
      "[CV] C=0.1, penalty=l2, solver=newton-cg .............................\n",
      "[CV] . C=0.1, penalty=l2, solver=newton-cg, score=0.777, total=   1.1s\n",
      "[CV] C=0.1, penalty=l2, solver=newton-cg .............................\n",
      "[CV] . C=0.1, penalty=l2, solver=newton-cg, score=0.768, total=   0.8s\n",
      "[CV] C=0.1, penalty=l2, solver=newton-cg .............................\n",
      "[CV] . C=0.1, penalty=l2, solver=newton-cg, score=0.777, total=   0.9s\n",
      "[CV] C=0.1, penalty=l2, solver=newton-cg .............................\n",
      "[CV] . C=0.1, penalty=l2, solver=newton-cg, score=0.780, total=   0.6s\n",
      "[CV] C=0.1, penalty=l2, solver=newton-cg .............................\n",
      "[CV] . C=0.1, penalty=l2, solver=newton-cg, score=0.762, total=   0.7s\n",
      "[CV] C=0.1, penalty=l2, solver=sag ...................................\n",
      "[CV] ....... C=0.1, penalty=l2, solver=sag, score=0.780, total=   0.5s\n",
      "[CV] C=0.1, penalty=l2, solver=sag ...................................\n",
      "[CV] ....... C=0.1, penalty=l2, solver=sag, score=0.778, total=   0.4s\n",
      "[CV] C=0.1, penalty=l2, solver=sag ...................................\n",
      "[CV] ....... C=0.1, penalty=l2, solver=sag, score=0.787, total=   0.4s\n",
      "[CV] C=0.1, penalty=l2, solver=sag ...................................\n",
      "[CV] ....... C=0.1, penalty=l2, solver=sag, score=0.775, total=   0.4s\n",
      "[CV] C=0.1, penalty=l2, solver=sag ...................................\n",
      "[CV] ....... C=0.1, penalty=l2, solver=sag, score=0.770, total=   0.5s\n",
      "[CV] C=0.1, penalty=l2, solver=sag ...................................\n",
      "[CV] ....... C=0.1, penalty=l2, solver=sag, score=0.777, total=   0.4s\n",
      "[CV] C=0.1, penalty=l2, solver=sag ...................................\n",
      "[CV] ....... C=0.1, penalty=l2, solver=sag, score=0.768, total=   0.4s\n",
      "[CV] C=0.1, penalty=l2, solver=sag ...................................\n",
      "[CV] ....... C=0.1, penalty=l2, solver=sag, score=0.777, total=   0.4s\n",
      "[CV] C=0.1, penalty=l2, solver=sag ...................................\n",
      "[CV] ....... C=0.1, penalty=l2, solver=sag, score=0.780, total=   0.5s\n",
      "[CV] C=0.1, penalty=l2, solver=sag ...................................\n",
      "[CV] ....... C=0.1, penalty=l2, solver=sag, score=0.762, total=   0.5s\n",
      "[CV] C=0.1, penalty=l2, solver=saga ..................................\n",
      "[CV] ...... C=0.1, penalty=l2, solver=saga, score=0.780, total=   0.5s\n",
      "[CV] C=0.1, penalty=l2, solver=saga ..................................\n",
      "[CV] ...... C=0.1, penalty=l2, solver=saga, score=0.778, total=   0.5s\n",
      "[CV] C=0.1, penalty=l2, solver=saga ..................................\n",
      "[CV] ...... C=0.1, penalty=l2, solver=saga, score=0.787, total=   0.4s\n",
      "[CV] C=0.1, penalty=l2, solver=saga ..................................\n",
      "[CV] ...... C=0.1, penalty=l2, solver=saga, score=0.775, total=   0.4s\n",
      "[CV] C=0.1, penalty=l2, solver=saga ..................................\n",
      "[CV] ...... C=0.1, penalty=l2, solver=saga, score=0.770, total=   0.4s\n",
      "[CV] C=0.1, penalty=l2, solver=saga ..................................\n",
      "[CV] ...... C=0.1, penalty=l2, solver=saga, score=0.777, total=   0.4s\n",
      "[CV] C=0.1, penalty=l2, solver=saga ..................................\n",
      "[CV] ...... C=0.1, penalty=l2, solver=saga, score=0.768, total=   0.4s\n",
      "[CV] C=0.1, penalty=l2, solver=saga ..................................\n",
      "[CV] ...... C=0.1, penalty=l2, solver=saga, score=0.777, total=   0.4s\n",
      "[CV] C=0.1, penalty=l2, solver=saga ..................................\n",
      "[CV] ...... C=0.1, penalty=l2, solver=saga, score=0.780, total=   0.4s\n",
      "[CV] C=0.1, penalty=l2, solver=saga ..................................\n",
      "[CV] ...... C=0.1, penalty=l2, solver=saga, score=0.762, total=   0.5s\n",
      "[CV] C=0.1, penalty=l2, solver=lbfgs .................................\n",
      "[CV] ..... C=0.1, penalty=l2, solver=lbfgs, score=0.780, total=   0.3s\n",
      "[CV] C=0.1, penalty=l2, solver=lbfgs .................................\n",
      "[CV] ..... C=0.1, penalty=l2, solver=lbfgs, score=0.778, total=   0.3s\n",
      "[CV] C=0.1, penalty=l2, solver=lbfgs .................................\n",
      "[CV] ..... C=0.1, penalty=l2, solver=lbfgs, score=0.787, total=   0.3s\n",
      "[CV] C=0.1, penalty=l2, solver=lbfgs .................................\n",
      "[CV] ..... C=0.1, penalty=l2, solver=lbfgs, score=0.775, total=   0.3s\n",
      "[CV] C=0.1, penalty=l2, solver=lbfgs .................................\n",
      "[CV] ..... C=0.1, penalty=l2, solver=lbfgs, score=0.770, total=   0.3s\n",
      "[CV] C=0.1, penalty=l2, solver=lbfgs .................................\n",
      "[CV] ..... C=0.1, penalty=l2, solver=lbfgs, score=0.777, total=   0.3s\n",
      "[CV] C=0.1, penalty=l2, solver=lbfgs .................................\n",
      "[CV] ..... C=0.1, penalty=l2, solver=lbfgs, score=0.768, total=   0.3s\n",
      "[CV] C=0.1, penalty=l2, solver=lbfgs .................................\n",
      "[CV] ..... C=0.1, penalty=l2, solver=lbfgs, score=0.777, total=   0.3s\n",
      "[CV] C=0.1, penalty=l2, solver=lbfgs .................................\n",
      "[CV] ..... C=0.1, penalty=l2, solver=lbfgs, score=0.780, total=   0.3s\n",
      "[CV] C=0.1, penalty=l2, solver=lbfgs .................................\n",
      "[CV] ..... C=0.1, penalty=l2, solver=lbfgs, score=0.762, total=   0.3s\n",
      "[CV] C=0.1, penalty=l2, solver=liblinear .............................\n",
      "[CV] . C=0.1, penalty=l2, solver=liblinear, score=0.780, total=   0.4s\n",
      "[CV] C=0.1, penalty=l2, solver=liblinear .............................\n",
      "[CV] . C=0.1, penalty=l2, solver=liblinear, score=0.777, total=   0.4s\n",
      "[CV] C=0.1, penalty=l2, solver=liblinear .............................\n",
      "[CV] . C=0.1, penalty=l2, solver=liblinear, score=0.787, total=   0.4s\n",
      "[CV] C=0.1, penalty=l2, solver=liblinear .............................\n",
      "[CV] . C=0.1, penalty=l2, solver=liblinear, score=0.775, total=   0.4s\n",
      "[CV] C=0.1, penalty=l2, solver=liblinear .............................\n",
      "[CV] . C=0.1, penalty=l2, solver=liblinear, score=0.770, total=   0.4s\n",
      "[CV] C=0.1, penalty=l2, solver=liblinear .............................\n",
      "[CV] . C=0.1, penalty=l2, solver=liblinear, score=0.777, total=   0.4s\n",
      "[CV] C=0.1, penalty=l2, solver=liblinear .............................\n",
      "[CV] . C=0.1, penalty=l2, solver=liblinear, score=0.768, total=   0.4s\n",
      "[CV] C=0.1, penalty=l2, solver=liblinear .............................\n",
      "[CV] . C=0.1, penalty=l2, solver=liblinear, score=0.777, total=   0.4s\n",
      "[CV] C=0.1, penalty=l2, solver=liblinear .............................\n"
     ]
    },
    {
     "name": "stdout",
     "output_type": "stream",
     "text": [
      "[CV] . C=0.1, penalty=l2, solver=liblinear, score=0.780, total=   0.4s\n",
      "[CV] C=0.1, penalty=l2, solver=liblinear .............................\n",
      "[CV] . C=0.1, penalty=l2, solver=liblinear, score=0.762, total=   0.4s\n",
      "[CV] C=1, penalty=l1, solver=newton-cg ...............................\n",
      "[CV] ..... C=1, penalty=l1, solver=newton-cg, score=nan, total=   0.0s\n",
      "[CV] C=1, penalty=l1, solver=newton-cg ...............................\n",
      "[CV] ..... C=1, penalty=l1, solver=newton-cg, score=nan, total=   0.0s\n",
      "[CV] C=1, penalty=l1, solver=newton-cg ...............................\n",
      "[CV] ..... C=1, penalty=l1, solver=newton-cg, score=nan, total=   0.0s\n",
      "[CV] C=1, penalty=l1, solver=newton-cg ...............................\n",
      "[CV] ..... C=1, penalty=l1, solver=newton-cg, score=nan, total=   0.0s\n",
      "[CV] C=1, penalty=l1, solver=newton-cg ...............................\n",
      "[CV] ..... C=1, penalty=l1, solver=newton-cg, score=nan, total=   0.0s\n",
      "[CV] C=1, penalty=l1, solver=newton-cg ...............................\n",
      "[CV] ..... C=1, penalty=l1, solver=newton-cg, score=nan, total=   0.0s\n",
      "[CV] C=1, penalty=l1, solver=newton-cg ...............................\n",
      "[CV] ..... C=1, penalty=l1, solver=newton-cg, score=nan, total=   0.0s\n",
      "[CV] C=1, penalty=l1, solver=newton-cg ...............................\n",
      "[CV] ..... C=1, penalty=l1, solver=newton-cg, score=nan, total=   0.0s\n",
      "[CV] C=1, penalty=l1, solver=newton-cg ...............................\n",
      "[CV] ..... C=1, penalty=l1, solver=newton-cg, score=nan, total=   0.0s\n",
      "[CV] C=1, penalty=l1, solver=newton-cg ...............................\n",
      "[CV] ..... C=1, penalty=l1, solver=newton-cg, score=nan, total=   0.0s\n",
      "[CV] C=1, penalty=l1, solver=sag .....................................\n",
      "[CV] ........... C=1, penalty=l1, solver=sag, score=nan, total=   0.0s\n",
      "[CV] C=1, penalty=l1, solver=sag .....................................\n",
      "[CV] ........... C=1, penalty=l1, solver=sag, score=nan, total=   0.0s\n",
      "[CV] C=1, penalty=l1, solver=sag .....................................\n",
      "[CV] ........... C=1, penalty=l1, solver=sag, score=nan, total=   0.0s\n",
      "[CV] C=1, penalty=l1, solver=sag .....................................\n",
      "[CV] ........... C=1, penalty=l1, solver=sag, score=nan, total=   0.0s\n",
      "[CV] C=1, penalty=l1, solver=sag .....................................\n",
      "[CV] ........... C=1, penalty=l1, solver=sag, score=nan, total=   0.0s\n",
      "[CV] C=1, penalty=l1, solver=sag .....................................\n",
      "[CV] ........... C=1, penalty=l1, solver=sag, score=nan, total=   0.0s\n",
      "[CV] C=1, penalty=l1, solver=sag .....................................\n",
      "[CV] ........... C=1, penalty=l1, solver=sag, score=nan, total=   0.0s\n",
      "[CV] C=1, penalty=l1, solver=sag .....................................\n",
      "[CV] ........... C=1, penalty=l1, solver=sag, score=nan, total=   0.0s\n",
      "[CV] C=1, penalty=l1, solver=sag .....................................\n",
      "[CV] ........... C=1, penalty=l1, solver=sag, score=nan, total=   0.0s\n",
      "[CV] C=1, penalty=l1, solver=sag .....................................\n",
      "[CV] ........... C=1, penalty=l1, solver=sag, score=nan, total=   0.0s\n",
      "[CV] C=1, penalty=l1, solver=saga ....................................\n"
     ]
    },
    {
     "name": "stderr",
     "output_type": "stream",
     "text": [
      "/home/igor/.local/lib/python3.6/site-packages/sklearn/model_selection/_validation.py:552: FitFailedWarning: Estimator fit failed. The score on this train-test partition for these parameters will be set to nan. Details: \n",
      "Traceback (most recent call last):\n",
      "  File \"/home/igor/.local/lib/python3.6/site-packages/sklearn/model_selection/_validation.py\", line 531, in _fit_and_score\n",
      "    estimator.fit(X_train, y_train, **fit_params)\n",
      "  File \"/home/igor/.local/lib/python3.6/site-packages/sklearn/linear_model/_logistic.py\", line 1304, in fit\n",
      "    solver = _check_solver(self.solver, self.penalty, self.dual)\n",
      "  File \"/home/igor/.local/lib/python3.6/site-packages/sklearn/linear_model/_logistic.py\", line 443, in _check_solver\n",
      "    \"got %s penalty.\" % (solver, penalty))\n",
      "ValueError: Solver newton-cg supports only 'l2' or 'none' penalties, got l1 penalty.\n",
      "\n",
      "  FitFailedWarning)\n",
      "/home/igor/.local/lib/python3.6/site-packages/sklearn/model_selection/_validation.py:552: FitFailedWarning: Estimator fit failed. The score on this train-test partition for these parameters will be set to nan. Details: \n",
      "Traceback (most recent call last):\n",
      "  File \"/home/igor/.local/lib/python3.6/site-packages/sklearn/model_selection/_validation.py\", line 531, in _fit_and_score\n",
      "    estimator.fit(X_train, y_train, **fit_params)\n",
      "  File \"/home/igor/.local/lib/python3.6/site-packages/sklearn/linear_model/_logistic.py\", line 1304, in fit\n",
      "    solver = _check_solver(self.solver, self.penalty, self.dual)\n",
      "  File \"/home/igor/.local/lib/python3.6/site-packages/sklearn/linear_model/_logistic.py\", line 443, in _check_solver\n",
      "    \"got %s penalty.\" % (solver, penalty))\n",
      "ValueError: Solver sag supports only 'l2' or 'none' penalties, got l1 penalty.\n",
      "\n",
      "  FitFailedWarning)\n"
     ]
    },
    {
     "name": "stdout",
     "output_type": "stream",
     "text": [
      "[CV] ........ C=1, penalty=l1, solver=saga, score=0.779, total=   0.5s\n",
      "[CV] C=1, penalty=l1, solver=saga ....................................\n",
      "[CV] ........ C=1, penalty=l1, solver=saga, score=0.777, total=   0.5s\n",
      "[CV] C=1, penalty=l1, solver=saga ....................................\n",
      "[CV] ........ C=1, penalty=l1, solver=saga, score=0.787, total=   0.6s\n",
      "[CV] C=1, penalty=l1, solver=saga ....................................\n",
      "[CV] ........ C=1, penalty=l1, solver=saga, score=0.775, total=   0.6s\n",
      "[CV] C=1, penalty=l1, solver=saga ....................................\n",
      "[CV] ........ C=1, penalty=l1, solver=saga, score=0.770, total=   0.5s\n",
      "[CV] C=1, penalty=l1, solver=saga ....................................\n",
      "[CV] ........ C=1, penalty=l1, solver=saga, score=0.777, total=   0.7s\n",
      "[CV] C=1, penalty=l1, solver=saga ....................................\n",
      "[CV] ........ C=1, penalty=l1, solver=saga, score=0.768, total=   0.5s\n",
      "[CV] C=1, penalty=l1, solver=saga ....................................\n",
      "[CV] ........ C=1, penalty=l1, solver=saga, score=0.777, total=   0.5s\n",
      "[CV] C=1, penalty=l1, solver=saga ....................................\n",
      "[CV] ........ C=1, penalty=l1, solver=saga, score=0.780, total=   0.5s\n",
      "[CV] C=1, penalty=l1, solver=saga ....................................\n",
      "[CV] ........ C=1, penalty=l1, solver=saga, score=0.762, total=   0.6s\n",
      "[CV] C=1, penalty=l1, solver=lbfgs ...................................\n",
      "[CV] ......... C=1, penalty=l1, solver=lbfgs, score=nan, total=   0.0s\n",
      "[CV] C=1, penalty=l1, solver=lbfgs ...................................\n",
      "[CV] ......... C=1, penalty=l1, solver=lbfgs, score=nan, total=   0.0s\n",
      "[CV] C=1, penalty=l1, solver=lbfgs ...................................\n",
      "[CV] ......... C=1, penalty=l1, solver=lbfgs, score=nan, total=   0.0s\n",
      "[CV] C=1, penalty=l1, solver=lbfgs ...................................\n",
      "[CV] ......... C=1, penalty=l1, solver=lbfgs, score=nan, total=   0.0s\n",
      "[CV] C=1, penalty=l1, solver=lbfgs ...................................\n",
      "[CV] ......... C=1, penalty=l1, solver=lbfgs, score=nan, total=   0.0s\n",
      "[CV] C=1, penalty=l1, solver=lbfgs ...................................\n",
      "[CV] ......... C=1, penalty=l1, solver=lbfgs, score=nan, total=   0.0s\n",
      "[CV] C=1, penalty=l1, solver=lbfgs ...................................\n",
      "[CV] ......... C=1, penalty=l1, solver=lbfgs, score=nan, total=   0.0s\n",
      "[CV] C=1, penalty=l1, solver=lbfgs ...................................\n",
      "[CV] ......... C=1, penalty=l1, solver=lbfgs, score=nan, total=   0.0s\n",
      "[CV] C=1, penalty=l1, solver=lbfgs ...................................\n",
      "[CV] ......... C=1, penalty=l1, solver=lbfgs, score=nan, total=   0.0s\n",
      "[CV] C=1, penalty=l1, solver=lbfgs ...................................\n",
      "[CV] ......... C=1, penalty=l1, solver=lbfgs, score=nan, total=   0.0s\n",
      "[CV] C=1, penalty=l1, solver=liblinear ...............................\n"
     ]
    },
    {
     "name": "stderr",
     "output_type": "stream",
     "text": [
      "/home/igor/.local/lib/python3.6/site-packages/sklearn/model_selection/_validation.py:552: FitFailedWarning: Estimator fit failed. The score on this train-test partition for these parameters will be set to nan. Details: \n",
      "Traceback (most recent call last):\n",
      "  File \"/home/igor/.local/lib/python3.6/site-packages/sklearn/model_selection/_validation.py\", line 531, in _fit_and_score\n",
      "    estimator.fit(X_train, y_train, **fit_params)\n",
      "  File \"/home/igor/.local/lib/python3.6/site-packages/sklearn/linear_model/_logistic.py\", line 1304, in fit\n",
      "    solver = _check_solver(self.solver, self.penalty, self.dual)\n",
      "  File \"/home/igor/.local/lib/python3.6/site-packages/sklearn/linear_model/_logistic.py\", line 443, in _check_solver\n",
      "    \"got %s penalty.\" % (solver, penalty))\n",
      "ValueError: Solver lbfgs supports only 'l2' or 'none' penalties, got l1 penalty.\n",
      "\n",
      "  FitFailedWarning)\n"
     ]
    },
    {
     "name": "stdout",
     "output_type": "stream",
     "text": [
      "[CV] ... C=1, penalty=l1, solver=liblinear, score=0.779, total=   0.5s\n",
      "[CV] C=1, penalty=l1, solver=liblinear ...............................\n",
      "[CV] ... C=1, penalty=l1, solver=liblinear, score=0.777, total=   0.5s\n",
      "[CV] C=1, penalty=l1, solver=liblinear ...............................\n",
      "[CV] ... C=1, penalty=l1, solver=liblinear, score=0.787, total=   0.4s\n",
      "[CV] C=1, penalty=l1, solver=liblinear ...............................\n",
      "[CV] ... C=1, penalty=l1, solver=liblinear, score=0.775, total=   0.5s\n",
      "[CV] C=1, penalty=l1, solver=liblinear ...............................\n",
      "[CV] ... C=1, penalty=l1, solver=liblinear, score=0.770, total=   0.6s\n",
      "[CV] C=1, penalty=l1, solver=liblinear ...............................\n",
      "[CV] ... C=1, penalty=l1, solver=liblinear, score=0.777, total=   0.4s\n",
      "[CV] C=1, penalty=l1, solver=liblinear ...............................\n",
      "[CV] ... C=1, penalty=l1, solver=liblinear, score=0.768, total=   0.4s\n",
      "[CV] C=1, penalty=l1, solver=liblinear ...............................\n",
      "[CV] ... C=1, penalty=l1, solver=liblinear, score=0.777, total=   0.5s\n",
      "[CV] C=1, penalty=l1, solver=liblinear ...............................\n",
      "[CV] ... C=1, penalty=l1, solver=liblinear, score=0.780, total=   0.5s\n",
      "[CV] C=1, penalty=l1, solver=liblinear ...............................\n",
      "[CV] ... C=1, penalty=l1, solver=liblinear, score=0.762, total=   0.5s\n",
      "[CV] C=1, penalty=l2, solver=newton-cg ...............................\n",
      "[CV] ... C=1, penalty=l2, solver=newton-cg, score=0.779, total=   0.8s\n",
      "[CV] C=1, penalty=l2, solver=newton-cg ...............................\n",
      "[CV] ... C=1, penalty=l2, solver=newton-cg, score=0.778, total=   1.0s\n",
      "[CV] C=1, penalty=l2, solver=newton-cg ...............................\n",
      "[CV] ... C=1, penalty=l2, solver=newton-cg, score=0.787, total=   0.8s\n",
      "[CV] C=1, penalty=l2, solver=newton-cg ...............................\n",
      "[CV] ... C=1, penalty=l2, solver=newton-cg, score=0.775, total=   0.8s\n",
      "[CV] C=1, penalty=l2, solver=newton-cg ...............................\n",
      "[CV] ... C=1, penalty=l2, solver=newton-cg, score=0.770, total=   0.8s\n",
      "[CV] C=1, penalty=l2, solver=newton-cg ...............................\n",
      "[CV] ... C=1, penalty=l2, solver=newton-cg, score=0.776, total=   0.9s\n",
      "[CV] C=1, penalty=l2, solver=newton-cg ...............................\n",
      "[CV] ... C=1, penalty=l2, solver=newton-cg, score=0.768, total=   0.8s\n",
      "[CV] C=1, penalty=l2, solver=newton-cg ...............................\n",
      "[CV] ... C=1, penalty=l2, solver=newton-cg, score=0.777, total=   0.8s\n",
      "[CV] C=1, penalty=l2, solver=newton-cg ...............................\n",
      "[CV] ... C=1, penalty=l2, solver=newton-cg, score=0.780, total=   0.9s\n",
      "[CV] C=1, penalty=l2, solver=newton-cg ...............................\n",
      "[CV] ... C=1, penalty=l2, solver=newton-cg, score=0.762, total=   0.8s\n",
      "[CV] C=1, penalty=l2, solver=sag .....................................\n",
      "[CV] ......... C=1, penalty=l2, solver=sag, score=0.779, total=   0.6s\n",
      "[CV] C=1, penalty=l2, solver=sag .....................................\n",
      "[CV] ......... C=1, penalty=l2, solver=sag, score=0.778, total=   0.5s\n",
      "[CV] C=1, penalty=l2, solver=sag .....................................\n",
      "[CV] ......... C=1, penalty=l2, solver=sag, score=0.787, total=   0.5s\n",
      "[CV] C=1, penalty=l2, solver=sag .....................................\n",
      "[CV] ......... C=1, penalty=l2, solver=sag, score=0.775, total=   0.5s\n",
      "[CV] C=1, penalty=l2, solver=sag .....................................\n",
      "[CV] ......... C=1, penalty=l2, solver=sag, score=0.770, total=   0.6s\n",
      "[CV] C=1, penalty=l2, solver=sag .....................................\n",
      "[CV] ......... C=1, penalty=l2, solver=sag, score=0.776, total=   0.5s\n",
      "[CV] C=1, penalty=l2, solver=sag .....................................\n",
      "[CV] ......... C=1, penalty=l2, solver=sag, score=0.768, total=   0.5s\n",
      "[CV] C=1, penalty=l2, solver=sag .....................................\n",
      "[CV] ......... C=1, penalty=l2, solver=sag, score=0.777, total=   0.5s\n",
      "[CV] C=1, penalty=l2, solver=sag .....................................\n",
      "[CV] ......... C=1, penalty=l2, solver=sag, score=0.780, total=   0.5s\n",
      "[CV] C=1, penalty=l2, solver=sag .....................................\n",
      "[CV] ......... C=1, penalty=l2, solver=sag, score=0.762, total=   0.5s\n",
      "[CV] C=1, penalty=l2, solver=saga ....................................\n",
      "[CV] ........ C=1, penalty=l2, solver=saga, score=0.779, total=   0.5s\n",
      "[CV] C=1, penalty=l2, solver=saga ....................................\n",
      "[CV] ........ C=1, penalty=l2, solver=saga, score=0.778, total=   0.5s\n",
      "[CV] C=1, penalty=l2, solver=saga ....................................\n",
      "[CV] ........ C=1, penalty=l2, solver=saga, score=0.787, total=   0.5s\n",
      "[CV] C=1, penalty=l2, solver=saga ....................................\n",
      "[CV] ........ C=1, penalty=l2, solver=saga, score=0.775, total=   0.5s\n",
      "[CV] C=1, penalty=l2, solver=saga ....................................\n",
      "[CV] ........ C=1, penalty=l2, solver=saga, score=0.770, total=   0.5s\n",
      "[CV] C=1, penalty=l2, solver=saga ....................................\n",
      "[CV] ........ C=1, penalty=l2, solver=saga, score=0.776, total=   0.5s\n",
      "[CV] C=1, penalty=l2, solver=saga ....................................\n",
      "[CV] ........ C=1, penalty=l2, solver=saga, score=0.768, total=   0.5s\n",
      "[CV] C=1, penalty=l2, solver=saga ....................................\n",
      "[CV] ........ C=1, penalty=l2, solver=saga, score=0.777, total=   0.5s\n",
      "[CV] C=1, penalty=l2, solver=saga ....................................\n",
      "[CV] ........ C=1, penalty=l2, solver=saga, score=0.780, total=   0.5s\n",
      "[CV] C=1, penalty=l2, solver=saga ....................................\n",
      "[CV] ........ C=1, penalty=l2, solver=saga, score=0.762, total=   0.6s\n",
      "[CV] C=1, penalty=l2, solver=lbfgs ...................................\n",
      "[CV] ....... C=1, penalty=l2, solver=lbfgs, score=0.779, total=   0.5s\n",
      "[CV] C=1, penalty=l2, solver=lbfgs ...................................\n",
      "[CV] ....... C=1, penalty=l2, solver=lbfgs, score=0.778, total=   0.5s\n",
      "[CV] C=1, penalty=l2, solver=lbfgs ...................................\n",
      "[CV] ....... C=1, penalty=l2, solver=lbfgs, score=0.787, total=   0.3s\n",
      "[CV] C=1, penalty=l2, solver=lbfgs ...................................\n",
      "[CV] ....... C=1, penalty=l2, solver=lbfgs, score=0.775, total=   0.3s\n",
      "[CV] C=1, penalty=l2, solver=lbfgs ...................................\n",
      "[CV] ....... C=1, penalty=l2, solver=lbfgs, score=0.770, total=   0.3s\n",
      "[CV] C=1, penalty=l2, solver=lbfgs ...................................\n",
      "[CV] ....... C=1, penalty=l2, solver=lbfgs, score=0.776, total=   0.4s\n",
      "[CV] C=1, penalty=l2, solver=lbfgs ...................................\n",
      "[CV] ....... C=1, penalty=l2, solver=lbfgs, score=0.768, total=   0.3s\n",
      "[CV] C=1, penalty=l2, solver=lbfgs ...................................\n",
      "[CV] ....... C=1, penalty=l2, solver=lbfgs, score=0.777, total=   0.3s\n",
      "[CV] C=1, penalty=l2, solver=lbfgs ...................................\n",
      "[CV] ....... C=1, penalty=l2, solver=lbfgs, score=0.780, total=   0.3s\n",
      "[CV] C=1, penalty=l2, solver=lbfgs ...................................\n",
      "[CV] ....... C=1, penalty=l2, solver=lbfgs, score=0.762, total=   0.3s\n",
      "[CV] C=1, penalty=l2, solver=liblinear ...............................\n",
      "[CV] ... C=1, penalty=l2, solver=liblinear, score=0.779, total=   0.4s\n",
      "[CV] C=1, penalty=l2, solver=liblinear ...............................\n",
      "[CV] ... C=1, penalty=l2, solver=liblinear, score=0.777, total=   0.4s\n",
      "[CV] C=1, penalty=l2, solver=liblinear ...............................\n",
      "[CV] ... C=1, penalty=l2, solver=liblinear, score=0.787, total=   0.4s\n",
      "[CV] C=1, penalty=l2, solver=liblinear ...............................\n",
      "[CV] ... C=1, penalty=l2, solver=liblinear, score=0.775, total=   0.4s\n",
      "[CV] C=1, penalty=l2, solver=liblinear ...............................\n",
      "[CV] ... C=1, penalty=l2, solver=liblinear, score=0.770, total=   0.4s\n",
      "[CV] C=1, penalty=l2, solver=liblinear ...............................\n",
      "[CV] ... C=1, penalty=l2, solver=liblinear, score=0.776, total=   0.4s\n",
      "[CV] C=1, penalty=l2, solver=liblinear ...............................\n",
      "[CV] ... C=1, penalty=l2, solver=liblinear, score=0.768, total=   0.4s\n",
      "[CV] C=1, penalty=l2, solver=liblinear ...............................\n",
      "[CV] ... C=1, penalty=l2, solver=liblinear, score=0.777, total=   0.4s\n",
      "[CV] C=1, penalty=l2, solver=liblinear ...............................\n"
     ]
    },
    {
     "name": "stdout",
     "output_type": "stream",
     "text": [
      "[CV] ... C=1, penalty=l2, solver=liblinear, score=0.780, total=   0.4s\n",
      "[CV] C=1, penalty=l2, solver=liblinear ...............................\n",
      "[CV] ... C=1, penalty=l2, solver=liblinear, score=0.762, total=   0.4s\n",
      "[CV] C=10, penalty=l1, solver=newton-cg ..............................\n",
      "[CV] .... C=10, penalty=l1, solver=newton-cg, score=nan, total=   0.0s\n",
      "[CV] C=10, penalty=l1, solver=newton-cg ..............................\n",
      "[CV] .... C=10, penalty=l1, solver=newton-cg, score=nan, total=   0.0s\n",
      "[CV] C=10, penalty=l1, solver=newton-cg ..............................\n",
      "[CV] .... C=10, penalty=l1, solver=newton-cg, score=nan, total=   0.0s\n",
      "[CV] C=10, penalty=l1, solver=newton-cg ..............................\n",
      "[CV] .... C=10, penalty=l1, solver=newton-cg, score=nan, total=   0.0s\n",
      "[CV] C=10, penalty=l1, solver=newton-cg ..............................\n",
      "[CV] .... C=10, penalty=l1, solver=newton-cg, score=nan, total=   0.0s\n",
      "[CV] C=10, penalty=l1, solver=newton-cg ..............................\n",
      "[CV] .... C=10, penalty=l1, solver=newton-cg, score=nan, total=   0.0s\n",
      "[CV] C=10, penalty=l1, solver=newton-cg ..............................\n",
      "[CV] .... C=10, penalty=l1, solver=newton-cg, score=nan, total=   0.0s\n",
      "[CV] C=10, penalty=l1, solver=newton-cg ..............................\n",
      "[CV] .... C=10, penalty=l1, solver=newton-cg, score=nan, total=   0.0s\n",
      "[CV] C=10, penalty=l1, solver=newton-cg ..............................\n",
      "[CV] .... C=10, penalty=l1, solver=newton-cg, score=nan, total=   0.0s\n",
      "[CV] C=10, penalty=l1, solver=newton-cg ..............................\n",
      "[CV] .... C=10, penalty=l1, solver=newton-cg, score=nan, total=   0.0s\n",
      "[CV] C=10, penalty=l1, solver=sag ....................................\n",
      "[CV] .......... C=10, penalty=l1, solver=sag, score=nan, total=   0.0s\n",
      "[CV] C=10, penalty=l1, solver=sag ....................................\n",
      "[CV] .......... C=10, penalty=l1, solver=sag, score=nan, total=   0.0s\n",
      "[CV] C=10, penalty=l1, solver=sag ....................................\n",
      "[CV] .......... C=10, penalty=l1, solver=sag, score=nan, total=   0.0s\n",
      "[CV] C=10, penalty=l1, solver=sag ....................................\n",
      "[CV] .......... C=10, penalty=l1, solver=sag, score=nan, total=   0.0s\n",
      "[CV] C=10, penalty=l1, solver=sag ....................................\n",
      "[CV] .......... C=10, penalty=l1, solver=sag, score=nan, total=   0.0s\n",
      "[CV] C=10, penalty=l1, solver=sag ....................................\n",
      "[CV] .......... C=10, penalty=l1, solver=sag, score=nan, total=   0.0s\n",
      "[CV] C=10, penalty=l1, solver=sag ....................................\n",
      "[CV] .......... C=10, penalty=l1, solver=sag, score=nan, total=   0.0s\n",
      "[CV] C=10, penalty=l1, solver=sag ....................................\n",
      "[CV] .......... C=10, penalty=l1, solver=sag, score=nan, total=   0.0s\n",
      "[CV] C=10, penalty=l1, solver=sag ....................................\n",
      "[CV] .......... C=10, penalty=l1, solver=sag, score=nan, total=   0.0s\n",
      "[CV] C=10, penalty=l1, solver=sag ....................................\n",
      "[CV] .......... C=10, penalty=l1, solver=sag, score=nan, total=   0.0s\n",
      "[CV] C=10, penalty=l1, solver=saga ...................................\n"
     ]
    },
    {
     "name": "stderr",
     "output_type": "stream",
     "text": [
      "/home/igor/.local/lib/python3.6/site-packages/sklearn/model_selection/_validation.py:552: FitFailedWarning: Estimator fit failed. The score on this train-test partition for these parameters will be set to nan. Details: \n",
      "Traceback (most recent call last):\n",
      "  File \"/home/igor/.local/lib/python3.6/site-packages/sklearn/model_selection/_validation.py\", line 531, in _fit_and_score\n",
      "    estimator.fit(X_train, y_train, **fit_params)\n",
      "  File \"/home/igor/.local/lib/python3.6/site-packages/sklearn/linear_model/_logistic.py\", line 1304, in fit\n",
      "    solver = _check_solver(self.solver, self.penalty, self.dual)\n",
      "  File \"/home/igor/.local/lib/python3.6/site-packages/sklearn/linear_model/_logistic.py\", line 443, in _check_solver\n",
      "    \"got %s penalty.\" % (solver, penalty))\n",
      "ValueError: Solver newton-cg supports only 'l2' or 'none' penalties, got l1 penalty.\n",
      "\n",
      "  FitFailedWarning)\n",
      "/home/igor/.local/lib/python3.6/site-packages/sklearn/model_selection/_validation.py:552: FitFailedWarning: Estimator fit failed. The score on this train-test partition for these parameters will be set to nan. Details: \n",
      "Traceback (most recent call last):\n",
      "  File \"/home/igor/.local/lib/python3.6/site-packages/sklearn/model_selection/_validation.py\", line 531, in _fit_and_score\n",
      "    estimator.fit(X_train, y_train, **fit_params)\n",
      "  File \"/home/igor/.local/lib/python3.6/site-packages/sklearn/linear_model/_logistic.py\", line 1304, in fit\n",
      "    solver = _check_solver(self.solver, self.penalty, self.dual)\n",
      "  File \"/home/igor/.local/lib/python3.6/site-packages/sklearn/linear_model/_logistic.py\", line 443, in _check_solver\n",
      "    \"got %s penalty.\" % (solver, penalty))\n",
      "ValueError: Solver sag supports only 'l2' or 'none' penalties, got l1 penalty.\n",
      "\n",
      "  FitFailedWarning)\n"
     ]
    },
    {
     "name": "stdout",
     "output_type": "stream",
     "text": [
      "[CV] ....... C=10, penalty=l1, solver=saga, score=0.779, total=   0.6s\n",
      "[CV] C=10, penalty=l1, solver=saga ...................................\n",
      "[CV] ....... C=10, penalty=l1, solver=saga, score=0.778, total=   0.6s\n",
      "[CV] C=10, penalty=l1, solver=saga ...................................\n",
      "[CV] ....... C=10, penalty=l1, solver=saga, score=0.787, total=   0.5s\n",
      "[CV] C=10, penalty=l1, solver=saga ...................................\n",
      "[CV] ....... C=10, penalty=l1, solver=saga, score=0.775, total=   0.5s\n",
      "[CV] C=10, penalty=l1, solver=saga ...................................\n",
      "[CV] ....... C=10, penalty=l1, solver=saga, score=0.770, total=   0.5s\n",
      "[CV] C=10, penalty=l1, solver=saga ...................................\n",
      "[CV] ....... C=10, penalty=l1, solver=saga, score=0.776, total=   0.5s\n",
      "[CV] C=10, penalty=l1, solver=saga ...................................\n",
      "[CV] ....... C=10, penalty=l1, solver=saga, score=0.768, total=   0.5s\n",
      "[CV] C=10, penalty=l1, solver=saga ...................................\n",
      "[CV] ....... C=10, penalty=l1, solver=saga, score=0.777, total=   0.5s\n",
      "[CV] C=10, penalty=l1, solver=saga ...................................\n",
      "[CV] ....... C=10, penalty=l1, solver=saga, score=0.780, total=   0.5s\n",
      "[CV] C=10, penalty=l1, solver=saga ...................................\n",
      "[CV] ....... C=10, penalty=l1, solver=saga, score=0.762, total=   0.6s\n",
      "[CV] C=10, penalty=l1, solver=lbfgs ..................................\n",
      "[CV] ........ C=10, penalty=l1, solver=lbfgs, score=nan, total=   0.0s\n",
      "[CV] C=10, penalty=l1, solver=lbfgs ..................................\n",
      "[CV] ........ C=10, penalty=l1, solver=lbfgs, score=nan, total=   0.0s\n",
      "[CV] C=10, penalty=l1, solver=lbfgs ..................................\n",
      "[CV] ........ C=10, penalty=l1, solver=lbfgs, score=nan, total=   0.0s\n",
      "[CV] C=10, penalty=l1, solver=lbfgs ..................................\n",
      "[CV] ........ C=10, penalty=l1, solver=lbfgs, score=nan, total=   0.0s\n",
      "[CV] C=10, penalty=l1, solver=lbfgs ..................................\n",
      "[CV] ........ C=10, penalty=l1, solver=lbfgs, score=nan, total=   0.0s\n",
      "[CV] C=10, penalty=l1, solver=lbfgs ..................................\n",
      "[CV] ........ C=10, penalty=l1, solver=lbfgs, score=nan, total=   0.0s\n",
      "[CV] C=10, penalty=l1, solver=lbfgs ..................................\n",
      "[CV] ........ C=10, penalty=l1, solver=lbfgs, score=nan, total=   0.0s\n",
      "[CV] C=10, penalty=l1, solver=lbfgs ..................................\n",
      "[CV] ........ C=10, penalty=l1, solver=lbfgs, score=nan, total=   0.0s\n",
      "[CV] C=10, penalty=l1, solver=lbfgs ..................................\n",
      "[CV] ........ C=10, penalty=l1, solver=lbfgs, score=nan, total=   0.0s\n",
      "[CV] C=10, penalty=l1, solver=lbfgs ..................................\n",
      "[CV] ........ C=10, penalty=l1, solver=lbfgs, score=nan, total=   0.0s\n",
      "[CV] C=10, penalty=l1, solver=liblinear ..............................\n"
     ]
    },
    {
     "name": "stderr",
     "output_type": "stream",
     "text": [
      "/home/igor/.local/lib/python3.6/site-packages/sklearn/model_selection/_validation.py:552: FitFailedWarning: Estimator fit failed. The score on this train-test partition for these parameters will be set to nan. Details: \n",
      "Traceback (most recent call last):\n",
      "  File \"/home/igor/.local/lib/python3.6/site-packages/sklearn/model_selection/_validation.py\", line 531, in _fit_and_score\n",
      "    estimator.fit(X_train, y_train, **fit_params)\n",
      "  File \"/home/igor/.local/lib/python3.6/site-packages/sklearn/linear_model/_logistic.py\", line 1304, in fit\n",
      "    solver = _check_solver(self.solver, self.penalty, self.dual)\n",
      "  File \"/home/igor/.local/lib/python3.6/site-packages/sklearn/linear_model/_logistic.py\", line 443, in _check_solver\n",
      "    \"got %s penalty.\" % (solver, penalty))\n",
      "ValueError: Solver lbfgs supports only 'l2' or 'none' penalties, got l1 penalty.\n",
      "\n",
      "  FitFailedWarning)\n"
     ]
    },
    {
     "name": "stdout",
     "output_type": "stream",
     "text": [
      "[CV] .. C=10, penalty=l1, solver=liblinear, score=0.779, total=   0.4s\n",
      "[CV] C=10, penalty=l1, solver=liblinear ..............................\n",
      "[CV] .. C=10, penalty=l1, solver=liblinear, score=0.778, total=   0.4s\n",
      "[CV] C=10, penalty=l1, solver=liblinear ..............................\n",
      "[CV] .. C=10, penalty=l1, solver=liblinear, score=0.787, total=   0.5s\n",
      "[CV] C=10, penalty=l1, solver=liblinear ..............................\n",
      "[CV] .. C=10, penalty=l1, solver=liblinear, score=0.775, total=   0.4s\n",
      "[CV] C=10, penalty=l1, solver=liblinear ..............................\n",
      "[CV] .. C=10, penalty=l1, solver=liblinear, score=0.770, total=   0.4s\n",
      "[CV] C=10, penalty=l1, solver=liblinear ..............................\n",
      "[CV] .. C=10, penalty=l1, solver=liblinear, score=0.776, total=   0.4s\n",
      "[CV] C=10, penalty=l1, solver=liblinear ..............................\n",
      "[CV] .. C=10, penalty=l1, solver=liblinear, score=0.768, total=   0.3s\n",
      "[CV] C=10, penalty=l1, solver=liblinear ..............................\n",
      "[CV] .. C=10, penalty=l1, solver=liblinear, score=0.777, total=   0.4s\n",
      "[CV] C=10, penalty=l1, solver=liblinear ..............................\n",
      "[CV] .. C=10, penalty=l1, solver=liblinear, score=0.780, total=   0.5s\n",
      "[CV] C=10, penalty=l1, solver=liblinear ..............................\n",
      "[CV] .. C=10, penalty=l1, solver=liblinear, score=0.762, total=   0.4s\n",
      "[CV] C=10, penalty=l2, solver=newton-cg ..............................\n",
      "[CV] .. C=10, penalty=l2, solver=newton-cg, score=0.779, total=   0.6s\n",
      "[CV] C=10, penalty=l2, solver=newton-cg ..............................\n",
      "[CV] .. C=10, penalty=l2, solver=newton-cg, score=0.778, total=   0.9s\n",
      "[CV] C=10, penalty=l2, solver=newton-cg ..............................\n",
      "[CV] .. C=10, penalty=l2, solver=newton-cg, score=0.787, total=   0.7s\n",
      "[CV] C=10, penalty=l2, solver=newton-cg ..............................\n",
      "[CV] .. C=10, penalty=l2, solver=newton-cg, score=0.775, total=   0.7s\n",
      "[CV] C=10, penalty=l2, solver=newton-cg ..............................\n",
      "[CV] .. C=10, penalty=l2, solver=newton-cg, score=0.770, total=   0.7s\n",
      "[CV] C=10, penalty=l2, solver=newton-cg ..............................\n",
      "[CV] .. C=10, penalty=l2, solver=newton-cg, score=0.776, total=   0.8s\n",
      "[CV] C=10, penalty=l2, solver=newton-cg ..............................\n",
      "[CV] .. C=10, penalty=l2, solver=newton-cg, score=0.768, total=   0.7s\n",
      "[CV] C=10, penalty=l2, solver=newton-cg ..............................\n",
      "[CV] .. C=10, penalty=l2, solver=newton-cg, score=0.777, total=   0.7s\n",
      "[CV] C=10, penalty=l2, solver=newton-cg ..............................\n",
      "[CV] .. C=10, penalty=l2, solver=newton-cg, score=0.780, total=   0.7s\n",
      "[CV] C=10, penalty=l2, solver=newton-cg ..............................\n",
      "[CV] .. C=10, penalty=l2, solver=newton-cg, score=0.762, total=   0.6s\n",
      "[CV] C=10, penalty=l2, solver=sag ....................................\n",
      "[CV] ........ C=10, penalty=l2, solver=sag, score=0.779, total=   0.5s\n",
      "[CV] C=10, penalty=l2, solver=sag ....................................\n",
      "[CV] ........ C=10, penalty=l2, solver=sag, score=0.778, total=   0.5s\n",
      "[CV] C=10, penalty=l2, solver=sag ....................................\n",
      "[CV] ........ C=10, penalty=l2, solver=sag, score=0.787, total=   0.4s\n",
      "[CV] C=10, penalty=l2, solver=sag ....................................\n",
      "[CV] ........ C=10, penalty=l2, solver=sag, score=0.775, total=   0.4s\n",
      "[CV] C=10, penalty=l2, solver=sag ....................................\n",
      "[CV] ........ C=10, penalty=l2, solver=sag, score=0.770, total=   0.5s\n",
      "[CV] C=10, penalty=l2, solver=sag ....................................\n",
      "[CV] ........ C=10, penalty=l2, solver=sag, score=0.776, total=   0.5s\n",
      "[CV] C=10, penalty=l2, solver=sag ....................................\n",
      "[CV] ........ C=10, penalty=l2, solver=sag, score=0.768, total=   0.4s\n",
      "[CV] C=10, penalty=l2, solver=sag ....................................\n",
      "[CV] ........ C=10, penalty=l2, solver=sag, score=0.777, total=   0.4s\n",
      "[CV] C=10, penalty=l2, solver=sag ....................................\n",
      "[CV] ........ C=10, penalty=l2, solver=sag, score=0.780, total=   0.5s\n",
      "[CV] C=10, penalty=l2, solver=sag ....................................\n",
      "[CV] ........ C=10, penalty=l2, solver=sag, score=0.762, total=   0.5s\n",
      "[CV] C=10, penalty=l2, solver=saga ...................................\n",
      "[CV] ....... C=10, penalty=l2, solver=saga, score=0.779, total=   0.5s\n",
      "[CV] C=10, penalty=l2, solver=saga ...................................\n",
      "[CV] ....... C=10, penalty=l2, solver=saga, score=0.778, total=   0.4s\n",
      "[CV] C=10, penalty=l2, solver=saga ...................................\n",
      "[CV] ....... C=10, penalty=l2, solver=saga, score=0.787, total=   0.4s\n",
      "[CV] C=10, penalty=l2, solver=saga ...................................\n",
      "[CV] ....... C=10, penalty=l2, solver=saga, score=0.775, total=   0.5s\n",
      "[CV] C=10, penalty=l2, solver=saga ...................................\n",
      "[CV] ....... C=10, penalty=l2, solver=saga, score=0.770, total=   0.5s\n",
      "[CV] C=10, penalty=l2, solver=saga ...................................\n",
      "[CV] ....... C=10, penalty=l2, solver=saga, score=0.776, total=   0.4s\n",
      "[CV] C=10, penalty=l2, solver=saga ...................................\n",
      "[CV] ....... C=10, penalty=l2, solver=saga, score=0.768, total=   0.4s\n",
      "[CV] C=10, penalty=l2, solver=saga ...................................\n",
      "[CV] ....... C=10, penalty=l2, solver=saga, score=0.777, total=   0.5s\n",
      "[CV] C=10, penalty=l2, solver=saga ...................................\n",
      "[CV] ....... C=10, penalty=l2, solver=saga, score=0.780, total=   0.5s\n",
      "[CV] C=10, penalty=l2, solver=saga ...................................\n",
      "[CV] ....... C=10, penalty=l2, solver=saga, score=0.762, total=   0.6s\n",
      "[CV] C=10, penalty=l2, solver=lbfgs ..................................\n",
      "[CV] ...... C=10, penalty=l2, solver=lbfgs, score=0.779, total=   0.3s\n",
      "[CV] C=10, penalty=l2, solver=lbfgs ..................................\n",
      "[CV] ...... C=10, penalty=l2, solver=lbfgs, score=0.778, total=   0.4s\n",
      "[CV] C=10, penalty=l2, solver=lbfgs ..................................\n",
      "[CV] ...... C=10, penalty=l2, solver=lbfgs, score=0.787, total=   0.3s\n",
      "[CV] C=10, penalty=l2, solver=lbfgs ..................................\n",
      "[CV] ...... C=10, penalty=l2, solver=lbfgs, score=0.775, total=   0.3s\n",
      "[CV] C=10, penalty=l2, solver=lbfgs ..................................\n",
      "[CV] ...... C=10, penalty=l2, solver=lbfgs, score=0.770, total=   0.3s\n",
      "[CV] C=10, penalty=l2, solver=lbfgs ..................................\n",
      "[CV] ...... C=10, penalty=l2, solver=lbfgs, score=0.776, total=   0.3s\n",
      "[CV] C=10, penalty=l2, solver=lbfgs ..................................\n",
      "[CV] ...... C=10, penalty=l2, solver=lbfgs, score=0.768, total=   0.3s\n",
      "[CV] C=10, penalty=l2, solver=lbfgs ..................................\n",
      "[CV] ...... C=10, penalty=l2, solver=lbfgs, score=0.777, total=   0.3s\n",
      "[CV] C=10, penalty=l2, solver=lbfgs ..................................\n",
      "[CV] ...... C=10, penalty=l2, solver=lbfgs, score=0.780, total=   0.3s\n",
      "[CV] C=10, penalty=l2, solver=lbfgs ..................................\n",
      "[CV] ...... C=10, penalty=l2, solver=lbfgs, score=0.762, total=   0.3s\n",
      "[CV] C=10, penalty=l2, solver=liblinear ..............................\n",
      "[CV] .. C=10, penalty=l2, solver=liblinear, score=0.779, total=   0.4s\n",
      "[CV] C=10, penalty=l2, solver=liblinear ..............................\n",
      "[CV] .. C=10, penalty=l2, solver=liblinear, score=0.778, total=   0.4s\n",
      "[CV] C=10, penalty=l2, solver=liblinear ..............................\n",
      "[CV] .. C=10, penalty=l2, solver=liblinear, score=0.787, total=   0.4s\n",
      "[CV] C=10, penalty=l2, solver=liblinear ..............................\n",
      "[CV] .. C=10, penalty=l2, solver=liblinear, score=0.775, total=   0.4s\n",
      "[CV] C=10, penalty=l2, solver=liblinear ..............................\n",
      "[CV] .. C=10, penalty=l2, solver=liblinear, score=0.770, total=   0.4s\n",
      "[CV] C=10, penalty=l2, solver=liblinear ..............................\n",
      "[CV] .. C=10, penalty=l2, solver=liblinear, score=0.776, total=   0.4s\n",
      "[CV] C=10, penalty=l2, solver=liblinear ..............................\n",
      "[CV] .. C=10, penalty=l2, solver=liblinear, score=0.768, total=   0.4s\n",
      "[CV] C=10, penalty=l2, solver=liblinear ..............................\n",
      "[CV] .. C=10, penalty=l2, solver=liblinear, score=0.777, total=   0.4s\n",
      "[CV] C=10, penalty=l2, solver=liblinear ..............................\n"
     ]
    },
    {
     "name": "stdout",
     "output_type": "stream",
     "text": [
      "[CV] .. C=10, penalty=l2, solver=liblinear, score=0.780, total=   0.4s\n",
      "[CV] C=10, penalty=l2, solver=liblinear ..............................\n",
      "[CV] .. C=10, penalty=l2, solver=liblinear, score=0.762, total=   0.4s\n",
      "[CV] C=100, penalty=l1, solver=newton-cg .............................\n",
      "[CV] ... C=100, penalty=l1, solver=newton-cg, score=nan, total=   0.0s\n",
      "[CV] C=100, penalty=l1, solver=newton-cg .............................\n",
      "[CV] ... C=100, penalty=l1, solver=newton-cg, score=nan, total=   0.0s\n",
      "[CV] C=100, penalty=l1, solver=newton-cg .............................\n",
      "[CV] ... C=100, penalty=l1, solver=newton-cg, score=nan, total=   0.0s\n",
      "[CV] C=100, penalty=l1, solver=newton-cg .............................\n",
      "[CV] ... C=100, penalty=l1, solver=newton-cg, score=nan, total=   0.0s\n",
      "[CV] C=100, penalty=l1, solver=newton-cg .............................\n",
      "[CV] ... C=100, penalty=l1, solver=newton-cg, score=nan, total=   0.0s\n",
      "[CV] C=100, penalty=l1, solver=newton-cg .............................\n",
      "[CV] ... C=100, penalty=l1, solver=newton-cg, score=nan, total=   0.0s\n",
      "[CV] C=100, penalty=l1, solver=newton-cg .............................\n",
      "[CV] ... C=100, penalty=l1, solver=newton-cg, score=nan, total=   0.0s\n",
      "[CV] C=100, penalty=l1, solver=newton-cg .............................\n",
      "[CV] ... C=100, penalty=l1, solver=newton-cg, score=nan, total=   0.0s\n",
      "[CV] C=100, penalty=l1, solver=newton-cg .............................\n",
      "[CV] ... C=100, penalty=l1, solver=newton-cg, score=nan, total=   0.0s\n",
      "[CV] C=100, penalty=l1, solver=newton-cg .............................\n",
      "[CV] ... C=100, penalty=l1, solver=newton-cg, score=nan, total=   0.0s\n",
      "[CV] C=100, penalty=l1, solver=sag ...................................\n",
      "[CV] ......... C=100, penalty=l1, solver=sag, score=nan, total=   0.0s\n",
      "[CV] C=100, penalty=l1, solver=sag ...................................\n",
      "[CV] ......... C=100, penalty=l1, solver=sag, score=nan, total=   0.0s\n",
      "[CV] C=100, penalty=l1, solver=sag ...................................\n",
      "[CV] ......... C=100, penalty=l1, solver=sag, score=nan, total=   0.0s\n",
      "[CV] C=100, penalty=l1, solver=sag ...................................\n",
      "[CV] ......... C=100, penalty=l1, solver=sag, score=nan, total=   0.0s\n",
      "[CV] C=100, penalty=l1, solver=sag ...................................\n",
      "[CV] ......... C=100, penalty=l1, solver=sag, score=nan, total=   0.0s\n",
      "[CV] C=100, penalty=l1, solver=sag ...................................\n",
      "[CV] ......... C=100, penalty=l1, solver=sag, score=nan, total=   0.0s\n",
      "[CV] C=100, penalty=l1, solver=sag ...................................\n",
      "[CV] ......... C=100, penalty=l1, solver=sag, score=nan, total=   0.0s\n",
      "[CV] C=100, penalty=l1, solver=sag ...................................\n",
      "[CV] ......... C=100, penalty=l1, solver=sag, score=nan, total=   0.0s\n",
      "[CV] C=100, penalty=l1, solver=sag ...................................\n",
      "[CV] ......... C=100, penalty=l1, solver=sag, score=nan, total=   0.0s\n",
      "[CV] C=100, penalty=l1, solver=sag ...................................\n",
      "[CV] ......... C=100, penalty=l1, solver=sag, score=nan, total=   0.0s\n",
      "[CV] C=100, penalty=l1, solver=saga ..................................\n"
     ]
    },
    {
     "name": "stderr",
     "output_type": "stream",
     "text": [
      "/home/igor/.local/lib/python3.6/site-packages/sklearn/model_selection/_validation.py:552: FitFailedWarning: Estimator fit failed. The score on this train-test partition for these parameters will be set to nan. Details: \n",
      "Traceback (most recent call last):\n",
      "  File \"/home/igor/.local/lib/python3.6/site-packages/sklearn/model_selection/_validation.py\", line 531, in _fit_and_score\n",
      "    estimator.fit(X_train, y_train, **fit_params)\n",
      "  File \"/home/igor/.local/lib/python3.6/site-packages/sklearn/linear_model/_logistic.py\", line 1304, in fit\n",
      "    solver = _check_solver(self.solver, self.penalty, self.dual)\n",
      "  File \"/home/igor/.local/lib/python3.6/site-packages/sklearn/linear_model/_logistic.py\", line 443, in _check_solver\n",
      "    \"got %s penalty.\" % (solver, penalty))\n",
      "ValueError: Solver newton-cg supports only 'l2' or 'none' penalties, got l1 penalty.\n",
      "\n",
      "  FitFailedWarning)\n",
      "/home/igor/.local/lib/python3.6/site-packages/sklearn/model_selection/_validation.py:552: FitFailedWarning: Estimator fit failed. The score on this train-test partition for these parameters will be set to nan. Details: \n",
      "Traceback (most recent call last):\n",
      "  File \"/home/igor/.local/lib/python3.6/site-packages/sklearn/model_selection/_validation.py\", line 531, in _fit_and_score\n",
      "    estimator.fit(X_train, y_train, **fit_params)\n",
      "  File \"/home/igor/.local/lib/python3.6/site-packages/sklearn/linear_model/_logistic.py\", line 1304, in fit\n",
      "    solver = _check_solver(self.solver, self.penalty, self.dual)\n",
      "  File \"/home/igor/.local/lib/python3.6/site-packages/sklearn/linear_model/_logistic.py\", line 443, in _check_solver\n",
      "    \"got %s penalty.\" % (solver, penalty))\n",
      "ValueError: Solver sag supports only 'l2' or 'none' penalties, got l1 penalty.\n",
      "\n",
      "  FitFailedWarning)\n"
     ]
    },
    {
     "name": "stdout",
     "output_type": "stream",
     "text": [
      "[CV] ...... C=100, penalty=l1, solver=saga, score=0.779, total=   0.5s\n",
      "[CV] C=100, penalty=l1, solver=saga ..................................\n",
      "[CV] ...... C=100, penalty=l1, solver=saga, score=0.778, total=   0.5s\n",
      "[CV] C=100, penalty=l1, solver=saga ..................................\n",
      "[CV] ...... C=100, penalty=l1, solver=saga, score=0.787, total=   0.5s\n",
      "[CV] C=100, penalty=l1, solver=saga ..................................\n",
      "[CV] ...... C=100, penalty=l1, solver=saga, score=0.775, total=   0.6s\n",
      "[CV] C=100, penalty=l1, solver=saga ..................................\n",
      "[CV] ...... C=100, penalty=l1, solver=saga, score=0.770, total=   0.5s\n",
      "[CV] C=100, penalty=l1, solver=saga ..................................\n",
      "[CV] ...... C=100, penalty=l1, solver=saga, score=0.776, total=   0.5s\n",
      "[CV] C=100, penalty=l1, solver=saga ..................................\n",
      "[CV] ...... C=100, penalty=l1, solver=saga, score=0.768, total=   0.5s\n",
      "[CV] C=100, penalty=l1, solver=saga ..................................\n",
      "[CV] ...... C=100, penalty=l1, solver=saga, score=0.777, total=   0.5s\n",
      "[CV] C=100, penalty=l1, solver=saga ..................................\n",
      "[CV] ...... C=100, penalty=l1, solver=saga, score=0.780, total=   0.5s\n",
      "[CV] C=100, penalty=l1, solver=saga ..................................\n",
      "[CV] ...... C=100, penalty=l1, solver=saga, score=0.762, total=   0.6s\n",
      "[CV] C=100, penalty=l1, solver=lbfgs .................................\n",
      "[CV] ....... C=100, penalty=l1, solver=lbfgs, score=nan, total=   0.0s\n",
      "[CV] C=100, penalty=l1, solver=lbfgs .................................\n",
      "[CV] ....... C=100, penalty=l1, solver=lbfgs, score=nan, total=   0.0s\n",
      "[CV] C=100, penalty=l1, solver=lbfgs .................................\n",
      "[CV] ....... C=100, penalty=l1, solver=lbfgs, score=nan, total=   0.0s\n",
      "[CV] C=100, penalty=l1, solver=lbfgs .................................\n",
      "[CV] ....... C=100, penalty=l1, solver=lbfgs, score=nan, total=   0.0s\n",
      "[CV] C=100, penalty=l1, solver=lbfgs .................................\n",
      "[CV] ....... C=100, penalty=l1, solver=lbfgs, score=nan, total=   0.0s\n",
      "[CV] C=100, penalty=l1, solver=lbfgs .................................\n",
      "[CV] ....... C=100, penalty=l1, solver=lbfgs, score=nan, total=   0.0s\n",
      "[CV] C=100, penalty=l1, solver=lbfgs .................................\n",
      "[CV] ....... C=100, penalty=l1, solver=lbfgs, score=nan, total=   0.0s\n",
      "[CV] C=100, penalty=l1, solver=lbfgs .................................\n",
      "[CV] ....... C=100, penalty=l1, solver=lbfgs, score=nan, total=   0.0s\n",
      "[CV] C=100, penalty=l1, solver=lbfgs .................................\n",
      "[CV] ....... C=100, penalty=l1, solver=lbfgs, score=nan, total=   0.0s\n",
      "[CV] C=100, penalty=l1, solver=lbfgs .................................\n",
      "[CV] ....... C=100, penalty=l1, solver=lbfgs, score=nan, total=   0.0s\n",
      "[CV] C=100, penalty=l1, solver=liblinear .............................\n"
     ]
    },
    {
     "name": "stderr",
     "output_type": "stream",
     "text": [
      "/home/igor/.local/lib/python3.6/site-packages/sklearn/model_selection/_validation.py:552: FitFailedWarning: Estimator fit failed. The score on this train-test partition for these parameters will be set to nan. Details: \n",
      "Traceback (most recent call last):\n",
      "  File \"/home/igor/.local/lib/python3.6/site-packages/sklearn/model_selection/_validation.py\", line 531, in _fit_and_score\n",
      "    estimator.fit(X_train, y_train, **fit_params)\n",
      "  File \"/home/igor/.local/lib/python3.6/site-packages/sklearn/linear_model/_logistic.py\", line 1304, in fit\n",
      "    solver = _check_solver(self.solver, self.penalty, self.dual)\n",
      "  File \"/home/igor/.local/lib/python3.6/site-packages/sklearn/linear_model/_logistic.py\", line 443, in _check_solver\n",
      "    \"got %s penalty.\" % (solver, penalty))\n",
      "ValueError: Solver lbfgs supports only 'l2' or 'none' penalties, got l1 penalty.\n",
      "\n",
      "  FitFailedWarning)\n"
     ]
    },
    {
     "name": "stdout",
     "output_type": "stream",
     "text": [
      "[CV] . C=100, penalty=l1, solver=liblinear, score=0.779, total=   0.6s\n",
      "[CV] C=100, penalty=l1, solver=liblinear .............................\n",
      "[CV] . C=100, penalty=l1, solver=liblinear, score=0.778, total=   0.6s\n",
      "[CV] C=100, penalty=l1, solver=liblinear .............................\n",
      "[CV] . C=100, penalty=l1, solver=liblinear, score=0.787, total=   0.5s\n",
      "[CV] C=100, penalty=l1, solver=liblinear .............................\n",
      "[CV] . C=100, penalty=l1, solver=liblinear, score=0.775, total=   0.5s\n",
      "[CV] C=100, penalty=l1, solver=liblinear .............................\n",
      "[CV] . C=100, penalty=l1, solver=liblinear, score=0.770, total=   0.5s\n",
      "[CV] C=100, penalty=l1, solver=liblinear .............................\n",
      "[CV] . C=100, penalty=l1, solver=liblinear, score=0.776, total=   0.5s\n",
      "[CV] C=100, penalty=l1, solver=liblinear .............................\n",
      "[CV] . C=100, penalty=l1, solver=liblinear, score=0.768, total=   0.5s\n",
      "[CV] C=100, penalty=l1, solver=liblinear .............................\n",
      "[CV] . C=100, penalty=l1, solver=liblinear, score=0.777, total=   0.5s\n",
      "[CV] C=100, penalty=l1, solver=liblinear .............................\n",
      "[CV] . C=100, penalty=l1, solver=liblinear, score=0.780, total=   0.5s\n",
      "[CV] C=100, penalty=l1, solver=liblinear .............................\n",
      "[CV] . C=100, penalty=l1, solver=liblinear, score=0.762, total=   0.5s\n",
      "[CV] C=100, penalty=l2, solver=newton-cg .............................\n",
      "[CV] . C=100, penalty=l2, solver=newton-cg, score=0.779, total=   0.8s\n",
      "[CV] C=100, penalty=l2, solver=newton-cg .............................\n",
      "[CV] . C=100, penalty=l2, solver=newton-cg, score=0.778, total=   0.8s\n",
      "[CV] C=100, penalty=l2, solver=newton-cg .............................\n",
      "[CV] . C=100, penalty=l2, solver=newton-cg, score=0.787, total=   0.8s\n",
      "[CV] C=100, penalty=l2, solver=newton-cg .............................\n",
      "[CV] . C=100, penalty=l2, solver=newton-cg, score=0.775, total=   0.9s\n",
      "[CV] C=100, penalty=l2, solver=newton-cg .............................\n",
      "[CV] . C=100, penalty=l2, solver=newton-cg, score=0.770, total=   0.8s\n",
      "[CV] C=100, penalty=l2, solver=newton-cg .............................\n",
      "[CV] . C=100, penalty=l2, solver=newton-cg, score=0.776, total=   0.8s\n",
      "[CV] C=100, penalty=l2, solver=newton-cg .............................\n",
      "[CV] . C=100, penalty=l2, solver=newton-cg, score=0.768, total=   0.8s\n",
      "[CV] C=100, penalty=l2, solver=newton-cg .............................\n",
      "[CV] . C=100, penalty=l2, solver=newton-cg, score=0.777, total=   0.8s\n",
      "[CV] C=100, penalty=l2, solver=newton-cg .............................\n",
      "[CV] . C=100, penalty=l2, solver=newton-cg, score=0.780, total=   0.8s\n",
      "[CV] C=100, penalty=l2, solver=newton-cg .............................\n",
      "[CV] . C=100, penalty=l2, solver=newton-cg, score=0.762, total=   0.9s\n",
      "[CV] C=100, penalty=l2, solver=sag ...................................\n",
      "[CV] ....... C=100, penalty=l2, solver=sag, score=0.779, total=   0.7s\n",
      "[CV] C=100, penalty=l2, solver=sag ...................................\n",
      "[CV] ....... C=100, penalty=l2, solver=sag, score=0.778, total=   0.5s\n",
      "[CV] C=100, penalty=l2, solver=sag ...................................\n",
      "[CV] ....... C=100, penalty=l2, solver=sag, score=0.787, total=   0.5s\n",
      "[CV] C=100, penalty=l2, solver=sag ...................................\n",
      "[CV] ....... C=100, penalty=l2, solver=sag, score=0.775, total=   0.5s\n",
      "[CV] C=100, penalty=l2, solver=sag ...................................\n",
      "[CV] ....... C=100, penalty=l2, solver=sag, score=0.770, total=   0.5s\n",
      "[CV] C=100, penalty=l2, solver=sag ...................................\n",
      "[CV] ....... C=100, penalty=l2, solver=sag, score=0.776, total=   0.5s\n",
      "[CV] C=100, penalty=l2, solver=sag ...................................\n",
      "[CV] ....... C=100, penalty=l2, solver=sag, score=0.768, total=   0.5s\n",
      "[CV] C=100, penalty=l2, solver=sag ...................................\n",
      "[CV] ....... C=100, penalty=l2, solver=sag, score=0.777, total=   0.5s\n",
      "[CV] C=100, penalty=l2, solver=sag ...................................\n",
      "[CV] ....... C=100, penalty=l2, solver=sag, score=0.780, total=   0.5s\n",
      "[CV] C=100, penalty=l2, solver=sag ...................................\n",
      "[CV] ....... C=100, penalty=l2, solver=sag, score=0.762, total=   0.6s\n",
      "[CV] C=100, penalty=l2, solver=saga ..................................\n",
      "[CV] ...... C=100, penalty=l2, solver=saga, score=0.779, total=   0.5s\n",
      "[CV] C=100, penalty=l2, solver=saga ..................................\n",
      "[CV] ...... C=100, penalty=l2, solver=saga, score=0.778, total=   0.5s\n",
      "[CV] C=100, penalty=l2, solver=saga ..................................\n",
      "[CV] ...... C=100, penalty=l2, solver=saga, score=0.787, total=   0.5s\n",
      "[CV] C=100, penalty=l2, solver=saga ..................................\n",
      "[CV] ...... C=100, penalty=l2, solver=saga, score=0.775, total=   0.5s\n",
      "[CV] C=100, penalty=l2, solver=saga ..................................\n",
      "[CV] ...... C=100, penalty=l2, solver=saga, score=0.770, total=   0.5s\n",
      "[CV] C=100, penalty=l2, solver=saga ..................................\n",
      "[CV] ...... C=100, penalty=l2, solver=saga, score=0.776, total=   0.5s\n",
      "[CV] C=100, penalty=l2, solver=saga ..................................\n",
      "[CV] ...... C=100, penalty=l2, solver=saga, score=0.768, total=   0.5s\n",
      "[CV] C=100, penalty=l2, solver=saga ..................................\n",
      "[CV] ...... C=100, penalty=l2, solver=saga, score=0.777, total=   0.5s\n",
      "[CV] C=100, penalty=l2, solver=saga ..................................\n",
      "[CV] ...... C=100, penalty=l2, solver=saga, score=0.780, total=   0.5s\n",
      "[CV] C=100, penalty=l2, solver=saga ..................................\n",
      "[CV] ...... C=100, penalty=l2, solver=saga, score=0.762, total=   0.6s\n",
      "[CV] C=100, penalty=l2, solver=lbfgs .................................\n",
      "[CV] ..... C=100, penalty=l2, solver=lbfgs, score=0.779, total=   0.3s\n",
      "[CV] C=100, penalty=l2, solver=lbfgs .................................\n",
      "[CV] ..... C=100, penalty=l2, solver=lbfgs, score=0.778, total=   0.3s\n",
      "[CV] C=100, penalty=l2, solver=lbfgs .................................\n",
      "[CV] ..... C=100, penalty=l2, solver=lbfgs, score=0.787, total=   0.3s\n",
      "[CV] C=100, penalty=l2, solver=lbfgs .................................\n",
      "[CV] ..... C=100, penalty=l2, solver=lbfgs, score=0.775, total=   0.3s\n",
      "[CV] C=100, penalty=l2, solver=lbfgs .................................\n",
      "[CV] ..... C=100, penalty=l2, solver=lbfgs, score=0.770, total=   0.3s\n",
      "[CV] C=100, penalty=l2, solver=lbfgs .................................\n",
      "[CV] ..... C=100, penalty=l2, solver=lbfgs, score=0.776, total=   0.3s\n",
      "[CV] C=100, penalty=l2, solver=lbfgs .................................\n",
      "[CV] ..... C=100, penalty=l2, solver=lbfgs, score=0.768, total=   0.4s\n",
      "[CV] C=100, penalty=l2, solver=lbfgs .................................\n",
      "[CV] ..... C=100, penalty=l2, solver=lbfgs, score=0.777, total=   0.4s\n",
      "[CV] C=100, penalty=l2, solver=lbfgs .................................\n",
      "[CV] ..... C=100, penalty=l2, solver=lbfgs, score=0.780, total=   0.3s\n",
      "[CV] C=100, penalty=l2, solver=lbfgs .................................\n",
      "[CV] ..... C=100, penalty=l2, solver=lbfgs, score=0.762, total=   0.4s\n",
      "[CV] C=100, penalty=l2, solver=liblinear .............................\n",
      "[CV] . C=100, penalty=l2, solver=liblinear, score=0.779, total=   0.4s\n",
      "[CV] C=100, penalty=l2, solver=liblinear .............................\n",
      "[CV] . C=100, penalty=l2, solver=liblinear, score=0.778, total=   0.6s\n",
      "[CV] C=100, penalty=l2, solver=liblinear .............................\n",
      "[CV] . C=100, penalty=l2, solver=liblinear, score=0.787, total=   0.5s\n",
      "[CV] C=100, penalty=l2, solver=liblinear .............................\n",
      "[CV] . C=100, penalty=l2, solver=liblinear, score=0.775, total=   0.5s\n",
      "[CV] C=100, penalty=l2, solver=liblinear .............................\n",
      "[CV] . C=100, penalty=l2, solver=liblinear, score=0.770, total=   0.5s\n",
      "[CV] C=100, penalty=l2, solver=liblinear .............................\n",
      "[CV] . C=100, penalty=l2, solver=liblinear, score=0.776, total=   0.5s\n",
      "[CV] C=100, penalty=l2, solver=liblinear .............................\n",
      "[CV] . C=100, penalty=l2, solver=liblinear, score=0.768, total=   0.5s\n",
      "[CV] C=100, penalty=l2, solver=liblinear .............................\n",
      "[CV] . C=100, penalty=l2, solver=liblinear, score=0.777, total=   0.4s\n",
      "[CV] C=100, penalty=l2, solver=liblinear .............................\n"
     ]
    },
    {
     "name": "stdout",
     "output_type": "stream",
     "text": [
      "[CV] . C=100, penalty=l2, solver=liblinear, score=0.780, total=   0.4s\n",
      "[CV] C=100, penalty=l2, solver=liblinear .............................\n",
      "[CV] . C=100, penalty=l2, solver=liblinear, score=0.762, total=   0.4s\n"
     ]
    },
    {
     "name": "stderr",
     "output_type": "stream",
     "text": [
      "[Parallel(n_jobs=1)]: Done 600 out of 600 | elapsed:  3.3min finished\n"
     ]
    },
    {
     "name": "stdout",
     "output_type": "stream",
     "text": [
      "Fitting 10 folds for each of 10 candidates, totalling 100 fits\n",
      "[CV] criterion=gini, n_estimators=10 .................................\n"
     ]
    },
    {
     "name": "stderr",
     "output_type": "stream",
     "text": [
      "[Parallel(n_jobs=1)]: Using backend SequentialBackend with 1 concurrent workers.\n"
     ]
    },
    {
     "name": "stdout",
     "output_type": "stream",
     "text": [
      "[CV] ..... criterion=gini, n_estimators=10, score=0.777, total=   0.4s\n",
      "[CV] criterion=gini, n_estimators=10 .................................\n"
     ]
    },
    {
     "name": "stderr",
     "output_type": "stream",
     "text": [
      "[Parallel(n_jobs=1)]: Done   1 out of   1 | elapsed:    0.4s remaining:    0.0s\n"
     ]
    },
    {
     "name": "stdout",
     "output_type": "stream",
     "text": [
      "[CV] ..... criterion=gini, n_estimators=10, score=0.755, total=   0.4s\n",
      "[CV] criterion=gini, n_estimators=10 .................................\n"
     ]
    },
    {
     "name": "stderr",
     "output_type": "stream",
     "text": [
      "[Parallel(n_jobs=1)]: Done   2 out of   2 | elapsed:    0.8s remaining:    0.0s\n"
     ]
    },
    {
     "name": "stdout",
     "output_type": "stream",
     "text": [
      "[CV] ..... criterion=gini, n_estimators=10, score=0.777, total=   0.4s\n",
      "[CV] criterion=gini, n_estimators=10 .................................\n"
     ]
    },
    {
     "name": "stderr",
     "output_type": "stream",
     "text": [
      "[Parallel(n_jobs=1)]: Done   3 out of   3 | elapsed:    1.2s remaining:    0.0s\n"
     ]
    },
    {
     "name": "stdout",
     "output_type": "stream",
     "text": [
      "[CV] ..... criterion=gini, n_estimators=10, score=0.767, total=   0.4s\n",
      "[CV] criterion=gini, n_estimators=10 .................................\n",
      "[CV] ..... criterion=gini, n_estimators=10, score=0.763, total=   0.4s\n",
      "[CV] criterion=gini, n_estimators=10 .................................\n",
      "[CV] ..... criterion=gini, n_estimators=10, score=0.774, total=   0.4s\n",
      "[CV] criterion=gini, n_estimators=10 .................................\n",
      "[CV] ..... criterion=gini, n_estimators=10, score=0.769, total=   0.4s\n",
      "[CV] criterion=gini, n_estimators=10 .................................\n",
      "[CV] ..... criterion=gini, n_estimators=10, score=0.772, total=   0.4s\n",
      "[CV] criterion=gini, n_estimators=10 .................................\n",
      "[CV] ..... criterion=gini, n_estimators=10, score=0.769, total=   0.4s\n",
      "[CV] criterion=gini, n_estimators=10 .................................\n",
      "[CV] ..... criterion=gini, n_estimators=10, score=0.768, total=   0.4s\n",
      "[CV] criterion=gini, n_estimators=50 .................................\n",
      "[CV] ..... criterion=gini, n_estimators=50, score=0.795, total=   1.9s\n",
      "[CV] criterion=gini, n_estimators=50 .................................\n",
      "[CV] ..... criterion=gini, n_estimators=50, score=0.781, total=   1.8s\n",
      "[CV] criterion=gini, n_estimators=50 .................................\n",
      "[CV] ..... criterion=gini, n_estimators=50, score=0.796, total=   1.8s\n",
      "[CV] criterion=gini, n_estimators=50 .................................\n",
      "[CV] ..... criterion=gini, n_estimators=50, score=0.781, total=   1.8s\n",
      "[CV] criterion=gini, n_estimators=50 .................................\n",
      "[CV] ..... criterion=gini, n_estimators=50, score=0.777, total=   1.9s\n",
      "[CV] criterion=gini, n_estimators=50 .................................\n",
      "[CV] ..... criterion=gini, n_estimators=50, score=0.789, total=   1.9s\n",
      "[CV] criterion=gini, n_estimators=50 .................................\n",
      "[CV] ..... criterion=gini, n_estimators=50, score=0.791, total=   1.9s\n",
      "[CV] criterion=gini, n_estimators=50 .................................\n",
      "[CV] ..... criterion=gini, n_estimators=50, score=0.785, total=   1.8s\n",
      "[CV] criterion=gini, n_estimators=50 .................................\n",
      "[CV] ..... criterion=gini, n_estimators=50, score=0.792, total=   1.8s\n",
      "[CV] criterion=gini, n_estimators=50 .................................\n",
      "[CV] ..... criterion=gini, n_estimators=50, score=0.785, total=   1.9s\n",
      "[CV] criterion=gini, n_estimators=100 ................................\n",
      "[CV] .... criterion=gini, n_estimators=100, score=0.792, total=   3.5s\n",
      "[CV] criterion=gini, n_estimators=100 ................................\n",
      "[CV] .... criterion=gini, n_estimators=100, score=0.780, total=   4.2s\n",
      "[CV] criterion=gini, n_estimators=100 ................................\n",
      "[CV] .... criterion=gini, n_estimators=100, score=0.798, total=   4.4s\n",
      "[CV] criterion=gini, n_estimators=100 ................................\n",
      "[CV] .... criterion=gini, n_estimators=100, score=0.786, total=   3.5s\n",
      "[CV] criterion=gini, n_estimators=100 ................................\n",
      "[CV] .... criterion=gini, n_estimators=100, score=0.778, total=   3.5s\n",
      "[CV] criterion=gini, n_estimators=100 ................................\n",
      "[CV] .... criterion=gini, n_estimators=100, score=0.789, total=   3.6s\n",
      "[CV] criterion=gini, n_estimators=100 ................................\n",
      "[CV] .... criterion=gini, n_estimators=100, score=0.793, total=   3.7s\n",
      "[CV] criterion=gini, n_estimators=100 ................................\n",
      "[CV] .... criterion=gini, n_estimators=100, score=0.785, total=   3.9s\n",
      "[CV] criterion=gini, n_estimators=100 ................................\n",
      "[CV] .... criterion=gini, n_estimators=100, score=0.795, total=   3.7s\n",
      "[CV] criterion=gini, n_estimators=100 ................................\n",
      "[CV] .... criterion=gini, n_estimators=100, score=0.784, total=   4.3s\n",
      "[CV] criterion=gini, n_estimators=500 ................................\n",
      "[CV] .... criterion=gini, n_estimators=500, score=0.793, total=  18.2s\n",
      "[CV] criterion=gini, n_estimators=500 ................................\n",
      "[CV] .... criterion=gini, n_estimators=500, score=0.781, total=  17.0s\n",
      "[CV] criterion=gini, n_estimators=500 ................................\n",
      "[CV] .... criterion=gini, n_estimators=500, score=0.797, total=  17.1s\n",
      "[CV] criterion=gini, n_estimators=500 ................................\n",
      "[CV] .... criterion=gini, n_estimators=500, score=0.789, total=  17.3s\n",
      "[CV] criterion=gini, n_estimators=500 ................................\n",
      "[CV] .... criterion=gini, n_estimators=500, score=0.782, total=  18.0s\n",
      "[CV] criterion=gini, n_estimators=500 ................................\n",
      "[CV] .... criterion=gini, n_estimators=500, score=0.790, total=  17.9s\n",
      "[CV] criterion=gini, n_estimators=500 ................................\n",
      "[CV] .... criterion=gini, n_estimators=500, score=0.797, total=  18.7s\n",
      "[CV] criterion=gini, n_estimators=500 ................................\n",
      "[CV] .... criterion=gini, n_estimators=500, score=0.791, total=  16.7s\n",
      "[CV] criterion=gini, n_estimators=500 ................................\n",
      "[CV] .... criterion=gini, n_estimators=500, score=0.797, total=  17.9s\n",
      "[CV] criterion=gini, n_estimators=500 ................................\n",
      "[CV] .... criterion=gini, n_estimators=500, score=0.788, total=  17.5s\n",
      "[CV] criterion=gini, n_estimators=1000 ...............................\n"
     ]
    }
   ],
   "source": [
    "class_boost_1 = grid1.fit(X_train,y_train)\n",
    "class_boost_2 = grid2.fit(X_train,y_train)"
   ]
  },
  {
   "cell_type": "code",
   "execution_count": null,
   "metadata": {
    "id": "eG35Mp0dN6Q7"
   },
   "outputs": [],
   "source": [
    "boost_predictions1 = class_boost_1.predict(X_test)\n",
    "boost_predictions2 = class_boost_2.predict(X_test)"
   ]
  },
  {
   "cell_type": "code",
   "execution_count": null,
   "metadata": {
    "id": "1SDt9RNpN8BA"
   },
   "outputs": [],
   "source": [
    "cmb1 = confusion_matrix(y_test, boost_predictions1)\n",
    "cmb2 = confusion_matrix(y_test, boost_predictions2)"
   ]
  },
  {
   "cell_type": "code",
   "execution_count": null,
   "metadata": {
    "colab": {
     "base_uri": "https://localhost:8080/",
     "height": 511
    },
    "id": "LM3wN0xwOAJP",
    "outputId": "10af0f64-344b-4cd5-b264-7d275807a37d"
   },
   "outputs": [],
   "source": [
    "sns.heatmap(cmb1, annot=True)\n",
    "print(classification_report(y_test,boost_predictions1))\n",
    "print('The best parameters for Logistic Regression:')\n",
    "print(grid1.best_params_)\n",
    "print('\\n')\n",
    "print('Confusion Matrix')"
   ]
  },
  {
   "cell_type": "code",
   "execution_count": null,
   "metadata": {
    "colab": {
     "base_uri": "https://localhost:8080/"
    },
    "id": "n4EbRtqeQAB_",
    "outputId": "97fb7b08-ce02-4323-9886-2dad3348185f"
   },
   "outputs": [],
   "source": [
    "print('Average Accuracy {:.2f}%'.format(grid1.best_score_ * 100))\n",
    "print('Standard Deviation {:.2f}%'.format(grid1.cv_results_['std_test_score'][grid1.best_index_] * 100))"
   ]
  },
  {
   "cell_type": "code",
   "execution_count": null,
   "metadata": {
    "colab": {
     "base_uri": "https://localhost:8080/",
     "height": 511
    },
    "id": "YLS_qnAgOCiJ",
    "outputId": "d99ec56c-3d4a-4e10-bec3-c066c0beecf9"
   },
   "outputs": [],
   "source": [
    "sns.heatmap(cmb2, annot=True)\n",
    "print(classification_report(y_test,boost_predictions2))\n",
    "print('Random Forest Classification:')\n",
    "print(grid2.best_params_)\n",
    "print('\\n')\n",
    "print('Confusion Matrix')"
   ]
  },
  {
   "cell_type": "code",
   "execution_count": null,
   "metadata": {
    "colab": {
     "base_uri": "https://localhost:8080/"
    },
    "id": "SIpJBFV5QBgj",
    "outputId": "b4d9c9b9-dee2-4af7-808d-8ab30ffa90fe"
   },
   "outputs": [],
   "source": [
    "print('Average Accuracy {:.2f}%'.format(grid2.best_score_ * 100))\n",
    "print('Standard Deviation {:.2f}%'.format(grid2.cv_results_['std_test_score'][grid2.best_index_] * 100))"
   ]
  },
  {
   "cell_type": "markdown",
   "metadata": {
    "id": "ptH2Z_7qdspN"
   },
   "source": [
    "# Conclusions\n",
    "Here I need to explain in a good way what are the conclusions"
   ]
  }
 ],
 "metadata": {
  "colab": {
   "collapsed_sections": [],
   "name": "Directing_cstaba.ipynb",
   "provenance": []
  },
  "kernelspec": {
   "display_name": "Python 3",
   "language": "python",
   "name": "python3"
  },
  "language_info": {
   "codemirror_mode": {
    "name": "ipython",
    "version": 3
   },
   "file_extension": ".py",
   "mimetype": "text/x-python",
   "name": "python",
   "nbconvert_exporter": "python",
   "pygments_lexer": "ipython3",
   "version": "3.6.9"
  }
 },
 "nbformat": 4,
 "nbformat_minor": 1
}
