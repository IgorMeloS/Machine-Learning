{
  "nbformat": 4,
  "nbformat_minor": 0,
  "metadata": {
    "colab": {
      "name": "Directing_cstaba.ipynb",
      "provenance": [],
      "collapsed_sections": []
    },
    "kernelspec": {
      "display_name": "Python 3",
      "language": "python",
      "name": "python3"
    },
    "language_info": {
      "codemirror_mode": {
        "name": "ipython",
        "version": 3
      },
      "file_extension": ".py",
      "mimetype": "text/x-python",
      "name": "python",
      "nbconvert_exporter": "python",
      "pygments_lexer": "ipython3",
      "version": "3.6.9"
    }
  },
  "cells": [
    {
      "cell_type": "markdown",
      "metadata": {
        "id": "wE9kVS1VnXab"
      },
      "source": [
        "# Directing Customers to Subscription Through App Behavior Analysis\n",
        "\n",
        "\n",
        "In marketing analysis, the Machine Learning technics can provide a helpful tool. For example, companies that have mobile services in two version free and paid, want always to obtain the maximum number of subscription. One way to make the better publicities is to know the customers behavior, based on the behavior of each custumer some company can offer your mobile services.\n",
        "But the question is: How can we know the custumers behavior ?\n",
        "The answer for this question is simple, we construct a model of classification based on the client acitivities in the free services and then, we can classify if a certain custumer will subscripe or not."
      ]
    },
    {
      "cell_type": "markdown",
      "metadata": {
        "id": "8ZLzDcJrwVAZ"
      },
      "source": [
        "# Data Preprocessing"
      ]
    },
    {
      "cell_type": "markdown",
      "metadata": {
        "id": "ILieoQwZuC2J"
      },
      "source": [
        "## Importing Libraries"
      ]
    },
    {
      "cell_type": "code",
      "metadata": {
        "id": "KsQmKblZnvLR"
      },
      "source": [
        "import pandas as pd\n",
        "from dateutil import parser\n",
        "import numpy as np\n",
        "import matplotlib.pyplot as plt\n",
        "import seaborn as sns"
      ],
      "execution_count": 1,
      "outputs": []
    },
    {
      "cell_type": "markdown",
      "metadata": {
        "id": "83AOHCUZuc-2"
      },
      "source": [
        "## Importing Dataset"
      ]
    },
    {
      "cell_type": "code",
      "metadata": {
        "colab": {
          "base_uri": "https://localhost:8080/"
        },
        "id": "_7uK9NKwuheP",
        "outputId": "68f89416-95ce-4df8-e489-cdf5dc10eb2f"
      },
      "source": [
        "dataset = pd.read_csv('appdata10.csv')\n",
        "dataset.shape\n"
      ],
      "execution_count": 2,
      "outputs": [
        {
          "output_type": "execute_result",
          "data": {
            "text/plain": [
              "(50000, 12)"
            ]
          },
          "metadata": {
            "tags": []
          },
          "execution_count": 2
        }
      ]
    },
    {
      "cell_type": "code",
      "metadata": {
        "colab": {
          "base_uri": "https://localhost:8080/"
        },
        "id": "xM5qhgmhNCQP",
        "outputId": "f04923b6-18cd-4a1b-dbd8-96942b6c78a8"
      },
      "source": [
        "dataset.dtypes"
      ],
      "execution_count": 3,
      "outputs": [
        {
          "output_type": "execute_result",
          "data": {
            "text/plain": [
              "user                     int64\n",
              "first_open              object\n",
              "dayofweek                int64\n",
              "hour                    object\n",
              "age                      int64\n",
              "screen_list             object\n",
              "numscreens               int64\n",
              "minigame                 int64\n",
              "used_premium_feature     int64\n",
              "enrolled                 int64\n",
              "enrolled_date           object\n",
              "liked                    int64\n",
              "dtype: object"
            ]
          },
          "metadata": {
            "tags": []
          },
          "execution_count": 3
        }
      ]
    },
    {
      "cell_type": "code",
      "metadata": {
        "colab": {
          "base_uri": "https://localhost:8080/",
          "height": 293
        },
        "id": "umddn8TcLP-E",
        "outputId": "fdfb261d-5f74-4091-aa5b-48b4ac317a08"
      },
      "source": [
        "dataset.head()"
      ],
      "execution_count": 4,
      "outputs": [
        {
          "output_type": "execute_result",
          "data": {
            "text/html": [
              "<div>\n",
              "<style scoped>\n",
              "    .dataframe tbody tr th:only-of-type {\n",
              "        vertical-align: middle;\n",
              "    }\n",
              "\n",
              "    .dataframe tbody tr th {\n",
              "        vertical-align: top;\n",
              "    }\n",
              "\n",
              "    .dataframe thead th {\n",
              "        text-align: right;\n",
              "    }\n",
              "</style>\n",
              "<table border=\"1\" class=\"dataframe\">\n",
              "  <thead>\n",
              "    <tr style=\"text-align: right;\">\n",
              "      <th></th>\n",
              "      <th>user</th>\n",
              "      <th>first_open</th>\n",
              "      <th>dayofweek</th>\n",
              "      <th>hour</th>\n",
              "      <th>age</th>\n",
              "      <th>screen_list</th>\n",
              "      <th>numscreens</th>\n",
              "      <th>minigame</th>\n",
              "      <th>used_premium_feature</th>\n",
              "      <th>enrolled</th>\n",
              "      <th>enrolled_date</th>\n",
              "      <th>liked</th>\n",
              "    </tr>\n",
              "  </thead>\n",
              "  <tbody>\n",
              "    <tr>\n",
              "      <th>0</th>\n",
              "      <td>235136</td>\n",
              "      <td>2012-12-27 02:14:51.273</td>\n",
              "      <td>3</td>\n",
              "      <td>02:00:00</td>\n",
              "      <td>23</td>\n",
              "      <td>idscreen,joinscreen,Cycle,product_review,ScanP...</td>\n",
              "      <td>15</td>\n",
              "      <td>0</td>\n",
              "      <td>0</td>\n",
              "      <td>0</td>\n",
              "      <td>NaN</td>\n",
              "      <td>0</td>\n",
              "    </tr>\n",
              "    <tr>\n",
              "      <th>1</th>\n",
              "      <td>333588</td>\n",
              "      <td>2012-12-02 01:16:00.905</td>\n",
              "      <td>6</td>\n",
              "      <td>01:00:00</td>\n",
              "      <td>24</td>\n",
              "      <td>joinscreen,product_review,product_review2,Scan...</td>\n",
              "      <td>13</td>\n",
              "      <td>0</td>\n",
              "      <td>0</td>\n",
              "      <td>0</td>\n",
              "      <td>NaN</td>\n",
              "      <td>0</td>\n",
              "    </tr>\n",
              "    <tr>\n",
              "      <th>2</th>\n",
              "      <td>254414</td>\n",
              "      <td>2013-03-19 19:19:09.157</td>\n",
              "      <td>1</td>\n",
              "      <td>19:00:00</td>\n",
              "      <td>23</td>\n",
              "      <td>Splash,Cycle,Loan</td>\n",
              "      <td>3</td>\n",
              "      <td>0</td>\n",
              "      <td>1</td>\n",
              "      <td>0</td>\n",
              "      <td>NaN</td>\n",
              "      <td>1</td>\n",
              "    </tr>\n",
              "    <tr>\n",
              "      <th>3</th>\n",
              "      <td>234192</td>\n",
              "      <td>2013-07-05 16:08:46.354</td>\n",
              "      <td>4</td>\n",
              "      <td>16:00:00</td>\n",
              "      <td>28</td>\n",
              "      <td>product_review,Home,product_review,Loan3,Finan...</td>\n",
              "      <td>40</td>\n",
              "      <td>0</td>\n",
              "      <td>0</td>\n",
              "      <td>1</td>\n",
              "      <td>2013-07-05 16:11:49.513</td>\n",
              "      <td>0</td>\n",
              "    </tr>\n",
              "    <tr>\n",
              "      <th>4</th>\n",
              "      <td>51549</td>\n",
              "      <td>2013-02-26 18:50:48.661</td>\n",
              "      <td>1</td>\n",
              "      <td>18:00:00</td>\n",
              "      <td>31</td>\n",
              "      <td>idscreen,joinscreen,Cycle,Credit3Container,Sca...</td>\n",
              "      <td>32</td>\n",
              "      <td>0</td>\n",
              "      <td>0</td>\n",
              "      <td>1</td>\n",
              "      <td>2013-02-26 18:56:37.841</td>\n",
              "      <td>1</td>\n",
              "    </tr>\n",
              "  </tbody>\n",
              "</table>\n",
              "</div>"
            ],
            "text/plain": [
              "     user               first_open  ...            enrolled_date liked\n",
              "0  235136  2012-12-27 02:14:51.273  ...                      NaN     0\n",
              "1  333588  2012-12-02 01:16:00.905  ...                      NaN     0\n",
              "2  254414  2013-03-19 19:19:09.157  ...                      NaN     1\n",
              "3  234192  2013-07-05 16:08:46.354  ...  2013-07-05 16:11:49.513     0\n",
              "4   51549  2013-02-26 18:50:48.661  ...  2013-02-26 18:56:37.841     1\n",
              "\n",
              "[5 rows x 12 columns]"
            ]
          },
          "metadata": {
            "tags": []
          },
          "execution_count": 4
        }
      ]
    },
    {
      "cell_type": "code",
      "metadata": {
        "id": "CeUKWSpmNU3D"
      },
      "source": [
        "dataset['hour'] = dataset.hour.str.slice(1,3).astype(int) # the values in the column hours are object variable we need to change it"
      ],
      "execution_count": 5,
      "outputs": []
    },
    {
      "cell_type": "code",
      "metadata": {
        "colab": {
          "base_uri": "https://localhost:8080/",
          "height": 300
        },
        "id": "EgFO0K6vQMNQ",
        "outputId": "922efd42-33a2-4720-e2da-cba9cc1c9092"
      },
      "source": [
        "dataset.describe()"
      ],
      "execution_count": 6,
      "outputs": [
        {
          "output_type": "execute_result",
          "data": {
            "text/html": [
              "<div>\n",
              "<style scoped>\n",
              "    .dataframe tbody tr th:only-of-type {\n",
              "        vertical-align: middle;\n",
              "    }\n",
              "\n",
              "    .dataframe tbody tr th {\n",
              "        vertical-align: top;\n",
              "    }\n",
              "\n",
              "    .dataframe thead th {\n",
              "        text-align: right;\n",
              "    }\n",
              "</style>\n",
              "<table border=\"1\" class=\"dataframe\">\n",
              "  <thead>\n",
              "    <tr style=\"text-align: right;\">\n",
              "      <th></th>\n",
              "      <th>user</th>\n",
              "      <th>dayofweek</th>\n",
              "      <th>hour</th>\n",
              "      <th>age</th>\n",
              "      <th>numscreens</th>\n",
              "      <th>minigame</th>\n",
              "      <th>used_premium_feature</th>\n",
              "      <th>enrolled</th>\n",
              "      <th>liked</th>\n",
              "    </tr>\n",
              "  </thead>\n",
              "  <tbody>\n",
              "    <tr>\n",
              "      <th>count</th>\n",
              "      <td>50000.000000</td>\n",
              "      <td>50000.000000</td>\n",
              "      <td>50000.000000</td>\n",
              "      <td>50000.00000</td>\n",
              "      <td>50000.000000</td>\n",
              "      <td>50000.000000</td>\n",
              "      <td>50000.000000</td>\n",
              "      <td>50000.000000</td>\n",
              "      <td>50000.000000</td>\n",
              "    </tr>\n",
              "    <tr>\n",
              "      <th>mean</th>\n",
              "      <td>186889.729900</td>\n",
              "      <td>3.029860</td>\n",
              "      <td>12.557220</td>\n",
              "      <td>31.72436</td>\n",
              "      <td>21.095900</td>\n",
              "      <td>0.107820</td>\n",
              "      <td>0.172020</td>\n",
              "      <td>0.621480</td>\n",
              "      <td>0.165000</td>\n",
              "    </tr>\n",
              "    <tr>\n",
              "      <th>std</th>\n",
              "      <td>107768.520361</td>\n",
              "      <td>2.031997</td>\n",
              "      <td>7.438072</td>\n",
              "      <td>10.80331</td>\n",
              "      <td>15.728812</td>\n",
              "      <td>0.310156</td>\n",
              "      <td>0.377402</td>\n",
              "      <td>0.485023</td>\n",
              "      <td>0.371184</td>\n",
              "    </tr>\n",
              "    <tr>\n",
              "      <th>min</th>\n",
              "      <td>13.000000</td>\n",
              "      <td>0.000000</td>\n",
              "      <td>0.000000</td>\n",
              "      <td>16.00000</td>\n",
              "      <td>1.000000</td>\n",
              "      <td>0.000000</td>\n",
              "      <td>0.000000</td>\n",
              "      <td>0.000000</td>\n",
              "      <td>0.000000</td>\n",
              "    </tr>\n",
              "    <tr>\n",
              "      <th>25%</th>\n",
              "      <td>93526.750000</td>\n",
              "      <td>1.000000</td>\n",
              "      <td>5.000000</td>\n",
              "      <td>24.00000</td>\n",
              "      <td>10.000000</td>\n",
              "      <td>0.000000</td>\n",
              "      <td>0.000000</td>\n",
              "      <td>0.000000</td>\n",
              "      <td>0.000000</td>\n",
              "    </tr>\n",
              "    <tr>\n",
              "      <th>50%</th>\n",
              "      <td>187193.500000</td>\n",
              "      <td>3.000000</td>\n",
              "      <td>14.000000</td>\n",
              "      <td>29.00000</td>\n",
              "      <td>18.000000</td>\n",
              "      <td>0.000000</td>\n",
              "      <td>0.000000</td>\n",
              "      <td>1.000000</td>\n",
              "      <td>0.000000</td>\n",
              "    </tr>\n",
              "    <tr>\n",
              "      <th>75%</th>\n",
              "      <td>279984.250000</td>\n",
              "      <td>5.000000</td>\n",
              "      <td>19.000000</td>\n",
              "      <td>37.00000</td>\n",
              "      <td>28.000000</td>\n",
              "      <td>0.000000</td>\n",
              "      <td>0.000000</td>\n",
              "      <td>1.000000</td>\n",
              "      <td>0.000000</td>\n",
              "    </tr>\n",
              "    <tr>\n",
              "      <th>max</th>\n",
              "      <td>373662.000000</td>\n",
              "      <td>6.000000</td>\n",
              "      <td>23.000000</td>\n",
              "      <td>101.00000</td>\n",
              "      <td>325.000000</td>\n",
              "      <td>1.000000</td>\n",
              "      <td>1.000000</td>\n",
              "      <td>1.000000</td>\n",
              "      <td>1.000000</td>\n",
              "    </tr>\n",
              "  </tbody>\n",
              "</table>\n",
              "</div>"
            ],
            "text/plain": [
              "                user     dayofweek  ...      enrolled         liked\n",
              "count   50000.000000  50000.000000  ...  50000.000000  50000.000000\n",
              "mean   186889.729900      3.029860  ...      0.621480      0.165000\n",
              "std    107768.520361      2.031997  ...      0.485023      0.371184\n",
              "min        13.000000      0.000000  ...      0.000000      0.000000\n",
              "25%     93526.750000      1.000000  ...      0.000000      0.000000\n",
              "50%    187193.500000      3.000000  ...      1.000000      0.000000\n",
              "75%    279984.250000      5.000000  ...      1.000000      0.000000\n",
              "max    373662.000000      6.000000  ...      1.000000      1.000000\n",
              "\n",
              "[8 rows x 9 columns]"
            ]
          },
          "metadata": {
            "tags": []
          },
          "execution_count": 6
        }
      ]
    },
    {
      "cell_type": "markdown",
      "metadata": {
        "id": "w57Aaz6LwnNM"
      },
      "source": [
        "## Analising numerical variables"
      ]
    },
    {
      "cell_type": "code",
      "metadata": {
        "id": "oSPTmMNuTbog"
      },
      "source": [
        "dataset2 = dataset.copy().drop(columns = ['user', 'screen_list', 'first_open', 'enrolled', 'enrolled_date'])"
      ],
      "execution_count": 7,
      "outputs": []
    },
    {
      "cell_type": "code",
      "metadata": {
        "colab": {
          "base_uri": "https://localhost:8080/",
          "height": 206
        },
        "id": "TwqwDEBXT6Wk",
        "outputId": "9402b979-82c5-4a59-e326-0f201da12144"
      },
      "source": [
        "dataset2.head()"
      ],
      "execution_count": 8,
      "outputs": [
        {
          "output_type": "execute_result",
          "data": {
            "text/html": [
              "<div>\n",
              "<style scoped>\n",
              "    .dataframe tbody tr th:only-of-type {\n",
              "        vertical-align: middle;\n",
              "    }\n",
              "\n",
              "    .dataframe tbody tr th {\n",
              "        vertical-align: top;\n",
              "    }\n",
              "\n",
              "    .dataframe thead th {\n",
              "        text-align: right;\n",
              "    }\n",
              "</style>\n",
              "<table border=\"1\" class=\"dataframe\">\n",
              "  <thead>\n",
              "    <tr style=\"text-align: right;\">\n",
              "      <th></th>\n",
              "      <th>dayofweek</th>\n",
              "      <th>hour</th>\n",
              "      <th>age</th>\n",
              "      <th>numscreens</th>\n",
              "      <th>minigame</th>\n",
              "      <th>used_premium_feature</th>\n",
              "      <th>liked</th>\n",
              "    </tr>\n",
              "  </thead>\n",
              "  <tbody>\n",
              "    <tr>\n",
              "      <th>0</th>\n",
              "      <td>3</td>\n",
              "      <td>2</td>\n",
              "      <td>23</td>\n",
              "      <td>15</td>\n",
              "      <td>0</td>\n",
              "      <td>0</td>\n",
              "      <td>0</td>\n",
              "    </tr>\n",
              "    <tr>\n",
              "      <th>1</th>\n",
              "      <td>6</td>\n",
              "      <td>1</td>\n",
              "      <td>24</td>\n",
              "      <td>13</td>\n",
              "      <td>0</td>\n",
              "      <td>0</td>\n",
              "      <td>0</td>\n",
              "    </tr>\n",
              "    <tr>\n",
              "      <th>2</th>\n",
              "      <td>1</td>\n",
              "      <td>19</td>\n",
              "      <td>23</td>\n",
              "      <td>3</td>\n",
              "      <td>0</td>\n",
              "      <td>1</td>\n",
              "      <td>1</td>\n",
              "    </tr>\n",
              "    <tr>\n",
              "      <th>3</th>\n",
              "      <td>4</td>\n",
              "      <td>16</td>\n",
              "      <td>28</td>\n",
              "      <td>40</td>\n",
              "      <td>0</td>\n",
              "      <td>0</td>\n",
              "      <td>0</td>\n",
              "    </tr>\n",
              "    <tr>\n",
              "      <th>4</th>\n",
              "      <td>1</td>\n",
              "      <td>18</td>\n",
              "      <td>31</td>\n",
              "      <td>32</td>\n",
              "      <td>0</td>\n",
              "      <td>0</td>\n",
              "      <td>1</td>\n",
              "    </tr>\n",
              "  </tbody>\n",
              "</table>\n",
              "</div>"
            ],
            "text/plain": [
              "   dayofweek  hour  age  numscreens  minigame  used_premium_feature  liked\n",
              "0          3     2   23          15         0                     0      0\n",
              "1          6     1   24          13         0                     0      0\n",
              "2          1    19   23           3         0                     1      1\n",
              "3          4    16   28          40         0                     0      0\n",
              "4          1    18   31          32         0                     0      1"
            ]
          },
          "metadata": {
            "tags": []
          },
          "execution_count": 8
        }
      ]
    },
    {
      "cell_type": "markdown",
      "metadata": {
        "id": "UmJjHPOzw59t"
      },
      "source": [
        "### Histogram"
      ]
    },
    {
      "cell_type": "code",
      "metadata": {
        "colab": {
          "base_uri": "https://localhost:8080/",
          "height": 663
        },
        "id": "svIT3XBgUfs1",
        "outputId": "9db70dfd-d758-465d-9ad5-0e0c97a0c0bf"
      },
      "source": [
        "plt.figure(figsize=(20,10))\n",
        "plt.suptitle('Histograms of numerical variables', fontsize = 20,)\n",
        "for i in range(1, dataset2.shape[1] + 1):\n",
        "\n",
        "  plt.subplot(3, 3, i)\n",
        "  f = plt.gca()\n",
        "  f.set_title(dataset2.columns.values[i-1])\n",
        "  vals = np.size(dataset2.iloc[:, i-1].unique())\n",
        "  plt.hist(dataset2.iloc[:, i-1], bins= vals, color = '#3F5D7D' )\n"
      ],
      "execution_count": 9,
      "outputs": [
        {
          "output_type": "display_data",
          "data": {
            "image/png": "[encoded data removed]",
            "text/plain": [
              "<Figure size 1440x720 with 7 Axes>"
            ]
          },
          "metadata": {
            "tags": [],
            "needs_background": "light"
          }
        }
      ]
    },
    {
      "cell_type": "markdown",
      "metadata": {
        "id": "2H1evQ5AnjW_"
      },
      "source": [
        "### Correlation Plot"
      ]
    },
    {
      "cell_type": "code",
      "metadata": {
        "colab": {
          "base_uri": "https://localhost:8080/",
          "height": 749
        },
        "id": "nO3DQZ3PnloA",
        "outputId": "ce185055-ca8b-4508-ec65-a8f3545c63d1"
      },
      "source": [
        "dataset.corrwith(dataset.enrolled).plot.bar(figsize = (20,10),\n",
        "                                            title = 'Correlation with reponse variable',\n",
        "                                            fontsize = 15, rot = 45, grid = True, color = '#5F5D7D')"
      ],
      "execution_count": 10,
      "outputs": [
        {
          "output_type": "execute_result",
          "data": {
            "text/plain": [
              "<matplotlib.axes._subplots.AxesSubplot at 0x7fd6094e98d0>"
            ]
          },
          "metadata": {
            "tags": []
          },
          "execution_count": 10
        },
        {
          "output_type": "display_data",
          "data": {
            "image/png": "[encoded data removed]",
            "text/plain": [
              "<Figure size 1440x720 with 1 Axes>"
            ]
          },
          "metadata": {
            "tags": [],
            "needs_background": "light"
          }
        }
      ]
    },
    {
      "cell_type": "markdown",
      "metadata": {
        "id": "Z_kekx7nU8i0"
      },
      "source": [
        "### Correlation Matrix"
      ]
    },
    {
      "cell_type": "code",
      "metadata": {
        "colab": {
          "base_uri": "https://localhost:8080/",
          "height": 800
        },
        "id": "q6BzCYMwWP6E",
        "outputId": "e780b669-7606-437e-ae21-d7a13237f634"
      },
      "source": [
        "sns.set(style='white', font_scale= 1)\n",
        "corr = dataset2.corr() # here we compute the correlation between numericals variables\n",
        "# Generate a mask for the upper triangle\n",
        "mask = np.zeros_like(corr, dtype= np.bool) # To generate a numpy array from correlation with true or false\n",
        "mask[np.triu_indices_from(mask)] = True # To have the index of the upper triangle\n",
        "# Setup the matplotlib figures\n",
        "f, ax = plt.subplots(figsize = (20,10))\n",
        "f.suptitle('Correlation Matrix', fontsize=40)\n",
        "# Generate a custum diverging color map\n",
        "cmap = sns.diverging_palette(10, 0, as_cmap=True)\n",
        "# Draw the heatmap with the mask and the correct aspect ratio\n",
        "sns.heatmap(corr, mask=mask, annot=True, cmap=cmap, vmax=1, center=0,\n",
        "            square=True, linewidth=5, cbar_kws={'shrink': .5})"
      ],
      "execution_count": 11,
      "outputs": [
        {
          "output_type": "execute_result",
          "data": {
            "text/plain": [
              "<matplotlib.axes._subplots.AxesSubplot at 0x7fd609823978>"
            ]
          },
          "metadata": {
            "tags": []
          },
          "execution_count": 11
        },
        {
          "output_type": "display_data",
          "data": {
            "image/png": "[encoded data removed]",
            "text/plain": [
              "<Figure size 1440x720 with 2 Axes>"
            ]
          },
          "metadata": {
            "tags": []
          }
        }
      ]
    },
    {
      "cell_type": "markdown",
      "metadata": {
        "id": "PgeknRR4ihgx"
      },
      "source": [
        "## Feature engineering - Response"
      ]
    },
    {
      "cell_type": "code",
      "metadata": {
        "colab": {
          "base_uri": "https://localhost:8080/"
        },
        "id": "caZNhIpCit4y",
        "outputId": "89869717-2eba-4a44-d1cf-a4381be0d5f4"
      },
      "source": [
        "dataset.dtypes\n",
        "# The dates are objects, we need to change it. One reason is, we can calculate the difference between the first open and the enrolled date.\n",
        "# This differece can be visualised in a distribution."
      ],
      "execution_count": 12,
      "outputs": [
        {
          "output_type": "execute_result",
          "data": {
            "text/plain": [
              "user                     int64\n",
              "first_open              object\n",
              "dayofweek                int64\n",
              "hour                     int64\n",
              "age                      int64\n",
              "screen_list             object\n",
              "numscreens               int64\n",
              "minigame                 int64\n",
              "used_premium_feature     int64\n",
              "enrolled                 int64\n",
              "enrolled_date           object\n",
              "liked                    int64\n",
              "dtype: object"
            ]
          },
          "metadata": {
            "tags": []
          },
          "execution_count": 12
        }
      ]
    },
    {
      "cell_type": "markdown",
      "metadata": {
        "id": "wmE1A0XBmUbo"
      },
      "source": [
        "### Transforming the dates into numerical dates"
      ]
    },
    {
      "cell_type": "code",
      "metadata": {
        "id": "qs0gcZtUmZ9b"
      },
      "source": [
        "dataset[\"first_open\"] = [parser.parse(row_date) for row_date in dataset[\"first_open\"]]\n",
        "dataset[\"enrolled_date\"] = [parser.parse(row_date) if isinstance(row_date, str) else row_date for row_date in dataset[\"enrolled_date\"]]\n",
        "dataset.dtypes\n",
        "\n",
        "# Selecting Time For Response\n",
        "dataset[\"difference\"] = (dataset.enrolled_date-dataset.first_open).astype('timedelta64[h]')"
      ],
      "execution_count": 13,
      "outputs": []
    },
    {
      "cell_type": "code",
      "metadata": {
        "colab": {
          "base_uri": "https://localhost:8080/",
          "height": 301
        },
        "id": "ez-vQ3AxmIYA",
        "outputId": "cd5008ac-d52c-4b39-bf1f-16498fad1d6b"
      },
      "source": [
        "response_hist = plt.hist(dataset['difference'].dropna(), color= '#3F5D7D')\n",
        "plt.title('Distribution of Time-Since-Screan-Reached')"
      ],
      "execution_count": 14,
      "outputs": [
        {
          "output_type": "execute_result",
          "data": {
            "text/plain": [
              "Text(0.5, 1.0, 'Distribution of Time-Since-Screan-Reached')"
            ]
          },
          "metadata": {
            "tags": []
          },
          "execution_count": 14
        },
        {
          "output_type": "display_data",
          "data": {
            "image/png": "[encoded data removed]",
            "text/plain": [
              "<Figure size 432x288 with 1 Axes>"
            ]
          },
          "metadata": {
            "tags": []
          }
        }
      ]
    },
    {
      "cell_type": "code",
      "metadata": {
        "colab": {
          "base_uri": "https://localhost:8080/",
          "height": 301
        },
        "id": "gflSviyKboYr",
        "outputId": "bea0f054-cf07-497b-d501-08248e2110f3"
      },
      "source": [
        "plt.hist(dataset['difference'].dropna(), color= '#3F5D7D', range = [0,100])\n",
        "plt.title('Distribution of Time-Since-Screem-Reached')"
      ],
      "execution_count": 15,
      "outputs": [
        {
          "output_type": "execute_result",
          "data": {
            "text/plain": [
              "Text(0.5, 1.0, 'Distribution of Time-Since-Screem-Reached')"
            ]
          },
          "metadata": {
            "tags": []
          },
          "execution_count": 15
        },
        {
          "output_type": "display_data",
          "data": {
            "image/png": "[encoded data removed]",
            "text/plain": [
              "<Figure size 432x288 with 1 Axes>"
            ]
          },
          "metadata": {
            "tags": []
          }
        }
      ]
    },
    {
      "cell_type": "markdown",
      "metadata": {
        "id": "qedZLiLibxZI"
      },
      "source": [
        "As we can see in the above figure, we do not have a great number of inscription after 100 hours of application usage. In this case, to make the model more clear, we are going to change the response, all custumer that toke more then 48 hour to subscription will be turned into 0, it means, we do not consider them as a possible custumer."
      ]
    },
    {
      "cell_type": "markdown",
      "metadata": {
        "id": "_Osr7S8dczjc"
      },
      "source": [
        "### Changing the response based on Distribution of Time-Since-Screem-Reached"
      ]
    },
    {
      "cell_type": "code",
      "metadata": {
        "id": "YYt7Xp3bdJTL"
      },
      "source": [
        "dataset.loc[dataset.difference > 48, 'enrolled'] = 0"
      ],
      "execution_count": 16,
      "outputs": []
    },
    {
      "cell_type": "code",
      "metadata": {
        "id": "QHRtxxDKd1An"
      },
      "source": [
        "# Now, one importante thing is to eliminate certains columns in our dataset. Due to the change on the response variable, the features first_open, date_enrolled and difference there are no more sense, for this reason we drop theese columns\n",
        "dataset = dataset.drop(columns = ['difference', 'first_open', 'enrolled_date'])"
      ],
      "execution_count": 17,
      "outputs": []
    },
    {
      "cell_type": "markdown",
      "metadata": {
        "id": "oE4IL0YHe2OJ"
      },
      "source": [
        "## Feature engineering on the screem variables"
      ]
    },
    {
      "cell_type": "markdown",
      "metadata": {
        "id": "hwOp7xQSxfL7"
      },
      "source": [
        "### Creating top_screens columns"
      ]
    },
    {
      "cell_type": "code",
      "metadata": {
        "id": "aLWPWiQ3jNiU"
      },
      "source": [
        "# Loading the second csv file\n",
        "top_screens = pd.read_csv('top_screens.csv').top_screens.values"
      ],
      "execution_count": 18,
      "outputs": []
    },
    {
      "cell_type": "code",
      "metadata": {
        "id": "zZSFGAjakaBn"
      },
      "source": [
        "# We need to change the separator of screen_list column\n",
        "dataset['screen_list'] = dataset.screen_list.astype(str) +','"
      ],
      "execution_count": 19,
      "outputs": []
    },
    {
      "cell_type": "code",
      "metadata": {
        "id": "-kMIPAqAmGkR"
      },
      "source": [
        "# Putting the top_screens as columns\n",
        "\n",
        "for sc in top_screens:\n",
        "  dataset[sc] = dataset.screen_list.str.contains(sc).astype(int)\n",
        "  dataset['screen_list'] = dataset.screen_list.str.replace(sc+',','')\n"
      ],
      "execution_count": 20,
      "outputs": []
    },
    {
      "cell_type": "markdown",
      "metadata": {
        "id": "mVKLGXk3xoGy"
      },
      "source": [
        "### Creating Other Column"
      ]
    },
    {
      "cell_type": "code",
      "metadata": {
        "id": "qwZBnhgFplAb"
      },
      "source": [
        "# We have more than 15 screens, so we need to count the others screens are not in the top_screens list\n",
        "\n",
        "dataset['Other'] = dataset.screen_list.str.count(',')"
      ],
      "execution_count": 21,
      "outputs": []
    },
    {
      "cell_type": "code",
      "metadata": {
        "id": "aM7z8QsaqpE3"
      },
      "source": [
        "# Now, we do not more need the screen_list\n",
        "\n",
        "dataset = dataset.drop(columns=['screen_list'])"
      ],
      "execution_count": 22,
      "outputs": []
    },
    {
      "cell_type": "markdown",
      "metadata": {
        "id": "AC-hzwgNq5rC"
      },
      "source": [
        "## Funnels (Correleted Screens)"
      ]
    },
    {
      "cell_type": "code",
      "metadata": {
        "id": "1M887Bpbq7se"
      },
      "source": [
        "saving_screens = ['Saving1',\n",
        "                  'Saving2',\n",
        "                  'Saving2Amount',\n",
        "                  'Saving4',\n",
        "                  'Saving5',\n",
        "                  'Saving6',\n",
        "                  'Saving7',\n",
        "                  'Saving8',\n",
        "                  'Saving9',\n",
        "                  'Saving10',]"
      ],
      "execution_count": 23,
      "outputs": []
    },
    {
      "cell_type": "code",
      "metadata": {
        "id": "Jf1ryskIsfEQ"
      },
      "source": [
        "dataset['TotalSaving'] = dataset[saving_screens].sum(axis = 1) # creating a new column"
      ],
      "execution_count": 24,
      "outputs": []
    },
    {
      "cell_type": "code",
      "metadata": {
        "id": "GJfoWHH-tTE0"
      },
      "source": [
        "# Eliminating the saving_screens columns\n",
        "dataset = dataset.drop(columns=saving_screens)"
      ],
      "execution_count": 25,
      "outputs": []
    },
    {
      "cell_type": "code",
      "metadata": {
        "id": "Nws54UqluM4i"
      },
      "source": [
        "cm_screens = [\"Credit1\",\n",
        "               \"Credit2\",\n",
        "               \"Credit3\",\n",
        "               \"Credit3Container\",\n",
        "               \"Credit3Dashboard\"]\n",
        "dataset[\"CMCount\"] = dataset[cm_screens].sum(axis=1)\n",
        "dataset = dataset.drop(columns=cm_screens)"
      ],
      "execution_count": 26,
      "outputs": []
    },
    {
      "cell_type": "code",
      "metadata": {
        "id": "FbdEURfiuPfe"
      },
      "source": [
        "cc_screens = [\"CC1\",\n",
        "                \"CC1Category\",\n",
        "                \"CC3\"]\n",
        "dataset[\"CCCount\"] = dataset[cc_screens].sum(axis=1)\n",
        "dataset = dataset.drop(columns=cc_screens)"
      ],
      "execution_count": 27,
      "outputs": []
    },
    {
      "cell_type": "code",
      "metadata": {
        "id": "3fRBErRzuRme"
      },
      "source": [
        "loan_screens = [\"Loan\",\n",
        "               \"Loan2\",\n",
        "               \"Loan3\",\n",
        "               \"Loan4\"]\n",
        "dataset[\"LoansCount\"] = dataset[loan_screens].sum(axis=1)\n",
        "dataset = dataset.drop(columns=loan_screens)"
      ],
      "execution_count": 28,
      "outputs": []
    },
    {
      "cell_type": "code",
      "metadata": {
        "colab": {
          "base_uri": "https://localhost:8080/",
          "height": 226
        },
        "id": "rR41bPGMuYd8",
        "outputId": "fb34fd2a-1549-4201-acbf-804d93e01b8f"
      },
      "source": [
        "dataset.head()"
      ],
      "execution_count": 29,
      "outputs": [
        {
          "output_type": "execute_result",
          "data": {
            "text/html": [
              "<div>\n",
              "<style scoped>\n",
              "    .dataframe tbody tr th:only-of-type {\n",
              "        vertical-align: middle;\n",
              "    }\n",
              "\n",
              "    .dataframe tbody tr th {\n",
              "        vertical-align: top;\n",
              "    }\n",
              "\n",
              "    .dataframe thead th {\n",
              "        text-align: right;\n",
              "    }\n",
              "</style>\n",
              "<table border=\"1\" class=\"dataframe\">\n",
              "  <thead>\n",
              "    <tr style=\"text-align: right;\">\n",
              "      <th></th>\n",
              "      <th>user</th>\n",
              "      <th>dayofweek</th>\n",
              "      <th>hour</th>\n",
              "      <th>age</th>\n",
              "      <th>numscreens</th>\n",
              "      <th>minigame</th>\n",
              "      <th>used_premium_feature</th>\n",
              "      <th>enrolled</th>\n",
              "      <th>liked</th>\n",
              "      <th>location</th>\n",
              "      <th>Institutions</th>\n",
              "      <th>VerifyPhone</th>\n",
              "      <th>BankVerification</th>\n",
              "      <th>VerifyDateOfBirth</th>\n",
              "      <th>ProfilePage</th>\n",
              "      <th>VerifyCountry</th>\n",
              "      <th>Cycle</th>\n",
              "      <th>idscreen</th>\n",
              "      <th>Splash</th>\n",
              "      <th>RewardsContainer</th>\n",
              "      <th>EditProfile</th>\n",
              "      <th>Finances</th>\n",
              "      <th>Alerts</th>\n",
              "      <th>Leaderboard</th>\n",
              "      <th>VerifyMobile</th>\n",
              "      <th>VerifyHousing</th>\n",
              "      <th>RewardDetail</th>\n",
              "      <th>VerifyHousingAmount</th>\n",
              "      <th>ProfileMaritalStatus</th>\n",
              "      <th>ProfileChildren</th>\n",
              "      <th>ProfileEducation</th>\n",
              "      <th>ProfileEducationMajor</th>\n",
              "      <th>Rewards</th>\n",
              "      <th>AccountView</th>\n",
              "      <th>VerifyAnnualIncome</th>\n",
              "      <th>VerifyIncomeType</th>\n",
              "      <th>ProfileJobTitle</th>\n",
              "      <th>Login</th>\n",
              "      <th>ProfileEmploymentLength</th>\n",
              "      <th>WebView</th>\n",
              "      <th>SecurityModal</th>\n",
              "      <th>ResendToken</th>\n",
              "      <th>TransactionList</th>\n",
              "      <th>NetworkFailure</th>\n",
              "      <th>ListPicker</th>\n",
              "      <th>Other</th>\n",
              "      <th>TotalSaving</th>\n",
              "      <th>CMCount</th>\n",
              "      <th>CCCount</th>\n",
              "      <th>LoansCount</th>\n",
              "    </tr>\n",
              "  </thead>\n",
              "  <tbody>\n",
              "    <tr>\n",
              "      <th>0</th>\n",
              "      <td>235136</td>\n",
              "      <td>3</td>\n",
              "      <td>2</td>\n",
              "      <td>23</td>\n",
              "      <td>15</td>\n",
              "      <td>0</td>\n",
              "      <td>0</td>\n",
              "      <td>0</td>\n",
              "      <td>0</td>\n",
              "      <td>0</td>\n",
              "      <td>0</td>\n",
              "      <td>1</td>\n",
              "      <td>0</td>\n",
              "      <td>1</td>\n",
              "      <td>0</td>\n",
              "      <td>0</td>\n",
              "      <td>1</td>\n",
              "      <td>1</td>\n",
              "      <td>0</td>\n",
              "      <td>0</td>\n",
              "      <td>0</td>\n",
              "      <td>0</td>\n",
              "      <td>0</td>\n",
              "      <td>0</td>\n",
              "      <td>0</td>\n",
              "      <td>0</td>\n",
              "      <td>0</td>\n",
              "      <td>0</td>\n",
              "      <td>0</td>\n",
              "      <td>0</td>\n",
              "      <td>0</td>\n",
              "      <td>0</td>\n",
              "      <td>0</td>\n",
              "      <td>0</td>\n",
              "      <td>0</td>\n",
              "      <td>0</td>\n",
              "      <td>0</td>\n",
              "      <td>1</td>\n",
              "      <td>0</td>\n",
              "      <td>0</td>\n",
              "      <td>0</td>\n",
              "      <td>0</td>\n",
              "      <td>0</td>\n",
              "      <td>0</td>\n",
              "      <td>0</td>\n",
              "      <td>7</td>\n",
              "      <td>0</td>\n",
              "      <td>0</td>\n",
              "      <td>0</td>\n",
              "      <td>1</td>\n",
              "    </tr>\n",
              "    <tr>\n",
              "      <th>1</th>\n",
              "      <td>333588</td>\n",
              "      <td>6</td>\n",
              "      <td>1</td>\n",
              "      <td>24</td>\n",
              "      <td>13</td>\n",
              "      <td>0</td>\n",
              "      <td>0</td>\n",
              "      <td>0</td>\n",
              "      <td>0</td>\n",
              "      <td>1</td>\n",
              "      <td>1</td>\n",
              "      <td>1</td>\n",
              "      <td>0</td>\n",
              "      <td>1</td>\n",
              "      <td>0</td>\n",
              "      <td>1</td>\n",
              "      <td>0</td>\n",
              "      <td>0</td>\n",
              "      <td>0</td>\n",
              "      <td>0</td>\n",
              "      <td>0</td>\n",
              "      <td>0</td>\n",
              "      <td>0</td>\n",
              "      <td>0</td>\n",
              "      <td>0</td>\n",
              "      <td>0</td>\n",
              "      <td>0</td>\n",
              "      <td>0</td>\n",
              "      <td>0</td>\n",
              "      <td>0</td>\n",
              "      <td>0</td>\n",
              "      <td>0</td>\n",
              "      <td>0</td>\n",
              "      <td>0</td>\n",
              "      <td>0</td>\n",
              "      <td>0</td>\n",
              "      <td>0</td>\n",
              "      <td>0</td>\n",
              "      <td>0</td>\n",
              "      <td>0</td>\n",
              "      <td>0</td>\n",
              "      <td>0</td>\n",
              "      <td>0</td>\n",
              "      <td>0</td>\n",
              "      <td>0</td>\n",
              "      <td>5</td>\n",
              "      <td>0</td>\n",
              "      <td>0</td>\n",
              "      <td>0</td>\n",
              "      <td>1</td>\n",
              "    </tr>\n",
              "    <tr>\n",
              "      <th>2</th>\n",
              "      <td>254414</td>\n",
              "      <td>1</td>\n",
              "      <td>19</td>\n",
              "      <td>23</td>\n",
              "      <td>3</td>\n",
              "      <td>0</td>\n",
              "      <td>1</td>\n",
              "      <td>0</td>\n",
              "      <td>1</td>\n",
              "      <td>0</td>\n",
              "      <td>0</td>\n",
              "      <td>0</td>\n",
              "      <td>0</td>\n",
              "      <td>0</td>\n",
              "      <td>0</td>\n",
              "      <td>0</td>\n",
              "      <td>1</td>\n",
              "      <td>0</td>\n",
              "      <td>1</td>\n",
              "      <td>0</td>\n",
              "      <td>0</td>\n",
              "      <td>0</td>\n",
              "      <td>0</td>\n",
              "      <td>0</td>\n",
              "      <td>0</td>\n",
              "      <td>0</td>\n",
              "      <td>0</td>\n",
              "      <td>0</td>\n",
              "      <td>0</td>\n",
              "      <td>0</td>\n",
              "      <td>0</td>\n",
              "      <td>0</td>\n",
              "      <td>0</td>\n",
              "      <td>0</td>\n",
              "      <td>0</td>\n",
              "      <td>0</td>\n",
              "      <td>0</td>\n",
              "      <td>0</td>\n",
              "      <td>0</td>\n",
              "      <td>0</td>\n",
              "      <td>0</td>\n",
              "      <td>0</td>\n",
              "      <td>0</td>\n",
              "      <td>0</td>\n",
              "      <td>0</td>\n",
              "      <td>0</td>\n",
              "      <td>0</td>\n",
              "      <td>0</td>\n",
              "      <td>0</td>\n",
              "      <td>1</td>\n",
              "    </tr>\n",
              "    <tr>\n",
              "      <th>3</th>\n",
              "      <td>234192</td>\n",
              "      <td>4</td>\n",
              "      <td>16</td>\n",
              "      <td>28</td>\n",
              "      <td>40</td>\n",
              "      <td>0</td>\n",
              "      <td>0</td>\n",
              "      <td>1</td>\n",
              "      <td>0</td>\n",
              "      <td>1</td>\n",
              "      <td>0</td>\n",
              "      <td>1</td>\n",
              "      <td>0</td>\n",
              "      <td>1</td>\n",
              "      <td>0</td>\n",
              "      <td>0</td>\n",
              "      <td>0</td>\n",
              "      <td>0</td>\n",
              "      <td>0</td>\n",
              "      <td>0</td>\n",
              "      <td>0</td>\n",
              "      <td>1</td>\n",
              "      <td>0</td>\n",
              "      <td>1</td>\n",
              "      <td>0</td>\n",
              "      <td>0</td>\n",
              "      <td>1</td>\n",
              "      <td>0</td>\n",
              "      <td>0</td>\n",
              "      <td>0</td>\n",
              "      <td>0</td>\n",
              "      <td>0</td>\n",
              "      <td>1</td>\n",
              "      <td>0</td>\n",
              "      <td>0</td>\n",
              "      <td>0</td>\n",
              "      <td>0</td>\n",
              "      <td>0</td>\n",
              "      <td>0</td>\n",
              "      <td>0</td>\n",
              "      <td>0</td>\n",
              "      <td>0</td>\n",
              "      <td>0</td>\n",
              "      <td>0</td>\n",
              "      <td>0</td>\n",
              "      <td>6</td>\n",
              "      <td>0</td>\n",
              "      <td>3</td>\n",
              "      <td>0</td>\n",
              "      <td>1</td>\n",
              "    </tr>\n",
              "    <tr>\n",
              "      <th>4</th>\n",
              "      <td>51549</td>\n",
              "      <td>1</td>\n",
              "      <td>18</td>\n",
              "      <td>31</td>\n",
              "      <td>32</td>\n",
              "      <td>0</td>\n",
              "      <td>0</td>\n",
              "      <td>1</td>\n",
              "      <td>1</td>\n",
              "      <td>0</td>\n",
              "      <td>1</td>\n",
              "      <td>1</td>\n",
              "      <td>1</td>\n",
              "      <td>0</td>\n",
              "      <td>0</td>\n",
              "      <td>1</td>\n",
              "      <td>1</td>\n",
              "      <td>1</td>\n",
              "      <td>0</td>\n",
              "      <td>0</td>\n",
              "      <td>0</td>\n",
              "      <td>0</td>\n",
              "      <td>0</td>\n",
              "      <td>0</td>\n",
              "      <td>0</td>\n",
              "      <td>0</td>\n",
              "      <td>0</td>\n",
              "      <td>0</td>\n",
              "      <td>0</td>\n",
              "      <td>0</td>\n",
              "      <td>0</td>\n",
              "      <td>0</td>\n",
              "      <td>0</td>\n",
              "      <td>0</td>\n",
              "      <td>0</td>\n",
              "      <td>0</td>\n",
              "      <td>0</td>\n",
              "      <td>0</td>\n",
              "      <td>0</td>\n",
              "      <td>0</td>\n",
              "      <td>0</td>\n",
              "      <td>0</td>\n",
              "      <td>0</td>\n",
              "      <td>0</td>\n",
              "      <td>0</td>\n",
              "      <td>10</td>\n",
              "      <td>0</td>\n",
              "      <td>2</td>\n",
              "      <td>0</td>\n",
              "      <td>1</td>\n",
              "    </tr>\n",
              "  </tbody>\n",
              "</table>\n",
              "</div>"
            ],
            "text/plain": [
              "     user  dayofweek  hour  age  ...  TotalSaving  CMCount  CCCount  LoansCount\n",
              "0  235136          3     2   23  ...            0        0        0           1\n",
              "1  333588          6     1   24  ...            0        0        0           1\n",
              "2  254414          1    19   23  ...            0        0        0           1\n",
              "3  234192          4    16   28  ...            0        3        0           1\n",
              "4   51549          1    18   31  ...            0        2        0           1\n",
              "\n",
              "[5 rows x 50 columns]"
            ]
          },
          "metadata": {
            "tags": []
          },
          "execution_count": 29
        }
      ]
    },
    {
      "cell_type": "code",
      "metadata": {
        "colab": {
          "base_uri": "https://localhost:8080/",
          "height": 320
        },
        "id": "i_hHxQfSu6t7",
        "outputId": "80cf9cdc-d33e-4237-ce4a-84216f36828e"
      },
      "source": [
        "dataset.describe()"
      ],
      "execution_count": 30,
      "outputs": [
        {
          "output_type": "execute_result",
          "data": {
            "text/html": [
              "<div>\n",
              "<style scoped>\n",
              "    .dataframe tbody tr th:only-of-type {\n",
              "        vertical-align: middle;\n",
              "    }\n",
              "\n",
              "    .dataframe tbody tr th {\n",
              "        vertical-align: top;\n",
              "    }\n",
              "\n",
              "    .dataframe thead th {\n",
              "        text-align: right;\n",
              "    }\n",
              "</style>\n",
              "<table border=\"1\" class=\"dataframe\">\n",
              "  <thead>\n",
              "    <tr style=\"text-align: right;\">\n",
              "      <th></th>\n",
              "      <th>user</th>\n",
              "      <th>dayofweek</th>\n",
              "      <th>hour</th>\n",
              "      <th>age</th>\n",
              "      <th>numscreens</th>\n",
              "      <th>minigame</th>\n",
              "      <th>used_premium_feature</th>\n",
              "      <th>enrolled</th>\n",
              "      <th>liked</th>\n",
              "      <th>location</th>\n",
              "      <th>Institutions</th>\n",
              "      <th>VerifyPhone</th>\n",
              "      <th>BankVerification</th>\n",
              "      <th>VerifyDateOfBirth</th>\n",
              "      <th>ProfilePage</th>\n",
              "      <th>VerifyCountry</th>\n",
              "      <th>Cycle</th>\n",
              "      <th>idscreen</th>\n",
              "      <th>Splash</th>\n",
              "      <th>RewardsContainer</th>\n",
              "      <th>EditProfile</th>\n",
              "      <th>Finances</th>\n",
              "      <th>Alerts</th>\n",
              "      <th>Leaderboard</th>\n",
              "      <th>VerifyMobile</th>\n",
              "      <th>VerifyHousing</th>\n",
              "      <th>RewardDetail</th>\n",
              "      <th>VerifyHousingAmount</th>\n",
              "      <th>ProfileMaritalStatus</th>\n",
              "      <th>ProfileChildren</th>\n",
              "      <th>ProfileEducation</th>\n",
              "      <th>ProfileEducationMajor</th>\n",
              "      <th>Rewards</th>\n",
              "      <th>AccountView</th>\n",
              "      <th>VerifyAnnualIncome</th>\n",
              "      <th>VerifyIncomeType</th>\n",
              "      <th>ProfileJobTitle</th>\n",
              "      <th>Login</th>\n",
              "      <th>ProfileEmploymentLength</th>\n",
              "      <th>WebView</th>\n",
              "      <th>SecurityModal</th>\n",
              "      <th>ResendToken</th>\n",
              "      <th>TransactionList</th>\n",
              "      <th>NetworkFailure</th>\n",
              "      <th>ListPicker</th>\n",
              "      <th>Other</th>\n",
              "      <th>TotalSaving</th>\n",
              "      <th>CMCount</th>\n",
              "      <th>CCCount</th>\n",
              "      <th>LoansCount</th>\n",
              "    </tr>\n",
              "  </thead>\n",
              "  <tbody>\n",
              "    <tr>\n",
              "      <th>count</th>\n",
              "      <td>50000.000000</td>\n",
              "      <td>50000.000000</td>\n",
              "      <td>50000.000000</td>\n",
              "      <td>50000.00000</td>\n",
              "      <td>50000.000000</td>\n",
              "      <td>50000.000000</td>\n",
              "      <td>50000.000000</td>\n",
              "      <td>50000.000000</td>\n",
              "      <td>50000.000000</td>\n",
              "      <td>50000.000000</td>\n",
              "      <td>50000.000000</td>\n",
              "      <td>50000.000000</td>\n",
              "      <td>50000.000000</td>\n",
              "      <td>50000.000000</td>\n",
              "      <td>50000.000000</td>\n",
              "      <td>50000.000000</td>\n",
              "      <td>50000.000000</td>\n",
              "      <td>50000.000000</td>\n",
              "      <td>50000.000000</td>\n",
              "      <td>50000.000000</td>\n",
              "      <td>50000.000000</td>\n",
              "      <td>50000.000000</td>\n",
              "      <td>50000.000000</td>\n",
              "      <td>50000.000000</td>\n",
              "      <td>50000.000000</td>\n",
              "      <td>50000.000000</td>\n",
              "      <td>50000.000000</td>\n",
              "      <td>50000.000000</td>\n",
              "      <td>50000.000000</td>\n",
              "      <td>50000.0</td>\n",
              "      <td>50000.0000</td>\n",
              "      <td>50000.000000</td>\n",
              "      <td>50000.000000</td>\n",
              "      <td>50000.000000</td>\n",
              "      <td>50000.000000</td>\n",
              "      <td>50000.000000</td>\n",
              "      <td>50000.000000</td>\n",
              "      <td>50000.000000</td>\n",
              "      <td>50000.000000</td>\n",
              "      <td>50000.000000</td>\n",
              "      <td>50000.000000</td>\n",
              "      <td>50000.000000</td>\n",
              "      <td>50000.000000</td>\n",
              "      <td>50000.000000</td>\n",
              "      <td>50000.000000</td>\n",
              "      <td>50000.000000</td>\n",
              "      <td>50000.000000</td>\n",
              "      <td>50000.00000</td>\n",
              "      <td>50000.000000</td>\n",
              "      <td>50000.000000</td>\n",
              "    </tr>\n",
              "    <tr>\n",
              "      <th>mean</th>\n",
              "      <td>186889.729900</td>\n",
              "      <td>3.029860</td>\n",
              "      <td>12.557220</td>\n",
              "      <td>31.72436</td>\n",
              "      <td>21.095900</td>\n",
              "      <td>0.107820</td>\n",
              "      <td>0.172020</td>\n",
              "      <td>0.497000</td>\n",
              "      <td>0.165000</td>\n",
              "      <td>0.517760</td>\n",
              "      <td>0.293660</td>\n",
              "      <td>0.524600</td>\n",
              "      <td>0.319540</td>\n",
              "      <td>0.473480</td>\n",
              "      <td>0.158040</td>\n",
              "      <td>0.423160</td>\n",
              "      <td>0.364860</td>\n",
              "      <td>0.340700</td>\n",
              "      <td>0.200760</td>\n",
              "      <td>0.084000</td>\n",
              "      <td>0.048980</td>\n",
              "      <td>0.076540</td>\n",
              "      <td>0.073720</td>\n",
              "      <td>0.051520</td>\n",
              "      <td>0.053860</td>\n",
              "      <td>0.045080</td>\n",
              "      <td>0.030920</td>\n",
              "      <td>0.041420</td>\n",
              "      <td>0.047560</td>\n",
              "      <td>0.0</td>\n",
              "      <td>0.0455</td>\n",
              "      <td>0.041060</td>\n",
              "      <td>0.024420</td>\n",
              "      <td>0.026220</td>\n",
              "      <td>0.023580</td>\n",
              "      <td>0.031760</td>\n",
              "      <td>0.022460</td>\n",
              "      <td>0.029800</td>\n",
              "      <td>0.021160</td>\n",
              "      <td>0.096560</td>\n",
              "      <td>0.014220</td>\n",
              "      <td>0.013340</td>\n",
              "      <td>0.013400</td>\n",
              "      <td>0.008200</td>\n",
              "      <td>0.007580</td>\n",
              "      <td>6.214260</td>\n",
              "      <td>0.365020</td>\n",
              "      <td>0.92776</td>\n",
              "      <td>0.176860</td>\n",
              "      <td>0.788400</td>\n",
              "    </tr>\n",
              "    <tr>\n",
              "      <th>std</th>\n",
              "      <td>107768.520361</td>\n",
              "      <td>2.031997</td>\n",
              "      <td>7.438072</td>\n",
              "      <td>10.80331</td>\n",
              "      <td>15.728812</td>\n",
              "      <td>0.310156</td>\n",
              "      <td>0.377402</td>\n",
              "      <td>0.499996</td>\n",
              "      <td>0.371184</td>\n",
              "      <td>0.499689</td>\n",
              "      <td>0.455443</td>\n",
              "      <td>0.499399</td>\n",
              "      <td>0.466303</td>\n",
              "      <td>0.499301</td>\n",
              "      <td>0.364782</td>\n",
              "      <td>0.494065</td>\n",
              "      <td>0.481396</td>\n",
              "      <td>0.473949</td>\n",
              "      <td>0.400573</td>\n",
              "      <td>0.277391</td>\n",
              "      <td>0.215828</td>\n",
              "      <td>0.265863</td>\n",
              "      <td>0.261317</td>\n",
              "      <td>0.221058</td>\n",
              "      <td>0.225743</td>\n",
              "      <td>0.207482</td>\n",
              "      <td>0.173103</td>\n",
              "      <td>0.199262</td>\n",
              "      <td>0.212836</td>\n",
              "      <td>0.0</td>\n",
              "      <td>0.2084</td>\n",
              "      <td>0.198431</td>\n",
              "      <td>0.154351</td>\n",
              "      <td>0.159791</td>\n",
              "      <td>0.151738</td>\n",
              "      <td>0.175362</td>\n",
              "      <td>0.148176</td>\n",
              "      <td>0.170037</td>\n",
              "      <td>0.143919</td>\n",
              "      <td>0.295361</td>\n",
              "      <td>0.118398</td>\n",
              "      <td>0.114727</td>\n",
              "      <td>0.114981</td>\n",
              "      <td>0.090183</td>\n",
              "      <td>0.086733</td>\n",
              "      <td>3.672561</td>\n",
              "      <td>1.405511</td>\n",
              "      <td>1.21751</td>\n",
              "      <td>0.612787</td>\n",
              "      <td>0.677462</td>\n",
              "    </tr>\n",
              "    <tr>\n",
              "      <th>min</th>\n",
              "      <td>13.000000</td>\n",
              "      <td>0.000000</td>\n",
              "      <td>0.000000</td>\n",
              "      <td>16.00000</td>\n",
              "      <td>1.000000</td>\n",
              "      <td>0.000000</td>\n",
              "      <td>0.000000</td>\n",
              "      <td>0.000000</td>\n",
              "      <td>0.000000</td>\n",
              "      <td>0.000000</td>\n",
              "      <td>0.000000</td>\n",
              "      <td>0.000000</td>\n",
              "      <td>0.000000</td>\n",
              "      <td>0.000000</td>\n",
              "      <td>0.000000</td>\n",
              "      <td>0.000000</td>\n",
              "      <td>0.000000</td>\n",
              "      <td>0.000000</td>\n",
              "      <td>0.000000</td>\n",
              "      <td>0.000000</td>\n",
              "      <td>0.000000</td>\n",
              "      <td>0.000000</td>\n",
              "      <td>0.000000</td>\n",
              "      <td>0.000000</td>\n",
              "      <td>0.000000</td>\n",
              "      <td>0.000000</td>\n",
              "      <td>0.000000</td>\n",
              "      <td>0.000000</td>\n",
              "      <td>0.000000</td>\n",
              "      <td>0.0</td>\n",
              "      <td>0.0000</td>\n",
              "      <td>0.000000</td>\n",
              "      <td>0.000000</td>\n",
              "      <td>0.000000</td>\n",
              "      <td>0.000000</td>\n",
              "      <td>0.000000</td>\n",
              "      <td>0.000000</td>\n",
              "      <td>0.000000</td>\n",
              "      <td>0.000000</td>\n",
              "      <td>0.000000</td>\n",
              "      <td>0.000000</td>\n",
              "      <td>0.000000</td>\n",
              "      <td>0.000000</td>\n",
              "      <td>0.000000</td>\n",
              "      <td>0.000000</td>\n",
              "      <td>0.000000</td>\n",
              "      <td>0.000000</td>\n",
              "      <td>0.00000</td>\n",
              "      <td>0.000000</td>\n",
              "      <td>0.000000</td>\n",
              "    </tr>\n",
              "    <tr>\n",
              "      <th>25%</th>\n",
              "      <td>93526.750000</td>\n",
              "      <td>1.000000</td>\n",
              "      <td>5.000000</td>\n",
              "      <td>24.00000</td>\n",
              "      <td>10.000000</td>\n",
              "      <td>0.000000</td>\n",
              "      <td>0.000000</td>\n",
              "      <td>0.000000</td>\n",
              "      <td>0.000000</td>\n",
              "      <td>0.000000</td>\n",
              "      <td>0.000000</td>\n",
              "      <td>0.000000</td>\n",
              "      <td>0.000000</td>\n",
              "      <td>0.000000</td>\n",
              "      <td>0.000000</td>\n",
              "      <td>0.000000</td>\n",
              "      <td>0.000000</td>\n",
              "      <td>0.000000</td>\n",
              "      <td>0.000000</td>\n",
              "      <td>0.000000</td>\n",
              "      <td>0.000000</td>\n",
              "      <td>0.000000</td>\n",
              "      <td>0.000000</td>\n",
              "      <td>0.000000</td>\n",
              "      <td>0.000000</td>\n",
              "      <td>0.000000</td>\n",
              "      <td>0.000000</td>\n",
              "      <td>0.000000</td>\n",
              "      <td>0.000000</td>\n",
              "      <td>0.0</td>\n",
              "      <td>0.0000</td>\n",
              "      <td>0.000000</td>\n",
              "      <td>0.000000</td>\n",
              "      <td>0.000000</td>\n",
              "      <td>0.000000</td>\n",
              "      <td>0.000000</td>\n",
              "      <td>0.000000</td>\n",
              "      <td>0.000000</td>\n",
              "      <td>0.000000</td>\n",
              "      <td>0.000000</td>\n",
              "      <td>0.000000</td>\n",
              "      <td>0.000000</td>\n",
              "      <td>0.000000</td>\n",
              "      <td>0.000000</td>\n",
              "      <td>0.000000</td>\n",
              "      <td>3.000000</td>\n",
              "      <td>0.000000</td>\n",
              "      <td>0.00000</td>\n",
              "      <td>0.000000</td>\n",
              "      <td>0.000000</td>\n",
              "    </tr>\n",
              "    <tr>\n",
              "      <th>50%</th>\n",
              "      <td>187193.500000</td>\n",
              "      <td>3.000000</td>\n",
              "      <td>14.000000</td>\n",
              "      <td>29.00000</td>\n",
              "      <td>18.000000</td>\n",
              "      <td>0.000000</td>\n",
              "      <td>0.000000</td>\n",
              "      <td>0.000000</td>\n",
              "      <td>0.000000</td>\n",
              "      <td>1.000000</td>\n",
              "      <td>0.000000</td>\n",
              "      <td>1.000000</td>\n",
              "      <td>0.000000</td>\n",
              "      <td>0.000000</td>\n",
              "      <td>0.000000</td>\n",
              "      <td>0.000000</td>\n",
              "      <td>0.000000</td>\n",
              "      <td>0.000000</td>\n",
              "      <td>0.000000</td>\n",
              "      <td>0.000000</td>\n",
              "      <td>0.000000</td>\n",
              "      <td>0.000000</td>\n",
              "      <td>0.000000</td>\n",
              "      <td>0.000000</td>\n",
              "      <td>0.000000</td>\n",
              "      <td>0.000000</td>\n",
              "      <td>0.000000</td>\n",
              "      <td>0.000000</td>\n",
              "      <td>0.000000</td>\n",
              "      <td>0.0</td>\n",
              "      <td>0.0000</td>\n",
              "      <td>0.000000</td>\n",
              "      <td>0.000000</td>\n",
              "      <td>0.000000</td>\n",
              "      <td>0.000000</td>\n",
              "      <td>0.000000</td>\n",
              "      <td>0.000000</td>\n",
              "      <td>0.000000</td>\n",
              "      <td>0.000000</td>\n",
              "      <td>0.000000</td>\n",
              "      <td>0.000000</td>\n",
              "      <td>0.000000</td>\n",
              "      <td>0.000000</td>\n",
              "      <td>0.000000</td>\n",
              "      <td>0.000000</td>\n",
              "      <td>6.000000</td>\n",
              "      <td>0.000000</td>\n",
              "      <td>0.00000</td>\n",
              "      <td>0.000000</td>\n",
              "      <td>1.000000</td>\n",
              "    </tr>\n",
              "    <tr>\n",
              "      <th>75%</th>\n",
              "      <td>279984.250000</td>\n",
              "      <td>5.000000</td>\n",
              "      <td>19.000000</td>\n",
              "      <td>37.00000</td>\n",
              "      <td>28.000000</td>\n",
              "      <td>0.000000</td>\n",
              "      <td>0.000000</td>\n",
              "      <td>1.000000</td>\n",
              "      <td>0.000000</td>\n",
              "      <td>1.000000</td>\n",
              "      <td>1.000000</td>\n",
              "      <td>1.000000</td>\n",
              "      <td>1.000000</td>\n",
              "      <td>1.000000</td>\n",
              "      <td>0.000000</td>\n",
              "      <td>1.000000</td>\n",
              "      <td>1.000000</td>\n",
              "      <td>1.000000</td>\n",
              "      <td>0.000000</td>\n",
              "      <td>0.000000</td>\n",
              "      <td>0.000000</td>\n",
              "      <td>0.000000</td>\n",
              "      <td>0.000000</td>\n",
              "      <td>0.000000</td>\n",
              "      <td>0.000000</td>\n",
              "      <td>0.000000</td>\n",
              "      <td>0.000000</td>\n",
              "      <td>0.000000</td>\n",
              "      <td>0.000000</td>\n",
              "      <td>0.0</td>\n",
              "      <td>0.0000</td>\n",
              "      <td>0.000000</td>\n",
              "      <td>0.000000</td>\n",
              "      <td>0.000000</td>\n",
              "      <td>0.000000</td>\n",
              "      <td>0.000000</td>\n",
              "      <td>0.000000</td>\n",
              "      <td>0.000000</td>\n",
              "      <td>0.000000</td>\n",
              "      <td>0.000000</td>\n",
              "      <td>0.000000</td>\n",
              "      <td>0.000000</td>\n",
              "      <td>0.000000</td>\n",
              "      <td>0.000000</td>\n",
              "      <td>0.000000</td>\n",
              "      <td>8.000000</td>\n",
              "      <td>0.000000</td>\n",
              "      <td>1.00000</td>\n",
              "      <td>0.000000</td>\n",
              "      <td>1.000000</td>\n",
              "    </tr>\n",
              "    <tr>\n",
              "      <th>max</th>\n",
              "      <td>373662.000000</td>\n",
              "      <td>6.000000</td>\n",
              "      <td>23.000000</td>\n",
              "      <td>101.00000</td>\n",
              "      <td>325.000000</td>\n",
              "      <td>1.000000</td>\n",
              "      <td>1.000000</td>\n",
              "      <td>1.000000</td>\n",
              "      <td>1.000000</td>\n",
              "      <td>1.000000</td>\n",
              "      <td>1.000000</td>\n",
              "      <td>1.000000</td>\n",
              "      <td>1.000000</td>\n",
              "      <td>1.000000</td>\n",
              "      <td>1.000000</td>\n",
              "      <td>1.000000</td>\n",
              "      <td>1.000000</td>\n",
              "      <td>1.000000</td>\n",
              "      <td>1.000000</td>\n",
              "      <td>1.000000</td>\n",
              "      <td>1.000000</td>\n",
              "      <td>1.000000</td>\n",
              "      <td>1.000000</td>\n",
              "      <td>1.000000</td>\n",
              "      <td>1.000000</td>\n",
              "      <td>1.000000</td>\n",
              "      <td>1.000000</td>\n",
              "      <td>1.000000</td>\n",
              "      <td>1.000000</td>\n",
              "      <td>0.0</td>\n",
              "      <td>1.0000</td>\n",
              "      <td>1.000000</td>\n",
              "      <td>1.000000</td>\n",
              "      <td>1.000000</td>\n",
              "      <td>1.000000</td>\n",
              "      <td>1.000000</td>\n",
              "      <td>1.000000</td>\n",
              "      <td>1.000000</td>\n",
              "      <td>1.000000</td>\n",
              "      <td>1.000000</td>\n",
              "      <td>1.000000</td>\n",
              "      <td>1.000000</td>\n",
              "      <td>1.000000</td>\n",
              "      <td>1.000000</td>\n",
              "      <td>1.000000</td>\n",
              "      <td>35.000000</td>\n",
              "      <td>10.000000</td>\n",
              "      <td>5.00000</td>\n",
              "      <td>3.000000</td>\n",
              "      <td>3.000000</td>\n",
              "    </tr>\n",
              "  </tbody>\n",
              "</table>\n",
              "</div>"
            ],
            "text/plain": [
              "                user     dayofweek  ...       CCCount    LoansCount\n",
              "count   50000.000000  50000.000000  ...  50000.000000  50000.000000\n",
              "mean   186889.729900      3.029860  ...      0.176860      0.788400\n",
              "std    107768.520361      2.031997  ...      0.612787      0.677462\n",
              "min        13.000000      0.000000  ...      0.000000      0.000000\n",
              "25%     93526.750000      1.000000  ...      0.000000      0.000000\n",
              "50%    187193.500000      3.000000  ...      0.000000      1.000000\n",
              "75%    279984.250000      5.000000  ...      0.000000      1.000000\n",
              "max    373662.000000      6.000000  ...      3.000000      3.000000\n",
              "\n",
              "[8 rows x 50 columns]"
            ]
          },
          "metadata": {
            "tags": []
          },
          "execution_count": 30
        }
      ]
    },
    {
      "cell_type": "code",
      "metadata": {
        "colab": {
          "base_uri": "https://localhost:8080/"
        },
        "id": "KMm8gt3pvHUl",
        "outputId": "0bf615ae-d3a9-4133-de73-e298c44b1b92"
      },
      "source": [
        "dataset.columns"
      ],
      "execution_count": 31,
      "outputs": [
        {
          "output_type": "execute_result",
          "data": {
            "text/plain": [
              "Index(['user', 'dayofweek', 'hour', 'age', 'numscreens', 'minigame',\n",
              "       'used_premium_feature', 'enrolled', 'liked', 'location', 'Institutions',\n",
              "       'VerifyPhone', 'BankVerification', 'VerifyDateOfBirth', 'ProfilePage',\n",
              "       'VerifyCountry', 'Cycle', 'idscreen', 'Splash', 'RewardsContainer',\n",
              "       'EditProfile', 'Finances', 'Alerts', 'Leaderboard', 'VerifyMobile',\n",
              "       'VerifyHousing', 'RewardDetail', 'VerifyHousingAmount',\n",
              "       'ProfileMaritalStatus', 'ProfileChildren ', 'ProfileEducation',\n",
              "       'ProfileEducationMajor', 'Rewards', 'AccountView', 'VerifyAnnualIncome',\n",
              "       'VerifyIncomeType', 'ProfileJobTitle', 'Login',\n",
              "       'ProfileEmploymentLength', 'WebView', 'SecurityModal', 'ResendToken',\n",
              "       'TransactionList', 'NetworkFailure', 'ListPicker', 'Other',\n",
              "       'TotalSaving', 'CMCount', 'CCCount', 'LoansCount'],\n",
              "      dtype='object')"
            ]
          },
          "metadata": {
            "tags": []
          },
          "execution_count": 31
        }
      ]
    },
    {
      "cell_type": "markdown",
      "metadata": {
        "id": "zkLxlMitvOIj"
      },
      "source": [
        "## Saving the dataset"
      ]
    },
    {
      "cell_type": "code",
      "metadata": {
        "id": "utPxDI6nvSJD"
      },
      "source": [
        "dataset.to_csv('new_appdata10.csv', index = False)"
      ],
      "execution_count": 33,
      "outputs": []
    },
    {
      "cell_type": "markdown",
      "metadata": {
        "id": "Mld8vfOKx7YB"
      },
      "source": [
        "# Model Processing"
      ]
    },
    {
      "cell_type": "markdown",
      "metadata": {
        "id": "0EX6aZc5zz4L"
      },
      "source": [
        "## Data prepocessing"
      ]
    },
    {
      "cell_type": "code",
      "metadata": {
        "id": "9lUBvdM2x-qc"
      },
      "source": [
        "# Importing the new dataset\n",
        "dataset_model = pd.read_csv('new_appdata10.csv')"
      ],
      "execution_count": 34,
      "outputs": []
    },
    {
      "cell_type": "code",
      "metadata": {
        "id": "4uf_q2P-2b2l"
      },
      "source": [
        "# We need to separete the response column of the rest dataframe\n",
        "response = dataset_model['enrolled']\n",
        "# Eliminating the enrolled column from dataset_model\n",
        "dataset_model = dataset_model.drop(columns='enrolled')"
      ],
      "execution_count": 35,
      "outputs": []
    },
    {
      "cell_type": "code",
      "metadata": {
        "id": "IJiTX-VI240N"
      },
      "source": [
        "# Splitting the Dataset into Testing and Training variables\n",
        "\n",
        "from sklearn.model_selection import train_test_split\n",
        "X_train, X_test, y_train, y_test = train_test_split(dataset_model, response, test_size = 0.2, random_state = 0)"
      ],
      "execution_count": 36,
      "outputs": []
    },
    {
      "cell_type": "code",
      "metadata": {
        "id": "JUzKyLmF3W7d"
      },
      "source": [
        "# We had preserved the user column, but this does not have signification to model. We are going to save this column into other variable. In the future we can associate the user with the prediction\n",
        "train_id = X_train['user']\n",
        "X_train = X_train.drop(columns='user')\n",
        "test_id = X_test['user']\n",
        "X_test = X_test.drop(columns='user')"
      ],
      "execution_count": 37,
      "outputs": []
    },
    {
      "cell_type": "code",
      "metadata": {
        "id": "jAW5XWx64QtP"
      },
      "source": [
        "# Feature scaling\n",
        "\n",
        "from sklearn.preprocessing import StandardScaler\n",
        "sc = StandardScaler()\n",
        "X_train_bckp = pd.DataFrame(sc.fit_transform(X_train))\n",
        "X_test_bckp = pd.DataFrame(sc.transform(X_test))\n",
        "X_train_bckp.columns = X_train.columns.values\n",
        "X_test_bckp.columns = X_test.columns.values\n",
        "X_train_bckp.idex = X_train.index.values\n",
        "X_test_bckp.idex = X_test.index.values\n",
        "X_train = X_train_bckp\n",
        "X_test = X_test_bckp"
      ],
      "execution_count": null,
      "outputs": []
    },
    {
      "cell_type": "code",
      "metadata": {
        "id": "8BkNljpv54Jv"
      },
      "source": [
        "# Model building\n",
        "\n"
      ],
      "execution_count": null,
      "outputs": []
    }
  ]
}