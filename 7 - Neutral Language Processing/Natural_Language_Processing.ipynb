{
  "nbformat": 4,
  "nbformat_minor": 0,
  "metadata": {
    "colab": {
      "name": "Natural_Language_Processing.ipynb",
      "provenance": [],
      "collapsed_sections": [],
      "toc_visible": true
    },
    "kernelspec": {
      "display_name": "Python 3",
      "language": "python",
      "name": "python3"
    },
    "language_info": {
      "codemirror_mode": {
        "name": "ipython",
        "version": 3
      },
      "file_extension": ".py",
      "mimetype": "text/x-python",
      "name": "python",
      "nbconvert_exporter": "python",
      "pygments_lexer": "ipython3",
      "version": "3.6.9"
    }
  },
  "cells": [
    {
      "cell_type": "markdown",
      "metadata": {
        "id": "gWWosJhLXFta"
      },
      "source": [
        "**Natural Language Processing in Python using Regular Expression, Natural Language Toolkit and Classification Models**\n",
        "\n",
        "This program has as objective to construct a Bag of Words Model a branch of Natural Language Processing to make sentiment analysis.\n",
        "\n",
        "**Problem Description**\n",
        "\n",
        "The problem consists in take care about a set of reviews, transforming the words into a sparse matrix and than, create a classification model capable to say with a review is a negative or positive sentiment. \n",
        "\n",
        "**Dataset Description**\n",
        "\n",
        "The dataset is composed by many reviews of quality and service of a restaurant. The structure of the dataset is two columns (the review and the sentiment) and 1001 rows, each row is a review from a client. The sentiment analysis is classified as 0 to negative sentiment and 1 to positive sentiment."
      ]
    },
    {
      "cell_type": "markdown",
      "metadata": {
        "id": "81yAdwgbXWNF"
      },
      "source": [
        "# Data preprocessing"
      ]
    },
    {
      "cell_type": "markdown",
      "metadata": {
        "id": "DLYVOdC2-ADv"
      },
      "source": [
        "## Importing the libraries"
      ]
    },
    {
      "cell_type": "code",
      "metadata": {
        "id": "Y3kw7L1XXZmT"
      },
      "source": [
        "import numpy as np\n",
        "import matplotlib.pyplot as plt\n",
        "import pandas as pd\n",
        "import seaborn as sns\n",
        "import re # Regular Expression\n",
        "import nltk # Natural Language Toolkit"
      ],
      "execution_count": null,
      "outputs": []
    },
    {
      "cell_type": "markdown",
      "metadata": {
        "id": "Zvw7DYReX3s5"
      },
      "source": [
        "## Importing Dataset\n",
        "\n",
        "Here, we consider the delimiter '\\t 'to read a tabular separate and quoting = 3 to suppress all quotes (it can interfere in the model)."
      ]
    },
    {
      "cell_type": "code",
      "metadata": {
        "id": "bE2yT8ieYkx-"
      },
      "source": [
        "dataset = pd.read_csv('Restaurant_Reviews.tsv', delimiter = '\\t', quoting = 3)"
      ],
      "execution_count": null,
      "outputs": []
    },
    {
      "cell_type": "markdown",
      "metadata": {
        "id": "A_XBhYq5aVoy"
      },
      "source": [
        "## Cleaning the Text\n",
        "An important step in Natural Language Processing is to clean your text. It means, we must to select the relevant words to take account in our model. For example, words like I, you, Me, this, that, a, an and others words are not relevant to the model. For this reason, we utilize Natural Language Toolkit, this modulus provides a list with the most non-relevant words. From the stop-word list, we can eliminate these words and keep just the relevant words.\n",
        "\n",
        "An other important process is to stemmer the words. We consider the root of the words, for example, words as loved, lovely will be stemmed to love. One apply it to reduce our sparse matrix. So, for the text cleaning we utilize some modulus as NLTK and RE."
      ]
    },
    {
      "cell_type": "code",
      "metadata": {
        "id": "3CbSzfVB-ADz",
        "outputId": "da4ab571-084d-4139-d401-643edc29d2d3"
      },
      "source": [
        "nltk.download('stopwords')\n",
        "\n",
        "from nltk.corpus import stopwords # Calling Stopwords class to creat the list with non relevant words\n",
        "from nltk.stem.porter import PorterStemmer # The class to stemmer the words\n",
        "\n",
        "corpus = [] # Empty list. We are going to add the cleaned text into this list\n",
        "\n",
        "all_stopwords = stopwords.words('english') # List that contains all stopwords (non relevant words)\n",
        "do_not_stop= ['not', 'didn', 'hasn', 'doesn', 'don', 'hadn', 'haven', 'isn', 'wasn', 'aren', 'couldn', 'mightn', 'mustn', 'needn', 'shan', 'shouldn', 'weren', 'won',  'wouldn']\n",
        "# do_not_stop is a list with some words which must be considered due to your negative aspect\n",
        "\n",
        "# Loop to remove the words inside do_not_stop\n",
        "for keeps in do_not_stop:\n",
        "    all_stopwords.remove(keeps)\n",
        "    \n",
        "\n",
        "ps = PorterStemmer() # Object ot stemmer the words  \n",
        "# This loop for to clean the text row by row\n",
        "for i in range(0, 1000):\n",
        "  # Now we creat a new variable called review, we transform the original text, first we elimate all pontuations and then all capital letters\n",
        "    review = re.sub('[^a-zA-Z]', ' ', dataset['Review'][i]) # This eliminates all potuation the first [] refers to the column and the second [] to the rows\n",
        "    review = review.lower() # To transform capital letter into lowercase\n",
        "    review = review.split() # We need to split the elements to create a list with many elements, in the past step we had just a list with one single element\n",
        "    review = [ps.stem(word) for word in review if not word in set(all_stopwords)] # Here eliminate the stopwords from review and then, we stemmer each word\n",
        "    review = ' '.join(review) # We join all the words to remake the review\n",
        "    corpus.append(review) # Here we create the final list that contians the cleaned text and from this list we are going to construct our bag of words model.    "
      ],
      "execution_count": null,
      "outputs": [
        {
          "output_type": "stream",
          "text": [
            "[nltk_data] Downloading package stopwords to /home/igor/nltk_data...\n",
            "[nltk_data]   Package stopwords is already up-to-date!\n"
          ],
          "name": "stderr"
        }
      ]
    },
    {
      "cell_type": "markdown",
      "metadata": {
        "id": "ncIta04LFAD9"
      },
      "source": [
        "## Creating the Bag of Words Model\n",
        "\n",
        "This model assigns to each word one column, these columns are the independent variables to build the model. For example, if a review contains the word love two times, for this review the column for love word will contain this appearance frequency, 2.  Once time that we have the sparse matrix, we are able to train our model of sentiment analysis."
      ]
    },
    {
      "cell_type": "code",
      "metadata": {
        "id": "lM8NpUJYIO46"
      },
      "source": [
        "from sklearn.feature_extraction.text import CountVectorizer # This class transform words into columns and takes account the appearence frequency.\n",
        "cv = CountVectorizer(max_features=1500) # This object converts words into columns (max_feature is the number of desired word (number of columns of the sparse matrix))\n",
        "X = cv.fit_transform(corpus).toarray() # Here we create our sparse matrix and we transform words into numbers (Tokenization)\n",
        "y = dataset.iloc[:, -1].values # Here we create our dependent variable from the dataset"
      ],
      "execution_count": null,
      "outputs": []
    },
    {
      "cell_type": "markdown",
      "metadata": {
        "id": "Yn_FP5wz-AD3"
      },
      "source": [
        "# Building the classification models"
      ]
    },
    {
      "cell_type": "markdown",
      "metadata": {
        "id": "RmcaHLYCLmJ5"
      },
      "source": [
        "## Splitting Dataset into training and test set"
      ]
    },
    {
      "cell_type": "code",
      "metadata": {
        "id": "kt3kYCdkLrvP"
      },
      "source": [
        "from sklearn.model_selection import train_test_split\n",
        "X_train, X_test, y_train, y_test = train_test_split(X, y, test_size = 0.2, random_state = 0)"
      ],
      "execution_count": null,
      "outputs": []
    },
    {
      "cell_type": "markdown",
      "metadata": {
        "id": "uH6R4-u-LwL2"
      },
      "source": [
        "##  Training the models\n",
        "\n",
        "The response to know a new review come from a classification model. Here, we have six different models of classification to train the dataset."
      ]
    },
    {
      "cell_type": "code",
      "metadata": {
        "id": "NgiIf7D1L1Pm",
        "outputId": "a53a33dc-2162-4e0e-fdc4-ea3e83d4131c"
      },
      "source": [
        "# Logistic Regression\n",
        "from sklearn.linear_model import LogisticRegression\n",
        "classifier1 = LogisticRegression(random_state = 0)\n",
        "classifier1.fit(X_train, y_train)\n",
        "\n",
        "# K Nearest Nieghbors\n",
        "\n",
        "from sklearn.neighbors import KNeighborsClassifier\n",
        "classifier2 = KNeighborsClassifier(n_neighbors= 5, metric='minkowski', p = 2)\n",
        "classifier2.fit(X_train, y_train)\n",
        "\n",
        "# Kernel Support Vector Machine\n",
        "\n",
        "from sklearn.svm import SVC\n",
        "classifier3 = SVC(kernel='rbf', random_state=0)\n",
        "classifier3.fit(X_train, y_train)\n",
        "\n",
        "# Naïves Bayes Classification\n",
        "\n",
        "from sklearn.naive_bayes import GaussianNB\n",
        "classifier4 = GaussianNB()\n",
        "classifier4.fit(X_train, y_train)\n",
        "\n",
        "# Decision Tree Classification\n",
        "\n",
        "from sklearn.tree import DecisionTreeClassifier\n",
        "classifier5 = DecisionTreeClassifier(criterion='entropy', random_state=0)\n",
        "classifier5.fit(X_train, y_train)\n",
        "\n",
        "# Random Forest Classification\n",
        "from sklearn.ensemble import RandomForestClassifier\n",
        "classifier6 = RandomForestClassifier(n_estimators=100, criterion='entropy', random_state = 0)\n",
        "classifier6.fit(X_train, y_train)"
      ],
      "execution_count": null,
      "outputs": [
        {
          "output_type": "execute_result",
          "data": {
            "text/plain": [
              "RandomForestClassifier(criterion='entropy', random_state=0)"
            ]
          },
          "metadata": {
            "tags": []
          },
          "execution_count": 6
        }
      ]
    },
    {
      "cell_type": "markdown",
      "metadata": {
        "id": "cfLLn8ZzMBh0"
      },
      "source": [
        "### Predicting the test result"
      ]
    },
    {
      "cell_type": "code",
      "metadata": {
        "id": "NE5bj_rtMFz2"
      },
      "source": [
        "y_pred1 = classifier1.predict(X_test)\n",
        "y_pred2 = classifier2.predict(X_test)\n",
        "y_pred3 = classifier3.predict(X_test)\n",
        "y_pred4 = classifier4.predict(X_test)\n",
        "y_pred5 = classifier5.predict(X_test)\n",
        "y_pred6 = classifier6.predict(X_test)"
      ],
      "execution_count": null,
      "outputs": []
    },
    {
      "cell_type": "markdown",
      "metadata": {
        "id": "3xBEETcp-AD6"
      },
      "source": [
        "## Selection Model\n",
        "\n",
        "To select the best classification model, we consider some metrics as precision, recall, f1-score and accuracy. To verify with more precision, to each model we employ the cross validation. After the cross validation, we are going to choose the three best models to tune."
      ]
    },
    {
      "cell_type": "markdown",
      "metadata": {
        "id": "rHuIrpomMS4c"
      },
      "source": [
        "### Metrics results without cross validation\n"
      ]
    },
    {
      "cell_type": "code",
      "metadata": {
        "colab": {
          "base_uri": "https://localhost:8080/"
        },
        "id": "CJ2LSoJNMVS1",
        "outputId": "45319ae7-028a-4751-806f-80d779a36c60"
      },
      "source": [
        "from sklearn.metrics import classification_report, confusion_matrix\n",
        "cm1 = confusion_matrix(y_test, y_pred1)\n",
        "cm2 = confusion_matrix(y_test, y_pred2)\n",
        "cm3 = confusion_matrix(y_test, y_pred3)\n",
        "cm4 = confusion_matrix(y_test, y_pred4)\n",
        "cm5 = confusion_matrix(y_test, y_pred5)\n",
        "cm6 = confusion_matrix(y_test, y_pred6)\n",
        "\n",
        "print('Checking Confusion Matrix to a single observation')\n",
        "print('Logistic Regression Classification')\n",
        "print(cm1)\n",
        "print(classification_report(y_test,y_pred1))\n",
        "print('\\n')\n",
        "print('K Nearest Neighbors')\n",
        "print(cm2)\n",
        "print(classification_report(y_test,y_pred2))\n",
        "print('\\n')\n",
        "print('Support Vector Machine')\n",
        "print(cm3)\n",
        "print(classification_report(y_test,y_pred3))\n",
        "print('\\n')\n",
        "print('Naive Bayes Classification')\n",
        "print(cm4)\n",
        "print(classification_report(y_test,y_pred4))\n",
        "print('\\n')\n",
        "print('Decision Tree Classification')\n",
        "print(cm5)\n",
        "print(classification_report(y_test,y_pred5))\n",
        "print('\\n')\n",
        "print('Random Forest Classification')\n",
        "print(cm6)\n",
        "print(classification_report(y_test,y_pred6))\n",
        "print('\\n')"
      ],
      "execution_count": null,
      "outputs": [
        {
          "output_type": "stream",
          "text": [
            "Checking Confusion Matrix to a single observation\n",
            "Logistic Regression Classification\n",
            "[[80 17]\n",
            " [23 80]]\n",
            "              precision    recall  f1-score   support\n",
            "\n",
            "           0       0.78      0.82      0.80        97\n",
            "           1       0.82      0.78      0.80       103\n",
            "\n",
            "    accuracy                           0.80       200\n",
            "   macro avg       0.80      0.80      0.80       200\n",
            "weighted avg       0.80      0.80      0.80       200\n",
            "\n",
            "\n",
            "\n",
            "K Nearest Neighbors\n",
            "[[67 30]\n",
            " [37 66]]\n",
            "              precision    recall  f1-score   support\n",
            "\n",
            "           0       0.64      0.69      0.67        97\n",
            "           1       0.69      0.64      0.66       103\n",
            "\n",
            "    accuracy                           0.67       200\n",
            "   macro avg       0.67      0.67      0.66       200\n",
            "weighted avg       0.67      0.67      0.66       200\n",
            "\n",
            "\n",
            "\n",
            "Support Vector Machine\n",
            "[[88  9]\n",
            " [33 70]]\n",
            "              precision    recall  f1-score   support\n",
            "\n",
            "           0       0.73      0.91      0.81        97\n",
            "           1       0.89      0.68      0.77       103\n",
            "\n",
            "    accuracy                           0.79       200\n",
            "   macro avg       0.81      0.79      0.79       200\n",
            "weighted avg       0.81      0.79      0.79       200\n",
            "\n",
            "\n",
            "\n",
            "Naive Bayes Classification\n",
            "[[56 41]\n",
            " [12 91]]\n",
            "              precision    recall  f1-score   support\n",
            "\n",
            "           0       0.82      0.58      0.68        97\n",
            "           1       0.69      0.88      0.77       103\n",
            "\n",
            "    accuracy                           0.73       200\n",
            "   macro avg       0.76      0.73      0.73       200\n",
            "weighted avg       0.75      0.73      0.73       200\n",
            "\n",
            "\n",
            "\n",
            "Decision Tree Classification\n",
            "[[79 18]\n",
            " [28 75]]\n",
            "              precision    recall  f1-score   support\n",
            "\n",
            "           0       0.74      0.81      0.77        97\n",
            "           1       0.81      0.73      0.77       103\n",
            "\n",
            "    accuracy                           0.77       200\n",
            "   macro avg       0.77      0.77      0.77       200\n",
            "weighted avg       0.77      0.77      0.77       200\n",
            "\n",
            "\n",
            "\n",
            "Random Forest Classification\n",
            "[[89  8]\n",
            " [35 68]]\n",
            "              precision    recall  f1-score   support\n",
            "\n",
            "           0       0.72      0.92      0.81        97\n",
            "           1       0.89      0.66      0.76       103\n",
            "\n",
            "    accuracy                           0.79       200\n",
            "   macro avg       0.81      0.79      0.78       200\n",
            "weighted avg       0.81      0.79      0.78       200\n",
            "\n",
            "\n",
            "\n"
          ],
          "name": "stdout"
        }
      ]
    },
    {
      "cell_type": "markdown",
      "metadata": {
        "id": "6emNFL0T-AD8"
      },
      "source": [
        "### Metrics results with cross validation"
      ]
    },
    {
      "cell_type": "code",
      "metadata": {
        "id": "eRCy1BLs-AD8",
        "outputId": "ded3868f-1bbe-49db-c6d5-a84b10c930f7"
      },
      "source": [
        "scoring = ['accuracy', 'precision', 'recall', 'f1'] # List of scores\n",
        "from sklearn.model_selection import cross_validate\n",
        "accuracies1 = cross_validate(estimator = classifier1, X = X_train, y = y_train, cv = 10, scoring = scoring)\n",
        "accuracies2 = cross_validate(estimator = classifier2, X = X_train, y = y_train, cv = 10, scoring = scoring)\n",
        "accuracies3 = cross_validate(estimator = classifier3, X = X_train, y = y_train, cv = 10, scoring = scoring)\n",
        "accuracies4 = cross_validate(estimator = classifier4, X = X_train, y = y_train, cv = 10, scoring = scoring)\n",
        "accuracies5 = cross_validate(estimator = classifier5, X = X_train, y = y_train, cv = 10, scoring = scoring)\n",
        "accuracies6 = cross_validate(estimator = classifier6, X = X_train, y = y_train, cv = 10, scoring = scoring)\n",
        "\n",
        "\n",
        "print('Checking K-Fold Cross Validation')\n",
        "print('\\n')\n",
        "print('Logistic Regression Classification')\n",
        "print(\"Accuracy: {:.2f} %\".format(accuracies1['test_accuracy'].mean()*100))\n",
        "print(\"Precision: {:.2f} %\".format(accuracies1['test_precision'].mean()*100))\n",
        "print(\"Recall: {:.2f} %\".format(accuracies1['test_recall'].mean()*100))\n",
        "print(\"F1-score: {:.2f} %\".format(accuracies1['test_f1'].mean()*100))\n",
        "print('\\n')\n",
        "print('K-Nearest Neighbors')\n",
        "print(\"Accuracy: {:.2f} %\".format(accuracies2['test_accuracy'].mean()*100))\n",
        "print(\"Precision: {:.2f} %\".format(accuracies2['test_precision'].mean()*100))\n",
        "print(\"Recall: {:.2f} %\".format(accuracies2['test_recall'].mean()*100))\n",
        "print(\"F1-score: {:.2f} %\".format(accuracies2['test_f1'].mean()*100))\n",
        "print('\\n')\n",
        "print('Support Vector Machine')\n",
        "print(\"Accuracy: {:.2f} %\".format(accuracies3['test_accuracy'].mean()*100))\n",
        "print(\"Precision: {:.2f} %\".format(accuracies3['test_precision'].mean()*100))\n",
        "print(\"Recall: {:.2f} %\".format(accuracies3['test_recall'].mean()*100))\n",
        "print(\"F1-score: {:.2f} %\".format(accuracies3['test_f1'].mean()*100))\n",
        "print('\\n')\n",
        "print('Naive Bayes Classification')\n",
        "print(\"Accuracy: {:.2f} %\".format(accuracies4['test_accuracy'].mean()*100))\n",
        "print(\"Precision: {:.2f} %\".format(accuracies4['test_precision'].mean()*100))\n",
        "print(\"Recall: {:.2f} %\".format(accuracies4['test_recall'].mean()*100))\n",
        "print(\"F1-score: {:.2f} %\".format(accuracies4['test_f1'].mean()*100))\n",
        "print('\\n')\n",
        "print('Decision Tree Classification')\n",
        "print(\"Accuracy: {:.2f} %\".format(accuracies5['test_accuracy'].mean()*100))\n",
        "print(\"Precision: {:.2f} %\".format(accuracies5['test_precision'].mean()*100))\n",
        "print(\"Recall: {:.2f} %\".format(accuracies5['test_recall'].mean()*100))\n",
        "print(\"F1-score: {:.2f} %\".format(accuracies5['test_f1'].mean()*100))\n",
        "print('\\n')\n",
        "print('Random Forest Classification')\n",
        "print(\"Accuracy: {:.2f} %\".format(accuracies6['test_accuracy'].mean()*100))\n",
        "print(\"Precision: {:.2f} %\".format(accuracies6['test_precision'].mean()*100))\n",
        "print(\"Recall: {:.2f} %\".format(accuracies6['test_recall'].mean()*100))\n",
        "print(\"F1-score: {:.2f} %\".format(accuracies6['test_f1'].mean()*100))\n",
        "print('\\n')"
      ],
      "execution_count": null,
      "outputs": [
        {
          "output_type": "stream",
          "text": [
            "Checking K-Fold Cross Validation\n",
            "\n",
            "\n",
            "Logistic Regression Classification\n",
            "Accuracy: 81.25 %\n",
            "Precision: 83.24 %\n",
            "Recall: 78.10 %\n",
            "F1-score: 80.39 %\n",
            "\n",
            "\n",
            "K-Nearest Neighbors\n",
            "Accuracy: 71.12 %\n",
            "Precision: 74.02 %\n",
            "Recall: 65.79 %\n",
            "F1-score: 69.23 %\n",
            "\n",
            "\n",
            "Support Vector Machine\n",
            "Accuracy: 80.75 %\n",
            "Precision: 87.95 %\n",
            "Recall: 71.05 %\n",
            "F1-score: 78.39 %\n",
            "\n",
            "\n",
            "Naive Bayes Classification\n",
            "Accuracy: 68.12 %\n",
            "Precision: 63.88 %\n",
            "Recall: 83.13 %\n",
            "F1-score: 72.15 %\n",
            "\n",
            "\n",
            "Decision Tree Classification\n",
            "Accuracy: 78.00 %\n",
            "Precision: 80.22 %\n",
            "Recall: 74.06 %\n",
            "F1-score: 76.91 %\n",
            "\n",
            "\n",
            "Random Forest Classification\n",
            "Accuracy: 80.38 %\n",
            "Precision: 86.66 %\n",
            "Recall: 71.82 %\n",
            "F1-score: 78.23 %\n",
            "\n",
            "\n"
          ],
          "name": "stdout"
        }
      ]
    },
    {
      "cell_type": "markdown",
      "metadata": {
        "id": "3HmW12YX-AD8"
      },
      "source": [
        "## Boosting the model\n",
        "\n",
        "The final step is to tune the models with GridSearchCV. For this case, we select the three best models. We consider the metrics accuracy and precision to select the best models."
      ]
    },
    {
      "cell_type": "markdown",
      "metadata": {
        "id": "tI6qgl1F-AD8"
      },
      "source": [
        "### Setting the hyper-parameters"
      ]
    },
    {
      "cell_type": "code",
      "metadata": {
        "id": "FJSJango-AD8"
      },
      "source": [
        "param_grid1 = {'C' : [0.001, 0.01, 0.1, 1 , 10, 100], 'solver' : ['newton-cg', 'sag', 'saga','lbfgs', 'liblinear' ], 'penalty' : ['l1', 'l2']} # Logistic Regression\n",
        "param_grid2 = {'C': [0.1, 1, 10, 100], 'gamma': [100, 10, 1, 0.1, 0.01, 0.001], 'degree': [2, 4, 6], 'kernel': ['rbf', 'poly', 'sigmoid', 'linear']} # Support Vector Machine\n",
        "param_grid3 = {'criterion': ['gini', 'entropy'], 'n_estimators': [10, 50, 100, 500, 1000]} # Random Forest"
      ],
      "execution_count": null,
      "outputs": []
    },
    {
      "cell_type": "markdown",
      "metadata": {
        "id": "YppXa7Xd-AD9"
      },
      "source": [
        "### Searching the best parameters and training the models\n"
      ]
    },
    {
      "cell_type": "code",
      "metadata": {
        "id": "H5CH_Xsg-AD-"
      },
      "source": [
        "metrics = {'ACC' : 'accuracy', 'PC' : 'precision', 'REC' : 'recall', 'F1' : 'f1'}\n",
        "\n",
        "from sklearn.model_selection import GridSearchCV\n",
        "\n",
        "grid1 = GridSearchCV(classifier1, param_grid1, cv = 10, scoring = metrics, refit = 'ACC', verbose = 4)\n",
        "grid2 = GridSearchCV(classifier3, param_grid2, cv = 10, scoring = metrics, refit = 'ACC', verbose = 4)\n",
        "grid3 = GridSearchCV(classifier6, param_grid3, cv = 10, scoring = metrics, refit = 'ACC', verbose = 4)\n",
        "\n",
        "class_boost_1 = grid1.fit(X_train,y_train)\n",
        "class_boost_2 = grid2.fit(X_train,y_train)\n",
        "class_boost_3 = grid3.fit(X_train,y_train)"
      ],
      "execution_count": null,
      "outputs": []
    },
    {
      "cell_type": "markdown",
      "metadata": {
        "id": "ZBkREJWH-AEC"
      },
      "source": [
        "### Predicting with the best parameters"
      ]
    },
    {
      "cell_type": "code",
      "metadata": {
        "id": "7RCw3De4-AEC"
      },
      "source": [
        "boost_predictions1 = class_boost_1.predict(X_test)\n",
        "boost_predictions2 = class_boost_2.predict(X_test)\n",
        "boost_predictions3 = class_boost_3.predict(X_test)"
      ],
      "execution_count": null,
      "outputs": []
    },
    {
      "cell_type": "markdown",
      "metadata": {
        "id": "q6wLkIPd-AEC"
      },
      "source": [
        "### Metrics scores and the best parameters"
      ]
    },
    {
      "cell_type": "markdown",
      "metadata": {
        "id": "l58KkQyU-AEC"
      },
      "source": [
        "#### Logistic Regression Boosted"
      ]
    },
    {
      "cell_type": "code",
      "metadata": {
        "id": "L3QTqDts-AED",
        "outputId": "ad9db203-f768-4a95-f644-52a6a885c6c0"
      },
      "source": [
        "print('Logistic Regression Classification - Boosted')\n",
        "print('\\n')\n",
        "print('Best Parameters')\n",
        "print(grid1.best_params_)\n",
        "print('Confusion Matrix')\n",
        "cmb1 = confusion_matrix(y_test, boost_predictions1)\n",
        "plt.plot()\n",
        "sns.heatmap(cmb1, annot=True)\n",
        "plt.show()\n",
        "print('Metrics Results')\n",
        "print(\"- Accuracy: {:.2f} %\".format(grid1.cv_results_['mean_test_ACC'][grid1.best_index_].mean()*100))\n",
        "print(\"- Precision: {:.2f} %\".format(grid1.cv_results_['mean_test_PC'][grid1.best_index_].mean()*100))\n",
        "print(\"- Recall: {:.2f} %\".format(grid1.cv_results_['mean_test_REC'][grid1.best_index_].mean()*100))\n",
        "print(\"- F1-score: {:.2f} %\".format(grid1.cv_results_['mean_test_F1'][grid1.best_index_].mean()*100))\n",
        "print('\\n')"
      ],
      "execution_count": null,
      "outputs": [
        {
          "output_type": "stream",
          "text": [
            "Logistic Regression Classification - Boosted\n",
            "\n",
            "\n",
            "Best Parameters\n",
            "{'C': 1, 'penalty': 'l2', 'solver': 'liblinear'}\n",
            "Confusion Matrix\n"
          ],
          "name": "stdout"
        },
        {
          "output_type": "display_data",
          "data": {
            "image/png": "[encoded data removed]",
            "text/plain": [
              "<Figure size 432x288 with 2 Axes>"
            ]
          },
          "metadata": {
            "tags": []
          }
        },
        {
          "output_type": "stream",
          "text": [
            "Metrics Results\n",
            "- Accuracy: 81.38 %\n",
            "- Precision: 83.27 %\n",
            "- Recall: 78.35 %\n",
            "- F1-score: 80.54 %\n",
            "\n",
            "\n"
          ],
          "name": "stdout"
        }
      ]
    },
    {
      "cell_type": "markdown",
      "metadata": {
        "id": "GAJQH96R-AED"
      },
      "source": [
        "#### Support Vector Machine"
      ]
    },
    {
      "cell_type": "code",
      "metadata": {
        "id": "1VgcU9Gk-AED",
        "outputId": "6d18201a-21ea-4ca7-82bd-ac87862d96c7"
      },
      "source": [
        "print('Support Vector Machine - Boosted')\n",
        "print('\\n')\n",
        "print('Best Parameters')\n",
        "print(grid2.best_params_)\n",
        "print('Confusion Matrix')\n",
        "cmb2 = confusion_matrix(y_test, boost_predictions2)\n",
        "plt.plot()\n",
        "sns.heatmap(cmb2, annot=True)\n",
        "plt.show()\n",
        "print('Metrics Results')\n",
        "print(\"- Accuracy: {:.2f} %\".format(grid2.cv_results_['mean_test_ACC'][grid2.best_index_].mean()*100))\n",
        "print(\"- Precision: {:.2f} %\".format(grid2.cv_results_['mean_test_PC'].mean()*100))\n",
        "print(\"- Recall: {:.2f} %\".format(grid2.cv_results_['mean_test_REC'].mean()*100))\n",
        "print(\"- F1-score: {:.2f} %\".format(grid2.cv_results_['mean_test_F1'].mean()*100))\n",
        "print('\\n')"
      ],
      "execution_count": null,
      "outputs": [
        {
          "output_type": "stream",
          "text": [
            "Support Vector Machine - Boosted\n",
            "\n",
            "\n",
            "Best Parameters\n",
            "{'C': 1, 'degree': 2, 'gamma': 1, 'kernel': 'poly'}\n",
            "Confusion Matrix\n"
          ],
          "name": "stdout"
        },
        {
          "output_type": "display_data",
          "data": {
            "image/png": "[encoded data removed]",
            "text/plain": [
              "<Figure size 432x288 with 2 Axes>"
            ]
          },
          "metadata": {
            "tags": []
          }
        },
        {
          "output_type": "stream",
          "text": [
            "Metrics Results\n",
            "- Accuracy: 81.50 %\n",
            "- Precision: 61.09 %\n",
            "- Recall: 52.30 %\n",
            "- F1-score: 54.00 %\n",
            "\n",
            "\n"
          ],
          "name": "stdout"
        }
      ]
    },
    {
      "cell_type": "markdown",
      "metadata": {
        "id": "AvZOOWjY-AEE"
      },
      "source": [
        "#### Random Forest Boosted"
      ]
    },
    {
      "cell_type": "code",
      "metadata": {
        "id": "loSsVwJ5-AEE",
        "outputId": "25b69519-bb20-4f86-fe3a-5c83e8d308dc"
      },
      "source": [
        "print('Random Forest - Boosted')\n",
        "print('\\n')\n",
        "print('Best Parameters')\n",
        "print(grid3.best_params_)\n",
        "print('Confusion Matrix')\n",
        "cmb3 = confusion_matrix(y_test, boost_predictions3)\n",
        "plt.plot()\n",
        "sns.heatmap(cmb3, annot=True)\n",
        "plt.show()\n",
        "print('Metrics Results')\n",
        "print(\"- Accuracy: {:.3f} %\".format(grid3.cv_results_['mean_test_ACC'][grid3.best_index_].mean()*100))\n",
        "print(\"- Precision: {:.3f} %\".format(grid3.cv_results_['mean_test_PC'][grid3.best_index_].mean()*100))\n",
        "print(\"- Recall: {:.3f} %\".format(grid3.cv_results_['mean_test_REC'][grid3.best_index_].mean()*100))\n",
        "print(\"- F1-score: {:.3f} %\".format(grid3.cv_results_['mean_test_F1'][grid3.best_index_].mean()*100))\n",
        "print('\\n')"
      ],
      "execution_count": null,
      "outputs": [
        {
          "output_type": "stream",
          "text": [
            "Random Forest - Boosted\n",
            "\n",
            "\n",
            "Best Parameters\n",
            "{'criterion': 'entropy', 'n_estimators': 50}\n",
            "Confusion Matrix\n"
          ],
          "name": "stdout"
        },
        {
          "output_type": "display_data",
          "data": {
            "image/png": "[encoded data removed]",
            "text/plain": [
              "<Figure size 432x288 with 2 Axes>"
            ]
          },
          "metadata": {
            "tags": []
          }
        },
        {
          "output_type": "stream",
          "text": [
            "Metrics Results\n",
            "- Accuracy: 80.875 %\n",
            "- Precision: 86.880 %\n",
            "- Recall: 73.077 %\n",
            "- F1-score: 78.948 %\n",
            "\n",
            "\n"
          ],
          "name": "stdout"
        }
      ]
    },
    {
      "cell_type": "markdown",
      "metadata": {
        "id": "QfPCSD7wPafL"
      },
      "source": [
        "## Predict a Single review Positive and Negative\n",
        "\n",
        "Here we make a single prediction to a positive and a negative review.\n",
        "We chose Logistic Regression Classifier because this model presents an accuracy score of $81.38 \\%$ and precision of $83.27 \\%$. The Support Vector Machine shows an accuracy big then the Logistic Regression, but the precision score of Support Vector Machine is not satisfactory.\n"
      ]
    },
    {
      "cell_type": "code",
      "metadata": {
        "colab": {
          "base_uri": "https://localhost:8080/"
        },
        "id": "_ncxwyIuPgmA",
        "outputId": "9f243dbc-6f6f-4eb5-9d1c-111555edce6e"
      },
      "source": [
        "# Positive case\n",
        "new_review = 'I love this restaurant so much'\n",
        "new_review = re.sub('[^a-zA-Z]', ' ', new_review)\n",
        "new_review = new_review.lower()\n",
        "new_review = new_review.split()\n",
        "new_review = [ps.stem(word) for word in new_review if not word in set(all_stopwords)]\n",
        "new_review = ' '.join(new_review)\n",
        "new_corpus = [new_review]\n",
        "new_X_test = cv.transform(new_corpus).toarray()\n",
        "new_y_pred = class_boost_1.predict(new_X_test)\n",
        "if new_y_pred == 1:\n",
        "  print('Positive Sentiment')\n",
        "else:\n",
        "  print('Negative Sentiment')"
      ],
      "execution_count": null,
      "outputs": [
        {
          "output_type": "stream",
          "text": [
            "Positive Sentiment\n"
          ],
          "name": "stdout"
        }
      ]
    },
    {
      "cell_type": "code",
      "metadata": {
        "colab": {
          "base_uri": "https://localhost:8080/"
        },
        "id": "dZ6faKkdPyAg",
        "outputId": "35c14c0e-7297-49b1-9fdc-6ee6fc53a6a5"
      },
      "source": [
        "# Negative case\n",
        "new_review = 'I hate this restaurant so much'\n",
        "new_review = re.sub('[^a-zA-Z]', ' ', new_review)\n",
        "new_review = new_review.lower()\n",
        "new_review = new_review.split()\n",
        "new_review = [ps.stem(word) for word in new_review if not word in set(all_stopwords)]\n",
        "new_review = ' '.join(new_review)\n",
        "new_corpus = [new_review]\n",
        "new_X_test = cv.transform(new_corpus).toarray()\n",
        "new_y_pred = class_boost_1.predict(new_X_test)\n",
        "if new_y_pred == 1:\n",
        "  print('Positive Sentiment')\n",
        "else:\n",
        "  print('Negative Sentiment')"
      ],
      "execution_count": null,
      "outputs": [
        {
          "output_type": "stream",
          "text": [
            "Negative Sentiment\n"
          ],
          "name": "stdout"
        }
      ]
    },
    {
      "cell_type": "markdown",
      "metadata": {
        "id": "J2uDWsv77_RD"
      },
      "source": [
        "# Conclusion\n",
        "\n",
        "In this notebook we have built a Bag of Words Model, with the aid of classification models we are able to make the sentiments analysis. The results are very satisfactory, our best model presents good accuracy and precision, being according with the problem reality."
      ]
    }
  ]
}