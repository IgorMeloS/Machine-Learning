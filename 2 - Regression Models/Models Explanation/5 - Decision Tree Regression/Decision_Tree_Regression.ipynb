{
 "cells": [
  {
   "cell_type": "markdown",
   "metadata": {},
   "source": [
    "# Decision Tree Regression in Python using Scikit-Learn\n",
    "\n",
    "**Dataset Description**\n",
    "\n",
    "The dataset to this model is composed by three columns and 1o row. We have one feature in the second column, Level Position. Our response is the last column, Salary. Based on the level, we construct a polynomial regression model to predict the salary for a given level position.\n"
   ]
  },
  {
   "cell_type": "markdown",
   "metadata": {},
   "source": [
    "## Importing Libraries"
   ]
  },
  {
   "cell_type": "code",
   "execution_count": 1,
   "metadata": {},
   "outputs": [],
   "source": [
    "import numpy as np\n",
    "import matplotlib.pyplot as plt\n",
    "import pandas as pd"
   ]
  },
  {
   "cell_type": "markdown",
   "metadata": {},
   "source": [
    "## Importing Dataset"
   ]
  },
  {
   "cell_type": "code",
   "execution_count": 2,
   "metadata": {},
   "outputs": [],
   "source": [
    "dataset = pd.read_csv('Position_Salaries.csv') # Reading and Creating the dataframe\n",
    "X = dataset.iloc[:, 1:-1].values # Independent variable.\n",
    "y = dataset.iloc[:, -1].values # Dependent Variable"
   ]
  },
  {
   "cell_type": "markdown",
   "metadata": {},
   "source": [
    "## Building the model - Decision Tree Regression\n",
    "\n",
    "**Decision Trees (DTs)** are a non-parametric supervised learning method used for classification and regression. The goal is to create a model that predicts the value of a target variable by learning simple decision rules inferred from the data features.\n",
    "\n",
    "In this model we define a target variable, the decisions will toke referring this variable. For example, we have two axis $x$ and $y$, we choose $x=5$, the model separates two regions $x>5$ and $x<5$, from this region we can define other targets or make a decision.\n",
    "\n",
    "One of advantage of this method resides in the fact that we can consider categorical data and we do not need to perform a feature scaling.\n",
    "\n",
    "In Scikit-Learn we have the class Tree (that includes CART - Classification Regression Trees)."
   ]
  },
  {
   "cell_type": "code",
   "execution_count": null,
   "metadata": {},
   "outputs": [],
   "source": [
    "from sklearn.tree import DecisionTreeRegressor # Class and object\n",
    "DCR = DecisionTreeRegressor(random_state=0) # \n",
    "DCR.fit(X,y)"
   ]
  },
  {
   "cell_type": "code",
   "execution_count": null,
   "metadata": {},
   "outputs": [],
   "source": []
  },
  {
   "cell_type": "code",
   "execution_count": null,
   "metadata": {},
   "outputs": [],
   "source": []
  },
  {
   "cell_type": "code",
   "execution_count": null,
   "metadata": {},
   "outputs": [],
   "source": [
    "\n",
    "\n",
    "# Training Decision Tree Regression model\n",
    "\n",
    "# Decision tree regression is a model that uses the tree classification, devising \n",
    "#the data set in branches  . Once time we have the firsts branches we qualify it \n",
    "# in true or false. Then we can define new branches and take statistical measures\n",
    "# like  mean and deviation. From those results we construct our regression and \n",
    "# classifier model.  \n",
    "\n",
    "\n",
    "# Now we have the trained model and we can make some predictions\n",
    "\n",
    "# Making a new prediction with the regressor model\n",
    "\n",
    "print(DCR.predict([[7]]))\n",
    "\n",
    "# Visualizing the prediction model (Higher Resolution)\n",
    "# Here we consider a larger numbers of points to obtain a smooth curve.\n",
    "X_grid = np.arange(min(X), max(X), 0.001)\n",
    "X_grid = X_grid.reshape(len(X_grid),1)\n",
    "plt.scatter(X, y, color='red')\n",
    "plt.plot(X_grid, DCR.predict(X_grid))\n",
    "plt.title('Decision Tree Regression')\n",
    "plt.xlabel('Level Position')\n",
    "plt.ylabel('Salary')\n",
    "\n",
    "# =============================================================================\n",
    "# This program is a simple exemple to domonstrate how to apply the decision tree\n",
    "# regression. Note that this model is not convenient if we have few \n",
    "# independent variables. \n",
    "# In the results we can see a good prediction just in the original points, but\n",
    "# for intermediate values, prediction is not satisfactory.\n",
    "# =============================================================================\n"
   ]
  }
 ],
 "metadata": {
  "kernelspec": {
   "display_name": "Python 3",
   "language": "python",
   "name": "python3"
  },
  "language_info": {
   "codemirror_mode": {
    "name": "ipython",
    "version": 3
   },
   "file_extension": ".py",
   "mimetype": "text/x-python",
   "name": "python",
   "nbconvert_exporter": "python",
   "pygments_lexer": "ipython3",
   "version": "3.6.9"
  }
 },
 "nbformat": 4,
 "nbformat_minor": 4
}
