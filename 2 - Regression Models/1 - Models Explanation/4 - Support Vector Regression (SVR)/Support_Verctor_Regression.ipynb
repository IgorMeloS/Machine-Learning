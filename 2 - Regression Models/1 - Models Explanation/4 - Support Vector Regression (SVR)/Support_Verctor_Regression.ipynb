{
 "cells": [
  {
   "cell_type": "markdown",
   "metadata": {},
   "source": [
    "# Support Vector Regression (SVR) in Python using ScikitLearn\n",
    "\n",
    "In this program we predict the salaries based on level position.\n",
    "\n",
    "**Dataset Description**\n",
    "\n",
    "The dataset to this model is composed by three columns and 1o row. We have one feature in the second column, Level Position. Our response is the last column, Salary. Based on the level, we construct a polynomial regression model to predict the salary for a given level position."
   ]
  },
  {
   "cell_type": "markdown",
   "metadata": {},
   "source": [
    "# Importing Libraries"
   ]
  },
  {
   "cell_type": "code",
   "execution_count": 1,
   "metadata": {},
   "outputs": [],
   "source": [
    "import numpy as np\n",
    "import matplotlib.pyplot as plt\n",
    "import pandas as pd"
   ]
  },
  {
   "cell_type": "markdown",
   "metadata": {},
   "source": [
    "# Importing Dataset"
   ]
  },
  {
   "cell_type": "code",
   "execution_count": 2,
   "metadata": {},
   "outputs": [],
   "source": [
    "\n",
    "dataset = pd.read_csv('Position_Salaries.csv') #Importing the dataset and creating the dataframe\n",
    "X = dataset.iloc[:, 1:-1].values # Defining the independente variable\n",
    "y = dataset.iloc[:, -1].values # Defining the dependent variable"
   ]
  },
  {
   "cell_type": "markdown",
   "metadata": {},
   "source": [
    "## Data Preprocessing"
   ]
  },
  {
   "cell_type": "markdown",
   "metadata": {},
   "source": [
    "### Feature Scaling\n",
    "\n",
    "In this model we need to apply feature scaling, for one simple reason, the SVR model is not a linear combination between  $X$ and $y$. There is an other trick behind the method. Then we need to have all independent variables in the same scale to make a good prediction. Note that,  in all situation that we have a linear combination between $X$ and $y$ we do not need to apply feature scaling."
   ]
  },
  {
   "cell_type": "code",
   "execution_count": 3,
   "metadata": {},
   "outputs": [],
   "source": [
    "y = y.reshape(len(y),1) # To convert this 1D array into 2D array"
   ]
  },
  {
   "cell_type": "code",
   "execution_count": 4,
   "metadata": {},
   "outputs": [],
   "source": [
    "from sklearn.preprocessing import StandardScaler\n",
    "sc_X = StandardScaler()\n",
    "sc_y = StandardScaler()\n",
    "X = sc_X.fit_transform(X)\n",
    "y = sc_y.fit_transform(y)"
   ]
  },
  {
   "cell_type": "markdown",
   "metadata": {},
   "source": [
    "## Building the Model - Support Vector Regression (SVR)\n",
    "\n",
    "\n",
    "**Definition from Scikit-Learn website**\n",
    "\n",
    "A support vector machine constructs a hyper-plane or set of hyper-planes in a high or infinite dimensional space, which can be used for classification, regression or other tasks. Intuitively, a good separation is achieved by the hyper-plane that has the largest distance to the nearest training data points of any class (so-called functional margin), since in general the larger the margin the lower the generalization error of the classifier.\n",
    "\n",
    "From Scikit-Learn library we have a class called Support Vector Machine that contains the object Support Vector Regression."
   ]
  },
  {
   "cell_type": "code",
   "execution_count": 5,
   "metadata": {},
   "outputs": [
    {
     "name": "stderr",
     "output_type": "stream",
     "text": [
      "/home/igor/.local/lib/python3.6/site-packages/sklearn/utils/validation.py:72: DataConversionWarning: A column-vector y was passed when a 1d array was expected. Please change the shape of y to (n_samples, ), for example using ravel().\n",
      "  return f(**kwargs)\n"
     ]
    },
    {
     "data": {
      "text/plain": [
       "SVR(degree=6)"
      ]
     },
     "execution_count": 5,
     "metadata": {},
     "output_type": "execute_result"
    }
   ],
   "source": [
    "from sklearn.svm import SVR # Class and object\n",
    "regressor = SVR(kernel='rbf', degree=6) # Creating the object to fit the model\n",
    "regressor.fit(X,y) # Fitting the model"
   ]
  },
  {
   "cell_type": "markdown",
   "metadata": {},
   "source": [
    "**Note**\n",
    "\n",
    "One important aspect when we work with a Support Vector Machine is to choose the function Kernel. This function fits the model. We have some options, according with the problem some Kernel can be more efficient than others. Here we select 'RBF' kernel, it's a gaussian function. The hyper parameters must be select according with the kernel function.\n",
    "\n",
    "Kernel types:\n",
    "\n",
    "- Linear\n",
    "- Sigmoid\n",
    "- Polynomial\n",
    "- RBF"
   ]
  },
  {
   "cell_type": "markdown",
   "metadata": {},
   "source": [
    "## Visualizing the Results"
   ]
  },
  {
   "cell_type": "code",
   "execution_count": 6,
   "metadata": {},
   "outputs": [],
   "source": [
    "# First we need to creat the variables to put the features on the original scale\n",
    "X_os = sc_X.inverse_transform(X)\n",
    "y_os = sc_y.inverse_transform(y)"
   ]
  },
  {
   "cell_type": "code",
   "execution_count": 7,
   "metadata": {},
   "outputs": [],
   "source": [
    "# Increasing the number of points to obtain a smoother curve\n",
    "X_grid = np.arange(min(X_os), max(X_os), 0.001)\n",
    "X_grid = X_grid.reshape((len(X_grid), 1))\n",
    "X_grid_os = sc_X.transform(X_grid)"
   ]
  },
  {
   "cell_type": "code",
   "execution_count": 8,
   "metadata": {},
   "outputs": [
    {
     "data": {
      "image/png": "[encoded data removed]",
      "text/plain": [
       "<Figure size 432x288 with 1 Axes>"
      ]
     },
     "metadata": {},
     "output_type": "display_data"
    }
   ],
   "source": [
    "plt.scatter(X_os,y_os, color = 'red') # Scatter plot\n",
    "plt.plot(X_grid, sc_y.inverse_transform(regressor.predict(X_grid_os)), color = 'blue') # Plotting the predicted curve\n",
    "plt.title('Truth or Bluff (SVR)')\n",
    "plt.xlabel('Position level')\n",
    "plt.ylabel('Salary')\n",
    "plt.show()"
   ]
  },
  {
   "cell_type": "markdown",
   "metadata": {},
   "source": [
    "## Making a single prediction"
   ]
  },
  {
   "cell_type": "code",
   "execution_count": 9,
   "metadata": {},
   "outputs": [
    {
     "name": "stdout",
     "output_type": "stream",
     "text": [
      "[557821.75899897]\n"
     ]
    }
   ],
   "source": [
    "print(sc_y.inverse_transform(regressor.predict(sc_X.transform([[10]]))))"
   ]
  },
  {
   "cell_type": "markdown",
   "metadata": {},
   "source": [
    "## Conclusion\n",
    "\n",
    "This program is a simple example to demonstrate how to use a SVR model. The model is different to the linear regression and the theory behind the method is very interesting and aid to understand better. I suggest a quickly reading of it. You most also try to fit a best model using the many hyper parameters in the object SVR().\n",
    "About the results, we can see that for this case, the predict curve do not reach the last point, this is a consequence of problem mathematical formulation. For this problem, this method seems not appropriate, but here we are not looking for a good precision, but a demonstration how to apply the method."
   ]
  }
 ],
 "metadata": {
  "kernelspec": {
   "display_name": "Python 3",
   "language": "python",
   "name": "python3"
  },
  "language_info": {
   "codemirror_mode": {
    "name": "ipython",
    "version": 3
   },
   "file_extension": ".py",
   "mimetype": "text/x-python",
   "name": "python",
   "nbconvert_exporter": "python",
   "pygments_lexer": "ipython3",
   "version": "3.6.9"
  }
 },
 "nbformat": 4,
 "nbformat_minor": 4
}
