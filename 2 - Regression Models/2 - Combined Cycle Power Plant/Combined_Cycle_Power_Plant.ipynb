{
 "cells": [
  {
   "cell_type": "markdown",
   "metadata": {},
   "source": [
    "**Combined Cycle Power Plant**\n",
    "\n",
    "This program is a regression problem based on the article \"Prediction of full load electrical power output of a base load operated combined cycle power plant using machine learning methods\" (Pınar Tüfekci, 2014). The dataset was obtained from UCI repository (https://archive.ics.uci.edu/ml/datasets/Combined+Cycle+Power+Plant).\n",
    "\n",
    "**Problem Description**\n",
    "\n"
   ]
  },
  {
   "cell_type": "markdown",
   "metadata": {},
   "source": [
    "# Exploratory Data Analysis"
   ]
  },
  {
   "cell_type": "markdown",
   "metadata": {},
   "source": [
    "## Importing Libraries"
   ]
  },
  {
   "cell_type": "code",
   "execution_count": null,
   "metadata": {},
   "outputs": [],
   "source": [
    "import numpy as np\n",
    "import matplotlib.pyplot as plt\n",
    "import pandas as pd\n",
    "import seaborn as sns"
   ]
  },
  {
   "cell_type": "markdown",
   "metadata": {},
   "source": [
    "## Importing the Dataset"
   ]
  },
  {
   "cell_type": "code",
   "execution_count": null,
   "metadata": {},
   "outputs": [],
   "source": [
    "dataset = pd.read_csv('Combined_Cycle_Power_Plant.csv')"
   ]
  },
  {
   "cell_type": "code",
   "execution_count": null,
   "metadata": {
    "scrolled": true
   },
   "outputs": [],
   "source": [
    "dataset.shape"
   ]
  },
  {
   "cell_type": "code",
   "execution_count": null,
   "metadata": {},
   "outputs": [],
   "source": [
    "dataset.columns"
   ]
  },
  {
   "cell_type": "code",
   "execution_count": null,
   "metadata": {},
   "outputs": [],
   "source": [
    "dataset.head(5)"
   ]
  },
  {
   "cell_type": "code",
   "execution_count": null,
   "metadata": {},
   "outputs": [],
   "source": [
    "dataset.describe()"
   ]
  },
  {
   "cell_type": "markdown",
   "metadata": {},
   "source": [
    "AT = Ambient Temperature\n",
    "\n",
    "AP = Atmospheric pressure\n",
    "\n",
    "RH = Relatie Humidity\n",
    "\n",
    "V = Vacuum (Exhaust Steam Pressure)\n",
    "\n",
    "PE = Full load eletrical power output"
   ]
  },
  {
   "cell_type": "markdown",
   "metadata": {},
   "source": [
    "## Histogram of numerical variable"
   ]
  },
  {
   "cell_type": "code",
   "execution_count": null,
   "metadata": {},
   "outputs": [],
   "source": [
    "plt.figure(figsize=(25,15))\n",
    "plt.suptitle('Histograms of numerical variables', fontsize = 20)\n",
    "for i in range(1, dataset.shape[1] + 1):\n",
    "    plt.subplot(2, 3, i)\n",
    "    f = plt.gca()\n",
    "    #f.set_title(dataset.columns.values[i-1])\n",
    "    sns.histplot(dataset.iloc[:, i-1], color = '#3F5D7D', kde= True)"
   ]
  },
  {
   "cell_type": "markdown",
   "metadata": {},
   "source": [
    "## Pair Plot of numerical variables"
   ]
  },
  {
   "cell_type": "code",
   "execution_count": null,
   "metadata": {},
   "outputs": [],
   "source": [
    "g = sns.PairGrid(data=dataset, vars=['AT', 'V', 'AP', 'RH','PE'], hue='PE')\n",
    "g.map(sns.scatterplot,  color = '#3F5D7D')"
   ]
  },
  {
   "cell_type": "markdown",
   "metadata": {},
   "source": [
    "## Scatter plot between the target variable and features"
   ]
  },
  {
   "cell_type": "code",
   "execution_count": null,
   "metadata": {},
   "outputs": [],
   "source": [
    "plt.figure(figsize=(25,15))\n",
    "plt.suptitle('Scatter plot and linear regression', fontsize = 20)\n",
    "for i in range(1, dataset.shape[1]):\n",
    "    plt.subplot(2, 2, i)\n",
    "    #f = plt.gca()\n",
    "    sns.regplot(data=dataset, x=dataset.iloc[:, i-1], y=dataset['PE'], scatter=False, fit_reg=True)\n",
    "    plt.scatter(dataset.iloc[:, i-1], dataset['PE'], color = 'r', marker='+' )\n",
    "\n",
    "\n",
    "plt.figure()\n",
    "\n",
    "plt.show()"
   ]
  },
  {
   "cell_type": "markdown",
   "metadata": {},
   "source": [
    "## Correlation with the response"
   ]
  },
  {
   "cell_type": "code",
   "execution_count": null,
   "metadata": {},
   "outputs": [],
   "source": [
    "dataset.drop(columns='PE').corrwith(dataset.PE).plot.bar(figsize = (20,10),\n",
    "                                            title = 'Correlation with reponse variable',\n",
    "                                            fontsize = 15, rot = 45, grid = True, color = '#5F5D7D')"
   ]
  },
  {
   "cell_type": "markdown",
   "metadata": {},
   "source": [
    "## Matrix correlation between all variables"
   ]
  },
  {
   "cell_type": "code",
   "execution_count": null,
   "metadata": {},
   "outputs": [],
   "source": [
    "sns.set(style='white', font_scale= 1)\n",
    "corr = dataset.drop(columns='PE').corr() # here we compute the correlation between numericals variables\n",
    "# Generate a mask for the upper triangle\n",
    "mask = np.zeros_like(corr, dtype= np.bool) # To generate a numpy array from correlation with true or false\n",
    "mask[np.triu_indices_from(mask)] = True # To have the index of the upper triangle\n",
    "# Setup the matplotlib figures\n",
    "f, ax = plt.subplots(figsize = (20,10))\n",
    "f.suptitle('Correlation Matrix', fontsize=40)\n",
    "# Generate a custum diverging color map\n",
    "cmap = sns.diverging_palette(50, 0, as_cmap=True)\n",
    "# Draw the heatmap with the mask and the correct aspect ratio\n",
    "sns.heatmap(corr, mask=mask, annot=True, cmap=cmap, vmax=1, center=0,\n",
    "            square=True, linewidth=5, cbar_kws={'shrink': .5})"
   ]
  },
  {
   "cell_type": "markdown",
   "metadata": {},
   "source": [
    "# Building the model (Exhaustive analysis)"
   ]
  },
  {
   "cell_type": "markdown",
   "metadata": {},
   "source": [
    "## Subsets with one independent variable"
   ]
  },
  {
   "cell_type": "markdown",
   "metadata": {},
   "source": [
    "### AT vs PE"
   ]
  },
  {
   "cell_type": "code",
   "execution_count": null,
   "metadata": {},
   "outputs": [],
   "source": []
  }
 ],
 "metadata": {
  "kernelspec": {
   "display_name": "Python 3",
   "language": "python",
   "name": "python3"
  },
  "language_info": {
   "codemirror_mode": {
    "name": "ipython",
    "version": 3
   },
   "file_extension": ".py",
   "mimetype": "text/x-python",
   "name": "python",
   "nbconvert_exporter": "python",
   "pygments_lexer": "ipython3",
   "version": "3.6.9"
  }
 },
 "nbformat": 4,
 "nbformat_minor": 4
}
