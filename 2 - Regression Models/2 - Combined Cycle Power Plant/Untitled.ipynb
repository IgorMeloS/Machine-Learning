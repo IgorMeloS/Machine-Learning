{
 "cells": [
  {
   "cell_type": "code",
   "execution_count": 1,
   "metadata": {},
   "outputs": [],
   "source": [
    "import numpy as np\n",
    "import matplotlib.pyplot as plt\n",
    "import pandas as pd\n",
    "import seaborn as sns"
   ]
  },
  {
   "cell_type": "code",
   "execution_count": 2,
   "metadata": {},
   "outputs": [],
   "source": [
    "dataset = pd.read_csv('Combined_Cycle_Power_Plant.csv')"
   ]
  },
  {
   "cell_type": "code",
   "execution_count": 3,
   "metadata": {},
   "outputs": [
    {
     "data": {
      "text/html": [
       "<div>\n",
       "<style scoped>\n",
       "    .dataframe tbody tr th:only-of-type {\n",
       "        vertical-align: middle;\n",
       "    }\n",
       "\n",
       "    .dataframe tbody tr th {\n",
       "        vertical-align: top;\n",
       "    }\n",
       "\n",
       "    .dataframe thead th {\n",
       "        text-align: right;\n",
       "    }\n",
       "</style>\n",
       "<table border=\"1\" class=\"dataframe\">\n",
       "  <thead>\n",
       "    <tr style=\"text-align: right;\">\n",
       "      <th></th>\n",
       "      <th>AT</th>\n",
       "      <th>V</th>\n",
       "      <th>AP</th>\n",
       "      <th>RH</th>\n",
       "      <th>PE</th>\n",
       "    </tr>\n",
       "  </thead>\n",
       "  <tbody>\n",
       "    <tr>\n",
       "      <th>0</th>\n",
       "      <td>14.96</td>\n",
       "      <td>41.76</td>\n",
       "      <td>1024.07</td>\n",
       "      <td>73.17</td>\n",
       "      <td>463.26</td>\n",
       "    </tr>\n",
       "    <tr>\n",
       "      <th>1</th>\n",
       "      <td>25.18</td>\n",
       "      <td>62.96</td>\n",
       "      <td>1020.04</td>\n",
       "      <td>59.08</td>\n",
       "      <td>444.37</td>\n",
       "    </tr>\n",
       "    <tr>\n",
       "      <th>2</th>\n",
       "      <td>5.11</td>\n",
       "      <td>39.40</td>\n",
       "      <td>1012.16</td>\n",
       "      <td>92.14</td>\n",
       "      <td>488.56</td>\n",
       "    </tr>\n",
       "    <tr>\n",
       "      <th>3</th>\n",
       "      <td>20.86</td>\n",
       "      <td>57.32</td>\n",
       "      <td>1010.24</td>\n",
       "      <td>76.64</td>\n",
       "      <td>446.48</td>\n",
       "    </tr>\n",
       "    <tr>\n",
       "      <th>4</th>\n",
       "      <td>10.82</td>\n",
       "      <td>37.50</td>\n",
       "      <td>1009.23</td>\n",
       "      <td>96.62</td>\n",
       "      <td>473.90</td>\n",
       "    </tr>\n",
       "  </tbody>\n",
       "</table>\n",
       "</div>"
      ],
      "text/plain": [
       "      AT      V       AP     RH      PE\n",
       "0  14.96  41.76  1024.07  73.17  463.26\n",
       "1  25.18  62.96  1020.04  59.08  444.37\n",
       "2   5.11  39.40  1012.16  92.14  488.56\n",
       "3  20.86  57.32  1010.24  76.64  446.48\n",
       "4  10.82  37.50  1009.23  96.62  473.90"
      ]
     },
     "execution_count": 3,
     "metadata": {},
     "output_type": "execute_result"
    }
   ],
   "source": [
    "dataset.head()"
   ]
  },
  {
   "cell_type": "markdown",
   "metadata": {},
   "source": [
    "# One independent variable"
   ]
  },
  {
   "cell_type": "markdown",
   "metadata": {},
   "source": [
    "## AT vs PE"
   ]
  },
  {
   "cell_type": "code",
   "execution_count": 4,
   "metadata": {},
   "outputs": [],
   "source": [
    "X_11 = dataset.iloc[:, 0].values\n",
    "y_11 = dataset.iloc[:, -1].values"
   ]
  },
  {
   "cell_type": "code",
   "execution_count": 5,
   "metadata": {},
   "outputs": [],
   "source": [
    "X_11 = X_11.reshape(len(X_11), 1)\n",
    "#y_11 = y_11.reshape(len(y_11), 1)"
   ]
  },
  {
   "cell_type": "markdown",
   "metadata": {},
   "source": [
    "### Splitting the dataset into training and test set"
   ]
  },
  {
   "cell_type": "code",
   "execution_count": 6,
   "metadata": {},
   "outputs": [],
   "source": [
    "from sklearn.model_selection import train_test_split\n",
    "X_11_train, X_11_test, y_11_train, y_11_test = train_test_split(X_11, y_11,\n",
    "                                                               test_size=0.2,\n",
    "                                                               random_state=0)"
   ]
  },
  {
   "cell_type": "markdown",
   "metadata": {},
   "source": [
    "### Building the models"
   ]
  },
  {
   "cell_type": "code",
   "execution_count": 7,
   "metadata": {},
   "outputs": [
    {
     "data": {
      "text/plain": [
       "LinearRegression()"
      ]
     },
     "execution_count": 7,
     "metadata": {},
     "output_type": "execute_result"
    }
   ],
   "source": [
    "# Linear Regression\n",
    "\n",
    "from sklearn.linear_model import LinearRegression\n",
    "regressor_X11_LR = LinearRegression()\n",
    "regressor_X11_LR.fit(X_11_train, y_11_train)"
   ]
  },
  {
   "cell_type": "code",
   "execution_count": 8,
   "metadata": {},
   "outputs": [
    {
     "data": {
      "text/plain": [
       "LinearRegression()"
      ]
     },
     "execution_count": 8,
     "metadata": {},
     "output_type": "execute_result"
    }
   ],
   "source": [
    "# Polynomial\n",
    "\n",
    "from sklearn.preprocessing import PolynomialFeatures\n",
    "from sklearn.linear_model import LinearRegression\n",
    "X11_poly_reg = PolynomialFeatures(degree = 6)\n",
    "X11_poly = X11_poly_reg.fit_transform(X_11_train)\n",
    "regressor_X11_PR = LinearRegression()\n",
    "regressor_X11_PR.fit(X11_poly, y_11_train)"
   ]
  },
  {
   "cell_type": "code",
   "execution_count": 9,
   "metadata": {},
   "outputs": [
    {
     "data": {
      "text/plain": [
       "DecisionTreeRegressor(random_state=0)"
      ]
     },
     "execution_count": 9,
     "metadata": {},
     "output_type": "execute_result"
    }
   ],
   "source": [
    "# Decision Tree\n",
    "\n",
    "from sklearn.tree import DecisionTreeRegressor\n",
    "regressor_X11_DT = DecisionTreeRegressor(random_state = 0)\n",
    "regressor_X11_DT.fit(X_11_train, y_11_train)"
   ]
  },
  {
   "cell_type": "code",
   "execution_count": 10,
   "metadata": {},
   "outputs": [
    {
     "data": {
      "text/plain": [
       "RandomForestRegressor(n_estimators=10, random_state=0)"
      ]
     },
     "execution_count": 10,
     "metadata": {},
     "output_type": "execute_result"
    }
   ],
   "source": [
    "# Random Forest\n",
    "\n",
    "from sklearn.ensemble import RandomForestRegressor\n",
    "regressor_X11_RF = RandomForestRegressor(n_estimators = 10, random_state = 0)\n",
    "regressor_X11_RF.fit(X_11_train, y_11_train)"
   ]
  },
  {
   "cell_type": "code",
   "execution_count": 15,
   "metadata": {},
   "outputs": [
    {
     "data": {
      "text/plain": [
       "SVR()"
      ]
     },
     "execution_count": 15,
     "metadata": {},
     "output_type": "execute_result"
    }
   ],
   "source": [
    "# Support Vector Machine\n",
    "y_11_train = y_11_train.reshape(len(y_11_train), 1)\n",
    "y_11_test = y_11_test.reshape(len(y_11_test), 1)\n",
    "\n",
    "from sklearn.preprocessing import StandardScaler\n",
    "sc_X11 = StandardScaler()\n",
    "sc_y11 = StandardScaler()\n",
    "X_11_train_s = sc_X11.fit_transform(X_11_train)\n",
    "#X_11_test_s = sc_X11.fit(X_11_test)\n",
    "y_11_train_s = sc_y11.fit_transform(y_11_train)\n",
    "#y_11_test_s = sc_X11.fit(y_11_test)\n",
    "\n",
    "from sklearn.svm import SVR\n",
    "regressor_X11_SV = SVR(kernel = 'rbf')\n",
    "y_11_train_s = np.ravel(y_11_train_s)\n",
    "regressor_X11_SV.fit(X_11_train_s, y_11_train_s)\n"
   ]
  },
  {
   "cell_type": "code",
   "execution_count": null,
   "metadata": {},
   "outputs": [],
   "source": []
  },
  {
   "cell_type": "code",
   "execution_count": null,
   "metadata": {},
   "outputs": [],
   "source": []
  },
  {
   "cell_type": "code",
   "execution_count": null,
   "metadata": {},
   "outputs": [],
   "source": []
  },
  {
   "cell_type": "markdown",
   "metadata": {},
   "source": [
    "### Predicting New values"
   ]
  },
  {
   "cell_type": "code",
   "execution_count": 12,
   "metadata": {},
   "outputs": [],
   "source": [
    "#y_11_test = y_11_test.reshape(len(y_11_test), 1)\n",
    "#X_11_test = X_11_test.reshape(len(X_11_test), 1)"
   ]
  },
  {
   "cell_type": "code",
   "execution_count": 16,
   "metadata": {},
   "outputs": [],
   "source": [
    "y_pred_11_LR = regressor_X11_LR.predict(X_11_test) # Linear Regression\n",
    "#y_pred_11_PR = regressor_X11_PR.predict(X_11_test) # Polynomial Regression\n",
    "y_pred_11_DT = regressor_X11_DT.predict(X_11_test) # Decision Tree\n",
    "y_pred_11_RF = regressor_X11_RF.predict(X_11_test) # Random Forest\n",
    "y_pred_11_SV = sc_y11.inverse_transform(regressor_X11_SV.predict(sc_X11.transform(X_11_test))) # Support Vector Machine"
   ]
  },
  {
   "cell_type": "markdown",
   "metadata": {},
   "source": [
    "### $R^2$ score"
   ]
  },
  {
   "cell_type": "code",
   "execution_count": 17,
   "metadata": {},
   "outputs": [
    {
     "name": "stdout",
     "output_type": "stream",
     "text": [
      "R^2 score\n",
      "\n",
      "\n",
      "Linear Regression\n",
      "R2 score: 0.9049536175690113\n",
      "\n",
      "\n",
      "Decision Tree\n",
      "R2 score: 0.8795086758953446\n",
      "\n",
      "\n",
      "Random Forest\n",
      "R2 score: 0.8862465543082302\n",
      "\n",
      "\n",
      "Support Vector Machine\n",
      "R2 score: 0.9156926732648751\n",
      "\n",
      "\n"
     ]
    }
   ],
   "source": [
    "from sklearn.metrics import r2_score\n",
    "print('R^2 score')\n",
    "print('\\n')\n",
    "\n",
    "print('Linear Regression')\n",
    "r2_11_LR = r2_score(y_11_test, y_pred_11_LR)\n",
    "print('R2 score: {}'.format(r2_11_LR))\n",
    "print('\\n')\n",
    "\n",
    "print('Decision Tree')\n",
    "r2_11_DT = r2_score(y_11_test, y_pred_11_DT)\n",
    "print('R2 score: {}'.format(r2_11_DT))\n",
    "print('\\n')\n",
    "\n",
    "print('Random Forest')\n",
    "r2_11_RF = r2_score(y_11_test, y_pred_11_RF)\n",
    "print('R2 score: {}'.format(r2_11_RF))\n",
    "print('\\n')\n",
    "\n",
    "print('Support Vector Machine')\n",
    "r2_11_SV = r2_score(y_11_test, y_pred_11_SV)\n",
    "print('R2 score: {}'.format(r2_11_SV))\n",
    "print('\\n')"
   ]
  },
  {
   "cell_type": "markdown",
   "metadata": {},
   "source": [
    "### K-fold Cross Validation"
   ]
  },
  {
   "cell_type": "code",
   "execution_count": null,
   "metadata": {},
   "outputs": [],
   "source": []
  }
 ],
 "metadata": {
  "kernelspec": {
   "display_name": "Python 3",
   "language": "python",
   "name": "python3"
  },
  "language_info": {
   "codemirror_mode": {
    "name": "ipython",
    "version": 3
   },
   "file_extension": ".py",
   "mimetype": "text/x-python",
   "name": "python",
   "nbconvert_exporter": "python",
   "pygments_lexer": "ipython3",
   "version": "3.6.9"
  }
 },
 "nbformat": 4,
 "nbformat_minor": 2
}
