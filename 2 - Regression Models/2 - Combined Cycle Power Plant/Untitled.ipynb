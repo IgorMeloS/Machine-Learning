{
 "cells": [
  {
   "cell_type": "code",
   "execution_count": 1,
   "metadata": {},
   "outputs": [],
   "source": [
    "import numpy as np\n",
    "import matplotlib.pyplot as plt\n",
    "import pandas as pd\n",
    "import seaborn as sns"
   ]
  },
  {
   "cell_type": "code",
   "execution_count": 2,
   "metadata": {},
   "outputs": [],
   "source": [
    "dataset = pd.read_csv('Combined_Cycle_Power_Plant.csv')"
   ]
  },
  {
   "cell_type": "code",
   "execution_count": 3,
   "metadata": {},
   "outputs": [
    {
     "data": {
      "text/html": [
       "<div>\n",
       "<style scoped>\n",
       "    .dataframe tbody tr th:only-of-type {\n",
       "        vertical-align: middle;\n",
       "    }\n",
       "\n",
       "    .dataframe tbody tr th {\n",
       "        vertical-align: top;\n",
       "    }\n",
       "\n",
       "    .dataframe thead th {\n",
       "        text-align: right;\n",
       "    }\n",
       "</style>\n",
       "<table border=\"1\" class=\"dataframe\">\n",
       "  <thead>\n",
       "    <tr style=\"text-align: right;\">\n",
       "      <th></th>\n",
       "      <th>AT</th>\n",
       "      <th>V</th>\n",
       "      <th>AP</th>\n",
       "      <th>RH</th>\n",
       "      <th>PE</th>\n",
       "    </tr>\n",
       "  </thead>\n",
       "  <tbody>\n",
       "    <tr>\n",
       "      <th>0</th>\n",
       "      <td>14.96</td>\n",
       "      <td>41.76</td>\n",
       "      <td>1024.07</td>\n",
       "      <td>73.17</td>\n",
       "      <td>463.26</td>\n",
       "    </tr>\n",
       "    <tr>\n",
       "      <th>1</th>\n",
       "      <td>25.18</td>\n",
       "      <td>62.96</td>\n",
       "      <td>1020.04</td>\n",
       "      <td>59.08</td>\n",
       "      <td>444.37</td>\n",
       "    </tr>\n",
       "    <tr>\n",
       "      <th>2</th>\n",
       "      <td>5.11</td>\n",
       "      <td>39.40</td>\n",
       "      <td>1012.16</td>\n",
       "      <td>92.14</td>\n",
       "      <td>488.56</td>\n",
       "    </tr>\n",
       "    <tr>\n",
       "      <th>3</th>\n",
       "      <td>20.86</td>\n",
       "      <td>57.32</td>\n",
       "      <td>1010.24</td>\n",
       "      <td>76.64</td>\n",
       "      <td>446.48</td>\n",
       "    </tr>\n",
       "    <tr>\n",
       "      <th>4</th>\n",
       "      <td>10.82</td>\n",
       "      <td>37.50</td>\n",
       "      <td>1009.23</td>\n",
       "      <td>96.62</td>\n",
       "      <td>473.90</td>\n",
       "    </tr>\n",
       "  </tbody>\n",
       "</table>\n",
       "</div>"
      ],
      "text/plain": [
       "      AT      V       AP     RH      PE\n",
       "0  14.96  41.76  1024.07  73.17  463.26\n",
       "1  25.18  62.96  1020.04  59.08  444.37\n",
       "2   5.11  39.40  1012.16  92.14  488.56\n",
       "3  20.86  57.32  1010.24  76.64  446.48\n",
       "4  10.82  37.50  1009.23  96.62  473.90"
      ]
     },
     "execution_count": 3,
     "metadata": {},
     "output_type": "execute_result"
    }
   ],
   "source": [
    "dataset.head()"
   ]
  },
  {
   "cell_type": "markdown",
   "metadata": {},
   "source": [
    "# One independent variable"
   ]
  },
  {
   "cell_type": "markdown",
   "metadata": {},
   "source": [
    "## AT vs PE"
   ]
  },
  {
   "cell_type": "code",
   "execution_count": 4,
   "metadata": {},
   "outputs": [],
   "source": [
    "    X_11 = dataset.iloc[:, 0].values\n",
    "    y_11 = dataset.iloc[:, -1].values"
   ]
  },
  {
   "cell_type": "code",
   "execution_count": 5,
   "metadata": {},
   "outputs": [],
   "source": [
    "X_11 = X_11.reshape(len(X_11), 1)\n",
    "#y_11 = y_11.reshape(len(y_11), 1)"
   ]
  },
  {
   "cell_type": "markdown",
   "metadata": {},
   "source": [
    "### Splitting the dataset into training and test set"
   ]
  },
  {
   "cell_type": "code",
   "execution_count": 6,
   "metadata": {},
   "outputs": [],
   "source": [
    "from sklearn.model_selection import train_test_split\n",
    "X_11_train, X_11_test, y_11_train, y_11_test = train_test_split(X_11, y_11,\n",
    "                                                               test_size=0.2,\n",
    "                                                               random_state=0)"
   ]
  },
  {
   "cell_type": "markdown",
   "metadata": {},
   "source": [
    "### Building the models"
   ]
  },
  {
   "cell_type": "code",
   "execution_count": 7,
   "metadata": {},
   "outputs": [
    {
     "data": {
      "text/plain": [
       "LinearRegression()"
      ]
     },
     "execution_count": 7,
     "metadata": {},
     "output_type": "execute_result"
    }
   ],
   "source": [
    "# Linear Regression\n",
    "\n",
    "from sklearn.linear_model import LinearRegression\n",
    "regressor_X11_LR = LinearRegression()\n",
    "regressor_X11_LR.fit(X_11_train, y_11_train)"
   ]
  },
  {
   "cell_type": "code",
   "execution_count": 8,
   "metadata": {},
   "outputs": [
    {
     "data": {
      "text/plain": [
       "LinearRegression()"
      ]
     },
     "execution_count": 8,
     "metadata": {},
     "output_type": "execute_result"
    }
   ],
   "source": [
    "# Polynomial\n",
    "\n",
    "from sklearn.preprocessing import PolynomialFeatures\n",
    "from sklearn.linear_model import LinearRegression\n",
    "X11_poly_reg = PolynomialFeatures(degree = 6)\n",
    "X11_poly = X11_poly_reg.fit_transform(X_11_train)\n",
    "regressor_X11_PR = LinearRegression()\n",
    "regressor_X11_PR.fit(X11_poly, y_11_train)"
   ]
  },
  {
   "cell_type": "code",
   "execution_count": 9,
   "metadata": {},
   "outputs": [
    {
     "data": {
      "text/plain": [
       "DecisionTreeRegressor(random_state=0)"
      ]
     },
     "execution_count": 9,
     "metadata": {},
     "output_type": "execute_result"
    }
   ],
   "source": [
    "# Decision Tree\n",
    "\n",
    "from sklearn.tree import DecisionTreeRegressor\n",
    "regressor_X11_DT = DecisionTreeRegressor(random_state = 0)\n",
    "regressor_X11_DT.fit(X_11_train, y_11_train)"
   ]
  },
  {
   "cell_type": "code",
   "execution_count": 10,
   "metadata": {},
   "outputs": [
    {
     "data": {
      "text/plain": [
       "RandomForestRegressor(n_estimators=10, random_state=0)"
      ]
     },
     "execution_count": 10,
     "metadata": {},
     "output_type": "execute_result"
    }
   ],
   "source": [
    "# Random Forest\n",
    "\n",
    "from sklearn.ensemble import RandomForestRegressor\n",
    "regressor_X11_RF = RandomForestRegressor(n_estimators = 10, random_state = 0)\n",
    "regressor_X11_RF.fit(X_11_train, y_11_train)"
   ]
  },
  {
   "cell_type": "code",
   "execution_count": 11,
   "metadata": {},
   "outputs": [
    {
     "data": {
      "text/plain": [
       "SVR()"
      ]
     },
     "execution_count": 11,
     "metadata": {},
     "output_type": "execute_result"
    }
   ],
   "source": [
    "# Support Vector Machine\n",
    "y_11_train = y_11_train.reshape(len(y_11_train), 1)\n",
    "y_11_test = y_11_test.reshape(len(y_11_test), 1)\n",
    "\n",
    "from sklearn.preprocessing import StandardScaler\n",
    "sc_X11 = StandardScaler()\n",
    "sc_y11 = StandardScaler()\n",
    "X_11_train_s = sc_X11.fit_transform(X_11_train)\n",
    "#X_11_test_s = sc_X11.fit(X_11_test)\n",
    "y_11_train_s = sc_y11.fit_transform(y_11_train)\n",
    "#y_11_test_s = sc_X11.fit(y_11_test)\n",
    "\n",
    "from sklearn.svm import SVR\n",
    "regressor_X11_SV = SVR(kernel = 'rbf')\n",
    "y_11_train_s = np.ravel(y_11_train_s)\n",
    "regressor_X11_SV.fit(X_11_train_s, y_11_train_s)\n"
   ]
  },
  {
   "cell_type": "markdown",
   "metadata": {},
   "source": [
    "### Predicting new results"
   ]
  },
  {
   "cell_type": "code",
   "execution_count": 12,
   "metadata": {},
   "outputs": [],
   "source": [
    "y_pred_11_LR = regressor_X11_LR.predict(X_11_test) # Linear Regression\n",
    "#y_pred_11_PR = regressor_X11_PR.predict(X_11_test) # Polynomial Regression\n",
    "y_pred_11_DT = regressor_X11_DT.predict(X_11_test) # Decision Tree\n",
    "y_pred_11_RF = regressor_X11_RF.predict(X_11_test) # Random Forest\n",
    "y_pred_11_SV = sc_y11.inverse_transform(regressor_X11_SV.predict(sc_X11.transform(X_11_test))) # Support Vector Machine"
   ]
  },
  {
   "cell_type": "markdown",
   "metadata": {},
   "source": [
    "### Metrics score"
   ]
  },
  {
   "cell_type": "code",
   "execution_count": 44,
   "metadata": {},
   "outputs": [
    {
     "name": "stdout",
     "output_type": "stream",
     "text": [
      "Metrics results\n",
      "\n",
      "\n",
      "Linear Regression\n",
      "R2 score: 0.9049536175690113\n",
      "MAE score: 4.174438156494202\n",
      "RMSE score: 5.272562059337883\n",
      "\n",
      "\n",
      "Decision Tree\n",
      "R2 score: 0.8795086758953446\n",
      "MAE score: 4.633473127113801\n",
      "RMSE score: 5.93651805220736\n",
      "\n",
      "\n",
      "Random Forest\n",
      "R2 score: 0.8862465543082302\n",
      "MAE score: 4.495212547182292\n",
      "RMSE score: 5.76814520546431\n",
      "\n",
      "\n",
      "Support Vector Machine\n",
      "R2 score: 0.9156926732648751\n",
      "MAE score: 3.895441620391207\n",
      "RMSE score: 4.9657695792038945\n",
      "\n",
      "\n"
     ]
    }
   ],
   "source": [
    "from sklearn.metrics import r2_score, mean_absolute_error, mean_squared_error\n",
    "print('Metrics results')\n",
    "print('\\n')\n",
    "\n",
    "print('Linear Regression')\n",
    "r2_11_LR = r2_score(y_11_test, y_pred_11_LR)\n",
    "print('R2 score: {}'.format(r2_11_LR))\n",
    "mae_11_LR = mean_absolute_error(y_11_test, y_pred_11_LR)\n",
    "print('MAE score: {}'.format(mae_11_LR))\n",
    "rmse_11_LR = np.sqrt(mean_squared_error(y_11_test, y_pred_11_LR))\n",
    "print('RMSE score: {}'.format(rmse_11_LR))\n",
    "print('\\n')\n",
    "\n",
    "print('Decision Tree')\n",
    "r2_11_DT = r2_score(y_11_test, y_pred_11_DT)\n",
    "print('R2 score: {}'.format(r2_11_DT))\n",
    "mae_11_DT = mean_absolute_error(y_11_test, y_pred_11_DT)\n",
    "print('MAE score: {}'.format(mae_11_DT))\n",
    "rmse_11_DT = np.sqrt(mean_squared_error(y_11_test, y_pred_11_DT))\n",
    "print('RMSE score: {}'.format(rmse_11_DT))\n",
    "print('\\n')\n",
    "\n",
    "print('Random Forest')\n",
    "r2_11_RF = r2_score(y_11_test, y_pred_11_RF)\n",
    "print('R2 score: {}'.format(r2_11_RF))\n",
    "mae_11_RF = mean_absolute_error(y_11_test, y_pred_11_RF)\n",
    "print('MAE score: {}'.format(mae_11_RF))\n",
    "rmse_11_RF = np.sqrt(mean_squared_error(y_11_test, y_pred_11_RF))\n",
    "print('RMSE score: {}'.format(rmse_11_RF))\n",
    "print('\\n')\n",
    "\n",
    "print('Support Vector Machine')\n",
    "r2_11_SV = r2_score(y_11_test, y_pred_11_SV)\n",
    "print('R2 score: {}'.format(r2_11_SV))\n",
    "mae_11_SV = mean_absolute_error(y_11_test, y_pred_11_SV)\n",
    "print('MAE score: {}'.format(mae_11_SV))\n",
    "rmse_11_SV = np.sqrt(mean_squared_error(y_11_test, y_pred_11_SV))\n",
    "print('RMSE score: {}'.format(rmse_11_SV))\n",
    "print('\\n')"
   ]
  },
  {
   "cell_type": "markdown",
   "metadata": {},
   "source": [
    "### Cross Validation"
   ]
  },
  {
   "cell_type": "code",
   "execution_count": 14,
   "metadata": {},
   "outputs": [
    {
     "data": {
      "text/plain": [
       "dict_keys(['explained_variance', 'r2', 'max_error', 'neg_median_absolute_error', 'neg_mean_absolute_error', 'neg_mean_squared_error', 'neg_mean_squared_log_error', 'neg_root_mean_squared_error', 'neg_mean_poisson_deviance', 'neg_mean_gamma_deviance', 'accuracy', 'roc_auc', 'roc_auc_ovr', 'roc_auc_ovo', 'roc_auc_ovr_weighted', 'roc_auc_ovo_weighted', 'balanced_accuracy', 'average_precision', 'neg_log_loss', 'neg_brier_score', 'adjusted_rand_score', 'homogeneity_score', 'completeness_score', 'v_measure_score', 'mutual_info_score', 'adjusted_mutual_info_score', 'normalized_mutual_info_score', 'fowlkes_mallows_score', 'precision', 'precision_macro', 'precision_micro', 'precision_samples', 'precision_weighted', 'recall', 'recall_macro', 'recall_micro', 'recall_samples', 'recall_weighted', 'f1', 'f1_macro', 'f1_micro', 'f1_samples', 'f1_weighted', 'jaccard', 'jaccard_macro', 'jaccard_micro', 'jaccard_samples', 'jaccard_weighted'])"
      ]
     },
     "execution_count": 14,
     "metadata": {},
     "output_type": "execute_result"
    }
   ],
   "source": [
    "from sklearn.metrics import SCORERS as SC\n",
    "SC.keys()"
   ]
  },
  {
   "cell_type": "code",
   "execution_count": 15,
   "metadata": {},
   "outputs": [],
   "source": [
    "from sklearn.model_selection import cross_val_score\n",
    "\n",
    "y_11_train = np.ravel(y_11_train)\n",
    "\n",
    "r211_LR = cross_val_score(estimator=regressor_X11_LR, X = X_11_train, y=y_11_train, cv = 10, scoring='r2')\n",
    "r211_DT = cross_val_score(estimator=regressor_X11_DT, X = X_11_train, y=y_11_train, cv = 10, scoring='r2')\n",
    "r211_RF = cross_val_score(estimator=regressor_X11_RF, X = X_11_train, y=y_11_train, cv = 10, scoring='r2')\n",
    "r211_SV = cross_val_score(estimator=regressor_X11_SV, X = X_11_train_s, y=y_11_train_s, cv = 10, scoring='r2')"
   ]
  },
  {
   "cell_type": "code",
   "execution_count": 16,
   "metadata": {},
   "outputs": [
    {
     "data": {
      "text/plain": [
       "array([0.91418433, 0.91354319, 0.92235675, 0.90618498, 0.91401569,\n",
       "       0.90649783, 0.90338261, 0.9109621 , 0.89600359, 0.91319711])"
      ]
     },
     "execution_count": 16,
     "metadata": {},
     "output_type": "execute_result"
    }
   ],
   "source": [
    "r211_SV \n"
   ]
  },
  {
   "cell_type": "code",
   "execution_count": 17,
   "metadata": {},
   "outputs": [
    {
     "name": "stdout",
     "output_type": "stream",
     "text": [
      "Checking Cross Validation\n",
      "\n",
      "\n",
      "Linear Regression\n",
      "R^2 score: 89.70 %\n",
      "Standard Deviation (+/-): 1.26 %\n",
      "\n",
      "\n",
      "Decision Tree\n",
      "R^2 score: 86.70 %\n",
      "Standard Deviation (+/-): 1.59 %\n",
      "\n",
      "\n",
      "Random Forest\n",
      "R^2 score: 87.99 %\n",
      "Standard Deviation (+/-): 1.55 %\n",
      "\n",
      "\n",
      "Support Vector Machine\n",
      "R^2 score: 91.00 %\n",
      "Standard Deviation (+/-): 1.38 %\n"
     ]
    }
   ],
   "source": [
    "print('Checking Cross Validation')\n",
    "print('\\n')\n",
    "print('Linear Regression')\n",
    "print(\"R^2 score: {:.2f} %\".format(r211_LR.mean()*100))\n",
    "print(\"Standard Deviation (+/-): {:.2f} %\".format(r211_LR.std()*2*100))\n",
    "print('\\n')\n",
    "print('Decision Tree')\n",
    "print(\"R^2 score: {:.2f} %\".format(r211_DT.mean()*100))\n",
    "print(\"Standard Deviation (+/-): {:.2f} %\".format(r211_DT.std()*2*100))\n",
    "print('\\n')\n",
    "print('Random Forest')\n",
    "print(\"R^2 score: {:.2f} %\".format(r211_RF.mean()*100))\n",
    "print(\"Standard Deviation (+/-): {:.2f} %\".format(r211_RF.std()*2*100))\n",
    "print('\\n')\n",
    "print('Support Vector Machine')\n",
    "print(\"R^2 score: {:.2f} %\".format(r211_SV.mean()*100))\n",
    "print(\"Standard Deviation (+/-): {:.2f} %\".format(r211_SV.std()*2*100))\n"
   ]
  },
  {
   "cell_type": "markdown",
   "metadata": {},
   "source": [
    "## V vs PE"
   ]
  },
  {
   "cell_type": "code",
   "execution_count": 18,
   "metadata": {},
   "outputs": [],
   "source": [
    "X_12 = dataset['V'].values\n",
    "y_12 = dataset['PE'].values"
   ]
  },
  {
   "cell_type": "code",
   "execution_count": 19,
   "metadata": {},
   "outputs": [],
   "source": [
    "X_12 = X_12.reshape(len(X_12), 1)"
   ]
  },
  {
   "cell_type": "markdown",
   "metadata": {},
   "source": [
    "### Splitting the dataset into training and test set"
   ]
  },
  {
   "cell_type": "code",
   "execution_count": 20,
   "metadata": {},
   "outputs": [],
   "source": [
    "from sklearn.model_selection import train_test_split\n",
    "X_12_train, X_12_test, y_12_train, y_12_test = train_test_split(X_12, y_12,\n",
    "                                                               test_size=0.2,\n",
    "                                                               random_state=0)"
   ]
  },
  {
   "cell_type": "markdown",
   "metadata": {},
   "source": [
    "### Building the models"
   ]
  },
  {
   "cell_type": "code",
   "execution_count": 21,
   "metadata": {},
   "outputs": [
    {
     "data": {
      "text/plain": [
       "LinearRegression()"
      ]
     },
     "execution_count": 21,
     "metadata": {},
     "output_type": "execute_result"
    }
   ],
   "source": [
    "# Linear Regression\n",
    "\n",
    "from sklearn.linear_model import LinearRegression\n",
    "regressor_X12_LR = LinearRegression()\n",
    "regressor_X12_LR.fit(X_12_train, y_12_train)"
   ]
  },
  {
   "cell_type": "code",
   "execution_count": 22,
   "metadata": {},
   "outputs": [
    {
     "data": {
      "text/plain": [
       "DecisionTreeRegressor(random_state=0)"
      ]
     },
     "execution_count": 22,
     "metadata": {},
     "output_type": "execute_result"
    }
   ],
   "source": [
    "# Decision Tree\n",
    "\n",
    "from sklearn.tree import DecisionTreeRegressor\n",
    "regressor_X12_DT = DecisionTreeRegressor(random_state = 0)\n",
    "regressor_X12_DT.fit(X_12_train, y_12_train)\n"
   ]
  },
  {
   "cell_type": "code",
   "execution_count": 23,
   "metadata": {},
   "outputs": [
    {
     "data": {
      "text/plain": [
       "RandomForestRegressor(n_estimators=10, random_state=0)"
      ]
     },
     "execution_count": 23,
     "metadata": {},
     "output_type": "execute_result"
    }
   ],
   "source": [
    "# Random Forest\n",
    "\n",
    "from sklearn.ensemble import RandomForestRegressor\n",
    "regressor_X12_RF = RandomForestRegressor(n_estimators = 10, random_state = 0)\n",
    "regressor_X12_RF.fit(X_12_train, y_12_train)"
   ]
  },
  {
   "cell_type": "code",
   "execution_count": 24,
   "metadata": {},
   "outputs": [
    {
     "data": {
      "text/plain": [
       "SVR()"
      ]
     },
     "execution_count": 24,
     "metadata": {},
     "output_type": "execute_result"
    }
   ],
   "source": [
    "# Support Vector Machine\n",
    "y_12_train = y_12_train.reshape(len(y_12_train), 1)\n",
    "y_12_test = y_12_test.reshape(len(y_12_test), 1)\n",
    "\n",
    "from sklearn.preprocessing import StandardScaler\n",
    "sc_X12 = StandardScaler()\n",
    "sc_y12 = StandardScaler()\n",
    "X_12_train_s = sc_X12.fit_transform(X_12_train)\n",
    "#X_11_test_s = sc_X11.fit(X_11_test)\n",
    "y_12_train_s = sc_y12.fit_transform(y_12_train)\n",
    "#y_11_test_s = sc_X11.fit(y_11_test)\n",
    "\n",
    "from sklearn.svm import SVR\n",
    "regressor_X12_SV = SVR(kernel = 'rbf')\n",
    "y_12_train_s = np.ravel(y_12_train_s)\n",
    "regressor_X12_SV.fit(X_12_train_s, y_12_train_s)"
   ]
  },
  {
   "cell_type": "markdown",
   "metadata": {},
   "source": [
    "### Predicting new results"
   ]
  },
  {
   "cell_type": "code",
   "execution_count": 25,
   "metadata": {},
   "outputs": [],
   "source": [
    "y_pred_12_LR = regressor_X12_LR.predict(X_12_test) # Linear Regression\n",
    "#y_pred_11_PR = regressor_X11_PR.predict(X_11_test) # Polynomial Regression\n",
    "y_pred_12_DT = regressor_X12_DT.predict(X_12_test) # Decision Tree\n",
    "y_pred_12_RF = regressor_X12_RF.predict(X_12_test) # Random Forest\n",
    "y_pred_12_SV = sc_y12.inverse_transform(regressor_X12_SV.predict(sc_X12.transform(X_12_test))) # Support Vector Machine"
   ]
  },
  {
   "cell_type": "markdown",
   "metadata": {},
   "source": [
    "### Metrics score"
   ]
  },
  {
   "cell_type": "code",
   "execution_count": 45,
   "metadata": {},
   "outputs": [
    {
     "name": "stdout",
     "output_type": "stream",
     "text": [
      "Metrics results\n",
      "\n",
      "\n",
      "Linear Regression\n",
      "R2 score: 0.7558220412509646\n",
      "MAE score: 6.571483075051841\n",
      "RMSE score: 8.450981163858412\n",
      "\n",
      "\n",
      "Decision Tree\n",
      "R2 score: 0.9099826439819951\n",
      "MAE score: 3.834960431303587\n",
      "RMSE score: 5.1311774106292125\n",
      "\n",
      "\n",
      "Random Forest\n",
      "R2 score: 0.9084637404768998\n",
      "MAE score: 3.880263046938069\n",
      "RMSE score: 5.174286657877951\n",
      "\n",
      "\n",
      "Support Vector Machine\n",
      "R2 score: 0.798696637093838\n",
      "MAE score: 5.966836580459061\n",
      "RMSE score: 7.673251259783508\n",
      "\n",
      "\n"
     ]
    }
   ],
   "source": [
    "from sklearn.metrics import r2_score, mean_absolute_error, mean_squared_error\n",
    "print('Metrics results')\n",
    "print('\\n')\n",
    "\n",
    "print('Linear Regression')\n",
    "r2_12_LR = r2_score(y_12_test, y_pred_12_LR)\n",
    "print('R2 score: {}'.format(r2_12_LR))\n",
    "mae_12_LR = mean_absolute_error(y_12_test, y_pred_12_LR)\n",
    "print('MAE score: {}'.format(mae_12_LR))\n",
    "rmse_12_LR = np.sqrt(mean_squared_error(y_12_test, y_pred_12_LR))\n",
    "print('RMSE score: {}'.format(rmse_12_LR))\n",
    "print('\\n')\n",
    "\n",
    "print('Decision Tree')\n",
    "r2_12_DT = r2_score(y_12_test, y_pred_12_DT)\n",
    "print('R2 score: {}'.format(r2_12_DT))\n",
    "mae_12_DT = mean_absolute_error(y_12_test, y_pred_12_DT)\n",
    "print('MAE score: {}'.format(mae_12_DT))\n",
    "rmse_12_DT = np.sqrt(mean_squared_error(y_12_test, y_pred_12_DT))\n",
    "print('RMSE score: {}'.format(rmse_12_DT))\n",
    "print('\\n')\n",
    "\n",
    "print('Random Forest')\n",
    "r2_12_RF = r2_score(y_12_test, y_pred_12_RF)\n",
    "print('R2 score: {}'.format(r2_12_RF))\n",
    "mae_12_RF = mean_absolute_error(y_12_test, y_pred_12_RF)\n",
    "print('MAE score: {}'.format(mae_12_RF))\n",
    "rmse_12_RF = np.sqrt(mean_squared_error(y_12_test, y_pred_12_RF))\n",
    "print('RMSE score: {}'.format(rmse_12_RF))\n",
    "print('\\n')\n",
    "\n",
    "print('Support Vector Machine')\n",
    "r2_12_SV = r2_score(y_12_test, y_pred_12_SV)\n",
    "print('R2 score: {}'.format(r2_12_SV))\n",
    "mae_12_SV = mean_absolute_error(y_12_test, y_pred_12_SV)\n",
    "print('MAE score: {}'.format(mae_12_SV))\n",
    "rmse_12_SV = np.sqrt(mean_squared_error(y_12_test, y_pred_12_SV))\n",
    "print('RMSE score: {}'.format(rmse_12_SV))\n",
    "print('\\n')"
   ]
  },
  {
   "cell_type": "markdown",
   "metadata": {},
   "source": [
    "### Cross Validation"
   ]
  },
  {
   "cell_type": "code",
   "execution_count": 27,
   "metadata": {},
   "outputs": [
    {
     "name": "stdout",
     "output_type": "stream",
     "text": [
      "Checking Cross Validation\n",
      "\n",
      "\n",
      "Linear Regression\n",
      "R^2 score: 75.62 %\n",
      "Standard Deviation (+/-): 2.32 %\n",
      "\n",
      "\n",
      "Decision Tree\n",
      "R^2 score: 90.82 %\n",
      "Standard Deviation (+/-): 1.68 %\n",
      "\n",
      "\n",
      "Random Forest\n",
      "R^2 score: 90.68 %\n",
      "Standard Deviation (+/-): 1.67 %\n",
      "\n",
      "\n",
      "Support Vector Machine\n",
      "R^2 score: 79.30 %\n",
      "Standard Deviation (+/-): 2.58 %\n"
     ]
    }
   ],
   "source": [
    "from sklearn.model_selection import cross_val_score\n",
    "\n",
    "y_12_train = np.ravel(y_12_train)\n",
    "\n",
    "r212_LR = cross_val_score(estimator=regressor_X12_LR, X = X_12_train, y=y_12_train, cv = 10, scoring='r2')\n",
    "r212_DT = cross_val_score(estimator=regressor_X12_DT, X = X_12_train, y=y_12_train, cv = 10, scoring='r2')\n",
    "r212_RF = cross_val_score(estimator=regressor_X12_RF, X = X_12_train, y=y_12_train, cv = 10, scoring='r2')\n",
    "r212_SV = cross_val_score(estimator=regressor_X12_SV, X = X_12_train_s, y=y_12_train_s, cv = 10, scoring='r2')\n",
    "\n",
    "r212_SV\n",
    "\n",
    "print('Checking Cross Validation')\n",
    "print('\\n')\n",
    "print('Linear Regression')\n",
    "print(\"R^2 score: {:.2f} %\".format(r212_LR.mean()*100))\n",
    "print(\"Standard Deviation (+/-): {:.2f} %\".format(r212_LR.std()*2*100))\n",
    "print('\\n')\n",
    "print('Decision Tree')\n",
    "print(\"R^2 score: {:.2f} %\".format(r212_DT.mean()*100))\n",
    "print(\"Standard Deviation (+/-): {:.2f} %\".format(r212_DT.std()*2*100))\n",
    "print('\\n')\n",
    "print('Random Forest')\n",
    "print(\"R^2 score: {:.2f} %\".format(r212_RF.mean()*100))\n",
    "print(\"Standard Deviation (+/-): {:.2f} %\".format(r212_RF.std()*2*100))\n",
    "print('\\n')\n",
    "print('Support Vector Machine')\n",
    "print(\"R^2 score: {:.2f} %\".format(r212_SV.mean()*100))\n",
    "print(\"Standard Deviation (+/-): {:.2f} %\".format(r212_SV.std()*2*100))"
   ]
  },
  {
   "cell_type": "markdown",
   "metadata": {},
   "source": [
    "## AP vs PE"
   ]
  },
  {
   "cell_type": "code",
   "execution_count": 28,
   "metadata": {},
   "outputs": [],
   "source": [
    "X_13 = dataset['AP'].values\n",
    "y_13 = dataset['PE'].values\n",
    "\n",
    "X_13 = X_13.reshape(len(X_13), 1)"
   ]
  },
  {
   "cell_type": "markdown",
   "metadata": {},
   "source": [
    "### Splitting the dataset into training and test set"
   ]
  },
  {
   "cell_type": "code",
   "execution_count": 29,
   "metadata": {},
   "outputs": [],
   "source": [
    "from sklearn.model_selection import train_test_split\n",
    "X_13_train, X_13_test, y_13_train, y_13_test = train_test_split(X_13, y_13,\n",
    "                                                               test_size=0.2,\n",
    "                                                               random_state=0)"
   ]
  },
  {
   "cell_type": "markdown",
   "metadata": {},
   "source": [
    "### Building the models"
   ]
  },
  {
   "cell_type": "code",
   "execution_count": 30,
   "metadata": {},
   "outputs": [
    {
     "data": {
      "text/plain": [
       "SVR()"
      ]
     },
     "execution_count": 30,
     "metadata": {},
     "output_type": "execute_result"
    }
   ],
   "source": [
    "# Linear Regression\n",
    "\n",
    "from sklearn.linear_model import LinearRegression\n",
    "regressor_X13_LR = LinearRegression()\n",
    "regressor_X13_LR.fit(X_13_train, y_13_train)\n",
    "\n",
    "# Decision Tree\n",
    "\n",
    "from sklearn.tree import DecisionTreeRegressor\n",
    "regressor_X13_DT = DecisionTreeRegressor(random_state = 0)\n",
    "regressor_X13_DT.fit(X_13_train, y_13_train)\n",
    "\n",
    "# Random Forest\n",
    "\n",
    "from sklearn.ensemble import RandomForestRegressor\n",
    "regressor_X13_RF = RandomForestRegressor(n_estimators = 10, random_state = 0)\n",
    "regressor_X13_RF.fit(X_13_train, y_13_train)\n",
    "\n",
    "# Support Vector Machine\n",
    "y_13_train = y_13_train.reshape(len(y_13_train), 1)\n",
    "y_13_test = y_13_test.reshape(len(y_13_test), 1)\n",
    "\n",
    "from sklearn.preprocessing import StandardScaler\n",
    "sc_X13 = StandardScaler()\n",
    "sc_y13 = StandardScaler()\n",
    "X_13_train_s = sc_X13.fit_transform(X_13_train)\n",
    "#X_11_test_s = sc_X11.fit(X_11_test)\n",
    "y_13_train_s = sc_y13.fit_transform(y_13_train)\n",
    "#y_11_test_s = sc_X11.fit(y_11_test)\n",
    "\n",
    "from sklearn.svm import SVR\n",
    "regressor_X13_SV = SVR(kernel = 'rbf')\n",
    "y_13_train_s = np.ravel(y_13_train_s)\n",
    "regressor_X13_SV.fit(X_13_train_s, y_13_train_s)\n"
   ]
  },
  {
   "cell_type": "markdown",
   "metadata": {},
   "source": [
    "### Predicting new results"
   ]
  },
  {
   "cell_type": "code",
   "execution_count": 31,
   "metadata": {},
   "outputs": [],
   "source": [
    "y_pred_13_LR = regressor_X13_LR.predict(X_13_test) # Linear Regression\n",
    "#y_pred_11_PR = regressor_X11_PR.predict(X_11_test) # Polynomial Regression\n",
    "y_pred_13_DT = regressor_X13_DT.predict(X_13_test) # Decision Tree\n",
    "y_pred_13_RF = regressor_X13_RF.predict(X_13_test) # Random Forest\n",
    "y_pred_13_SV = sc_y13.inverse_transform(regressor_X13_SV.predict(sc_X13.transform(X_13_test))) # Support Vector Machine\n"
   ]
  },
  {
   "cell_type": "markdown",
   "metadata": {},
   "source": [
    "### Metrics score"
   ]
  },
  {
   "cell_type": "code",
   "execution_count": 46,
   "metadata": {},
   "outputs": [
    {
     "name": "stdout",
     "output_type": "stream",
     "text": [
      "Metrics results\n",
      "\n",
      "\n",
      "Linear Regression\n",
      "R2 score: 0.26232846285025535\n",
      "MAE score: 12.05211681932955\n",
      "RMSE score: 14.688769560879729\n",
      "\n",
      "\n",
      "Decision Tree\n",
      "R2 score: 0.03723231149205275\n",
      "MAE score: 13.171592197915864\n",
      "RMSE score: 16.780877131523813\n",
      "\n",
      "\n",
      "Random Forest\n",
      "R2 score: 0.09066635359666375\n",
      "MAE score: 12.865718533161989\n",
      "RMSE score: 16.308556955965763\n",
      "\n",
      "\n",
      "Support Vector Machine\n",
      "R2 score: 0.260636024438769\n",
      "MAE score: 11.32943015684852\n",
      "RMSE score: 14.705610115201734\n",
      "\n",
      "\n"
     ]
    }
   ],
   "source": [
    "from sklearn.metrics import r2_score, mean_absolute_error, mean_squared_error\n",
    "print('Metrics results')\n",
    "print('\\n')\n",
    "\n",
    "print('Linear Regression')\n",
    "r2_13_LR = r2_score(y_13_test, y_pred_13_LR)\n",
    "print('R2 score: {}'.format(r2_13_LR))\n",
    "mae_13_LR = mean_absolute_error(y_13_test, y_pred_13_LR)\n",
    "print('MAE score: {}'.format(mae_13_LR))\n",
    "rmse_13_LR = np.sqrt(mean_squared_error(y_13_test, y_pred_13_LR))\n",
    "print('RMSE score: {}'.format(rmse_13_LR))\n",
    "print('\\n')\n",
    "\n",
    "print('Decision Tree')\n",
    "r2_13_DT = r2_score(y_13_test, y_pred_13_DT)\n",
    "print('R2 score: {}'.format(r2_13_DT))\n",
    "mae_13_DT = mean_absolute_error(y_13_test, y_pred_13_DT)\n",
    "print('MAE score: {}'.format(mae_13_DT))\n",
    "rmse_13_DT = np.sqrt(mean_squared_error(y_13_test, y_pred_13_DT))\n",
    "print('RMSE score: {}'.format(rmse_13_DT))\n",
    "print('\\n')\n",
    "\n",
    "print('Random Forest')\n",
    "r2_13_RF = r2_score(y_13_test, y_pred_13_RF)\n",
    "print('R2 score: {}'.format(r2_13_RF))\n",
    "mae_13_RF = mean_absolute_error(y_13_test, y_pred_13_RF)\n",
    "print('MAE score: {}'.format(mae_13_RF))\n",
    "rmse_13_RF = np.sqrt(mean_squared_error(y_13_test, y_pred_13_RF))\n",
    "print('RMSE score: {}'.format(rmse_13_RF))\n",
    "print('\\n')\n",
    "\n",
    "print('Support Vector Machine')\n",
    "r2_13_SV = r2_score(y_13_test, y_pred_13_SV)\n",
    "print('R2 score: {}'.format(r2_13_SV))\n",
    "mae_13_SV = mean_absolute_error(y_13_test, y_pred_13_SV)\n",
    "print('MAE score: {}'.format(mae_13_SV))\n",
    "rmse_13_SV = np.sqrt(mean_squared_error(y_13_test, y_pred_13_SV))\n",
    "print('RMSE score: {}'.format(rmse_13_SV))\n",
    "print('\\n')"
   ]
  },
  {
   "cell_type": "markdown",
   "metadata": {},
   "source": [
    "### Cross Validation"
   ]
  },
  {
   "cell_type": "code",
   "execution_count": 33,
   "metadata": {},
   "outputs": [
    {
     "name": "stdout",
     "output_type": "stream",
     "text": [
      "Checking Cross Validation\n",
      "\n",
      "\n",
      "Linear Regression\n",
      "R^2 score: 26.93 %\n",
      "Standard Deviation (+/-): 4.31 %\n",
      "\n",
      "\n",
      "Decision Tree\n",
      "R^2 score: 3.68 %\n",
      "Standard Deviation (+/-): 11.19 %\n",
      "\n",
      "\n",
      "Random Forest\n",
      "R^2 score: 9.12 %\n",
      "Standard Deviation (+/-): 9.60 %\n",
      "\n",
      "\n",
      "Support Vector Machine\n",
      "R^2 score: 26.27 %\n",
      "Standard Deviation (+/-): 4.93 %\n"
     ]
    }
   ],
   "source": [
    "from sklearn.model_selection import cross_val_score\n",
    "y_13_train = np.ravel(y_13_train)\n",
    "\n",
    "r213_LR = cross_val_score(estimator=regressor_X13_LR, X = X_13_train, y=y_13_train, cv = 10, scoring='r2')\n",
    "r213_DT = cross_val_score(estimator=regressor_X13_DT, X = X_13_train, y=y_13_train, cv = 10, scoring='r2')\n",
    "r213_RF = cross_val_score(estimator=regressor_X13_RF, X = X_13_train, y=y_13_train, cv = 10, scoring='r2')\n",
    "r213_SV = cross_val_score(estimator=regressor_X13_SV, X = X_13_train_s, y=y_13_train_s, cv = 10, scoring='r2')\n",
    "\n",
    "r213_SV\n",
    "\n",
    "print('Checking Cross Validation')\n",
    "print('\\n')\n",
    "print('Linear Regression')\n",
    "print(\"R^2 score: {:.2f} %\".format(r213_LR.mean()*100))\n",
    "print(\"Standard Deviation (+/-): {:.2f} %\".format(r213_LR.std()*2*100))\n",
    "print('\\n')\n",
    "print('Decision Tree')\n",
    "print(\"R^2 score: {:.2f} %\".format(r213_DT.mean()*100))\n",
    "print(\"Standard Deviation (+/-): {:.2f} %\".format(r213_DT.std()*2*100))\n",
    "print('\\n')\n",
    "print('Random Forest')\n",
    "print(\"R^2 score: {:.2f} %\".format(r213_RF.mean()*100))\n",
    "print(\"Standard Deviation (+/-): {:.2f} %\".format(r213_RF.std()*2*100))\n",
    "print('\\n')\n",
    "print('Support Vector Machine')\n",
    "print(\"R^2 score: {:.2f} %\".format(r213_SV.mean()*100))\n",
    "print(\"Standard Deviation (+/-): {:.2f} %\".format(r213_SV.std()*2*100))\n",
    "\n"
   ]
  },
  {
   "cell_type": "markdown",
   "metadata": {},
   "source": [
    "## RH vs PE"
   ]
  },
  {
   "cell_type": "code",
   "execution_count": 34,
   "metadata": {},
   "outputs": [],
   "source": [
    "X_14 = dataset['RH'].values\n",
    "y_14 = dataset['PE'].values\n",
    "\n",
    "X_14 = X_14.reshape(len(X_14), 1)"
   ]
  },
  {
   "cell_type": "markdown",
   "metadata": {},
   "source": [
    "### Splitting the dataset into training and test set"
   ]
  },
  {
   "cell_type": "code",
   "execution_count": 35,
   "metadata": {},
   "outputs": [],
   "source": [
    "from sklearn.model_selection import train_test_split\n",
    "X_14_train, X_14_test, y_14_train, y_14_test = train_test_split(X_14, y_14,\n",
    "                                                               test_size=0.2,\n",
    "                                                               random_state=0)"
   ]
  },
  {
   "cell_type": "markdown",
   "metadata": {},
   "source": [
    "### Building the models"
   ]
  },
  {
   "cell_type": "code",
   "execution_count": 36,
   "metadata": {},
   "outputs": [
    {
     "data": {
      "text/plain": [
       "SVR()"
      ]
     },
     "execution_count": 36,
     "metadata": {},
     "output_type": "execute_result"
    }
   ],
   "source": [
    "# Linear Regression\n",
    "\n",
    "from sklearn.linear_model import LinearRegression\n",
    "regressor_X14_LR = LinearRegression()\n",
    "regressor_X14_LR.fit(X_14_train, y_14_train)\n",
    "\n",
    "# Decision Tree\n",
    "\n",
    "from sklearn.tree import DecisionTreeRegressor\n",
    "regressor_X14_DT = DecisionTreeRegressor(random_state = 0)\n",
    "regressor_X14_DT.fit(X_14_train, y_14_train)\n",
    "\n",
    "# Random Forest\n",
    "\n",
    "from sklearn.ensemble import RandomForestRegressor\n",
    "regressor_X14_RF = RandomForestRegressor(n_estimators = 10, random_state = 0)\n",
    "regressor_X14_RF.fit(X_14_train, y_14_train)\n",
    "\n",
    "# Support Vector Machine\n",
    "y_14_train = y_14_train.reshape(len(y_14_train), 1)\n",
    "y_14_test = y_14_test.reshape(len(y_14_test), 1)\n",
    "\n",
    "from sklearn.preprocessing import StandardScaler\n",
    "sc_X14 = StandardScaler()\n",
    "sc_y14 = StandardScaler()\n",
    "X_14_train_s = sc_X14.fit_transform(X_14_train)\n",
    "#X_11_test_s = sc_X11.fit(X_11_test)\n",
    "y_14_train_s = sc_y14.fit_transform(y_14_train)\n",
    "#y_11_test_s = sc_X11.fit(y_11_test)\n",
    "\n",
    "from sklearn.svm import SVR\n",
    "regressor_X14_SV = SVR(kernel = 'rbf')\n",
    "y_14_train_s = np.ravel(y_14_train_s)\n",
    "regressor_X14_SV.fit(X_14_train_s, y_14_train_s)\n"
   ]
  },
  {
   "cell_type": "markdown",
   "metadata": {},
   "source": [
    "### Predicting new results"
   ]
  },
  {
   "cell_type": "code",
   "execution_count": 37,
   "metadata": {},
   "outputs": [],
   "source": [
    "y_pred_14_LR = regressor_X14_LR.predict(X_14_test) # Linear Regression\n",
    "#y_pred_11_PR = regressor_X11_PR.predict(X_11_test) # Polynomial Regression\n",
    "y_pred_14_DT = regressor_X14_DT.predict(X_14_test) # Decision Tree\n",
    "y_pred_14_RF = regressor_X14_RF.predict(X_14_test) # Random Forest\n",
    "y_pred_14_SV = sc_y14.inverse_transform(regressor_X14_SV.predict(sc_X14.transform(X_14_test))) # Support Vector Machine\n"
   ]
  },
  {
   "cell_type": "markdown",
   "metadata": {},
   "source": [
    "### Metrics score"
   ]
  },
  {
   "cell_type": "code",
   "execution_count": 47,
   "metadata": {},
   "outputs": [
    {
     "name": "stdout",
     "output_type": "stream",
     "text": [
      "Metrics results\n",
      "\n",
      "\n",
      "Linear Regression\n",
      "R2 score: 0.15762597784830434\n",
      "MAE score: 13.197694425300151\n",
      "RMSE score: 15.696628759786787\n",
      "\n",
      "\n",
      "Decision Tree\n",
      "R2 score: -0.3892890687194821\n",
      "MAE score: 16.059099666372994\n",
      "RMSE score: 20.15812869779458\n",
      "\n",
      "\n",
      "Random Forest\n",
      "R2 score: -0.193566109545402\n",
      "MAE score: 15.021794621799827\n",
      "RMSE score: 18.684313418210106\n",
      "\n",
      "\n",
      "Support Vector Machine\n",
      "R2 score: 0.1467779488942439\n",
      "MAE score: 12.887743114581912\n",
      "RMSE score: 15.797375444383341\n",
      "\n",
      "\n"
     ]
    }
   ],
   "source": [
    "from sklearn.metrics import r2_score, mean_absolute_error, mean_squared_error\n",
    "print('Metrics results')\n",
    "print('\\n')\n",
    "\n",
    "print('Linear Regression')\n",
    "r2_14_LR = r2_score(y_14_test, y_pred_14_LR)\n",
    "print('R2 score: {}'.format(r2_14_LR))\n",
    "mae_14_LR = mean_absolute_error(y_14_test, y_pred_14_LR)\n",
    "print('MAE score: {}'.format(mae_14_LR))\n",
    "rmse_14_LR = np.sqrt(mean_squared_error(y_14_test, y_pred_14_LR))\n",
    "print('RMSE score: {}'.format(rmse_14_LR))\n",
    "print('\\n')\n",
    "\n",
    "print('Decision Tree')\n",
    "r2_14_DT = r2_score(y_14_test, y_pred_14_DT)\n",
    "print('R2 score: {}'.format(r2_14_DT))\n",
    "mae_14_DT = mean_absolute_error(y_14_test, y_pred_14_DT)\n",
    "print('MAE score: {}'.format(mae_14_DT))\n",
    "rmse_14_DT = np.sqrt(mean_squared_error(y_14_test, y_pred_14_DT))\n",
    "print('RMSE score: {}'.format(rmse_14_DT))\n",
    "print('\\n')\n",
    "\n",
    "print('Random Forest')\n",
    "r2_14_RF = r2_score(y_14_test, y_pred_14_RF)\n",
    "print('R2 score: {}'.format(r2_14_RF))\n",
    "mae_14_RF = mean_absolute_error(y_14_test, y_pred_14_RF)\n",
    "print('MAE score: {}'.format(mae_14_RF))\n",
    "rmse_14_RF = np.sqrt(mean_squared_error(y_14_test, y_pred_14_RF))\n",
    "print('RMSE score: {}'.format(rmse_14_RF))\n",
    "print('\\n')\n",
    "\n",
    "print('Support Vector Machine')\n",
    "r2_14_SV = r2_score(y_14_test, y_pred_14_SV)\n",
    "print('R2 score: {}'.format(r2_14_SV))\n",
    "mae_14_SV = mean_absolute_error(y_14_test, y_pred_14_SV)\n",
    "print('MAE score: {}'.format(mae_14_SV))\n",
    "rmse_14_SV = np.sqrt(mean_squared_error(y_14_test, y_pred_14_SV))\n",
    "print('RMSE score: {}'.format(rmse_14_SV))\n",
    "print('\\n')"
   ]
  },
  {
   "cell_type": "markdown",
   "metadata": {},
   "source": [
    "### Cross Validation"
   ]
  },
  {
   "cell_type": "code",
   "execution_count": 39,
   "metadata": {},
   "outputs": [
    {
     "name": "stdout",
     "output_type": "stream",
     "text": [
      "Checking Cross Validation\n",
      "\n",
      "\n",
      "Linear Regression\n",
      "R^2 score: 14.91 %\n",
      "Standard Deviation (+/-): 3.33 %\n",
      "\n",
      "\n",
      "Decision Tree\n",
      "R^2 score: -40.95 %\n",
      "Standard Deviation (+/-): 8.40 %\n",
      "\n",
      "\n",
      "Random Forest\n",
      "R^2 score: -19.80 %\n",
      "Standard Deviation (+/-): 6.76 %\n",
      "\n",
      "\n",
      "Support Vector Machine\n",
      "R^2 score: 13.10 %\n",
      "Standard Deviation (+/-): 5.05 %\n"
     ]
    }
   ],
   "source": [
    "from sklearn.model_selection import cross_val_score\n",
    "\n",
    "y_14_train = np.ravel(y_14_train)\n",
    "\n",
    "r214_LR = cross_val_score(estimator=regressor_X14_LR, X = X_14_train, y=y_14_train, cv = 10, scoring='r2')\n",
    "r214_DT = cross_val_score(estimator=regressor_X14_DT, X = X_14_train, y=y_14_train, cv = 10, scoring='r2')\n",
    "r214_RF = cross_val_score(estimator=regressor_X14_RF, X = X_14_train, y=y_14_train, cv = 10, scoring='r2')\n",
    "r214_SV = cross_val_score(estimator=regressor_X14_SV, X = X_14_train_s, y=y_14_train_s, cv = 10, scoring='r2')\n",
    "\n",
    "print('Checking Cross Validation')\n",
    "print('\\n')\n",
    "print('Linear Regression')\n",
    "print(\"R^2 score: {:.2f} %\".format(r214_LR.mean()*100))\n",
    "print(\"Standard Deviation (+/-): {:.2f} %\".format(r214_LR.std()*2*100))\n",
    "print('\\n')\n",
    "print('Decision Tree')\n",
    "print(\"R^2 score: {:.2f} %\".format(r214_DT.mean()*100))\n",
    "print(\"Standard Deviation (+/-): {:.2f} %\".format(r214_DT.std()*2*100))\n",
    "print('\\n')\n",
    "print('Random Forest')\n",
    "print(\"R^2 score: {:.2f} %\".format(r214_RF.mean()*100))\n",
    "print(\"Standard Deviation (+/-): {:.2f} %\".format(r214_RF.std()*2*100))\n",
    "print('\\n')\n",
    "print('Support Vector Machine')\n",
    "print(\"R^2 score: {:.2f} %\".format(r214_SV.mean()*100))\n",
    "print(\"Standard Deviation (+/-): {:.2f} %\".format(r214_SV.std()*2*100))"
   ]
  },
  {
   "cell_type": "markdown",
   "metadata": {},
   "source": [
    "## Two independent variables"
   ]
  },
  {
   "cell_type": "markdown",
   "metadata": {},
   "source": [
    "## AP-V vs PE"
   ]
  },
  {
   "cell_type": "code",
   "execution_count": 49,
   "metadata": {},
   "outputs": [],
   "source": [
    "X_21 = dataset.iloc[:, 1:3].values\n",
    "y_21 = dataset['PE'].values"
   ]
  },
  {
   "cell_type": "markdown",
   "metadata": {},
   "source": [
    "### Splitting the dataset into training and test set"
   ]
  },
  {
   "cell_type": "code",
   "execution_count": 51,
   "metadata": {},
   "outputs": [],
   "source": [
    "from sklearn.model_selection import train_test_split\n",
    "X_21_train, X_21_test, y_21_train, y_21_test = train_test_split(X_21, y_21,\n",
    "                                                               test_size=0.2,\n",
    "                                                               random_state=0)\n"
   ]
  },
  {
   "cell_type": "markdown",
   "metadata": {},
   "source": [
    "### Building the models"
   ]
  },
  {
   "cell_type": "code",
   "execution_count": 52,
   "metadata": {},
   "outputs": [
    {
     "data": {
      "text/plain": [
       "SVR()"
      ]
     },
     "execution_count": 52,
     "metadata": {},
     "output_type": "execute_result"
    }
   ],
   "source": [
    "# Linear Regression\n",
    "\n",
    "from sklearn.linear_model import LinearRegression\n",
    "regressor_X21_LR = LinearRegression()\n",
    "regressor_X21_LR.fit(X_21_train, y_21_train)\n",
    "\n",
    "# Decision Tree\n",
    "\n",
    "from sklearn.tree import DecisionTreeRegressor\n",
    "regressor_X21_DT = DecisionTreeRegressor(random_state = 0)\n",
    "regressor_X21_DT.fit(X_21_train, y_21_train)\n",
    "\n",
    "# Random Forest\n",
    "\n",
    "from sklearn.ensemble import RandomForestRegressor\n",
    "regressor_X21_RF = RandomForestRegressor(n_estimators = 10, random_state = 0)\n",
    "regressor_X21_RF.fit(X_21_train, y_21_train)\n",
    "\n",
    "# Support Vector Machine\n",
    "y_21_train = y_21_train.reshape(len(y_11_train), 1)\n",
    "y_21_test = y_21_test.reshape(len(y_21_test), 1)\n",
    "\n",
    "from sklearn.preprocessing import StandardScaler\n",
    "sc_X21 = StandardScaler()\n",
    "sc_y21 = StandardScaler()\n",
    "X_21_train_s = sc_X21.fit_transform(X_21_train)\n",
    "#X_11_test_s = sc_X11.fit(X_11_test)\n",
    "y_21_train_s = sc_y21.fit_transform(y_21_train)\n",
    "#y_11_test_s = sc_X11.fit(y_11_test)\n",
    "\n",
    "from sklearn.svm import SVR\n",
    "regressor_X21_SV = SVR(kernel = 'rbf')\n",
    "y_21_train_s = np.ravel(y_21_train_s)\n",
    "regressor_X21_SV.fit(X_21_train_s, y_21_train_s)"
   ]
  },
  {
   "cell_type": "markdown",
   "metadata": {},
   "source": [
    "### Predicting new results"
   ]
  },
  {
   "cell_type": "code",
   "execution_count": 53,
   "metadata": {},
   "outputs": [],
   "source": [
    "y_pred_21_LR = regressor_X21_LR.predict(X_21_test) # Linear Regression\n",
    "#y_pred_11_PR = regressor_X11_PR.predict(X_11_test) # Polynomial Regression\n",
    "y_pred_21_DT = regressor_X21_DT.predict(X_21_test) # Decision Tree\n",
    "y_pred_21_RF = regressor_X21_RF.predict(X_21_test) # Random Forest\n",
    "y_pred_21_SV = sc_y21.inverse_transform(regressor_X21_SV.predict(sc_X21.transform(X_21_test))) # Support Vector Machine\n"
   ]
  },
  {
   "cell_type": "markdown",
   "metadata": {},
   "source": [
    "### Metrics Score"
   ]
  },
  {
   "cell_type": "code",
   "execution_count": 54,
   "metadata": {},
   "outputs": [
    {
     "name": "stdout",
     "output_type": "stream",
     "text": [
      "Metrics results\n",
      "\n",
      "\n",
      "Linear Regression\n",
      "R2 score: 0.7862427521506203\n",
      "MAE score: 6.139893225549995\n",
      "RMSE score: 7.907047157214021\n",
      "\n",
      "\n",
      "Decision Tree\n",
      "R2 score: 0.8780054323316999\n",
      "MAE score: 3.7212543663233326\n",
      "RMSE score: 5.9734351122571985\n",
      "\n",
      "\n",
      "Random Forest\n",
      "R2 score: 0.9224567788049027\n",
      "MAE score: 3.261590448201224\n",
      "RMSE score: 4.762399492402401\n",
      "\n",
      "\n",
      "Support Vector Machine\n",
      "R2 score: 0.8282208883926423\n",
      "MAE score: 5.421112749138458\n",
      "RMSE score: 7.088250880051735\n",
      "\n",
      "\n"
     ]
    }
   ],
   "source": [
    "from sklearn.metrics import r2_score, mean_absolute_error, mean_squared_error\n",
    "print('Metrics results')\n",
    "print('\\n')\n",
    "\n",
    "print('Linear Regression')\n",
    "r2_21_LR = r2_score(y_21_test, y_pred_21_LR)\n",
    "print('R2 score: {}'.format(r2_21_LR))\n",
    "mae_21_LR = mean_absolute_error(y_21_test, y_pred_21_LR)\n",
    "print('MAE score: {}'.format(mae_21_LR))\n",
    "rmse_21_LR = np.sqrt(mean_squared_error(y_21_test, y_pred_21_LR))\n",
    "print('RMSE score: {}'.format(rmse_21_LR))\n",
    "print('\\n')\n",
    "\n",
    "print('Decision Tree')\n",
    "r2_21_DT = r2_score(y_21_test, y_pred_21_DT)\n",
    "print('R2 score: {}'.format(r2_21_DT))\n",
    "mae_21_DT = mean_absolute_error(y_21_test, y_pred_21_DT)\n",
    "print('MAE score: {}'.format(mae_21_DT))\n",
    "rmse_21_DT = np.sqrt(mean_squared_error(y_21_test, y_pred_21_DT))\n",
    "print('RMSE score: {}'.format(rmse_21_DT))\n",
    "print('\\n')\n",
    "\n",
    "print('Random Forest')\n",
    "r2_21_RF = r2_score(y_21_test, y_pred_21_RF)\n",
    "print('R2 score: {}'.format(r2_21_RF))\n",
    "mae_21_RF = mean_absolute_error(y_21_test, y_pred_21_RF)\n",
    "print('MAE score: {}'.format(mae_21_RF))\n",
    "rmse_21_RF = np.sqrt(mean_squared_error(y_21_test, y_pred_21_RF))\n",
    "print('RMSE score: {}'.format(rmse_21_RF))\n",
    "print('\\n')\n",
    "\n",
    "print('Support Vector Machine')\n",
    "r2_21_SV = r2_score(y_21_test, y_pred_21_SV)\n",
    "print('R2 score: {}'.format(r2_21_SV))\n",
    "mae_21_SV = mean_absolute_error(y_21_test, y_pred_21_SV)\n",
    "print('MAE score: {}'.format(mae_21_SV))\n",
    "rmse_21_SV = np.sqrt(mean_squared_error(y_21_test, y_pred_21_SV))\n",
    "print('RMSE score: {}'.format(rmse_21_SV))\n",
    "print('\\n')"
   ]
  },
  {
   "cell_type": "markdown",
   "metadata": {},
   "source": [
    "## AT-AP vs PE"
   ]
  },
  {
   "cell_type": "code",
   "execution_count": 55,
   "metadata": {},
   "outputs": [],
   "source": [
    "X_22 = dataset.iloc[:, 0:3:2].values\n",
    "y_22 = dataset['PE'].values"
   ]
  },
  {
   "cell_type": "markdown",
   "metadata": {},
   "source": [
    "### Splitting the dataset into training and test set"
   ]
  },
  {
   "cell_type": "code",
   "execution_count": 57,
   "metadata": {},
   "outputs": [],
   "source": [
    "from sklearn.model_selection import train_test_split\n",
    "X_22_train, X_22_test, y_22_train, y_22_test = train_test_split(X_22, y_22,\n",
    "                                                               test_size=0.2,\n",
    "                                                               random_state=0)"
   ]
  },
  {
   "cell_type": "markdown",
   "metadata": {},
   "source": [
    "### Building the models"
   ]
  },
  {
   "cell_type": "code",
   "execution_count": 58,
   "metadata": {},
   "outputs": [
    {
     "data": {
      "text/plain": [
       "SVR()"
      ]
     },
     "execution_count": 58,
     "metadata": {},
     "output_type": "execute_result"
    }
   ],
   "source": [
    "# Linear Regression\n",
    "\n",
    "from sklearn.linear_model import LinearRegression\n",
    "regressor_X22_LR = LinearRegression()\n",
    "regressor_X22_LR.fit(X_22_train, y_22_train)\n",
    "\n",
    "# Decision Tree\n",
    "\n",
    "from sklearn.tree import DecisionTreeRegressor\n",
    "regressor_X22_DT = DecisionTreeRegressor(random_state = 0)\n",
    "regressor_X22_DT.fit(X_22_train, y_22_train)\n",
    "\n",
    "# Random Forest\n",
    "\n",
    "from sklearn.ensemble import RandomForestRegressor\n",
    "regressor_X22_RF = RandomForestRegressor(n_estimators = 10, random_state = 0)\n",
    "regressor_X22_RF.fit(X_22_train, y_22_train)\n",
    "\n",
    "# Support Vector Machine\n",
    "y_22_train = y_22_train.reshape(len(y_22_train), 1)\n",
    "y_22_test = y_22_test.reshape(len(y_22_test), 1)\n",
    "\n",
    "from sklearn.preprocessing import StandardScaler\n",
    "sc_X22 = StandardScaler()\n",
    "sc_y22 = StandardScaler()\n",
    "X_22_train_s = sc_X22.fit_transform(X_22_train)\n",
    "#X_11_test_s = sc_X11.fit(X_11_test)\n",
    "y_22_train_s = sc_y22.fit_transform(y_22_train)\n",
    "#y_11_test_s = sc_X11.fit(y_11_test)\n",
    "\n",
    "from sklearn.svm import SVR\n",
    "regressor_X22_SV = SVR(kernel = 'rbf')\n",
    "y_22_train_s = np.ravel(y_22_train_s)\n",
    "regressor_X22_SV.fit(X_22_train_s, y_22_train_s)"
   ]
  },
  {
   "cell_type": "markdown",
   "metadata": {},
   "source": [
    "### Predicting new results"
   ]
  },
  {
   "cell_type": "code",
   "execution_count": 59,
   "metadata": {},
   "outputs": [],
   "source": [
    "y_pred_22_LR = regressor_X22_LR.predict(X_22_test) # Linear Regression\n",
    "#y_pred_11_PR = regressor_X11_PR.predict(X_11_test) # Polynomial Regression\n",
    "y_pred_22_DT = regressor_X22_DT.predict(X_22_test) # Decision Tree\n",
    "y_pred_22_RF = regressor_X22_RF.predict(X_22_test) # Random Forest\n",
    "y_pred_22_SV = sc_y22.inverse_transform(regressor_X22_SV.predict(sc_X22.transform(X_22_test))) # Support Vector Machine"
   ]
  },
  {
   "cell_type": "markdown",
   "metadata": {},
   "source": [
    "### Metrics Score"
   ]
  },
  {
   "cell_type": "code",
   "execution_count": 60,
   "metadata": {},
   "outputs": [
    {
     "name": "stdout",
     "output_type": "stream",
     "text": [
      "Metrics results\n",
      "\n",
      "\n",
      "Linear Regression\n",
      "R2 score: 0.9067289581909649\n",
      "MAE score: 4.179259885858517\n",
      "RMSE score: 5.223087701137587\n",
      "\n",
      "\n",
      "Decision Tree\n",
      "R2 score: 0.8449293920005171\n",
      "MAE score: 5.115130616509927\n",
      "RMSE score: 6.734706117107379\n",
      "\n",
      "\n",
      "Random Forest\n",
      "R2 score: 0.9041793273924968\n",
      "MAE score: 4.095020707070706\n",
      "RMSE score: 5.293994817465236\n",
      "\n",
      "\n",
      "Support Vector Machine\n",
      "R2 score: 0.9227535056030998\n",
      "MAE score: 3.7170234806819753\n",
      "RMSE score: 4.753278862668847\n",
      "\n",
      "\n"
     ]
    }
   ],
   "source": [
    "from sklearn.metrics import r2_score, mean_absolute_error, mean_squared_error\n",
    "print('Metrics results')\n",
    "print('\\n')\n",
    "\n",
    "print('Linear Regression')\n",
    "r2_22_LR = r2_score(y_22_test, y_pred_22_LR)\n",
    "print('R2 score: {}'.format(r2_22_LR))\n",
    "mae_22_LR = mean_absolute_error(y_22_test, y_pred_22_LR)\n",
    "print('MAE score: {}'.format(mae_22_LR))\n",
    "rmse_22_LR = np.sqrt(mean_squared_error(y_22_test, y_pred_22_LR))\n",
    "print('RMSE score: {}'.format(rmse_22_LR))\n",
    "print('\\n')\n",
    "\n",
    "print('Decision Tree')\n",
    "r2_22_DT = r2_score(y_22_test, y_pred_22_DT)\n",
    "print('R2 score: {}'.format(r2_22_DT))\n",
    "mae_22_DT = mean_absolute_error(y_22_test, y_pred_22_DT)\n",
    "print('MAE score: {}'.format(mae_22_DT))\n",
    "rmse_22_DT = np.sqrt(mean_squared_error(y_22_test, y_pred_22_DT))\n",
    "print('RMSE score: {}'.format(rmse_22_DT))\n",
    "print('\\n')\n",
    "\n",
    "print('Random Forest')\n",
    "r2_22_RF = r2_score(y_22_test, y_pred_22_RF)\n",
    "print('R2 score: {}'.format(r2_22_RF))\n",
    "mae_22_RF = mean_absolute_error(y_22_test, y_pred_22_RF)\n",
    "print('MAE score: {}'.format(mae_22_RF))\n",
    "rmse_22_RF = np.sqrt(mean_squared_error(y_22_test, y_pred_22_RF))\n",
    "print('RMSE score: {}'.format(rmse_22_RF))\n",
    "print('\\n')\n",
    "\n",
    "print('Support Vector Machine')\n",
    "r2_22_SV = r2_score(y_22_test, y_pred_22_SV)\n",
    "print('R2 score: {}'.format(r2_22_SV))\n",
    "mae_22_SV = mean_absolute_error(y_22_test, y_pred_22_SV)\n",
    "print('MAE score: {}'.format(mae_22_SV))\n",
    "rmse_22_SV = np.sqrt(mean_squared_error(y_22_test, y_pred_22_SV))\n",
    "print('RMSE score: {}'.format(rmse_22_SV))\n",
    "print('\\n')"
   ]
  },
  {
   "cell_type": "markdown",
   "metadata": {},
   "source": [
    "### Cross Validation"
   ]
  },
  {
   "cell_type": "code",
   "execution_count": 61,
   "metadata": {},
   "outputs": [
    {
     "name": "stdout",
     "output_type": "stream",
     "text": [
      "Checking Cross Validation\n",
      "\n",
      "\n",
      "Linear Regression\n",
      "R^2 score: 89.89 %\n",
      "Standard Deviation (+/-): 1.21 %\n",
      "\n",
      "\n",
      "Decision Tree\n",
      "R^2 score: 84.01 %\n",
      "Standard Deviation (+/-): 2.54 %\n",
      "\n",
      "\n",
      "Random Forest\n",
      "R^2 score: 90.07 %\n",
      "Standard Deviation (+/-): 1.54 %\n",
      "\n",
      "\n",
      "Support Vector Machine\n",
      "R^2 score: 91.77 %\n",
      "Standard Deviation (+/-): 1.41 %\n"
     ]
    }
   ],
   "source": [
    "from sklearn.model_selection import cross_val_score\n",
    "\n",
    "y_22_train = np.ravel(y_22_train)\n",
    "\n",
    "r222_LR = cross_val_score(estimator=regressor_X22_LR, X = X_22_train, y=y_22_train, cv = 10, scoring='r2')\n",
    "r222_DT = cross_val_score(estimator=regressor_X22_DT, X = X_22_train, y=y_22_train, cv = 10, scoring='r2')\n",
    "r222_RF = cross_val_score(estimator=regressor_X22_RF, X = X_22_train, y=y_22_train, cv = 10, scoring='r2')\n",
    "r222_SV = cross_val_score(estimator=regressor_X22_SV, X = X_22_train_s, y=y_22_train_s, cv = 10, scoring='r2')\n",
    "\n",
    "r222_SV\n",
    "\n",
    "print('Checking Cross Validation')\n",
    "print('\\n')\n",
    "print('Linear Regression')\n",
    "print(\"R^2 score: {:.2f} %\".format(r222_LR.mean()*100))\n",
    "print(\"Standard Deviation (+/-): {:.2f} %\".format(r222_LR.std()*2*100))\n",
    "print('\\n')\n",
    "print('Decision Tree')\n",
    "print(\"R^2 score: {:.2f} %\".format(r222_DT.mean()*100))\n",
    "print(\"Standard Deviation (+/-): {:.2f} %\".format(r222_DT.std()*2*100))\n",
    "print('\\n')\n",
    "print('Random Forest')\n",
    "print(\"R^2 score: {:.2f} %\".format(r222_RF.mean()*100))\n",
    "print(\"Standard Deviation (+/-): {:.2f} %\".format(r222_RF.std()*2*100))\n",
    "print('\\n')\n",
    "print('Support Vector Machine')\n",
    "print(\"R^2 score: {:.2f} %\".format(r222_SV.mean()*100))\n",
    "print(\"Standard Deviation (+/-): {:.2f} %\".format(r222_SV.std()*2*100))"
   ]
  },
  {
   "cell_type": "markdown",
   "metadata": {},
   "source": [
    "## AT-RH vs PE"
   ]
  },
  {
   "cell_type": "code",
   "execution_count": 62,
   "metadata": {},
   "outputs": [],
   "source": [
    "X_23 = dataset.iloc[:, 0:4:3].values\n",
    "y_23 = dataset['PE'].values"
   ]
  },
  {
   "cell_type": "code",
   "execution_count": 63,
   "metadata": {},
   "outputs": [
    {
     "data": {
      "text/plain": [
       "array([[14.96, 73.17],\n",
       "       [25.18, 59.08],\n",
       "       [ 5.11, 92.14],\n",
       "       ...,\n",
       "       [31.32, 36.48],\n",
       "       [24.48, 62.39],\n",
       "       [21.6 , 67.87]])"
      ]
     },
     "execution_count": 63,
     "metadata": {},
     "output_type": "execute_result"
    }
   ],
   "source": [
    "X_23"
   ]
  },
  {
   "cell_type": "markdown",
   "metadata": {},
   "source": [
    "### Splitting the dataset into training and test set"
   ]
  },
  {
   "cell_type": "code",
   "execution_count": 64,
   "metadata": {},
   "outputs": [],
   "source": [
    "from sklearn.model_selection import train_test_split\n",
    "X_23_train, X_23_test, y_23_train, y_23_test = train_test_split(X_23, y_23,\n",
    "                                                               test_size=0.2,\n",
    "                                                               random_state=0)"
   ]
  },
  {
   "cell_type": "markdown",
   "metadata": {},
   "source": [
    "### Building the models"
   ]
  },
  {
   "cell_type": "code",
   "execution_count": 65,
   "metadata": {},
   "outputs": [
    {
     "data": {
      "text/plain": [
       "SVR()"
      ]
     },
     "execution_count": 65,
     "metadata": {},
     "output_type": "execute_result"
    }
   ],
   "source": [
    "# Linear Regression\n",
    "\n",
    "from sklearn.linear_model import LinearRegression\n",
    "regressor_X23_LR = LinearRegression()\n",
    "regressor_X23_LR.fit(X_23_train, y_23_train)\n",
    "\n",
    "# Decision Tree\n",
    "\n",
    "from sklearn.tree import DecisionTreeRegressor\n",
    "regressor_X23_DT = DecisionTreeRegressor(random_state = 0)\n",
    "regressor_X23_DT.fit(X_23_train, y_23_train)\n",
    "\n",
    "# Random Forest\n",
    "\n",
    "from sklearn.ensemble import RandomForestRegressor\n",
    "regressor_X23_RF = RandomForestRegressor(n_estimators = 10, random_state = 0)\n",
    "regressor_X23_RF.fit(X_23_train, y_23_train)\n",
    "\n",
    "# Support Vector Machine\n",
    "y_23_train = y_23_train.reshape(len(y_23_train), 1)\n",
    "y_23_test = y_23_test.reshape(len(y_23_test), 1)\n",
    "\n",
    "from sklearn.preprocessing import StandardScaler\n",
    "sc_X23 = StandardScaler()\n",
    "sc_y23 = StandardScaler()\n",
    "X_23_train_s = sc_X23.fit_transform(X_23_train)\n",
    "#X_11_test_s = sc_X11.fit(X_11_test)\n",
    "y_23_train_s = sc_y23.fit_transform(y_23_train)\n",
    "#y_11_test_s = sc_X11.fit(y_11_test)\n",
    "\n",
    "from sklearn.svm import SVR\n",
    "regressor_X23_SV = SVR(kernel = 'rbf')\n",
    "y_23_train_s = np.ravel(y_23_train_s)\n",
    "regressor_X23_SV.fit(X_23_train_s, y_23_train_s)"
   ]
  },
  {
   "cell_type": "markdown",
   "metadata": {},
   "source": [
    "### Predicting new results"
   ]
  },
  {
   "cell_type": "code",
   "execution_count": 66,
   "metadata": {},
   "outputs": [],
   "source": [
    "y_pred_23_LR = regressor_X23_LR.predict(X_23_test) # Linear Regression\n",
    "#y_pred_11_PR = regressor_X11_PR.predict(X_11_test) # Polynomial Regression\n",
    "y_pred_23_DT = regressor_X23_DT.predict(X_23_test) # Decision Tree\n",
    "y_pred_23_RF = regressor_X23_RF.predict(X_23_test) # Random Forest\n",
    "y_pred_23_SV = sc_y23.inverse_transform(regressor_X23_SV.predict(sc_X23.transform(X_23_test))) # Support Vector Machine"
   ]
  },
  {
   "cell_type": "markdown",
   "metadata": {},
   "source": [
    "### Metrics Score"
   ]
  },
  {
   "cell_type": "code",
   "execution_count": 67,
   "metadata": {},
   "outputs": [
    {
     "name": "stdout",
     "output_type": "stream",
     "text": [
      "Metrics results\n",
      "\n",
      "\n",
      "Linear Regression\n",
      "R2 score: 0.9256241616264436\n",
      "MAE score: 3.7263371426248164\n",
      "RMSE score: 4.664121351289523\n",
      "\n",
      "\n",
      "Decision Tree\n",
      "R2 score: 0.867838368612314\n",
      "MAE score: 4.784056948798327\n",
      "RMSE score: 6.217368374243633\n",
      "\n",
      "\n",
      "Random Forest\n",
      "R2 score: 0.9196712378636139\n",
      "MAE score: 3.784539794496693\n",
      "RMSE score: 4.847183281644651\n",
      "\n",
      "\n",
      "Support Vector Machine\n",
      "R2 score: 0.9342557481308339\n",
      "MAE score: 3.431187047787499\n",
      "RMSE score: 4.385133284853987\n",
      "\n",
      "\n"
     ]
    }
   ],
   "source": [
    "from sklearn.metrics import r2_score, mean_absolute_error, mean_squared_error\n",
    "print('Metrics results')\n",
    "print('\\n')\n",
    "\n",
    "print('Linear Regression')\n",
    "r2_23_LR = r2_score(y_23_test, y_pred_23_LR)\n",
    "print('R2 score: {}'.format(r2_23_LR))\n",
    "mae_23_LR = mean_absolute_error(y_23_test, y_pred_23_LR)\n",
    "print('MAE score: {}'.format(mae_23_LR))\n",
    "rmse_23_LR = np.sqrt(mean_squared_error(y_23_test, y_pred_23_LR))\n",
    "print('RMSE score: {}'.format(rmse_23_LR))\n",
    "print('\\n')\n",
    "\n",
    "print('Decision Tree')\n",
    "r2_23_DT = r2_score(y_23_test, y_pred_23_DT)\n",
    "print('R2 score: {}'.format(r2_23_DT))\n",
    "mae_23_DT = mean_absolute_error(y_23_test, y_pred_23_DT)\n",
    "print('MAE score: {}'.format(mae_23_DT))\n",
    "rmse_23_DT = np.sqrt(mean_squared_error(y_23_test, y_pred_23_DT))\n",
    "print('RMSE score: {}'.format(rmse_23_DT))\n",
    "print('\\n')\n",
    "\n",
    "print('Random Forest')\n",
    "r2_23_RF = r2_score(y_23_test, y_pred_23_RF)\n",
    "print('R2 score: {}'.format(r2_23_RF))\n",
    "mae_23_RF = mean_absolute_error(y_23_test, y_pred_23_RF)\n",
    "print('MAE score: {}'.format(mae_23_RF))\n",
    "rmse_23_RF = np.sqrt(mean_squared_error(y_23_test, y_pred_23_RF))\n",
    "print('RMSE score: {}'.format(rmse_23_RF))\n",
    "print('\\n')\n",
    "\n",
    "print('Support Vector Machine')\n",
    "r2_23_SV = r2_score(y_23_test, y_pred_23_SV)\n",
    "print('R2 score: {}'.format(r2_23_SV))\n",
    "mae_23_SV = mean_absolute_error(y_23_test, y_pred_23_SV)\n",
    "print('MAE score: {}'.format(mae_23_SV))\n",
    "rmse_23_SV = np.sqrt(mean_squared_error(y_23_test, y_pred_23_SV))\n",
    "print('RMSE score: {}'.format(rmse_23_SV))\n",
    "print('\\n')"
   ]
  },
  {
   "cell_type": "markdown",
   "metadata": {},
   "source": [
    "### Cross Validation"
   ]
  },
  {
   "cell_type": "code",
   "execution_count": 68,
   "metadata": {},
   "outputs": [
    {
     "name": "stdout",
     "output_type": "stream",
     "text": [
      "Checking Cross Validation\n",
      "\n",
      "\n",
      "Linear Regression\n",
      "R^2 score: 91.95 %\n",
      "Standard Deviation (+/-): 1.06 %\n",
      "\n",
      "\n",
      "Decision Tree\n",
      "R^2 score: 86.08 %\n",
      "Standard Deviation (+/-): 1.85 %\n",
      "\n",
      "\n",
      "Random Forest\n",
      "R^2 score: 91.19 %\n",
      "Standard Deviation (+/-): 1.33 %\n",
      "\n",
      "\n",
      "Support Vector Machine\n",
      "R^2 score: 92.87 %\n",
      "Standard Deviation (+/-): 1.16 %\n"
     ]
    }
   ],
   "source": [
    "from sklearn.model_selection import cross_val_score\n",
    "\n",
    "y_23_train = np.ravel(y_23_train)\n",
    "\n",
    "r232_LR = cross_val_score(estimator=regressor_X23_LR, X = X_23_train, y=y_23_train, cv = 10, scoring='r2')\n",
    "r232_DT = cross_val_score(estimator=regressor_X23_DT, X = X_23_train, y=y_23_train, cv = 10, scoring='r2')\n",
    "r232_RF = cross_val_score(estimator=regressor_X23_RF, X = X_23_train, y=y_23_train, cv = 10, scoring='r2')\n",
    "r232_SV = cross_val_score(estimator=regressor_X23_SV, X = X_23_train_s, y=y_23_train_s, cv = 10, scoring='r2')\n",
    "\n",
    "r232_SV\n",
    "\n",
    "print('Checking Cross Validation')\n",
    "print('\\n')\n",
    "print('Linear Regression')\n",
    "print(\"R^2 score: {:.2f} %\".format(r232_LR.mean()*100))\n",
    "print(\"Standard Deviation (+/-): {:.2f} %\".format(r232_LR.std()*2*100))\n",
    "print('\\n')\n",
    "print('Decision Tree')\n",
    "print(\"R^2 score: {:.2f} %\".format(r232_DT.mean()*100))\n",
    "print(\"Standard Deviation (+/-): {:.2f} %\".format(r232_DT.std()*2*100))\n",
    "print('\\n')\n",
    "print('Random Forest')\n",
    "print(\"R^2 score: {:.2f} %\".format(r232_RF.mean()*100))\n",
    "print(\"Standard Deviation (+/-): {:.2f} %\".format(r232_RF.std()*2*100))\n",
    "print('\\n')\n",
    "print('Support Vector Machine')\n",
    "print(\"R^2 score: {:.2f} %\".format(r232_SV.mean()*100))\n",
    "print(\"Standard Deviation (+/-): {:.2f} %\".format(r232_SV.std()*2*100))"
   ]
  },
  {
   "cell_type": "markdown",
   "metadata": {},
   "source": [
    "## V-AP vs PE"
   ]
  },
  {
   "cell_type": "code",
   "execution_count": 70,
   "metadata": {},
   "outputs": [],
   "source": [
    " = dataset.iloc[:, 1:3].values\n",
    "y_24 = dataset['PE'].values"
   ]
  },
  {
   "cell_type": "markdown",
   "metadata": {},
   "source": [
    "### Splitting the dataset into training and test set"
   ]
  },
  {
   "cell_type": "code",
   "execution_count": 72,
   "metadata": {},
   "outputs": [],
   "source": [
    "from sklearn.model_selection import train_test_split\n",
    "X_24_train, X_24_test, y_24_train, y_24_test = train_test_split(X_24, y_24,\n",
    "                                                               test_size=0.2,\n",
    "                                                               random_state=0)"
   ]
  },
  {
   "cell_type": "markdown",
   "metadata": {},
   "source": [
    "### Building the models"
   ]
  },
  {
   "cell_type": "code",
   "execution_count": 73,
   "metadata": {},
   "outputs": [
    {
     "data": {
      "text/plain": [
       "SVR()"
      ]
     },
     "execution_count": 73,
     "metadata": {},
     "output_type": "execute_result"
    }
   ],
   "source": [
    "# Linear Regression\n",
    "\n",
    "from sklearn.linear_model import LinearRegression\n",
    "regressor_X24_LR = LinearRegression()\n",
    "regressor_X24_LR.fit(X_24_train, y_24_train)\n",
    "\n",
    "# Decision Tree\n",
    "\n",
    "from sklearn.tree import DecisionTreeRegressor\n",
    "regressor_X24_DT = DecisionTreeRegressor(random_state = 0)\n",
    "regressor_X24_DT.fit(X_24_train, y_24_train)\n",
    "\n",
    "# Random Forest\n",
    "\n",
    "from sklearn.ensemble import RandomForestRegressor\n",
    "regressor_X24_RF = RandomForestRegressor(n_estimators = 10, random_state = 0)\n",
    "regressor_X24_RF.fit(X_24_train, y_24_train)\n",
    "\n",
    "# Support Vector Machine\n",
    "y_24_train = y_24_train.reshape(len(y_24_train), 1)\n",
    "y_24_test = y_24_test.reshape(len(y_24_test), 1)\n",
    "\n",
    "from sklearn.preprocessing import StandardScaler\n",
    "sc_X24 = StandardScaler()\n",
    "sc_y24 = StandardScaler()\n",
    "X_24_train_s = sc_X24.fit_transform(X_24_train)\n",
    "#X_11_test_s = sc_X11.fit(X_11_test)\n",
    "y_24_train_s = sc_y24.fit_transform(y_24_train)\n",
    "#y_11_test_s = sc_X11.fit(y_11_test)\n",
    "\n",
    "from sklearn.svm import SVR\n",
    "regressor_X24_SV = SVR(kernel = 'rbf')\n",
    "y_24_train_s = np.ravel(y_24_train_s)\n",
    "regressor_X24_SV.fit(X_24_train_s, y_24_train_s)"
   ]
  },
  {
   "cell_type": "markdown",
   "metadata": {},
   "source": [
    "### Predicting new results"
   ]
  },
  {
   "cell_type": "code",
   "execution_count": 74,
   "metadata": {},
   "outputs": [],
   "source": [
    "y_pred_24_LR = regressor_X24_LR.predict(X_24_test) # Linear Regression\n",
    "#y_pred_11_PR = regressor_X11_PR.predict(X_11_test) # Polynomial Regression\n",
    "y_pred_24_DT = regressor_X24_DT.predict(X_24_test) # Decision Tree\n",
    "y_pred_24_RF = regressor_X24_RF.predict(X_24_test) # Random Forest\n",
    "y_pred_24_SV = sc_y24.inverse_transform(regressor_X24_SV.predict(sc_X24.transform(X_24_test))) # Support Vector Machine"
   ]
  },
  {
   "cell_type": "markdown",
   "metadata": {},
   "source": [
    "### Metrics Score"
   ]
  },
  {
   "cell_type": "code",
   "execution_count": 75,
   "metadata": {},
   "outputs": [
    {
     "name": "stdout",
     "output_type": "stream",
     "text": [
      "Metrics results\n",
      "\n",
      "\n",
      "Linear Regression\n",
      "R2 score: 0.7862427521506203\n",
      "MAE score: 6.139893225549995\n",
      "RMSE score: 7.907047157214021\n",
      "\n",
      "\n",
      "Decision Tree\n",
      "R2 score: 0.8780054323316999\n",
      "MAE score: 3.7212543663233326\n",
      "RMSE score: 5.9734351122571985\n",
      "\n",
      "\n",
      "Random Forest\n",
      "R2 score: 0.9224567788049027\n",
      "MAE score: 3.261590448201224\n",
      "RMSE score: 4.762399492402401\n",
      "\n",
      "\n",
      "Support Vector Machine\n",
      "R2 score: 0.8282208883926423\n",
      "MAE score: 5.421112749138458\n",
      "RMSE score: 7.088250880051735\n",
      "\n",
      "\n"
     ]
    }
   ],
   "source": [
    "from sklearn.metrics import r2_score, mean_absolute_error, mean_squared_error\n",
    "print('Metrics results')\n",
    "print('\\n')\n",
    "\n",
    "print('Linear Regression')\n",
    "r2_24_LR = r2_score(y_24_test, y_pred_24_LR)\n",
    "print('R2 score: {}'.format(r2_24_LR))\n",
    "mae_24_LR = mean_absolute_error(y_24_test, y_pred_24_LR)\n",
    "print('MAE score: {}'.format(mae_24_LR))\n",
    "rmse_24_LR = np.sqrt(mean_squared_error(y_24_test, y_pred_24_LR))\n",
    "print('RMSE score: {}'.format(rmse_24_LR))\n",
    "print('\\n')\n",
    "\n",
    "print('Decision Tree')\n",
    "r2_24_DT = r2_score(y_24_test, y_pred_24_DT)\n",
    "print('R2 score: {}'.format(r2_24_DT))\n",
    "mae_24_DT = mean_absolute_error(y_24_test, y_pred_24_DT)\n",
    "print('MAE score: {}'.format(mae_24_DT))\n",
    "rmse_24_DT = np.sqrt(mean_squared_error(y_24_test, y_pred_24_DT))\n",
    "print('RMSE score: {}'.format(rmse_24_DT))\n",
    "print('\\n')\n",
    "\n",
    "print('Random Forest')\n",
    "r2_24_RF = r2_score(y_24_test, y_pred_24_RF)\n",
    "print('R2 score: {}'.format(r2_24_RF))\n",
    "mae_24_RF = mean_absolute_error(y_24_test, y_pred_24_RF)\n",
    "print('MAE score: {}'.format(mae_24_RF))\n",
    "rmse_24_RF = np.sqrt(mean_squared_error(y_24_test, y_pred_24_RF))\n",
    "print('RMSE score: {}'.format(rmse_24_RF))\n",
    "print('\\n')\n",
    "\n",
    "print('Support Vector Machine')\n",
    "r2_24_SV = r2_score(y_24_test, y_pred_24_SV)\n",
    "print('R2 score: {}'.format(r2_24_SV))\n",
    "mae_24_SV = mean_absolute_error(y_24_test, y_pred_24_SV)\n",
    "print('MAE score: {}'.format(mae_24_SV))\n",
    "rmse_24_SV = np.sqrt(mean_squared_error(y_24_test, y_pred_24_SV))\n",
    "print('RMSE score: {}'.format(rmse_24_SV))\n",
    "print('\\n')"
   ]
  },
  {
   "cell_type": "markdown",
   "metadata": {},
   "source": [
    "### Cross Validation"
   ]
  },
  {
   "cell_type": "code",
   "execution_count": 76,
   "metadata": {},
   "outputs": [
    {
     "name": "stdout",
     "output_type": "stream",
     "text": [
      "Checking Cross Validation\n",
      "\n",
      "\n",
      "Linear Regression\n",
      "R^2 score: 78.67 %\n",
      "Standard Deviation (+/-): 1.72 %\n",
      "\n",
      "\n",
      "Decision Tree\n",
      "R^2 score: 89.22 %\n",
      "Standard Deviation (+/-): 2.18 %\n",
      "\n",
      "\n",
      "Random Forest\n",
      "R^2 score: 92.25 %\n",
      "Standard Deviation (+/-): 1.10 %\n",
      "\n",
      "\n",
      "Support Vector Machine\n",
      "R^2 score: 82.61 %\n",
      "Standard Deviation (+/-): 1.84 %\n"
     ]
    }
   ],
   "source": [
    "\n",
    "\n",
    "from sklearn.model_selection import cross_val_score\n",
    "\n",
    "y_24_train = np.ravel(y_24_train)\n",
    "\n",
    "r242_LR = cross_val_score(estimator=regressor_X24_LR, X = X_24_train, y=y_24_train, cv = 10, scoring='r2')\n",
    "r242_DT = cross_val_score(estimator=regressor_X24_DT, X = X_24_train, y=y_24_train, cv = 10, scoring='r2')\n",
    "r242_RF = cross_val_score(estimator=regressor_X24_RF, X = X_24_train, y=y_24_train, cv = 10, scoring='r2')\n",
    "r242_SV = cross_val_score(estimator=regressor_X24_SV, X = X_24_train_s, y=y_24_train_s, cv = 10, scoring='r2')\n",
    "\n",
    "r242_SV\n",
    "\n",
    "print('Checking Cross Validation')\n",
    "print('\\n')\n",
    "print('Linear Regression')\n",
    "print(\"R^2 score: {:.2f} %\".format(r242_LR.mean()*100))\n",
    "print(\"Standard Deviation (+/-): {:.2f} %\".format(r242_LR.std()*2*100))\n",
    "print('\\n')\n",
    "print('Decision Tree')\n",
    "print(\"R^2 score: {:.2f} %\".format(r242_DT.mean()*100))\n",
    "print(\"Standard Deviation (+/-): {:.2f} %\".format(r242_DT.std()*2*100))\n",
    "print('\\n')\n",
    "print('Random Forest')\n",
    "print(\"R^2 score: {:.2f} %\".format(r242_RF.mean()*100))\n",
    "print(\"Standard Deviation (+/-): {:.2f} %\".format(r242_RF.std()*2*100))\n",
    "print('\\n')\n",
    "print('Support Vector Machine')\n",
    "print(\"R^2 score: {:.2f} %\".format(r242_SV.mean()*100))\n",
    "print(\"Standard Deviation (+/-): {:.2f} %\".format(r242_SV.std()*2*100))"
   ]
  },
  {
   "cell_type": "markdown",
   "metadata": {},
   "source": [
    "## V-RH vs PE"
   ]
  },
  {
   "cell_type": "code",
   "execution_count": 78,
   "metadata": {},
   "outputs": [],
   "source": [
    "X_25 = dataset.iloc[:, 1:4:2].values\n",
    "y_25 = dataset['PE'].values"
   ]
  },
  {
   "cell_type": "markdown",
   "metadata": {},
   "source": [
    "### Splitting the dataset into training and test set"
   ]
  },
  {
   "cell_type": "code",
   "execution_count": 80,
   "metadata": {},
   "outputs": [],
   "source": [
    "from sklearn.model_selection import train_test_split\n",
    "X_25_train, X_25_test, y_25_train, y_25_test = train_test_split(X_25, y_25,\n",
    "                                                               test_size=0.2,\n",
    "                                                               random_state=0)"
   ]
  },
  {
   "cell_type": "markdown",
   "metadata": {},
   "source": [
    "### Building the models"
   ]
  },
  {
   "cell_type": "code",
   "execution_count": 81,
   "metadata": {},
   "outputs": [
    {
     "data": {
      "text/plain": [
       "SVR()"
      ]
     },
     "execution_count": 81,
     "metadata": {},
     "output_type": "execute_result"
    }
   ],
   "source": [
    "# Linear Regression\n",
    "\n",
    "from sklearn.linear_model import LinearRegression\n",
    "regressor_X25_LR = LinearRegression()\n",
    "regressor_X25_LR.fit(X_25_train, y_25_train)\n",
    "\n",
    "# Decision Tree\n",
    "\n",
    "from sklearn.tree import DecisionTreeRegressor\n",
    "regressor_X25_DT = DecisionTreeRegressor(random_state = 0)\n",
    "regressor_X25_DT.fit(X_25_train, y_25_train)\n",
    "\n",
    "# Random Forest\n",
    "\n",
    "from sklearn.ensemble import RandomForestRegressor\n",
    "regressor_X25_RF = RandomForestRegressor(n_estimators = 10, random_state = 0)\n",
    "regressor_X25_RF.fit(X_25_train, y_25_train)\n",
    "\n",
    "# Support Vector Machine\n",
    "y_25_train = y_25_train.reshape(len(y_25_train), 1)\n",
    "y_25_test = y_25_test.reshape(len(y_25_test), 1)\n",
    "\n",
    "from sklearn.preprocessing import StandardScaler\n",
    "sc_X25 = StandardScaler()\n",
    "sc_y25 = StandardScaler()\n",
    "X_25_train_s = sc_X25.fit_transform(X_25_train)\n",
    "#X_11_test_s = sc_X11.fit(X_11_test)\n",
    "y_25_train_s = sc_y25.fit_transform(y_25_train)\n",
    "#y_11_test_s = sc_X11.fit(y_11_test)\n",
    "\n",
    "from sklearn.svm import SVR\n",
    "regressor_X25_SV = SVR(kernel = 'rbf')\n",
    "y_25_train_s = np.ravel(y_25_train_s)\n",
    "regressor_X25_SV.fit(X_25_train_s, y_25_train_s)"
   ]
  },
  {
   "cell_type": "markdown",
   "metadata": {},
   "source": [
    "### Predicting new results"
   ]
  },
  {
   "cell_type": "code",
   "execution_count": 82,
   "metadata": {},
   "outputs": [],
   "source": [
    "y_pred_25_LR = regressor_X25_LR.predict(X_25_test) # Linear Regression\n",
    "#y_pred_11_PR = regressor_X11_PR.predict(X_11_test) # Polynomial Regression\n",
    "y_pred_25_DT = regressor_X25_DT.predict(X_25_test) # Decision Tree\n",
    "y_pred_25_RF = regressor_X25_RF.predict(X_25_test) # Random Forest\n",
    "y_pred_25_SV = sc_y25.inverse_transform(regressor_X25_SV.predict(sc_X25.transform(X_25_test))) # Support Vector Machine"
   ]
  },
  {
   "cell_type": "markdown",
   "metadata": {},
   "source": [
    "### Metrics Score"
   ]
  },
  {
   "cell_type": "code",
   "execution_count": 83,
   "metadata": {},
   "outputs": [
    {
     "name": "stdout",
     "output_type": "stream",
     "text": [
      "Metrics results\n",
      "\n",
      "\n",
      "Linear Regression\n",
      "R2 score: 0.7705492485043961\n",
      "MAE score: 6.432966035223965\n",
      "RMSE score: 8.192164162133157\n",
      "\n",
      "\n",
      "Decision Tree\n",
      "R2 score: 0.8720341088171031\n",
      "MAE score: 4.0665116684082205\n",
      "RMSE score: 6.117880885585787\n",
      "\n",
      "\n",
      "Random Forest\n",
      "R2 score: 0.9052019226188477\n",
      "MAE score: 3.689379858104858\n",
      "RMSE score: 5.265670371661938\n",
      "\n",
      "\n",
      "Support Vector Machine\n",
      "R2 score: 0.8107792008588428\n",
      "MAE score: 5.767790423970093\n",
      "RMSE score: 7.439407367043675\n",
      "\n",
      "\n"
     ]
    }
   ],
   "source": [
    "from sklearn.metrics import r2_score, mean_absolute_error, mean_squared_error\n",
    "print('Metrics results')\n",
    "print('\\n')\n",
    "\n",
    "print('Linear Regression')\n",
    "r2_25_LR = r2_score(y_25_test, y_pred_25_LR)\n",
    "print('R2 score: {}'.format(r2_25_LR))\n",
    "mae_25_LR = mean_absolute_error(y_25_test, y_pred_25_LR)\n",
    "print('MAE score: {}'.format(mae_25_LR))\n",
    "rmse_25_LR = np.sqrt(mean_squared_error(y_25_test, y_pred_25_LR))\n",
    "print('RMSE score: {}'.format(rmse_25_LR))\n",
    "print('\\n')\n",
    "\n",
    "print('Decision Tree')\n",
    "r2_25_DT = r2_score(y_25_test, y_pred_25_DT)\n",
    "print('R2 score: {}'.format(r2_25_DT))\n",
    "mae_25_DT = mean_absolute_error(y_25_test, y_pred_25_DT)\n",
    "print('MAE score: {}'.format(mae_25_DT))\n",
    "rmse_25_DT = np.sqrt(mean_squared_error(y_25_test, y_pred_25_DT))\n",
    "print('RMSE score: {}'.format(rmse_25_DT))\n",
    "print('\\n')\n",
    "\n",
    "print('Random Forest')\n",
    "r2_25_RF = r2_score(y_25_test, y_pred_25_RF)\n",
    "print('R2 score: {}'.format(r2_25_RF))\n",
    "mae_25_RF = mean_absolute_error(y_25_test, y_pred_25_RF)\n",
    "print('MAE score: {}'.format(mae_25_RF))\n",
    "rmse_25_RF = np.sqrt(mean_squared_error(y_25_test, y_pred_25_RF))\n",
    "print('RMSE score: {}'.format(rmse_25_RF))\n",
    "print('\\n')\n",
    "\n",
    "print('Support Vector Machine')\n",
    "r2_25_SV = r2_score(y_25_test, y_pred_25_SV)\n",
    "print('R2 score: {}'.format(r2_25_SV))\n",
    "mae_25_SV = mean_absolute_error(y_25_test, y_pred_25_SV)\n",
    "print('MAE score: {}'.format(mae_25_SV))\n",
    "rmse_25_SV = np.sqrt(mean_squared_error(y_25_test, y_pred_25_SV))\n",
    "print('RMSE score: {}'.format(rmse_25_SV))\n",
    "print('\\n')"
   ]
  },
  {
   "cell_type": "markdown",
   "metadata": {},
   "source": [
    "### Cross Validation"
   ]
  },
  {
   "cell_type": "code",
   "execution_count": 84,
   "metadata": {},
   "outputs": [
    {
     "name": "stdout",
     "output_type": "stream",
     "text": [
      "Checking Cross Validation\n",
      "\n",
      "\n",
      "Linear Regression\n",
      "R^2 score: 77.19 %\n",
      "Standard Deviation (+/-): 1.76 %\n",
      "\n",
      "\n",
      "Decision Tree\n",
      "R^2 score: 85.79 %\n",
      "Standard Deviation (+/-): 2.41 %\n",
      "\n",
      "\n",
      "Random Forest\n",
      "R^2 score: 90.56 %\n",
      "Standard Deviation (+/-): 1.56 %\n",
      "\n",
      "\n",
      "Support Vector Machine\n",
      "R^2 score: 80.75 %\n",
      "Standard Deviation (+/-): 2.12 %\n"
     ]
    }
   ],
   "source": [
    "from sklearn.model_selection import cross_val_score\n",
    "\n",
    "y_25_train = np.ravel(y_25_train)\n",
    "\n",
    "r252_LR = cross_val_score(estimator=regressor_X25_LR, X = X_25_train, y=y_25_train, cv = 10, scoring='r2')\n",
    "r252_DT = cross_val_score(estimator=regressor_X25_DT, X = X_25_train, y=y_25_train, cv = 10, scoring='r2')\n",
    "r252_RF = cross_val_score(estimator=regressor_X25_RF, X = X_25_train, y=y_25_train, cv = 10, scoring='r2')\n",
    "r252_SV = cross_val_score(estimator=regressor_X25_SV, X = X_25_train_s, y=y_25_train_s, cv = 10, scoring='r2')\n",
    "\n",
    "r252_SV\n",
    "\n",
    "print('Checking Cross Validation')\n",
    "print('\\n')\n",
    "print('Linear Regression')\n",
    "print(\"R^2 score: {:.2f} %\".format(r252_LR.mean()*100))\n",
    "print(\"Standard Deviation (+/-): {:.2f} %\".format(r252_LR.std()*2*100))\n",
    "print('\\n')\n",
    "print('Decision Tree')\n",
    "print(\"R^2 score: {:.2f} %\".format(r252_DT.mean()*100))\n",
    "print(\"Standard Deviation (+/-): {:.2f} %\".format(r252_DT.std()*2*100))\n",
    "print('\\n')\n",
    "print('Random Forest')\n",
    "print(\"R^2 score: {:.2f} %\".format(r252_RF.mean()*100))\n",
    "print(\"Standard Deviation (+/-): {:.2f} %\".format(r252_RF.std()*2*100))\n",
    "print('\\n')\n",
    "print('Support Vector Machine')\n",
    "print(\"R^2 score: {:.2f} %\".format(r252_SV.mean()*100))\n",
    "print(\"Standard Deviation (+/-): {:.2f} %\".format(r252_SV.std()*2*100))"
   ]
  },
  {
   "cell_type": "markdown",
   "metadata": {},
   "source": [
    "## AP-RH"
   ]
  },
  {
   "cell_type": "code",
   "execution_count": 86,
   "metadata": {},
   "outputs": [],
   "source": [
    "X_26 = dataset.iloc[:, 2:4].values\n",
    "y_26 = dataset['PE'].values"
   ]
  },
  {
   "cell_type": "markdown",
   "metadata": {},
   "source": [
    "### Splitting the dataset into training and test set\n"
   ]
  },
  {
   "cell_type": "code",
   "execution_count": 89,
   "metadata": {},
   "outputs": [],
   "source": [
    "from sklearn.model_selection import train_test_split\n",
    "X_26_train, X_26_test, y_26_train, y_26_test = train_test_split(X_26, y_26,\n",
    "                                                               test_size=0.2,\n",
    "                                                               random_state=0)"
   ]
  },
  {
   "cell_type": "markdown",
   "metadata": {},
   "source": [
    "### Building the models"
   ]
  },
  {
   "cell_type": "code",
   "execution_count": 90,
   "metadata": {},
   "outputs": [
    {
     "data": {
      "text/plain": [
       "SVR()"
      ]
     },
     "execution_count": 90,
     "metadata": {},
     "output_type": "execute_result"
    }
   ],
   "source": [
    "# Linear Regression\n",
    "\n",
    "from sklearn.linear_model import LinearRegression\n",
    "regressor_X26_LR = LinearRegression()\n",
    "regressor_X26_LR.fit(X_26_train, y_26_train)\n",
    "\n",
    "# Decision Tree\n",
    "\n",
    "from sklearn.tree import DecisionTreeRegressor\n",
    "regressor_X26_DT = DecisionTreeRegressor(random_state = 0)\n",
    "regressor_X26_DT.fit(X_26_train, y_26_train)\n",
    "\n",
    "# Random Forest\n",
    "\n",
    "from sklearn.ensemble import RandomForestRegressor\n",
    "regressor_X26_RF = RandomForestRegressor(n_estimators = 10, random_state = 0)\n",
    "regressor_X26_RF.fit(X_26_train, y_26_train)\n",
    "\n",
    "# Support Vector Machine\n",
    "y_26_train = y_26_train.reshape(len(y_26_train), 1)\n",
    "y_26_test = y_26_test.reshape(len(y_26_test), 1)\n",
    "\n",
    "from sklearn.preprocessing import StandardScaler\n",
    "sc_X26 = StandardScaler()\n",
    "sc_y26 = StandardScaler()\n",
    "X_26_train_s = sc_X26.fit_transform(X_26_train)\n",
    "#X_11_test_s = sc_X11.fit(X_11_test)\n",
    "y_26_train_s = sc_y26.fit_transform(y_26_train)\n",
    "#y_11_test_s = sc_X11.fit(y_11_test)\n",
    "\n",
    "from sklearn.svm import SVR\n",
    "regressor_X26_SV = SVR(kernel = 'rbf')\n",
    "y_26_train_s = np.ravel(y_26_train_s)\n",
    "regressor_X26_SV.fit(X_26_train_s, y_26_train_s)"
   ]
  },
  {
   "cell_type": "markdown",
   "metadata": {},
   "source": [
    "### Predicting new results"
   ]
  },
  {
   "cell_type": "code",
   "execution_count": 91,
   "metadata": {},
   "outputs": [],
   "source": [
    "y_pred_26_LR = regressor_X26_LR.predict(X_26_test) # Linear Regression\n",
    "#y_pred_11_PR = regressor_X11_PR.predict(X_11_test) # Polynomial Regression\n",
    "y_pred_26_DT = regressor_X26_DT.predict(X_26_test) # Decision Tree\n",
    "y_pred_26_RF = regressor_X26_RF.predict(X_26_test) # Random Forest\n",
    "y_pred_26_SV = sc_y26.inverse_transform(regressor_X26_SV.predict(sc_X26.transform(X_26_test))) # Support Vector Machine"
   ]
  },
  {
   "cell_type": "markdown",
   "metadata": {},
   "source": [
    "### Metrics Score"
   ]
  },
  {
   "cell_type": "code",
   "execution_count": 92,
   "metadata": {},
   "outputs": [
    {
     "name": "stdout",
     "output_type": "stream",
     "text": [
      "Metrics results\n",
      "\n",
      "\n",
      "Linear Regression\n",
      "R2 score: 0.38765966194919144\n",
      "MAE score: 10.937579604348104\n",
      "RMSE score: 13.382903274972282\n",
      "\n",
      "\n",
      "Decision Tree\n",
      "R2 score: -0.06911286783469506\n",
      "MAE score: 13.211353187042842\n",
      "RMSE score: 17.683396410777245\n",
      "\n",
      "\n",
      "Random Forest\n",
      "R2 score: 0.31800763922727937\n",
      "MAE score: 10.786851619644723\n",
      "RMSE score: 14.123543090583079\n",
      "\n",
      "\n",
      "Support Vector Machine\n",
      "R2 score: 0.40083843676475617\n",
      "MAE score: 10.18134549225987\n",
      "RMSE score: 13.238106690417867\n",
      "\n",
      "\n"
     ]
    }
   ],
   "source": [
    "from sklearn.metrics import r2_score, mean_absolute_error, mean_squared_error\n",
    "print('Metrics results')\n",
    "print('\\n')\n",
    "\n",
    "print('Linear Regression')\n",
    "r2_26_LR = r2_score(y_26_test, y_pred_26_LR)\n",
    "print('R2 score: {}'.format(r2_26_LR))\n",
    "mae_26_LR = mean_absolute_error(y_26_test, y_pred_26_LR)\n",
    "print('MAE score: {}'.format(mae_26_LR))\n",
    "rmse_26_LR = np.sqrt(mean_squared_error(y_26_test, y_pred_26_LR))\n",
    "print('RMSE score: {}'.format(rmse_26_LR))\n",
    "print('\\n')\n",
    "\n",
    "print('Decision Tree')\n",
    "r2_26_DT = r2_score(y_26_test, y_pred_26_DT)\n",
    "print('R2 score: {}'.format(r2_26_DT))\n",
    "mae_26_DT = mean_absolute_error(y_26_test, y_pred_26_DT)\n",
    "print('MAE score: {}'.format(mae_26_DT))\n",
    "rmse_26_DT = np.sqrt(mean_squared_error(y_26_test, y_pred_26_DT))\n",
    "print('RMSE score: {}'.format(rmse_26_DT))\n",
    "print('\\n')\n",
    "\n",
    "print('Random Forest')\n",
    "r2_26_RF = r2_score(y_26_test, y_pred_26_RF)\n",
    "print('R2 score: {}'.format(r2_26_RF))\n",
    "mae_26_RF = mean_absolute_error(y_26_test, y_pred_26_RF)\n",
    "print('MAE score: {}'.format(mae_26_RF))\n",
    "rmse_26_RF = np.sqrt(mean_squared_error(y_26_test, y_pred_26_RF))\n",
    "print('RMSE score: {}'.format(rmse_26_RF))\n",
    "print('\\n')\n",
    "\n",
    "print('Support Vector Machine')\n",
    "r2_26_SV = r2_score(y_26_test, y_pred_26_SV)\n",
    "print('R2 score: {}'.format(r2_26_SV))\n",
    "mae_26_SV = mean_absolute_error(y_26_test, y_pred_26_SV)\n",
    "print('MAE score: {}'.format(mae_26_SV))\n",
    "rmse_26_SV = np.sqrt(mean_squared_error(y_26_test, y_pred_26_SV))\n",
    "print('RMSE score: {}'.format(rmse_26_SV))\n",
    "print('\\n')\n"
   ]
  },
  {
   "cell_type": "markdown",
   "metadata": {},
   "source": [
    "### Cross Validation"
   ]
  },
  {
   "cell_type": "code",
   "execution_count": 93,
   "metadata": {},
   "outputs": [
    {
     "name": "stdout",
     "output_type": "stream",
     "text": [
      "Checking Cross Validation\n",
      "\n",
      "\n",
      "Linear Regression\n",
      "R^2 score: 38.22 %\n",
      "Standard Deviation (+/-): 4.11 %\n",
      "\n",
      "\n",
      "Decision Tree\n",
      "R^2 score: -12.77 %\n",
      "Standard Deviation (+/-): 10.22 %\n",
      "\n",
      "\n",
      "Random Forest\n",
      "R^2 score: 31.95 %\n",
      "Standard Deviation (+/-): 7.47 %\n",
      "\n",
      "\n",
      "Support Vector Machine\n",
      "R^2 score: 39.11 %\n",
      "Standard Deviation (+/-): 4.88 %\n"
     ]
    }
   ],
   "source": [
    "from sklearn.model_selection import cross_val_score\n",
    "\n",
    "y_26_train = np.ravel(y_26_train)\n",
    "\n",
    "r262_LR = cross_val_score(estimator=regressor_X26_LR, X = X_26_train, y=y_26_train, cv = 10, scoring='r2')\n",
    "r262_DT = cross_val_score(estimator=regressor_X26_DT, X = X_26_train, y=y_26_train, cv = 10, scoring='r2')\n",
    "r262_RF = cross_val_score(estimator=regressor_X26_RF, X = X_26_train, y=y_26_train, cv = 10, scoring='r2')\n",
    "r262_SV = cross_val_score(estimator=regressor_X26_SV, X = X_26_train_s, y=y_26_train_s, cv = 10, scoring='r2')\n",
    "\n",
    "r262_SV\n",
    "\n",
    "print('Checking Cross Validation')\n",
    "print('\\n')\n",
    "print('Linear Regression')\n",
    "print(\"R^2 score: {:.2f} %\".format(r262_LR.mean()*100))\n",
    "print(\"Standard Deviation (+/-): {:.2f} %\".format(r262_LR.std()*2*100))\n",
    "print('\\n')\n",
    "print('Decision Tree')\n",
    "print(\"R^2 score: {:.2f} %\".format(r262_DT.mean()*100))\n",
    "print(\"Standard Deviation (+/-): {:.2f} %\".format(r262_DT.std()*2*100))\n",
    "print('\\n')\n",
    "print('Random Forest')\n",
    "print(\"R^2 score: {:.2f} %\".format(r262_RF.mean()*100))\n",
    "print(\"Standard Deviation (+/-): {:.2f} %\".format(r262_RF.std()*2*100))\n",
    "print('\\n')\n",
    "print('Support Vector Machine')\n",
    "print(\"R^2 score: {:.2f} %\".format(r262_SV.mean()*100))\n",
    "print(\"Standard Deviation (+/-): {:.2f} %\".format(r262_SV.std()*2*100))"
   ]
  },
  {
   "cell_type": "markdown",
   "metadata": {},
   "source": [
    "# Three independent variables"
   ]
  },
  {
   "cell_type": "markdown",
   "metadata": {},
   "source": [
    "## AT-V-AP vs PE"
   ]
  },
  {
   "cell_type": "code",
   "execution_count": 95,
   "metadata": {},
   "outputs": [],
   "source": [
    "X_31 = dataset.iloc[:, 0:3].values\n",
    "y_31 = dataset['PE'].values"
   ]
  },
  {
   "cell_type": "code",
   "execution_count": 94,
   "metadata": {},
   "outputs": [
    {
     "data": {
      "text/html": [
       "<div>\n",
       "<style scoped>\n",
       "    .dataframe tbody tr th:only-of-type {\n",
       "        vertical-align: middle;\n",
       "    }\n",
       "\n",
       "    .dataframe tbody tr th {\n",
       "        vertical-align: top;\n",
       "    }\n",
       "\n",
       "    .dataframe thead th {\n",
       "        text-align: right;\n",
       "    }\n",
       "</style>\n",
       "<table border=\"1\" class=\"dataframe\">\n",
       "  <thead>\n",
       "    <tr style=\"text-align: right;\">\n",
       "      <th></th>\n",
       "      <th>AT</th>\n",
       "      <th>V</th>\n",
       "      <th>AP</th>\n",
       "      <th>RH</th>\n",
       "      <th>PE</th>\n",
       "    </tr>\n",
       "  </thead>\n",
       "  <tbody>\n",
       "    <tr>\n",
       "      <th>0</th>\n",
       "      <td>14.96</td>\n",
       "      <td>41.76</td>\n",
       "      <td>1024.07</td>\n",
       "      <td>73.17</td>\n",
       "      <td>463.26</td>\n",
       "    </tr>\n",
       "    <tr>\n",
       "      <th>1</th>\n",
       "      <td>25.18</td>\n",
       "      <td>62.96</td>\n",
       "      <td>1020.04</td>\n",
       "      <td>59.08</td>\n",
       "      <td>444.37</td>\n",
       "    </tr>\n",
       "    <tr>\n",
       "      <th>2</th>\n",
       "      <td>5.11</td>\n",
       "      <td>39.40</td>\n",
       "      <td>1012.16</td>\n",
       "      <td>92.14</td>\n",
       "      <td>488.56</td>\n",
       "    </tr>\n",
       "    <tr>\n",
       "      <th>3</th>\n",
       "      <td>20.86</td>\n",
       "      <td>57.32</td>\n",
       "      <td>1010.24</td>\n",
       "      <td>76.64</td>\n",
       "      <td>446.48</td>\n",
       "    </tr>\n",
       "    <tr>\n",
       "      <th>4</th>\n",
       "      <td>10.82</td>\n",
       "      <td>37.50</td>\n",
       "      <td>1009.23</td>\n",
       "      <td>96.62</td>\n",
       "      <td>473.90</td>\n",
       "    </tr>\n",
       "  </tbody>\n",
       "</table>\n",
       "</div>"
      ],
      "text/plain": [
       "      AT      V       AP     RH      PE\n",
       "0  14.96  41.76  1024.07  73.17  463.26\n",
       "1  25.18  62.96  1020.04  59.08  444.37\n",
       "2   5.11  39.40  1012.16  92.14  488.56\n",
       "3  20.86  57.32  1010.24  76.64  446.48\n",
       "4  10.82  37.50  1009.23  96.62  473.90"
      ]
     },
     "execution_count": 94,
     "metadata": {},
     "output_type": "execute_result"
    }
   ],
   "source": [
    "dataset.head()"
   ]
  },
  {
   "cell_type": "markdown",
   "metadata": {},
   "source": [
    "### Splitting the dataset into training and test set"
   ]
  },
  {
   "cell_type": "code",
   "execution_count": 97,
   "metadata": {},
   "outputs": [],
   "source": [
    "from sklearn.model_selection import train_test_split\n",
    "X_31_train, X_31_test, y_31_train, y_31_test = train_test_split(X_31, y_31,\n",
    "                                                               test_size=0.2,\n",
    "                                                               random_state=0)"
   ]
  },
  {
   "cell_type": "markdown",
   "metadata": {},
   "source": [
    "### Building the models"
   ]
  },
  {
   "cell_type": "code",
   "execution_count": 98,
   "metadata": {},
   "outputs": [
    {
     "data": {
      "text/plain": [
       "SVR()"
      ]
     },
     "execution_count": 98,
     "metadata": {},
     "output_type": "execute_result"
    }
   ],
   "source": [
    "# Linear Regression\n",
    "\n",
    "from sklearn.linear_model import LinearRegression\n",
    "regressor_X31_LR = LinearRegression()\n",
    "regressor_X31_LR.fit(X_31_train, y_31_train)\n",
    "\n",
    "# Decision Tree\n",
    "\n",
    "from sklearn.tree import DecisionTreeRegressor\n",
    "regressor_X31_DT = DecisionTreeRegressor(random_state = 0)\n",
    "regressor_X31_DT.fit(X_31_train, y_31_train)\n",
    "\n",
    "# Random Forest\n",
    "\n",
    "from sklearn.ensemble import RandomForestRegressor\n",
    "regressor_X31_RF = RandomForestRegressor(n_estimators = 10, random_state = 0)\n",
    "regressor_X31_RF.fit(X_31_train, y_31_train)\n",
    "\n",
    "# Support Vector Machine\n",
    "y_31_train = y_31_train.reshape(len(y_31_train), 1)\n",
    "y_31_test = y_31_test.reshape(len(y_31_test), 1)\n",
    "\n",
    "from sklearn.preprocessing import StandardScaler\n",
    "sc_X31 = StandardScaler()\n",
    "sc_y31 = StandardScaler()\n",
    "X_31_train_s = sc_X31.fit_transform(X_31_train)\n",
    "#X_11_test_s = sc_X11.fit(X_11_test)\n",
    "y_31_train_s = sc_y31.fit_transform(y_31_train)\n",
    "#y_11_test_s = sc_X11.fit(y_11_test)\n",
    "\n",
    "from sklearn.svm import SVR\n",
    "regressor_X31_SV = SVR(kernel = 'rbf')\n",
    "y_31_train_s = np.ravel(y_31_train_s)\n",
    "regressor_X31_SV.fit(X_31_train_s, y_31_train_s)\n"
   ]
  },
  {
   "cell_type": "markdown",
   "metadata": {},
   "source": [
    "### Predicting new results"
   ]
  },
  {
   "cell_type": "code",
   "execution_count": 99,
   "metadata": {},
   "outputs": [],
   "source": [
    "y_pred_31_LR = regressor_X31_LR.predict(X_31_test) # Linear Regression\n",
    "#y_pred_11_PR = regressor_X11_PR.predict(X_11_test) # Polynomial Regression\n",
    "y_pred_31_DT = regressor_X31_DT.predict(X_31_test) # Decision Tree\n",
    "y_pred_31_RF = regressor_X31_RF.predict(X_31_test) # Random Forest\n",
    "y_pred_31_SV = sc_y31.inverse_transform(regressor_X31_SV.predict(sc_X31.transform(X_31_test))) # Support Vector Machine"
   ]
  },
  {
   "cell_type": "markdown",
   "metadata": {},
   "source": [
    "### Metrics Score"
   ]
  },
  {
   "cell_type": "code",
   "execution_count": 100,
   "metadata": {},
   "outputs": [
    {
     "name": "stdout",
     "output_type": "stream",
     "text": [
      "Metrics results\n",
      "\n",
      "\n",
      "Linear Regression\n",
      "R2 score: 0.9218042258408323\n",
      "MAE score: 3.8234137990557127\n",
      "RMSE score: 4.782396128432508\n",
      "\n",
      "\n",
      "Decision Tree\n",
      "R2 score: 0.9342687692838455\n",
      "MAE score: 3.0589289446186\n",
      "RMSE score: 4.384699008720461\n",
      "\n",
      "\n",
      "Random Forest\n",
      "R2 score: 0.958951379222699\n",
      "MAE score: 2.5322097701149424\n",
      "RMSE score: 3.4649996019494607\n",
      "\n",
      "\n",
      "Support Vector Machine\n",
      "R2 score: 0.9423219955207401\n",
      "MAE score: 3.168817864639243\n",
      "RMSE score: 4.107324516791202\n",
      "\n",
      "\n"
     ]
    }
   ],
   "source": [
    "from sklearn.metrics import r2_score, mean_absolute_error, mean_squared_error\n",
    "print('Metrics results')\n",
    "print('\\n')\n",
    "\n",
    "print('Linear Regression')\n",
    "r2_31_LR = r2_score(y_31_test, y_pred_31_LR)\n",
    "print('R2 score: {}'.format(r2_31_LR))\n",
    "mae_31_LR = mean_absolute_error(y_31_test, y_pred_31_LR)\n",
    "print('MAE score: {}'.format(mae_31_LR))\n",
    "rmse_31_LR = np.sqrt(mean_squared_error(y_31_test, y_pred_31_LR))\n",
    "print('RMSE score: {}'.format(rmse_31_LR))\n",
    "print('\\n')\n",
    "\n",
    "print('Decision Tree')\n",
    "r2_31_DT = r2_score(y_31_test, y_pred_31_DT)\n",
    "print('R2 score: {}'.format(r2_31_DT))\n",
    "mae_31_DT = mean_absolute_error(y_31_test, y_pred_31_DT)\n",
    "print('MAE score: {}'.format(mae_31_DT))\n",
    "rmse_31_DT = np.sqrt(mean_squared_error(y_31_test, y_pred_31_DT))\n",
    "print('RMSE score: {}'.format(rmse_31_DT))\n",
    "print('\\n')\n",
    "\n",
    "print('Random Forest')\n",
    "r2_31_RF = r2_score(y_31_test, y_pred_31_RF)\n",
    "print('R2 score: {}'.format(r2_31_RF))\n",
    "mae_31_RF = mean_absolute_error(y_31_test, y_pred_31_RF)\n",
    "print('MAE score: {}'.format(mae_31_RF))\n",
    "rmse_31_RF = np.sqrt(mean_squared_error(y_31_test, y_pred_31_RF))\n",
    "print('RMSE score: {}'.format(rmse_31_RF))\n",
    "print('\\n')\n",
    "\n",
    "print('Support Vector Machine')\n",
    "r2_31_SV = r2_score(y_31_test, y_pred_31_SV)\n",
    "print('R2 score: {}'.format(r2_31_SV))\n",
    "mae_31_SV = mean_absolute_error(y_31_test, y_pred_31_SV)\n",
    "print('MAE score: {}'.format(mae_31_SV))\n",
    "rmse_31_SV = np.sqrt(mean_squared_error(y_31_test, y_pred_31_SV))\n",
    "print('RMSE score: {}'.format(rmse_31_SV))\n",
    "print('\\n')"
   ]
  },
  {
   "cell_type": "markdown",
   "metadata": {},
   "source": [
    "### Cross Validation"
   ]
  },
  {
   "cell_type": "code",
   "execution_count": 101,
   "metadata": {},
   "outputs": [
    {
     "name": "stdout",
     "output_type": "stream",
     "text": [
      "Checking Cross Validation\n",
      "\n",
      "\n",
      "Linear Regression\n",
      "R^2 score: 91.67 %\n",
      "Standard Deviation (+/-): 0.81 %\n",
      "\n",
      "\n",
      "Decision Tree\n",
      "R^2 score: 92.18 %\n",
      "Standard Deviation (+/-): 1.48 %\n",
      "\n",
      "\n",
      "Random Forest\n",
      "R^2 score: 95.33 %\n",
      "Standard Deviation (+/-): 0.77 %\n",
      "\n",
      "\n",
      "Support Vector Machine\n",
      "R^2 score: 93.82 %\n",
      "Standard Deviation (+/-): 1.13 %\n"
     ]
    }
   ],
   "source": [
    "from sklearn.model_selection import cross_val_score\n",
    "\n",
    "y_31_train = np.ravel(y_31_train)\n",
    "\n",
    "r312_LR = cross_val_score(estimator=regressor_X31_LR, X = X_31_train, y=y_31_train, cv = 10, scoring='r2')\n",
    "r312_DT = cross_val_score(estimator=regressor_X31_DT, X = X_31_train, y=y_31_train, cv = 10, scoring='r2')\n",
    "r312_RF = cross_val_score(estimator=regressor_X31_RF, X = X_31_train, y=y_31_train, cv = 10, scoring='r2')\n",
    "r312_SV = cross_val_score(estimator=regressor_X31_SV, X = X_31_train_s, y=y_31_train_s, cv = 10, scoring='r2')\n",
    "\n",
    "r312_SV\n",
    "\n",
    "print('Checking Cross Validation')\n",
    "print('\\n')\n",
    "print('Linear Regression')\n",
    "print(\"R^2 score: {:.2f} %\".format(r312_LR.mean()*100))\n",
    "print(\"Standard Deviation (+/-): {:.2f} %\".format(r312_LR.std()*2*100))\n",
    "print('\\n')\n",
    "print('Decision Tree')\n",
    "print(\"R^2 score: {:.2f} %\".format(r312_DT.mean()*100))\n",
    "print(\"Standard Deviation (+/-): {:.2f} %\".format(r312_DT.std()*2*100))\n",
    "print('\\n')\n",
    "print('Random Forest')\n",
    "print(\"R^2 score: {:.2f} %\".format(r312_RF.mean()*100))\n",
    "print(\"Standard Deviation (+/-): {:.2f} %\".format(r312_RF.std()*2*100))\n",
    "print('\\n')\n",
    "print('Support Vector Machine')\n",
    "print(\"R^2 score: {:.2f} %\".format(r312_SV.mean()*100))\n",
    "print(\"Standard Deviation (+/-): {:.2f} %\".format(r312_SV.std()*2*100))"
   ]
  },
  {
   "cell_type": "markdown",
   "metadata": {},
   "source": [
    "## AT-V-RH vs PE"
   ]
  },
  {
   "cell_type": "code",
   "execution_count": 135,
   "metadata": {},
   "outputs": [],
   "source": [
    "X_32 = dataset.iloc[:, 0:4]\n",
    "X_32 = X_32.drop(columns='AP').values\n",
    "y_32 = dataset['PE'].values"
   ]
  },
  {
   "cell_type": "markdown",
   "metadata": {},
   "source": [
    "### Splitting the dataset into training and test set"
   ]
  },
  {
   "cell_type": "code",
   "execution_count": 136,
   "metadata": {},
   "outputs": [],
   "source": [
    "from sklearn.model_selection import train_test_split\n",
    "X_32_train, X_32_test, y_32_train, y_32_test = train_test_split(X_32, y_32,\n",
    "                                                               test_size=0.2,\n",
    "                                                               random_state=0)"
   ]
  },
  {
   "cell_type": "markdown",
   "metadata": {},
   "source": [
    "### Building the models"
   ]
  },
  {
   "cell_type": "code",
   "execution_count": 137,
   "metadata": {},
   "outputs": [
    {
     "data": {
      "text/plain": [
       "SVR()"
      ]
     },
     "execution_count": 137,
     "metadata": {},
     "output_type": "execute_result"
    }
   ],
   "source": [
    "# Linear Regression\n",
    "\n",
    "from sklearn.linear_model import LinearRegression\n",
    "regressor_X32_LR = LinearRegression()\n",
    "regressor_X32_LR.fit(X_32_train, y_32_train)\n",
    "\n",
    "# Decision Tree\n",
    "\n",
    "from sklearn.tree import DecisionTreeRegressor\n",
    "regressor_X32_DT = DecisionTreeRegressor(random_state = 0)\n",
    "regressor_X32_DT.fit(X_32_train, y_32_train)\n",
    "\n",
    "# Random Forest\n",
    "\n",
    "from sklearn.ensemble import RandomForestRegressor\n",
    "regressor_X32_RF = RandomForestRegressor(n_estimators = 10, random_state = 0)\n",
    "regressor_X32_RF.fit(X_32_train, y_32_train)\n",
    "\n",
    "# Support Vector Machine\n",
    "y_32_train = y_32_train.reshape(len(y_32_train), 1)\n",
    "y_32_test = y_32_test.reshape(len(y_32_test), 1)\n",
    "\n",
    "from sklearn.preprocessing import StandardScaler\n",
    "sc_X32 = StandardScaler()\n",
    "sc_y32 = StandardScaler()\n",
    "X_32_train_s = sc_X32.fit_transform(X_32_train)\n",
    "#X_11_test_s = sc_X11.fit(X_11_test)\n",
    "y_32_train_s = sc_y32.fit_transform(y_32_train)\n",
    "#y_11_test_s = sc_X11.fit(y_11_test)\n",
    "\n",
    "from sklearn.svm import SVR\n",
    "regressor_X32_SV = SVR(kernel = 'rbf')\n",
    "y_32_train_s = np.ravel(y_32_train_s)\n",
    "regressor_X32_SV.fit(X_32_train_s, y_32_train_s)"
   ]
  },
  {
   "cell_type": "markdown",
   "metadata": {},
   "source": [
    "### Predicting new results"
   ]
  },
  {
   "cell_type": "code",
   "execution_count": 138,
   "metadata": {},
   "outputs": [],
   "source": [
    "y_pred_32_LR = regressor_X32_LR.predict(X_32_test) # Linear Regression\n",
    "#y_pred_11_PR = regressor_X11_PR.predict(X_11_test) # Polynomial Regression\n",
    "y_pred_32_DT = regressor_X32_DT.predict(X_32_test) # Decision Tree\n",
    "y_pred_32_RF = regressor_X32_RF.predict(X_32_test) # Random Forest\n",
    "y_pred_32_SV = sc_y32.inverse_transform(regressor_X32_SV.predict(sc_X32.transform(X_32_test))) # Support Vector Machine"
   ]
  },
  {
   "cell_type": "markdown",
   "metadata": {},
   "source": [
    "### Metrics Score"
   ]
  },
  {
   "cell_type": "code",
   "execution_count": 139,
   "metadata": {},
   "outputs": [
    {
     "name": "stdout",
     "output_type": "stream",
     "text": [
      "Metrics results\n",
      "\n",
      "\n",
      "Linear Regression\n",
      "R2 score: 0.9322888939219065\n",
      "MAE score: 3.5704029333898637\n",
      "RMSE score: 4.450244359161887\n",
      "\n",
      "\n",
      "Decision Tree\n",
      "R2 score: 0.9275764657607473\n",
      "MAE score: 3.2089080459770125\n",
      "RMSE score: 4.602499621843549\n",
      "\n",
      "\n",
      "Random Forest\n",
      "R2 score: 0.9554376291546258\n",
      "MAE score: 2.6599775339602925\n",
      "RMSE score: 3.610256416574441\n",
      "\n",
      "\n",
      "Support Vector Machine\n",
      "R2 score: 0.9434674270867963\n",
      "MAE score: 3.1458186860081336\n",
      "RMSE score: 4.0663361748338325\n",
      "\n",
      "\n"
     ]
    }
   ],
   "source": [
    "from sklearn.metrics import r2_score, mean_absolute_error, mean_squared_error\n",
    "print('Metrics results')\n",
    "print('\\n')\n",
    "\n",
    "print('Linear Regression')\n",
    "r2_32_LR = r2_score(y_32_test, y_pred_32_LR)\n",
    "print('R2 score: {}'.format(r2_32_LR))\n",
    "mae_32_LR = mean_absolute_error(y_32_test, y_pred_32_LR)\n",
    "print('MAE score: {}'.format(mae_32_LR))\n",
    "rmse_32_LR = np.sqrt(mean_squared_error(y_32_test, y_pred_32_LR))\n",
    "print('RMSE score: {}'.format(rmse_32_LR))\n",
    "print('\\n')\n",
    "\n",
    "print('Decision Tree')\n",
    "r2_32_DT = r2_score(y_32_test, y_pred_32_DT)\n",
    "print('R2 score: {}'.format(r2_32_DT))\n",
    "mae_32_DT = mean_absolute_error(y_32_test, y_pred_32_DT)\n",
    "print('MAE score: {}'.format(mae_32_DT))\n",
    "rmse_32_DT = np.sqrt(mean_squared_error(y_32_test, y_pred_32_DT))\n",
    "print('RMSE score: {}'.format(rmse_32_DT))\n",
    "print('\\n')\n",
    "\n",
    "print('Random Forest')\n",
    "r2_32_RF = r2_score(y_32_test, y_pred_32_RF)\n",
    "print('R2 score: {}'.format(r2_32_RF))\n",
    "mae_32_RF = mean_absolute_error(y_32_test, y_pred_32_RF)\n",
    "print('MAE score: {}'.format(mae_32_RF))\n",
    "rmse_32_RF = np.sqrt(mean_squared_error(y_32_test, y_pred_32_RF))\n",
    "print('RMSE score: {}'.format(rmse_32_RF))\n",
    "print('\\n')\n",
    "\n",
    "print('Support Vector Machine')\n",
    "r2_32_SV = r2_score(y_32_test, y_pred_32_SV)\n",
    "print('R2 score: {}'.format(r2_32_SV))\n",
    "mae_32_SV = mean_absolute_error(y_32_test, y_pred_32_SV)\n",
    "print('MAE score: {}'.format(mae_32_SV))\n",
    "rmse_32_SV = np.sqrt(mean_squared_error(y_32_test, y_pred_32_SV))\n",
    "print('RMSE score: {}'.format(rmse_32_SV))\n",
    "print('\\n')"
   ]
  },
  {
   "cell_type": "markdown",
   "metadata": {},
   "source": [
    "### Cross Validation"
   ]
  },
  {
   "cell_type": "code",
   "execution_count": 140,
   "metadata": {},
   "outputs": [
    {
     "name": "stdout",
     "output_type": "stream",
     "text": [
      "Checking Cross Validation\n",
      "\n",
      "\n",
      "Linear Regression\n",
      "R^2 score: 92.72 %\n",
      "Standard Deviation (+/-): 1.02 %\n",
      "\n",
      "\n",
      "Decision Tree\n",
      "R^2 score: 91.97 %\n",
      "Standard Deviation (+/-): 1.38 %\n",
      "\n",
      "\n",
      "Random Forest\n",
      "R^2 score: 94.98 %\n",
      "Standard Deviation (+/-): 0.91 %\n",
      "\n",
      "\n",
      "Support Vector Machine\n",
      "R^2 score: 93.81 %\n",
      "Standard Deviation (+/-): 1.11 %\n"
     ]
    }
   ],
   "source": [
    "from sklearn.model_selection import cross_val_score\n",
    "\n",
    "y_32_train = np.ravel(y_32_train)\n",
    "\n",
    "r322_LR = cross_val_score(estimator=regressor_X32_LR, X = X_32_train, y=y_32_train, cv = 10, scoring='r2')\n",
    "r322_DT = cross_val_score(estimator=regressor_X32_DT, X = X_32_train, y=y_32_train, cv = 10, scoring='r2')\n",
    "r322_RF = cross_val_score(estimator=regressor_X32_RF, X = X_32_train, y=y_32_train, cv = 10, scoring='r2')\n",
    "r322_SV = cross_val_score(estimator=regressor_X32_SV, X = X_32_train_s, y=y_32_train_s, cv = 10, scoring='r2')\n",
    "\n",
    "r322_SV\n",
    "\n",
    "print('Checking Cross Validation')\n",
    "print('\\n')\n",
    "print('Linear Regression')\n",
    "print(\"R^2 score: {:.2f} %\".format(r322_LR.mean()*100))\n",
    "print(\"Standard Deviation (+/-): {:.2f} %\".format(r322_LR.std()*2*100))\n",
    "print('\\n')\n",
    "print('Decision Tree')\n",
    "print(\"R^2 score: {:.2f} %\".format(r322_DT.mean()*100))\n",
    "print(\"Standard Deviation (+/-): {:.2f} %\".format(r322_DT.std()*2*100))\n",
    "print('\\n')\n",
    "print('Random Forest')\n",
    "print(\"R^2 score: {:.2f} %\".format(r322_RF.mean()*100))\n",
    "print(\"Standard Deviation (+/-): {:.2f} %\".format(r322_RF.std()*2*100))\n",
    "print('\\n')\n",
    "print('Support Vector Machine')\n",
    "print(\"R^2 score: {:.2f} %\".format(r322_SV.mean()*100))\n",
    "print(\"Standard Deviation (+/-): {:.2f} %\".format(r322_SV.std()*2*100))"
   ]
  },
  {
   "cell_type": "markdown",
   "metadata": {},
   "source": [
    "## AT-AP-RH"
   ]
  },
  {
   "cell_type": "code",
   "execution_count": 143,
   "metadata": {},
   "outputs": [],
   "source": [
    "X_33 = dataset.iloc[:, 0:4]\n",
    "X_33 = X_33.drop(columns='V').values\n",
    "y_33 = dataset['PE'].values\n"
   ]
  },
  {
   "cell_type": "markdown",
   "metadata": {},
   "source": [
    "### Splitting the dataset into training and test set"
   ]
  },
  {
   "cell_type": "code",
   "execution_count": 145,
   "metadata": {},
   "outputs": [],
   "source": [
    "from sklearn.model_selection import train_test_split\n",
    "X_33_train, X_33_test, y_33_train, y_33_test = train_test_split(X_33, y_33,\n",
    "                                                               test_size=0.2,\n",
    "                                                               random_state=0)"
   ]
  },
  {
   "cell_type": "markdown",
   "metadata": {},
   "source": [
    "### Building the models"
   ]
  },
  {
   "cell_type": "code",
   "execution_count": 146,
   "metadata": {},
   "outputs": [
    {
     "data": {
      "text/plain": [
       "SVR()"
      ]
     },
     "execution_count": 146,
     "metadata": {},
     "output_type": "execute_result"
    }
   ],
   "source": [
    "# Linear Regression\n",
    "\n",
    "from sklearn.linear_model import LinearRegression\n",
    "regressor_X33_LR = LinearRegression()\n",
    "regressor_X33_LR.fit(X_33_train, y_33_train)\n",
    "\n",
    "# Decision Tree\n",
    "\n",
    "from sklearn.tree import DecisionTreeRegressor\n",
    "regressor_X33_DT = DecisionTreeRegressor(random_state = 0)\n",
    "regressor_X33_DT.fit(X_33_train, y_33_train)\n",
    "\n",
    "# Random Forest\n",
    "\n",
    "from sklearn.ensemble import RandomForestRegressor\n",
    "regressor_X33_RF = RandomForestRegressor(n_estimators = 10, random_state = 0)\n",
    "regressor_X33_RF.fit(X_33_train, y_33_train)\n",
    "\n",
    "# Support Vector Machine\n",
    "y_33_train = y_33_train.reshape(len(y_33_train), 1)\n",
    "y_33_test = y_33_test.reshape(len(y_33_test), 1)\n",
    "\n",
    "from sklearn.preprocessing import StandardScaler\n",
    "sc_X33 = StandardScaler()\n",
    "sc_y33 = StandardScaler()\n",
    "X_33_train_s = sc_X33.fit_transform(X_33_train)\n",
    "#X_11_test_s = sc_X11.fit(X_11_test)\n",
    "y_33_train_s = sc_y33.fit_transform(y_33_train)\n",
    "#y_11_test_s = sc_X11.fit(y_11_test)\n",
    "\n",
    "from sklearn.svm import SVR\n",
    "regressor_X33_SV = SVR(kernel = 'rbf')\n",
    "y_33_train_s = np.ravel(y_33_train_s)\n",
    "regressor_X33_SV.fit(X_33_train_s, y_33_train_s)"
   ]
  },
  {
   "cell_type": "markdown",
   "metadata": {},
   "source": [
    "### Predicting new results"
   ]
  },
  {
   "cell_type": "code",
   "execution_count": 147,
   "metadata": {},
   "outputs": [],
   "source": [
    "y_pred_33_LR = regressor_X33_LR.predict(X_33_test) # Linear Regression\n",
    "#y_pred_11_PR = regressor_X11_PR.predict(X_11_test) # Polynomial Regression\n",
    "y_pred_33_DT = regressor_X33_DT.predict(X_33_test) # Decision Tree\n",
    "y_pred_33_RF = regressor_X33_RF.predict(X_33_test) # Random Forest\n",
    "y_pred_33_SV = sc_y33.inverse_transform(regressor_X33_SV.predict(sc_X33.transform(X_33_test))) # Support Vector Machine"
   ]
  },
  {
   "cell_type": "markdown",
   "metadata": {},
   "source": [
    "### Metrics Score"
   ]
  },
  {
   "cell_type": "code",
   "execution_count": 148,
   "metadata": {},
   "outputs": [
    {
     "name": "stdout",
     "output_type": "stream",
     "text": [
      "Metrics results\n",
      "\n",
      "\n",
      "Linear Regression\n",
      "R2 score: 0.9256481319594558\n",
      "MAE score: 3.7251976318246767\n",
      "RMSE score: 4.663369698912558\n",
      "\n",
      "\n",
      "Decision Tree\n",
      "R2 score: 0.8788715094065435\n",
      "MAE score: 4.382194357366771\n",
      "RMSE score: 5.952193715878874\n",
      "\n",
      "\n",
      "Random Forest\n",
      "R2 score: 0.9333518004127342\n",
      "MAE score: 3.3979331243469164\n",
      "RMSE score: 4.415176965582305\n",
      "\n",
      "\n",
      "Support Vector Machine\n",
      "R2 score: 0.9369084449014509\n",
      "MAE score: 3.3565443239863173\n",
      "RMSE score: 4.295755159369825\n",
      "\n",
      "\n"
     ]
    }
   ],
   "source": [
    "from sklearn.metrics import r2_score, mean_absolute_error, mean_squared_error\n",
    "print('Metrics results')\n",
    "print('\\n')\n",
    "\n",
    "print('Linear Regression')\n",
    "r2_33_LR = r2_score(y_33_test, y_pred_33_LR)\n",
    "print('R2 score: {}'.format(r2_33_LR))\n",
    "mae_33_LR = mean_absolute_error(y_33_test, y_pred_33_LR)\n",
    "print('MAE score: {}'.format(mae_33_LR))\n",
    "rmse_33_LR = np.sqrt(mean_squared_error(y_33_test, y_pred_33_LR))\n",
    "print('RMSE score: {}'.format(rmse_33_LR))\n",
    "print('\\n')\n",
    "\n",
    "print('Decision Tree')\n",
    "r2_33_DT = r2_score(y_33_test, y_pred_33_DT)\n",
    "print('R2 score: {}'.format(r2_33_DT))\n",
    "mae_33_DT = mean_absolute_error(y_33_test, y_pred_33_DT)\n",
    "print('MAE score: {}'.format(mae_33_DT))\n",
    "rmse_33_DT = np.sqrt(mean_squared_error(y_33_test, y_pred_33_DT))\n",
    "print('RMSE score: {}'.format(rmse_33_DT))\n",
    "print('\\n')\n",
    "\n",
    "print('Random Forest')\n",
    "r2_33_RF = r2_score(y_33_test, y_pred_33_RF)\n",
    "print('R2 score: {}'.format(r2_33_RF))\n",
    "mae_33_RF = mean_absolute_error(y_33_test, y_pred_33_RF)\n",
    "print('MAE score: {}'.format(mae_33_RF))\n",
    "rmse_33_RF = np.sqrt(mean_squared_error(y_33_test, y_pred_33_RF))\n",
    "print('RMSE score: {}'.format(rmse_33_RF))\n",
    "print('\\n')\n",
    "\n",
    "print('Support Vector Machine')\n",
    "r2_33_SV = r2_score(y_33_test, y_pred_33_SV)\n",
    "print('R2 score: {}'.format(r2_33_SV))\n",
    "mae_33_SV = mean_absolute_error(y_33_test, y_pred_33_SV)\n",
    "print('MAE score: {}'.format(mae_33_SV))\n",
    "rmse_33_SV = np.sqrt(mean_squared_error(y_33_test, y_pred_33_SV))\n",
    "print('RMSE score: {}'.format(rmse_33_SV))\n",
    "print('\\n')"
   ]
  },
  {
   "cell_type": "markdown",
   "metadata": {},
   "source": [
    "### Cross Validation"
   ]
  },
  {
   "cell_type": "code",
   "execution_count": 149,
   "metadata": {},
   "outputs": [
    {
     "name": "stdout",
     "output_type": "stream",
     "text": [
      "Checking Cross Validation\n",
      "\n",
      "\n",
      "Linear Regression\n",
      "R^2 score: 91.95 %\n",
      "Standard Deviation (+/-): 1.04 %\n",
      "\n",
      "\n",
      "Decision Tree\n",
      "R^2 score: 87.90 %\n",
      "Standard Deviation (+/-): 1.24 %\n",
      "\n",
      "\n",
      "Random Forest\n",
      "R^2 score: 92.69 %\n",
      "Standard Deviation (+/-): 1.39 %\n",
      "\n",
      "\n",
      "Support Vector Machine\n",
      "R^2 score: 93.12 %\n",
      "Standard Deviation (+/-): 1.18 %\n"
     ]
    }
   ],
   "source": [
    "from sklearn.model_selection import cross_val_score\n",
    "\n",
    "y_33_train = np.ravel(y_33_train)\n",
    "\n",
    "r332_LR = cross_val_score(estimator=regressor_X33_LR, X = X_33_train, y=y_33_train, cv = 10, scoring='r2')\n",
    "r332_DT = cross_val_score(estimator=regressor_X33_DT, X = X_33_train, y=y_33_train, cv = 10, scoring='r2')\n",
    "r332_RF = cross_val_score(estimator=regressor_X33_RF, X = X_33_train, y=y_33_train, cv = 10, scoring='r2')\n",
    "r332_SV = cross_val_score(estimator=regressor_X33_SV, X = X_33_train_s, y=y_33_train_s, cv = 10, scoring='r2')\n",
    "\n",
    "r332_SV\n",
    "\n",
    "print('Checking Cross Validation')\n",
    "print('\\n')\n",
    "print('Linear Regression')\n",
    "print(\"R^2 score: {:.2f} %\".format(r332_LR.mean()*100))\n",
    "print(\"Standard Deviation (+/-): {:.2f} %\".format(r332_LR.std()*2*100))\n",
    "print('\\n')\n",
    "print('Decision Tree')\n",
    "print(\"R^2 score: {:.2f} %\".format(r332_DT.mean()*100))\n",
    "print(\"Standard Deviation (+/-): {:.2f} %\".format(r332_DT.std()*2*100))\n",
    "print('\\n')\n",
    "print('Random Forest')\n",
    "print(\"R^2 score: {:.2f} %\".format(r332_RF.mean()*100))\n",
    "print(\"Standard Deviation (+/-): {:.2f} %\".format(r332_RF.std()*2*100))\n",
    "print('\\n')\n",
    "print('Support Vector Machine')\n",
    "print(\"R^2 score: {:.2f} %\".format(r332_SV.mean()*100))\n",
    "print(\"Standard Deviation (+/-): {:.2f} %\".format(r332_SV.std()*2*100))"
   ]
  },
  {
   "cell_type": "markdown",
   "metadata": {},
   "source": [
    "## V-AP-RH"
   ]
  },
  {
   "cell_type": "code",
   "execution_count": 150,
   "metadata": {},
   "outputs": [],
   "source": [
    "X_34 = dataset.iloc[:, 1:4].values\n",
    "y_34 = dataset['PE'].values"
   ]
  },
  {
   "cell_type": "markdown",
   "metadata": {},
   "source": [
    "### Splitting the dataset into training and test set"
   ]
  },
  {
   "cell_type": "code",
   "execution_count": 153,
   "metadata": {},
   "outputs": [],
   "source": [
    "from sklearn.model_selection import train_test_split\n",
    "X_34_train, X_34_test, y_34_train, y_34_test = train_test_split(X_34, y_34,\n",
    "                                                               test_size=0.2,\n",
    "                                                               random_state=0)"
   ]
  },
  {
   "cell_type": "markdown",
   "metadata": {},
   "source": [
    "### Building the models"
   ]
  },
  {
   "cell_type": "code",
   "execution_count": 154,
   "metadata": {},
   "outputs": [
    {
     "data": {
      "text/plain": [
       "SVR()"
      ]
     },
     "execution_count": 154,
     "metadata": {},
     "output_type": "execute_result"
    }
   ],
   "source": [
    "# Linear Regression\n",
    "\n",
    "from sklearn.linear_model import LinearRegression\n",
    "regressor_X34_LR = LinearRegression()\n",
    "regressor_X34_LR.fit(X_34_train, y_34_train)\n",
    "\n",
    "# Decision Tree\n",
    "\n",
    "from sklearn.tree import DecisionTreeRegressor\n",
    "regressor_X34_DT = DecisionTreeRegressor(random_state = 0)\n",
    "regressor_X34_DT.fit(X_34_train, y_34_train)\n",
    "\n",
    "# Random Forest\n",
    "\n",
    "from sklearn.ensemble import RandomForestRegressor\n",
    "regressor_X34_RF = RandomForestRegressor(n_estimators = 10, random_state = 0)\n",
    "regressor_X34_RF.fit(X_34_train, y_34_train)\n",
    "\n",
    "# Support Vector Machine\n",
    "y_34_train = y_34_train.reshape(len(y_34_train), 1)\n",
    "y_34_test = y_34_test.reshape(len(y_34_test), 1)\n",
    "\n",
    "from sklearn.preprocessing import StandardScaler\n",
    "sc_X34 = StandardScaler()\n",
    "sc_y34 = StandardScaler()\n",
    "X_34_train_s = sc_X34.fit_transform(X_34_train)\n",
    "#X_11_test_s = sc_X11.fit(X_11_test)\n",
    "y_34_train_s = sc_y34.fit_transform(y_34_train)\n",
    "#y_11_test_s = sc_X11.fit(y_11_test)\n",
    "\n",
    "from sklearn.svm import SVR\n",
    "regressor_X34_SV = SVR(kernel = 'rbf')\n",
    "y_34_train_s = np.ravel(y_34_train_s)\n",
    "regressor_X34_SV.fit(X_34_train_s, y_34_train_s)"
   ]
  },
  {
   "cell_type": "markdown",
   "metadata": {},
   "source": [
    "### Predicting new results"
   ]
  },
  {
   "cell_type": "code",
   "execution_count": 155,
   "metadata": {},
   "outputs": [],
   "source": [
    "y_pred_34_LR = regressor_X34_LR.predict(X_34_test) # Linear Regression\n",
    "#y_pred_11_PR = regressor_X11_PR.predict(X_11_test) # Polynomial Regression\n",
    "y_pred_34_DT = regressor_X34_DT.predict(X_34_test) # Decision Tree\n",
    "y_pred_34_RF = regressor_X34_RF.predict(X_34_test) # Random Forest\n",
    "y_pred_34_SV = sc_y34.inverse_transform(regressor_X34_SV.predict(sc_X34.transform(X_34_test))) # Support Vector Machine"
   ]
  },
  {
   "cell_type": "markdown",
   "metadata": {},
   "source": [
    "### Metrics Score"
   ]
  },
  {
   "cell_type": "code",
   "execution_count": 156,
   "metadata": {},
   "outputs": [
    {
     "name": "stdout",
     "output_type": "stream",
     "text": [
      "Metrics results\n",
      "\n",
      "\n",
      "Linear Regression\n",
      "R2 score: 0.8033292150759016\n",
      "MAE score: 5.936261759805209\n",
      "RMSE score: 7.584445410773258\n",
      "\n",
      "\n",
      "Decision Tree\n",
      "R2 score: 0.8792674236649752\n",
      "MAE score: 3.6983908045977008\n",
      "RMSE score: 5.9424582393866885\n",
      "\n",
      "\n",
      "Random Forest\n",
      "R2 score: 0.9350010938497556\n",
      "MAE score: 3.0648746081504683\n",
      "RMSE score: 4.360205198142165\n",
      "\n",
      "\n",
      "Support Vector Machine\n",
      "R2 score: 0.8494246102002505\n",
      "MAE score: 4.989404033112119\n",
      "RMSE score: 6.63637475150799\n",
      "\n",
      "\n"
     ]
    }
   ],
   "source": [
    "from sklearn.metrics import r2_score, mean_absolute_error, mean_squared_error\n",
    "print('Metrics results')\n",
    "print('\\n')\n",
    "\n",
    "print('Linear Regression')\n",
    "r2_34_LR = r2_score(y_34_test, y_pred_34_LR)\n",
    "print('R2 score: {}'.format(r2_34_LR))\n",
    "mae_34_LR = mean_absolute_error(y_34_test, y_pred_34_LR)\n",
    "print('MAE score: {}'.format(mae_34_LR))\n",
    "rmse_34_LR = np.sqrt(mean_squared_error(y_34_test, y_pred_34_LR))\n",
    "print('RMSE score: {}'.format(rmse_34_LR))\n",
    "print('\\n')\n",
    "\n",
    "print('Decision Tree')\n",
    "r2_34_DT = r2_score(y_34_test, y_pred_34_DT)\n",
    "print('R2 score: {}'.format(r2_34_DT))\n",
    "mae_34_DT = mean_absolute_error(y_34_test, y_pred_34_DT)\n",
    "print('MAE score: {}'.format(mae_34_DT))\n",
    "rmse_34_DT = np.sqrt(mean_squared_error(y_34_test, y_pred_34_DT))\n",
    "print('RMSE score: {}'.format(rmse_34_DT))\n",
    "print('\\n')\n",
    "\n",
    "print('Random Forest')\n",
    "r2_34_RF = r2_score(y_34_test, y_pred_34_RF)\n",
    "print('R2 score: {}'.format(r2_34_RF))\n",
    "mae_34_RF = mean_absolute_error(y_34_test, y_pred_34_RF)\n",
    "print('MAE score: {}'.format(mae_34_RF))\n",
    "rmse_34_RF = np.sqrt(mean_squared_error(y_34_test, y_pred_34_RF))\n",
    "print('RMSE score: {}'.format(rmse_34_RF))\n",
    "print('\\n')\n",
    "\n",
    "print('Support Vector Machine')\n",
    "r2_34_SV = r2_score(y_34_test, y_pred_34_SV)\n",
    "print('R2 score: {}'.format(r2_34_SV))\n",
    "mae_34_SV = mean_absolute_error(y_34_test, y_pred_34_SV)\n",
    "print('MAE score: {}'.format(mae_34_SV))\n",
    "rmse_34_SV = np.sqrt(mean_squared_error(y_34_test, y_pred_34_SV))\n",
    "print('RMSE score: {}'.format(rmse_34_SV))\n",
    "print('\\n')"
   ]
  },
  {
   "cell_type": "markdown",
   "metadata": {},
   "source": [
    "### Cross Validation\n"
   ]
  },
  {
   "cell_type": "code",
   "execution_count": 157,
   "metadata": {},
   "outputs": [
    {
     "name": "stdout",
     "output_type": "stream",
     "text": [
      "Checking Cross Validation\n",
      "\n",
      "\n",
      "Linear Regression\n",
      "R^2 score: 80.38 %\n",
      "Standard Deviation (+/-): 1.20 %\n",
      "\n",
      "\n",
      "Decision Tree\n",
      "R^2 score: 87.97 %\n",
      "Standard Deviation (+/-): 1.97 %\n",
      "\n",
      "\n",
      "Random Forest\n",
      "R^2 score: 92.73 %\n",
      "Standard Deviation (+/-): 0.96 %\n",
      "\n",
      "\n",
      "Support Vector Machine\n",
      "R^2 score: 84.63 %\n",
      "Standard Deviation (+/-): 1.47 %\n"
     ]
    }
   ],
   "source": [
    "from sklearn.model_selection import cross_val_score\n",
    "\n",
    "y_34_train = np.ravel(y_34_train)\n",
    "\n",
    "r342_LR = cross_val_score(estimator=regressor_X34_LR, X = X_34_train, y=y_34_train, cv = 10, scoring='r2')\n",
    "r342_DT = cross_val_score(estimator=regressor_X34_DT, X = X_34_train, y=y_34_train, cv = 10, scoring='r2')\n",
    "r342_RF = cross_val_score(estimator=regressor_X34_RF, X = X_34_train, y=y_34_train, cv = 10, scoring='r2')\n",
    "r342_SV = cross_val_score(estimator=regressor_X34_SV, X = X_34_train_s, y=y_34_train_s, cv = 10, scoring='r2')\n",
    "\n",
    "r342_SV\n",
    "\n",
    "print('Checking Cross Validation')\n",
    "print('\\n')\n",
    "print('Linear Regression')\n",
    "print(\"R^2 score: {:.2f} %\".format(r342_LR.mean()*100))\n",
    "print(\"Standard Deviation (+/-): {:.2f} %\".format(r342_LR.std()*2*100))\n",
    "print('\\n')\n",
    "print('Decision Tree')\n",
    "print(\"R^2 score: {:.2f} %\".format(r342_DT.mean()*100))\n",
    "print(\"Standard Deviation (+/-): {:.2f} %\".format(r342_DT.std()*2*100))\n",
    "print('\\n')\n",
    "print('Random Forest')\n",
    "print(\"R^2 score: {:.2f} %\".format(r342_RF.mean()*100))\n",
    "print(\"Standard Deviation (+/-): {:.2f} %\".format(r342_RF.std()*2*100))\n",
    "print('\\n')\n",
    "print('Support Vector Machine')\n",
    "print(\"R^2 score: {:.2f} %\".format(r342_SV.mean()*100))\n",
    "print(\"Standard Deviation (+/-): {:.2f} %\".format(r342_SV.std()*2*100))"
   ]
  },
  {
   "cell_type": "markdown",
   "metadata": {},
   "source": [
    "# All independent variables"
   ]
  },
  {
   "cell_type": "markdown",
   "metadata": {},
   "source": [
    "## AT-V-AP-RH vs PE"
   ]
  },
  {
   "cell_type": "code",
   "execution_count": 158,
   "metadata": {},
   "outputs": [],
   "source": [
    "X_4 = dataset.iloc[:, 0:4].values\n",
    "y_4 = dataset['PE'].values"
   ]
  },
  {
   "cell_type": "markdown",
   "metadata": {},
   "source": [
    "### Splitting the dataset into training and test set"
   ]
  },
  {
   "cell_type": "code",
   "execution_count": 159,
   "metadata": {},
   "outputs": [],
   "source": [
    "from sklearn.model_selection import train_test_split\n",
    "X_4_train, X_4_test, y_4_train, y_4_test = train_test_split(X_4, y_4,\n",
    "                                                               test_size=0.2,\n",
    "                                                               random_state=0)"
   ]
  },
  {
   "cell_type": "markdown",
   "metadata": {},
   "source": [
    "### Building the models"
   ]
  },
  {
   "cell_type": "code",
   "execution_count": 160,
   "metadata": {},
   "outputs": [
    {
     "data": {
      "text/plain": [
       "SVR()"
      ]
     },
     "execution_count": 160,
     "metadata": {},
     "output_type": "execute_result"
    }
   ],
   "source": [
    "# Linear Regression\n",
    "\n",
    "from sklearn.linear_model import LinearRegression\n",
    "regressor_X4_LR = LinearRegression()\n",
    "regressor_X4_LR.fit(X_4_train, y_4_train)\n",
    "\n",
    "# Decision Tree\n",
    "\n",
    "from sklearn.tree import DecisionTreeRegressor\n",
    "regressor_X4_DT = DecisionTreeRegressor(random_state = 0)\n",
    "regressor_X4_DT.fit(X_4_train, y_4_train)\n",
    "\n",
    "# Random Forest\n",
    "\n",
    "from sklearn.ensemble import RandomForestRegressor\n",
    "regressor_X4_RF = RandomForestRegressor(n_estimators = 10, random_state = 0)\n",
    "regressor_X4_RF.fit(X_4_train, y_4_train)\n",
    "\n",
    "# Support Vector Machine\n",
    "y_4_train = y_4_train.reshape(len(y_4_train), 1)\n",
    "y_4_test = y_4_test.reshape(len(y_4_test), 1)\n",
    "\n",
    "from sklearn.preprocessing import StandardScaler\n",
    "sc_X4 = StandardScaler()\n",
    "sc_y4 = StandardScaler()\n",
    "X_4_train_s = sc_X4.fit_transform(X_4_train)\n",
    "#X_11_test_s = sc_X11.fit(X_11_test)\n",
    "y_4_train_s = sc_y4.fit_transform(y_4_train)\n",
    "#y_11_test_s = sc_X11.fit(y_11_test)\n",
    "\n",
    "from sklearn.svm import SVR\n",
    "regressor_X4_SV = SVR(kernel = 'rbf')\n",
    "y_4_train_s = np.ravel(y_4_train_s)\n",
    "regressor_X4_SV.fit(X_4_train_s, y_4_train_s)"
   ]
  },
  {
   "cell_type": "markdown",
   "metadata": {},
   "source": [
    "### Predicting new results"
   ]
  },
  {
   "cell_type": "code",
   "execution_count": 161,
   "metadata": {},
   "outputs": [],
   "source": [
    "y_pred_4_LR = regressor_X4_LR.predict(X_4_test) # Linear Regression\n",
    "#y_pred_11_PR = regressor_X11_PR.predict(X_11_test) # Polynomial Regression\n",
    "y_pred_4_DT = regressor_X4_DT.predict(X_4_test) # Decision Tree\n",
    "y_pred_4_RF = regressor_X4_RF.predict(X_4_test) # Random Forest\n",
    "y_pred_4_SV = sc_y4.inverse_transform(regressor_X4_SV.predict(sc_X4.transform(X_4_test))) # Support Vector Machine"
   ]
  },
  {
   "cell_type": "markdown",
   "metadata": {},
   "source": [
    "### Metrics Score"
   ]
  },
  {
   "cell_type": "code",
   "execution_count": 162,
   "metadata": {},
   "outputs": [
    {
     "name": "stdout",
     "output_type": "stream",
     "text": [
      "Metrics results\n",
      "\n",
      "\n",
      "Linear Regression\n",
      "R2 score: 0.9325315554761302\n",
      "MAE score: 3.5665646552038255\n",
      "RMSE score: 4.442262858442491\n",
      "\n",
      "\n",
      "Decision Tree\n",
      "R2 score: 0.922905874177941\n",
      "MAE score: 3.103923719958203\n",
      "RMSE score: 4.748588631545224\n",
      "\n",
      "\n",
      "Random Forest\n",
      "R2 score: 0.9615908334363876\n",
      "MAE score: 2.452366771159876\n",
      "RMSE score: 3.3517479009675766\n",
      "\n",
      "\n",
      "Support Vector Machine\n",
      "R2 score: 0.9480784049986258\n",
      "MAE score: 2.9951783924513267\n",
      "RMSE score: 3.8969776670879237\n",
      "\n",
      "\n"
     ]
    }
   ],
   "source": [
    "from sklearn.metrics import r2_score, mean_absolute_error, mean_squared_error\n",
    "print('Metrics results')\n",
    "print('\\n')\n",
    "\n",
    "print('Linear Regression')\n",
    "r2_4_LR = r2_score(y_4_test, y_pred_4_LR)\n",
    "print('R2 score: {}'.format(r2_4_LR))\n",
    "mae_4_LR = mean_absolute_error(y_4_test, y_pred_4_LR)\n",
    "print('MAE score: {}'.format(mae_4_LR))\n",
    "rmse_4_LR = np.sqrt(mean_squared_error(y_4_test, y_pred_4_LR))\n",
    "print('RMSE score: {}'.format(rmse_4_LR))\n",
    "print('\\n')\n",
    "\n",
    "print('Decision Tree')\n",
    "r2_4_DT = r2_score(y_4_test, y_pred_4_DT)\n",
    "print('R2 score: {}'.format(r2_4_DT))\n",
    "mae_4_DT = mean_absolute_error(y_4_test, y_pred_4_DT)\n",
    "print('MAE score: {}'.format(mae_4_DT))\n",
    "rmse_4_DT = np.sqrt(mean_squared_error(y_4_test, y_pred_4_DT))\n",
    "print('RMSE score: {}'.format(rmse_4_DT))\n",
    "print('\\n')\n",
    "\n",
    "print('Random Forest')\n",
    "r2_4_RF = r2_score(y_4_test, y_pred_4_RF)\n",
    "print('R2 score: {}'.format(r2_4_RF))\n",
    "mae_4_RF = mean_absolute_error(y_4_test, y_pred_4_RF)\n",
    "print('MAE score: {}'.format(mae_4_RF))\n",
    "rmse_4_RF = np.sqrt(mean_squared_error(y_4_test, y_pred_4_RF))\n",
    "print('RMSE score: {}'.format(rmse_4_RF))\n",
    "print('\\n')\n",
    "\n",
    "print('Support Vector Machine')\n",
    "r2_4_SV = r2_score(y_4_test, y_pred_4_SV)\n",
    "print('R2 score: {}'.format(r2_4_SV))\n",
    "mae_4_SV = mean_absolute_error(y_4_test, y_pred_4_SV)\n",
    "print('MAE score: {}'.format(mae_4_SV))\n",
    "rmse_4_SV = np.sqrt(mean_squared_error(y_4_test, y_pred_4_SV))\n",
    "print('RMSE score: {}'.format(rmse_4_SV))\n",
    "print('\\n')"
   ]
  },
  {
   "cell_type": "markdown",
   "metadata": {},
   "source": [
    "### Cross Validation"
   ]
  },
  {
   "cell_type": "code",
   "execution_count": 163,
   "metadata": {},
   "outputs": [
    {
     "name": "stdout",
     "output_type": "stream",
     "text": [
      "Checking Cross Validation\n",
      "\n",
      "\n",
      "Linear Regression\n",
      "R^2 score: 92.75 %\n",
      "Standard Deviation (+/-): 0.95 %\n",
      "\n",
      "\n",
      "Decision Tree\n",
      "R^2 score: 92.72 %\n",
      "Standard Deviation (+/-): 1.05 %\n",
      "\n",
      "\n",
      "Random Forest\n",
      "R^2 score: 95.58 %\n",
      "Standard Deviation (+/-): 0.91 %\n",
      "\n",
      "\n",
      "Support Vector Machine\n",
      "R^2 score: 94.34 %\n",
      "Standard Deviation (+/-): 1.04 %\n"
     ]
    }
   ],
   "source": [
    "from sklearn.model_selection import cross_val_score\n",
    "\n",
    "y_4_train = np.ravel(y_4_train)\n",
    "\n",
    "r42_LR = cross_val_score(estimator=regressor_X4_LR, X = X_4_train, y=y_4_train, cv = 10, scoring='r2')\n",
    "r42_DT = cross_val_score(estimator=regressor_X4_DT, X = X_4_train, y=y_4_train, cv = 10, scoring='r2')\n",
    "r42_RF = cross_val_score(estimator=regressor_X4_RF, X = X_4_train, y=y_4_train, cv = 10, scoring='r2')\n",
    "r42_SV = cross_val_score(estimator=regressor_X4_SV, X = X_4_train_s, y=y_4_train_s, cv = 10, scoring='r2')\n",
    "\n",
    "r42_SV\n",
    "\n",
    "print('Checking Cross Validation')\n",
    "print('\\n')\n",
    "print('Linear Regression')\n",
    "print(\"R^2 score: {:.2f} %\".format(r42_LR.mean()*100))\n",
    "print(\"Standard Deviation (+/-): {:.2f} %\".format(r42_LR.std()*2*100))\n",
    "print('\\n')\n",
    "print('Decision Tree')\n",
    "print(\"R^2 score: {:.2f} %\".format(r42_DT.mean()*100))\n",
    "print(\"Standard Deviation (+/-): {:.2f} %\".format(r42_DT.std()*2*100))\n",
    "print('\\n')\n",
    "print('Random Forest')\n",
    "print(\"R^2 score: {:.2f} %\".format(r42_RF.mean()*100))\n",
    "print(\"Standard Deviation (+/-): {:.2f} %\".format(r42_RF.std()*2*100))\n",
    "print('\\n')\n",
    "print('Support Vector Machine')\n",
    "print(\"R^2 score: {:.2f} %\".format(r42_SV.mean()*100))\n",
    "print(\"Standard Deviation (+/-): {:.2f} %\".format(r42_SV.std()*2*100))"
   ]
  }
 ],
 "metadata": {
  "kernelspec": {
   "display_name": "Python 3",
   "language": "python",
   "name": "python3"
  },
  "language_info": {
   "codemirror_mode": {
    "name": "ipython",
    "version": 3
   },
   "file_extension": ".py",
   "mimetype": "text/x-python",
   "name": "python",
   "nbconvert_exporter": "python",
   "pygments_lexer": "ipython3",
   "version": "3.6.9"
  }
 },
 "nbformat": 4,
 "nbformat_minor": 2
}
