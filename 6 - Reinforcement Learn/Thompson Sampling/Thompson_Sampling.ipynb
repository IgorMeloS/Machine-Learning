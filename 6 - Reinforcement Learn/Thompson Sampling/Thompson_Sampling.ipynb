{
  "nbformat": 4,
  "nbformat_minor": 0,
  "metadata": {
    "colab": {
      "name": "Thompson_Sampling_Igor.ipynb",
      "provenance": [],
      "collapsed_sections": [],
      "toc_visible": true
    },
    "kernelspec": {
      "name": "python3",
      "display_name": "Python 3"
    }
  },
  "cells": [
    {
      "cell_type": "markdown",
      "metadata": {
        "id": "_zEPJDzKJIUj"
      },
      "source": [
        "## Reiforcement Learning in Python using Thompson Sampling Method\n",
        "This program.......\n"
      ]
    },
    {
      "cell_type": "markdown",
      "metadata": {
        "id": "ufIlNTPnJXVH"
      },
      "source": [
        "# Importing Libraries"
      ]
    },
    {
      "cell_type": "code",
      "metadata": {
        "id": "kvAde4qdJa1H"
      },
      "source": [
        "import numpy as np\n",
        "import matplotlib.pyplot as plt\n",
        "import pandas as pd\n"
      ],
      "execution_count": 1,
      "outputs": []
    },
    {
      "cell_type": "markdown",
      "metadata": {
        "id": "eNK7stQUakvf"
      },
      "source": [
        "# Importing Dataset"
      ]
    },
    {
      "cell_type": "code",
      "metadata": {
        "id": "yhHDMXNOaobK"
      },
      "source": [
        "dataset = pd.read_csv('Ads_CTR_Optimisation.csv')"
      ],
      "execution_count": 2,
      "outputs": []
    },
    {
      "cell_type": "markdown",
      "metadata": {
        "id": "QHDKiTENa0PI"
      },
      "source": [
        "# Implementing Thompson Sampling Method"
      ]
    },
    {
      "cell_type": "code",
      "metadata": {
        "id": "4m6AXUIYgrek"
      },
      "source": [
        "import random\n",
        "N = 10000\n",
        "d = 10\n",
        "ads_select = []\n",
        "number_of_rewards_1 = [0] * d\n",
        "number_of_rewards_0 = [0] * d \n",
        "total_reward = 0"
      ],
      "execution_count": 6,
      "outputs": []
    },
    {
      "cell_type": "code",
      "metadata": {
        "id": "VDrufWkRgwBW",
        "outputId": "d9027640-c4fe-4ddc-9773-1067443693c3",
        "colab": {
          "base_uri": "https://localhost:8080/",
          "height": 34
        }
      },
      "source": [
        "type(number_of_rewards_0)"
      ],
      "execution_count": 7,
      "outputs": [
        {
          "output_type": "execute_result",
          "data": {
            "text/plain": [
              "list"
            ]
          },
          "metadata": {
            "tags": []
          },
          "execution_count": 7
        }
      ]
    },
    {
      "cell_type": "code",
      "metadata": {
        "id": "tpYkT49qa6ZI"
      },
      "source": [
        "for n in range(0, N):\n",
        "  ad = 0\n",
        "  max_random = 0\n",
        "  for i in range(0, d):\n",
        "    random_beta = random.betavariate(number_of_rewards_1[i] + 1, number_of_rewards_0[i] + 1)\n",
        "    if(random_beta > max_random):\n",
        "      max_random = random_beta\n",
        "      ad = i \n",
        "  ads_select.append(ad)\n",
        "  reward = dataset.values[n,ad]\n",
        "  if reward == 1:\n",
        "    number_of_rewards_1[ad] += 1\n",
        "  else:\n",
        "    number_of_rewards_0[ad] += 1\n",
        "  total_reward += 1"
      ],
      "execution_count": 9,
      "outputs": []
    },
    {
      "cell_type": "markdown",
      "metadata": {
        "id": "0AFWCsQ4gJnL"
      },
      "source": [
        "# Visualising the results"
      ]
    },
    {
      "cell_type": "code",
      "metadata": {
        "id": "1IjkxyycgOPD",
        "outputId": "72beae15-ee11-4659-8947-524e341bbf7a",
        "colab": {
          "base_uri": "https://localhost:8080/",
          "height": 313
        }
      },
      "source": [
        "plt.hist(ads_select)\n",
        "plt.title('Histogram of ads selection')\n",
        "plt.xlabel('Ads')\n",
        "plt.ylabel('Number of times each ad was selected')"
      ],
      "execution_count": 10,
      "outputs": [
        {
          "output_type": "execute_result",
          "data": {
            "text/plain": [
              "Text(0, 0.5, 'Number of times each ad was selected')"
            ]
          },
          "metadata": {
            "tags": []
          },
          "execution_count": 10
        },
        {
          "output_type": "display_data",
          "data": {
            "image/png": "[encoded data removed]",
            "text/plain": [
              "<Figure size 432x288 with 1 Axes>"
            ]
          },
          "metadata": {
            "tags": [],
            "needs_background": "light"
          }
        }
      ]
    }
  ]
}